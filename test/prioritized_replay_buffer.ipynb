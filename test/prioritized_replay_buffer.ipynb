{
 "cells": [
  {
   "cell_type": "code",
   "execution_count": 1,
   "metadata": {
    "collapsed": true
   },
   "outputs": [
    {
     "name": "stderr",
     "output_type": "stream",
     "text": [
      "WARNING:root:Limited tf.compat.v2.summary API due to missing TensorBoard installation.\n",
      "WARNING:root:Limited tf.compat.v2.summary API due to missing TensorBoard installation.\n",
      "WARNING:root:Limited tf.compat.v2.summary API due to missing TensorBoard installation.\n",
      "WARNING:root:Limited tf.summary API due to missing TensorBoard installation.\n",
      "WARNING:root:Limited tf.compat.v2.summary API due to missing TensorBoard installation.\n",
      "WARNING:root:Limited tf.compat.v2.summary API due to missing TensorBoard installation.\n",
      "WARNING:root:Limited tf.compat.v2.summary API due to missing TensorBoard installation.\n"
     ]
    }
   ],
   "source": [
    "import tensorflow as tf\n",
    "import reverb\n",
    "import tf_agents\n",
    "\n",
    "from tf_agents.drivers import dynamic_step_driver, py_driver\n",
    "from tf_agents.replay_buffers import reverb_replay_buffer\n",
    "from tf_agents.replay_buffers import reverb_utils\n",
    "from tf_agents.policies import py_tf_eager_policy\n",
    "\n",
    "from tf_agents.environments import suite_gym, parallel_py_environment\n",
    "from tf_agents.environments import tf_py_environment, batched_py_environment\n",
    "from reinforcement_learning import labeling_functions\n",
    "labeling_function = labeling_functions['Pendulum-v0']"
   ]
  },
  {
   "cell_type": "code",
   "execution_count": 2,
   "outputs": [],
   "source": [
    "import policies\n",
    "from util.io.dataset_generator import ErgodicMDPTransitionGenerator\n",
    "\n",
    "env_name = 'Pendulum-v0'\n",
    "py_env = suite_gym.load(env_name)\n",
    "current_time_step = py_env.reset()"
   ],
   "metadata": {
    "collapsed": false,
    "pycharm": {
     "name": "#%% Environment\n"
    }
   }
  },
  {
   "cell_type": "code",
   "execution_count": 3,
   "outputs": [],
   "source": [
    "policy_dir = '../reinforcement_learning/saves/Pendulum-v0/policy'\n",
    "policy = policies.SavedTFPolicy(policy_dir)\n",
    "# transforms policy into a py policy because reverb replay directly interacts with py_env (and not a tf_env)\n",
    "py_policy = py_tf_eager_policy.PyTFEagerPolicy(policy, use_tf_function=True)"
   ],
   "metadata": {
    "collapsed": false,
    "pycharm": {
     "name": "#%% Collect Policy\n"
    }
   }
  },
  {
   "cell_type": "code",
   "execution_count": 4,
   "outputs": [],
   "source": [
    "table_name = 'prioritized_replay_buffer'\n",
    "checkpoint_path = '../saves/checkpoint/reverb_test'\n",
    "\n",
    "table = reverb.Table(\n",
    "    table_name,\n",
    "    max_size=int(1e6),\n",
    "    sampler=reverb.selectors.Prioritized(priority_exponent=0.9),\n",
    "    remover=reverb.selectors.MaxHeap(),\n",
    "    rate_limiter=reverb.rate_limiters.MinSize(1))\n",
    "\n",
    "checkpointer = reverb.checkpointers.DefaultCheckpointer(checkpoint_path)\n",
    "\n",
    "reverb_server = reverb.Server([table], checkpointer=checkpointer)"
   ],
   "metadata": {
    "collapsed": false,
    "pycharm": {
     "name": "#%% Reverb replay buffer: server\n"
    }
   }
  },
  {
   "cell_type": "code",
   "execution_count": 5,
   "outputs": [
    {
     "data": {
      "text/plain": "TableInfo(name='prioritized_replay_buffer', sampler_options=prioritized {\n  priority_exponent: 0.9\n}\n, remover_options=heap {\n}\nis_deterministic: true\n, max_size=1000000, max_times_sampled=0, rate_limiter_info=samples_per_insert: 1.0\nmin_diff: -1.7976931348623157e+308\nmax_diff: 1.7976931348623157e+308\nmin_size_to_sample: 1\ninsert_stats {\n  completed_wait_time {\n  }\n  pending_wait_time {\n  }\n}\nsample_stats {\n  completed_wait_time {\n  }\n  pending_wait_time {\n  }\n}\n, signature=None, current_size=12861, num_episodes=1, num_deleted_episodes=0)"
     },
     "execution_count": 5,
     "metadata": {},
     "output_type": "execute_result"
    }
   ],
   "source": [
    "reverb_replay = reverb_replay_buffer.ReverbReplayBuffer(\n",
    "    data_spec=policy.collect_data_spec,\n",
    "    sequence_length=2,\n",
    "    table_name=table_name,\n",
    "    local_server=reverb_server)\n",
    "\n",
    "reverb_replay.get_table_info()"
   ],
   "metadata": {
    "collapsed": false,
    "pycharm": {
     "name": "#%% Reverb replay buffer: client\n"
    }
   }
  },
  {
   "cell_type": "code",
   "execution_count": 6,
   "outputs": [],
   "source": [
    "batch_size = 512\n",
    "\n",
    "dataset = reverb_replay.as_dataset(\n",
    "    sample_batch_size=batch_size,\n",
    "    num_steps=2,\n",
    "    num_parallel_calls=tf.data.experimental.AUTOTUNE)\n",
    "\n",
    "dataset_iterator = iter(dataset)"
   ],
   "metadata": {
    "collapsed": false,
    "pycharm": {
     "name": "#%% Reverb replay buffer: dataset\n"
    }
   }
  },
  {
   "cell_type": "code",
   "execution_count": 7,
   "outputs": [],
   "source": [
    "observer = reverb_utils.ReverbTrajectorySequenceObserver(\n",
    "    py_client=reverb_replay.py_client,\n",
    "    table_name=table_name,\n",
    "    sequence_length=2,\n",
    "    stride_length=1,\n",
    "    priority=tf.constant(1., dtype=tf.float32))"
   ],
   "metadata": {
    "collapsed": false,
    "pycharm": {
     "name": "#%% Reverb replay buffer: add item observer\n"
    }
   }
  },
  {
   "cell_type": "code",
   "execution_count": 8,
   "outputs": [],
   "source": [
    "num_steps = 12800\n",
    "driver = py_driver.PyDriver(\n",
    "    env=py_env, policy=py_policy, observers=[observer], max_steps=num_steps,)"
   ],
   "metadata": {
    "collapsed": false,
    "pycharm": {
     "name": "#%% (py) Driver\n"
    }
   }
  },
  {
   "cell_type": "code",
   "execution_count": 9,
   "outputs": [
    {
     "data": {
      "text/plain": "TableInfo(name='prioritized_replay_buffer', sampler_options=prioritized {\n  priority_exponent: 0.9\n}\n, remover_options=heap {\n}\nis_deterministic: true\n, max_size=1000000, max_times_sampled=0, rate_limiter_info=samples_per_insert: 1.0\nmin_diff: -1.7976931348623157e+308\nmax_diff: 1.7976931348623157e+308\nmin_size_to_sample: 1\ninsert_stats {\n  completed: 12861\n  completed_wait_time {\n  }\n  pending_wait_time {\n  }\n}\nsample_stats {\n  completed_wait_time {\n  }\n  pending_wait_time {\n  }\n}\n, signature=None, current_size=25722, num_episodes=2, num_deleted_episodes=0)"
     },
     "execution_count": 9,
     "metadata": {},
     "output_type": "execute_result"
    }
   ],
   "source": [
    "driver.run(time_step=py_env.current_time_step())\n",
    "reverb_replay.py_client.checkpoint()\n",
    "reverb_replay.get_table_info()"
   ],
   "metadata": {
    "collapsed": false,
    "pycharm": {
     "name": "#%% run\n"
    }
   }
  },
  {
   "cell_type": "code",
   "execution_count": 10,
   "outputs": [
    {
     "data": {
      "text/plain": "(Trajectory(step_type=<tf.Tensor: shape=(512, 2), dtype=int32, numpy=\n array([[1, 1],\n        [1, 1],\n        [1, 1],\n        ...,\n        [1, 1],\n        [1, 1],\n        [1, 1]], dtype=int32)>, observation=<tf.Tensor: shape=(512, 2, 3), dtype=float32, numpy=\n array([[[ 0.92839897,  0.3715849 , -0.5861269 ],\n         [ 0.9384471 ,  0.34542295, -0.56052274]],\n \n        [[ 0.9661661 , -0.25792068, -0.20527856],\n         [ 0.96421725, -0.26511332, -0.14904003]],\n \n        [[ 0.9673638 ,  0.25339165,  0.2960781 ],\n         [ 0.96432483,  0.26472184,  0.23461469]],\n \n        ...,\n \n        [[ 0.98898166,  0.14803825, -0.17979282],\n         [ 0.99068755,  0.13615498, -0.24010344]],\n \n        [[ 0.9598526 , -0.28050497, -0.15742743],\n         [ 0.9586249 , -0.2846722 , -0.08688591]],\n \n        [[ 0.9943444 , -0.10620368,  0.5469482 ],\n         [ 0.99681413, -0.07975936,  0.5312037 ]]], dtype=float32)>, action=<tf.Tensor: shape=(512, 2, 1), dtype=float32, numpy=\n array([[[-1.6872299],\n         [-1.2513582]],\n \n        [[ 1.6645269],\n         [ 1.1995184]],\n \n        [[-1.6767143],\n         [-1.4817281]],\n \n        ...,\n \n        [[-1.1422621],\n         [-0.8132395]],\n \n        [[ 1.8728017],\n         [ 1.8747406]],\n \n        [[ 0.426055 ],\n         [ 0.1872274]]], dtype=float32)>, policy_info=(), next_step_type=<tf.Tensor: shape=(512, 2), dtype=int32, numpy=\n array([[1, 1],\n        [1, 1],\n        [1, 1],\n        ...,\n        [1, 1],\n        [1, 1],\n        [1, 1]], dtype=int32)>, reward=<tf.Tensor: shape=(512, 2), dtype=float32, numpy=\n array([[-0.18214558, -0.15737431],\n        [-0.07503745, -0.07565653],\n        [-0.07720821, -0.07947862],\n        ...,\n        [-0.02661462, -0.0250802 ],\n        [-0.08682369, -0.08759674],\n        [-0.04141865, -0.03462788]], dtype=float32)>, discount=<tf.Tensor: shape=(512, 2), dtype=float32, numpy=\n array([[1., 1.],\n        [1., 1.],\n        [1., 1.],\n        ...,\n        [1., 1.],\n        [1., 1.],\n        [1., 1.]], dtype=float32)>),\n SampleInfo(key=<tf.Tensor: shape=(512, 2), dtype=uint64, numpy=\n array([[ 8233387186624847478,  8233387186624847478],\n        [16956917446273899967, 16956917446273899967],\n        [ 9922637504755088978,  9922637504755088978],\n        ...,\n        [ 2633469296302956287,  2633469296302956287],\n        [10329063679077682024, 10329063679077682024],\n        [15074526857567438000, 15074526857567438000]], dtype=uint64)>, probability=<tf.Tensor: shape=(512, 2), dtype=float64, numpy=\n array([[3.88772257e-05, 3.88772257e-05],\n        [3.88772257e-05, 3.88772257e-05],\n        [3.88772257e-05, 3.88772257e-05],\n        ...,\n        [3.88772257e-05, 3.88772257e-05],\n        [3.88772257e-05, 3.88772257e-05],\n        [3.88772257e-05, 3.88772257e-05]])>, table_size=<tf.Tensor: shape=(512, 2), dtype=int64, numpy=\n array([[25722, 25722],\n        [25722, 25722],\n        [25722, 25722],\n        ...,\n        [25722, 25722],\n        [25722, 25722],\n        [25722, 25722]])>, priority=<tf.Tensor: shape=(512, 2), dtype=float64, numpy=\n array([[1., 1.],\n        [1., 1.],\n        [1., 1.],\n        ...,\n        [1., 1.],\n        [1., 1.],\n        [1., 1.]])>))"
     },
     "execution_count": 10,
     "metadata": {},
     "output_type": "execute_result"
    }
   ],
   "source": [
    "traj = next(dataset_iterator)\n",
    "traj"
   ],
   "metadata": {
    "collapsed": false,
    "pycharm": {
     "name": "#%%\n"
    }
   }
  },
  {
   "cell_type": "code",
   "execution_count": 11,
   "outputs": [],
   "source": [
    "reverb_replay.update_priorities(traj[1].key[..., 0], 1./3 * tf.ones(shape=(batch_size,), dtype=tf.float64))"
   ],
   "metadata": {
    "collapsed": false,
    "pycharm": {
     "name": "#%%\n"
    }
   }
  },
  {
   "cell_type": "code",
   "execution_count": 12,
   "outputs": [
    {
     "name": "stdout",
     "output_type": "stream",
     "text": [
      "25722\n"
     ]
    },
    {
     "data": {
      "text/plain": "'../saves/checkpoint/reverb_test/2021-04-27T15:12:28.644602286+02:00'"
     },
     "execution_count": 12,
     "metadata": {},
     "output_type": "execute_result"
    }
   ],
   "source": [
    "print(reverb_replay.get_table_info().current_size)\n",
    "reverb_replay.py_client.checkpoint()"
   ],
   "metadata": {
    "collapsed": false,
    "pycharm": {
     "name": "#%%\n"
    }
   }
  },
  {
   "cell_type": "code",
   "execution_count": 13,
   "outputs": [
    {
     "name": "stderr",
     "output_type": "stream",
     "text": [
      "WARNING:absl:Importing a function (__inference_entropy_regularizer_81377) with ops with custom gradients. Will likely fail if a gradient is requested.\n",
      "WARNING:absl:Importing a function (__inference_entropy_regularizer_81377) with ops with custom gradients. Will likely fail if a gradient is requested.\n",
      "WARNING:absl:Importing a function (__inference_entropy_regularizer_81377) with ops with custom gradients. Will likely fail if a gradient is requested.\n",
      "WARNING:absl:Importing a function (__inference_encoder_latent_distribution_logits_layer_call_and_return_conditional_losses_82873) with ops with custom gradients. Will likely fail if a gradient is requested.\n",
      "WARNING:absl:Importing a function (__inference_encoder_latent_distribution_logits_layer_call_and_return_conditional_losses_82873) with ops with custom gradients. Will likely fail if a gradient is requested.\n",
      "WARNING:absl:Importing a function (__inference_encoder_latent_distribution_logits_layer_call_and_return_conditional_losses_82873) with ops with custom gradients. Will likely fail if a gradient is requested.\n",
      "WARNING:absl:Importing a function (__inference__wrapped_model_82652) with ops with custom gradients. Will likely fail if a gradient is requested.\n",
      "WARNING:absl:Importing a function (__inference__wrapped_model_82652) with ops with custom gradients. Will likely fail if a gradient is requested.\n",
      "WARNING:absl:Importing a function (__inference__wrapped_model_82652) with ops with custom gradients. Will likely fail if a gradient is requested.\n",
      "WARNING:absl:Importing a function (__inference_encoder_layer_call_and_return_conditional_losses_88731) with ops with custom gradients. Will likely fail if a gradient is requested.\n",
      "WARNING:absl:Importing a function (__inference_encoder_layer_call_and_return_conditional_losses_88731) with ops with custom gradients. Will likely fail if a gradient is requested.\n",
      "WARNING:absl:Importing a function (__inference_encoder_layer_call_and_return_conditional_losses_88731) with ops with custom gradients. Will likely fail if a gradient is requested.\n",
      "WARNING:absl:Importing a function (__inference_encoder_latent_distribution_logits_layer_call_and_return_conditional_losses_90141) with ops with custom gradients. Will likely fail if a gradient is requested.\n",
      "WARNING:absl:Importing a function (__inference_encoder_latent_distribution_logits_layer_call_and_return_conditional_losses_90141) with ops with custom gradients. Will likely fail if a gradient is requested.\n",
      "WARNING:absl:Importing a function (__inference_encoder_latent_distribution_logits_layer_call_and_return_conditional_losses_90141) with ops with custom gradients. Will likely fail if a gradient is requested.\n",
      "WARNING:absl:Importing a function (__inference_encoder_layer_call_and_return_conditional_losses_88799) with ops with custom gradients. Will likely fail if a gradient is requested.\n",
      "WARNING:absl:Importing a function (__inference_encoder_layer_call_and_return_conditional_losses_88799) with ops with custom gradients. Will likely fail if a gradient is requested.\n",
      "WARNING:absl:Importing a function (__inference_encoder_layer_call_and_return_conditional_losses_88799) with ops with custom gradients. Will likely fail if a gradient is requested.\n",
      "WARNING:absl:Importing a function (__inference___call___88524) with ops with custom gradients. Will likely fail if a gradient is requested.\n",
      "WARNING:absl:Importing a function (__inference___call___88524) with ops with custom gradients. Will likely fail if a gradient is requested.\n",
      "WARNING:absl:Importing a function (__inference___call___88524) with ops with custom gradients. Will likely fail if a gradient is requested.\n",
      "WARNING:absl:Importing a function (__inference___call___88524) with ops with custom gradients. Will likely fail if a gradient is requested.\n",
      "WARNING:absl:Importing a function (__inference___call___88524) with ops with custom gradients. Will likely fail if a gradient is requested.\n",
      "WARNING:absl:Importing a function (__inference___call___88524) with ops with custom gradients. Will likely fail if a gradient is requested.\n",
      "WARNING:absl:Importing a function (__inference___call___82367) with ops with custom gradients. Will likely fail if a gradient is requested.\n",
      "WARNING:absl:Importing a function (__inference___call___82367) with ops with custom gradients. Will likely fail if a gradient is requested.\n",
      "WARNING:absl:Importing a function (__inference___call___82367) with ops with custom gradients. Will likely fail if a gradient is requested.\n",
      "WARNING:absl:Importing a function (__inference___call___82367) with ops with custom gradients. Will likely fail if a gradient is requested.\n",
      "WARNING:absl:Importing a function (__inference___call___82367) with ops with custom gradients. Will likely fail if a gradient is requested.\n",
      "WARNING:absl:Importing a function (__inference___call___82367) with ops with custom gradients. Will likely fail if a gradient is requested.\n"
     ]
    },
    {
     "name": "stdout",
     "output_type": "stream",
     "text": [
      "VAE MDP loaded\n"
     ]
    }
   ],
   "source": [
    "import variational_action_discretizer\n",
    "\n",
    "vae_mdp = variational_action_discretizer.load(\n",
    "    '../saves/Pendulum-v0/models/vae_LS12_MC1_ER10.0-decay=7.5e-05-min=0_KLA0.0-growth=5e-05_TD0.67-0.50_1e-06-2e-06_seed=20421/policy/action_discretizer/LA3_MC1_ER10.0-decay=7.5e-05-min=0_KLA0.0-growth=5e-05_TD0.50-0.33_1e-06-2e-06_params=full_vae_optimization-relaxed_state_encoding/base',\n",
    "    step=1830000\n",
    ")\n",
    "print(\"VAE MDP loaded\")"
   ],
   "metadata": {
    "collapsed": false,
    "pycharm": {
     "name": "#%% Variational MDP\n"
    }
   }
  },
  {
   "cell_type": "code",
   "execution_count": 14,
   "outputs": [],
   "source": [
    "\n",
    "generator = ErgodicMDPTransitionGenerator(\n",
    "    labeling_function=labeling_function,\n",
    "    replay_buffer=reverb_replay,\n",
    "    discrete_action=False,\n",
    "    prioritized_replay_buffer=True,\n",
    "    state_embedding_function=lambda state, label: tf.squeeze(\n",
    "        vae_mdp.binary_encode(tf.expand_dims(state, axis=0), tf.expand_dims(label, axis=0)).mode()))"
   ],
   "metadata": {
    "collapsed": false,
    "pycharm": {
     "name": "#%% Ergodic MDP generator\n"
    }
   }
  },
  {
   "cell_type": "code",
   "execution_count": 15,
   "outputs": [],
   "source": [
    "batch_size = 128\n",
    "\n",
    "dataset = reverb_replay.as_dataset(\n",
    "    num_steps=2,\n",
    "    num_parallel_calls=tf.data.experimental.AUTOTUNE\n",
    ").map(\n",
    "    map_func=generator,\n",
    "    num_parallel_calls=tf.data.experimental.AUTOTUNE)\n",
    "\n",
    "dataset_iterator = iter(dataset.batch(batch_size).prefetch(tf.data.experimental.AUTOTUNE))"
   ],
   "metadata": {
    "collapsed": false,
    "pycharm": {
     "name": "#%% Reverb replay buffer: ergodic MDP dataset\n"
    }
   }
  },
  {
   "cell_type": "code",
   "execution_count": 16,
   "outputs": [
    {
     "data": {
      "text/plain": "(<tf.Tensor: shape=(128, 3), dtype=float32, numpy=\n array([[ 9.92646575e-01,  1.21048681e-01, -8.24625324e-03],\n        [ 9.96205270e-01,  8.70348364e-02,  2.72046685e-01],\n        [ 9.74649310e-01, -2.23738000e-01,  4.25707012e-01],\n        [ 9.67182279e-01, -2.54083574e-01,  5.03282428e-01],\n        [ 9.97142434e-01,  7.55448490e-02,  5.45736372e-01],\n        [-9.80952144e-01,  1.94249406e-01, -3.56258583e+00],\n        [ 9.94035065e-01,  1.09061211e-01,  1.06572703e-01],\n        [ 9.71203744e-01, -2.38250345e-01, -2.38811299e-01],\n        [ 9.94468689e-01,  1.05033465e-01, -5.63394785e-01],\n        [ 9.92794693e-01,  1.19827785e-01, -2.11463496e-01],\n        [ 9.99970078e-01,  7.73215480e-03,  3.97090256e-01],\n        [ 9.77079988e-01,  2.12872475e-01,  3.44169647e-01],\n        [ 9.99644279e-01, -2.66695470e-02, -1.95535630e-01],\n        [ 9.99227643e-01,  3.92950773e-02, -4.79143351e-01],\n        [ 9.75390315e-01,  2.20485285e-01, -4.18104172e-01],\n        [ 9.89747286e-01,  1.42829463e-01, -4.47818518e-01],\n        [ 9.78904903e-01,  2.04316437e-01,  3.73790860e-01],\n        [ 9.86023009e-01,  1.66609064e-01,  2.33198136e-01],\n        [ 9.89782155e-01, -1.42587751e-01, -2.84423500e-01],\n        [ 0.00000000e+00,  0.00000000e+00,  0.00000000e+00],\n        [ 0.00000000e+00,  0.00000000e+00,  0.00000000e+00],\n        [ 9.37404513e-01, -3.48242372e-01,  2.24218413e-01],\n        [ 9.88703370e-01, -1.49885565e-01,  7.38197267e-01],\n        [ 9.99410808e-01, -3.43219489e-02,  6.15919650e-01],\n        [ 9.81538713e-01,  1.91263601e-01, -7.58723080e-01],\n        [ 9.78443325e-01, -2.06515580e-01, -2.53480822e-01],\n        [ 9.59206462e-01, -2.82706559e-01,  1.85137004e-01],\n        [ 9.80017126e-01, -1.98913053e-01, -2.98157454e-01],\n        [ 9.91178274e-01,  1.32535413e-01,  4.20671016e-01],\n        [ 9.86495376e-01,  1.63789064e-01,  4.90763895e-02],\n        [ 9.99872088e-01,  1.59931481e-02,  3.87189180e-01],\n        [ 9.62401569e-01, -2.71630675e-01,  1.87213436e-01],\n        [-2.36493647e-01,  9.71633017e-01,  2.38208985e+00],\n        [ 9.83056724e-01,  1.83301583e-01, -1.57479525e-01],\n        [-7.78237224e-01, -6.27970397e-01,  5.63856077e+00],\n        [ 9.76766288e-01, -2.14307219e-01,  4.87517208e-01],\n        [ 8.82759571e-01, -4.69824970e-01,  1.24908233e+00],\n        [ 9.98620808e-01,  5.25023006e-02, -5.30567348e-01],\n        [ 9.99134779e-01, -4.15896028e-02, -4.67198193e-01],\n        [ 1.66085530e-02, -9.99862075e-01,  4.98668861e+00],\n        [ 3.15314084e-02, -9.99502778e-01, -1.32955462e-01],\n        [ 9.86308217e-01,  1.64912313e-01,  2.26908416e-01],\n        [ 9.79247987e-01, -2.02665597e-01,  5.28923869e-01],\n        [ 9.87593889e-01,  1.57029688e-01,  1.30999953e-01],\n        [ 9.45089042e-01, -3.26813042e-01,  3.39513749e-01],\n        [ 3.49741042e-01, -9.36846435e-01,  3.52237535e+00],\n        [ 9.57137585e-01, -2.89633721e-01, -4.02695462e-02],\n        [ 9.99277651e-01, -3.80024426e-02,  6.24852002e-01],\n        [ 9.86597478e-01, -1.63172871e-01,  7.10473716e-01],\n        [ 9.89093840e-01,  1.47286892e-01,  4.99506108e-02],\n        [ 9.96904850e-01,  7.86175132e-02, -2.69999325e-01],\n        [ 9.69124794e-01, -2.46570721e-01,  3.18579823e-01],\n        [ 9.76929426e-01,  2.13562310e-01, -3.88173074e-01],\n        [ 9.86001909e-01,  1.66734144e-01, -3.05994749e-01],\n        [ 9.68093753e-01,  2.50588238e-01,  3.10952127e-01],\n        [ 9.97527301e-01,  7.02798814e-02, -5.44803858e-01],\n        [ 9.66377795e-01, -2.57126302e-01,  2.25614682e-01],\n        [ 9.85408425e-01,  1.70206591e-01,  2.97978949e-02],\n        [ 9.94130790e-01,  1.08184874e-01, -1.21544942e-01],\n        [ 1.00000000e+00,  7.06795327e-05,  5.23772299e-01],\n        [ 9.94904637e-01,  1.00820340e-01,  4.25767839e-01],\n        [ 9.93926525e-01, -1.10045962e-01,  6.36563957e-01],\n        [ 9.89540696e-01, -1.44253984e-01,  6.26304388e-01],\n        [ 9.61903572e-01, -2.73389041e-01, -1.82741195e-01],\n        [ 3.80967766e-01, -9.24588323e-01,  3.44809103e+00],\n        [ 9.98450935e-01, -5.56391254e-02, -3.24754536e-01],\n        [ 9.62263882e-01, -2.72118121e-01, -1.21389411e-01],\n        [ 9.58267689e-01,  2.85872340e-01,  5.48637696e-02],\n        [ 9.92785335e-01,  1.19905129e-01,  1.80168062e-01],\n        [ 9.58639979e-01,  2.84621447e-01, -7.36196861e-02],\n        [ 9.65778291e-01,  2.59368956e-01,  2.48257726e-01],\n        [ 0.00000000e+00,  0.00000000e+00,  0.00000000e+00],\n        [-8.99518669e-01, -4.36882287e-01,  7.78786600e-01],\n        [ 9.91872787e-01,  1.27233714e-01, -1.69597566e-01],\n        [ 9.92141902e-01,  1.25117496e-01,  1.90345626e-02],\n        [-9.70596969e-01,  2.40710407e-01,  6.14966774e+00],\n        [ 9.67337847e-01, -2.53490567e-01, -1.74083695e-01],\n        [ 9.72553074e-01,  2.32681036e-01,  3.09436768e-01],\n        [ 9.84284401e-01, -1.76590398e-01, -3.24090302e-01],\n        [ 9.86822367e-01,  1.61807194e-01,  2.19838262e-01],\n        [ 9.69357729e-01, -2.45653495e-01,  3.60577315e-01],\n        [ 9.97291505e-01,  7.35501498e-02, -4.35109407e-01],\n        [ 9.50260460e-01,  3.11456323e-01,  8.54115635e-02],\n        [ 9.77668822e-01,  2.10151613e-01, -6.01079315e-02],\n        [ 9.73709106e-01,  2.27794930e-01, -1.71449155e-01],\n        [ 9.77384269e-01, -2.11470962e-01, -3.35944325e-01],\n        [ 9.69715655e-01,  2.44236708e-01,  2.22344652e-01],\n        [ 9.48796928e-01,  3.15886736e-01,  7.67691880e-02],\n        [ 9.58010316e-01,  2.86733747e-01, -1.19532958e-01],\n        [ 6.92144930e-01,  7.21758544e-01,  1.23946452e+00],\n        [ 9.99621212e-01, -2.75216941e-02,  5.70291281e-01],\n        [-5.05653679e-01,  8.62736523e-01,  4.08885765e+00],\n        [ 9.69152749e-01,  2.46460781e-01,  2.11692810e-01],\n        [ 9.92745876e-01,  1.20231323e-01,  1.81623176e-01],\n        [ 9.72978711e-01, -2.30894759e-01, -2.44842082e-01],\n        [ 9.91095901e-01, -1.33149788e-01, -3.63681912e-01],\n        [ 9.96245623e-01,  8.65717679e-02, -5.25913060e-01],\n        [ 9.99091327e-01,  4.26200218e-02,  3.74377459e-01],\n        [ 9.60679173e-01,  2.77660817e-01, -2.11634785e-01],\n        [ 9.98848975e-01, -4.79661115e-02, -5.01708865e-01],\n        [ 9.92805600e-01,  1.19737193e-01, -3.54841709e-01],\n        [ 9.88829672e-01,  1.49050027e-01, -2.36867309e-01],\n        [ 9.97553885e-01,  6.99014142e-02,  5.28718114e-01],\n        [ 9.59339499e-01, -2.82254755e-01, -3.49713229e-02],\n        [ 9.80377555e-01, -1.97128996e-01,  5.28203309e-01],\n        [ 9.99123096e-01, -4.18686904e-02,  6.85520649e-01],\n        [ 0.00000000e+00,  0.00000000e+00,  0.00000000e+00],\n        [ 9.58308518e-01, -2.85735488e-01,  8.50737691e-02],\n        [ 9.77308512e-01, -2.11820930e-01,  7.08456755e-01],\n        [ 9.61877525e-01, -2.73480564e-01,  1.48686245e-01],\n        [ 9.99692261e-01,  2.48075072e-02, -4.67830598e-01],\n        [ 9.99358892e-01,  3.58030461e-02,  3.04077625e-01],\n        [ 5.41699529e-01,  8.40572178e-01, -3.07966137e+00],\n        [ 9.99497354e-01,  3.17020081e-02,  4.32727635e-01],\n        [ 9.97433364e-01, -7.16005191e-02, -2.87017167e-01],\n        [ 9.95438635e-01, -9.54040512e-02, -8.15088674e-02],\n        [-9.81329083e-01,  1.92336366e-01, -7.91810560e+00],\n        [ 9.83050287e-01, -1.83336079e-01,  5.59730113e-01],\n        [ 8.68224561e-01, -4.96171415e-01,  1.32607889e+00],\n        [ 9.57596064e-01, -2.88114220e-01, -1.09876893e-01],\n        [ 9.67716396e-01,  2.52041578e-01, -1.87325552e-01],\n        [ 9.99942660e-01, -1.07093519e-02,  5.95061719e-01],\n        [ 9.99559283e-01, -2.96852663e-02,  5.57553113e-01],\n        [ 9.70530927e-01, -2.40976706e-01, -1.83127925e-01],\n        [ 9.59077060e-01,  2.83145279e-01, -3.89117077e-02],\n        [ 9.99709129e-01,  2.41174009e-02,  4.16562617e-01],\n        [ 9.59458888e-01,  2.81848729e-01,  6.62350878e-02],\n        [ 9.84362781e-01,  1.76153153e-01,  1.55399874e-01]], dtype=float32)>,\n <tf.Tensor: shape=(128, 4), dtype=float32, numpy=\n array([[1., 1., 1., 0.],\n        [1., 1., 1., 0.],\n        [1., 1., 1., 0.],\n        [1., 1., 1., 0.],\n        [1., 1., 1., 0.],\n        [0., 0., 0., 0.],\n        [1., 1., 1., 0.],\n        [1., 1., 1., 0.],\n        [1., 1., 1., 0.],\n        [1., 1., 1., 0.],\n        [1., 1., 1., 0.],\n        [1., 1., 1., 0.],\n        [1., 1., 1., 0.],\n        [1., 1., 1., 0.],\n        [1., 1., 1., 0.],\n        [1., 1., 1., 0.],\n        [1., 1., 1., 0.],\n        [1., 1., 1., 0.],\n        [1., 1., 1., 0.],\n        [0., 0., 0., 1.],\n        [0., 0., 0., 1.],\n        [1., 1., 0., 0.],\n        [1., 1., 1., 0.],\n        [1., 1., 1., 0.],\n        [1., 1., 1., 0.],\n        [1., 1., 1., 0.],\n        [1., 1., 1., 0.],\n        [1., 1., 1., 0.],\n        [1., 1., 1., 0.],\n        [1., 1., 1., 0.],\n        [1., 1., 1., 0.],\n        [1., 1., 1., 0.],\n        [0., 0., 0., 0.],\n        [1., 1., 1., 0.],\n        [0., 0., 0., 0.],\n        [1., 1., 1., 0.],\n        [1., 1., 0., 0.],\n        [1., 1., 1., 0.],\n        [1., 1., 1., 0.],\n        [1., 0., 0., 0.],\n        [1., 0., 0., 0.],\n        [1., 1., 1., 0.],\n        [1., 1., 1., 0.],\n        [1., 1., 1., 0.],\n        [1., 1., 1., 0.],\n        [1., 0., 0., 0.],\n        [1., 1., 1., 0.],\n        [1., 1., 1., 0.],\n        [1., 1., 1., 0.],\n        [1., 1., 1., 0.],\n        [1., 1., 1., 0.],\n        [1., 1., 1., 0.],\n        [1., 1., 1., 0.],\n        [1., 1., 1., 0.],\n        [1., 1., 1., 0.],\n        [1., 1., 1., 0.],\n        [1., 1., 1., 0.],\n        [1., 1., 1., 0.],\n        [1., 1., 1., 0.],\n        [1., 1., 1., 0.],\n        [1., 1., 1., 0.],\n        [1., 1., 1., 0.],\n        [1., 1., 1., 0.],\n        [1., 1., 1., 0.],\n        [1., 0., 0., 0.],\n        [1., 1., 1., 0.],\n        [1., 1., 1., 0.],\n        [1., 1., 1., 0.],\n        [1., 1., 1., 0.],\n        [1., 1., 1., 0.],\n        [1., 1., 1., 0.],\n        [0., 0., 0., 1.],\n        [0., 0., 0., 0.],\n        [1., 1., 1., 0.],\n        [1., 1., 1., 0.],\n        [0., 0., 0., 0.],\n        [1., 1., 1., 0.],\n        [1., 1., 1., 0.],\n        [1., 1., 1., 0.],\n        [1., 1., 1., 0.],\n        [1., 1., 1., 0.],\n        [1., 1., 1., 0.],\n        [1., 1., 1., 0.],\n        [1., 1., 1., 0.],\n        [1., 1., 1., 0.],\n        [1., 1., 1., 0.],\n        [1., 1., 1., 0.],\n        [1., 1., 1., 0.],\n        [1., 1., 1., 0.],\n        [1., 0., 0., 0.],\n        [1., 1., 1., 0.],\n        [0., 0., 0., 0.],\n        [1., 1., 1., 0.],\n        [1., 1., 1., 0.],\n        [1., 1., 1., 0.],\n        [1., 1., 1., 0.],\n        [1., 1., 1., 0.],\n        [1., 1., 1., 0.],\n        [1., 1., 1., 0.],\n        [1., 1., 1., 0.],\n        [1., 1., 1., 0.],\n        [1., 1., 1., 0.],\n        [1., 1., 1., 0.],\n        [1., 1., 1., 0.],\n        [1., 1., 1., 0.],\n        [1., 1., 1., 0.],\n        [0., 0., 0., 1.],\n        [1., 1., 1., 0.],\n        [1., 1., 1., 0.],\n        [1., 1., 1., 0.],\n        [1., 1., 1., 0.],\n        [1., 1., 1., 0.],\n        [1., 0., 0., 0.],\n        [1., 1., 1., 0.],\n        [1., 1., 1., 0.],\n        [1., 1., 1., 0.],\n        [0., 0., 0., 0.],\n        [1., 1., 1., 0.],\n        [1., 1., 0., 0.],\n        [1., 1., 1., 0.],\n        [1., 1., 1., 0.],\n        [1., 1., 1., 0.],\n        [1., 1., 1., 0.],\n        [1., 1., 1., 0.],\n        [1., 1., 1., 0.],\n        [1., 1., 1., 0.],\n        [1., 1., 1., 0.],\n        [1., 1., 1., 0.]], dtype=float32)>,\n <tf.Tensor: shape=(128, 1), dtype=float32, numpy=\n array([[ 1.14827275e-01],\n        [-5.60172677e-01],\n        [ 1.98997366e+00],\n        [ 1.99800122e+00],\n        [-6.59317017e-01],\n        [-1.99970591e+00],\n        [-1.09510505e+00],\n        [ 9.04713094e-01],\n        [-1.74782589e-01],\n        [-1.42266214e+00],\n        [ 1.84955463e-01],\n        [-9.55945373e-01],\n        [ 1.24001479e+00],\n        [-2.11713046e-01],\n        [-1.36382210e+00],\n        [-1.04946828e+00],\n        [-1.33465183e+00],\n        [-8.37439716e-01],\n        [ 7.97380745e-01],\n        [ 0.00000000e+00],\n        [ 0.00000000e+00],\n        [ 1.97096622e+00],\n        [ 5.79676390e-01],\n        [-3.20380896e-01],\n        [-3.08201998e-01],\n        [ 9.34132755e-01],\n        [ 1.92281163e+00],\n        [ 7.70067692e-01],\n        [-5.01376450e-01],\n        [-1.29173923e+00],\n        [-3.62834722e-01],\n        [ 1.86879730e+00],\n        [ 1.87504506e+00],\n        [-7.42343128e-01],\n        [ 1.98164058e+00],\n        [ 1.92966211e+00],\n        [ 9.02021945e-01],\n        [ 6.90347970e-01],\n        [ 3.09829593e-01],\n        [-3.93725693e-01],\n        [ 8.69222879e-01],\n        [-9.71502960e-01],\n        [ 1.94370699e+00],\n        [-9.99154329e-01],\n        [ 1.99819601e+00],\n        [ 1.53011811e+00],\n        [ 1.92863071e+00],\n        [-1.80989549e-01],\n        [ 2.16753542e-01],\n        [-1.64841557e+00],\n        [-1.22955763e+00],\n        [ 1.98015058e+00],\n        [-4.92446512e-01],\n        [-5.99276304e-01],\n        [-1.57248104e+00],\n        [-5.64767063e-01],\n        [ 1.96171892e+00],\n        [-1.47514474e+00],\n        [ 4.14174289e-01],\n        [-6.33753300e-01],\n        [-4.96046096e-01],\n        [ 3.21021527e-01],\n        [ 6.67218506e-01],\n        [ 1.74364793e+00],\n        [ 1.66395020e+00],\n        [ 1.73336209e-03],\n        [ 1.55442405e+00],\n        [-1.64299464e+00],\n        [-1.19864404e+00],\n        [-1.87602913e+00],\n        [-1.28703761e+00],\n        [ 0.00000000e+00],\n        [-1.99999928e+00],\n        [-7.57375836e-01],\n        [-4.65745836e-01],\n        [ 1.81384933e+00],\n        [ 1.43256629e+00],\n        [-1.02771330e+00],\n        [ 9.96940315e-01],\n        [-8.81930888e-01],\n        [ 1.98385024e+00],\n        [-6.25433087e-01],\n        [-1.93103528e+00],\n        [-1.90807533e+00],\n        [-7.37721682e-01],\n        [ 1.44001412e+00],\n        [-1.61279953e+00],\n        [-1.91362989e+00],\n        [-1.73236585e+00],\n        [-1.80289221e+00],\n        [ 3.84663880e-01],\n        [ 1.99704957e+00],\n        [-1.30678535e+00],\n        [-1.58419335e+00],\n        [ 1.07061839e+00],\n        [ 9.58209455e-01],\n        [-3.82026196e-01],\n        [ 8.55858028e-01],\n        [-1.54443872e+00],\n        [ 7.64145195e-01],\n        [-4.16294068e-01],\n        [-8.85848284e-01],\n        [-7.25625336e-01],\n        [ 1.73047221e+00],\n        [ 1.97649002e+00],\n        [ 1.03741540e-02],\n        [ 0.00000000e+00],\n        [ 1.95521617e+00],\n        [ 5.24640024e-01],\n        [ 1.93093503e+00],\n        [-1.03838623e+00],\n        [-5.87843284e-02],\n        [-5.66183329e-01],\n        [-4.26024228e-01],\n        [-4.59240675e-02],\n        [ 1.09327769e+00],\n        [ 1.98258901e+00],\n        [ 1.66963208e+00],\n        [ 1.31393540e+00],\n        [ 1.63839066e+00],\n        [ 1.52034201e-02],\n        [-1.01192430e-01],\n        [-6.46021664e-01],\n        [ 1.09759533e+00],\n        [-1.89836109e+00],\n        [ 3.32919657e-01],\n        [-1.91787636e+00],\n        [-1.65854967e+00]], dtype=float32)>,\n <tf.Tensor: shape=(128, 1), dtype=float32, numpy=\n array([[-1.47449011e-02],\n        [-1.53089995e-02],\n        [-7.29996637e-02],\n        [-9.53189805e-02],\n        [-3.59354280e-02],\n        [-9.95270824e+00],\n        [-1.42768370e-02],\n        [-6.43925890e-02],\n        [-4.28447537e-02],\n        [-2.09236033e-02],\n        [-1.58620644e-02],\n        [-5.87753132e-02],\n        [-6.07248861e-03],\n        [-2.45475564e-02],\n        [-6.87637329e-02],\n        [-4.16960344e-02],\n        [-5.80926426e-02],\n        [-3.41587402e-02],\n        [ 0.00000000e+00],\n        [ 0.00000000e+00],\n        [ 0.00000000e+00],\n        [-1.35431364e-01],\n        [-7.74655119e-02],\n        [-3.92168052e-02],\n        [-9.46978182e-02],\n        [-5.05670272e-02],\n        [-8.92727077e-02],\n        [-4.95823249e-02],\n        [-3.56172509e-02],\n        [-2.89796852e-02],\n        [-1.53789977e-02],\n        [-8.26701447e-02],\n        [-3.84542894e+00],\n        [-3.70137207e-02],\n        [-9.24790955e+00],\n        [-7.41393492e-02],\n        [-3.96045774e-01],\n        [-3.13857794e-02],\n        [-2.36541014e-02],\n        [-4.90235901e+00],\n        [-2.37184358e+00],\n        [-3.35388146e-02],\n        [-7.34023750e-02],\n        [-2.75781173e-02],\n        [-1.26361772e-01],\n        [-2.71564031e+00],\n        [-9.02261510e-02],\n        [-4.05216441e-02],\n        [-7.73893818e-02],\n        [-2.48189177e-02],\n        [-1.49952648e-02],\n        [-7.61411041e-02],\n        [-6.16299622e-02],\n        [-3.77841964e-02],\n        [-7.62965530e-02],\n        [-3.49475034e-02],\n        [-7.65631646e-02],\n        [-3.15192901e-02],\n        [-1.33987730e-02],\n        [-2.78353933e-02],\n        [-2.85732578e-02],\n        [-5.27837388e-02],\n        [-6.06260747e-02],\n        [-8.30613971e-02],\n        [-2.58399224e+00],\n        [-1.36454664e-02],\n        [-7.98415691e-02],\n        [-8.70520845e-02],\n        [-1.91294756e-02],\n        [ 0.00000000e+00],\n        [-7.66570047e-02],\n        [ 0.00000000e+00],\n        [-7.29786158e+00],\n        [-1.97264850e-02],\n        [-1.59899145e-02],\n        [-1.21864042e+01],\n        [-7.07657710e-02],\n        [-6.57780692e-02],\n        [-4.30111662e-02],\n        [-3.20239924e-02],\n        [-7.85374194e-02],\n        [-2.47425940e-02],\n        [-1.04773268e-01],\n        [-4.88316528e-02],\n        [-5.62974885e-02],\n        [-5.87624684e-02],\n        [-6.84217587e-02],\n        [-1.07543565e-01],\n        [-8.90036523e-02],\n        [-8.07061374e-01],\n        [-3.34288180e-02],\n        [-6.08979511e+00],\n        [-6.82033598e-02],\n        [-2.03341339e-02],\n        [-6.14286810e-02],\n        [-3.19792591e-02],\n        [-3.53178680e-02],\n        [-1.65659077e-02],\n        [-8.60267207e-02],\n        [-2.80576088e-02],\n        [-2.71706060e-02],\n        [-2.87777428e-02],\n        [-3.33750062e-02],\n        [-8.49950090e-02],\n        [ 0.00000000e+00],\n        [-4.87479717e-02],\n        [ 0.00000000e+00],\n        [-8.85154977e-02],\n        [-9.60220322e-02],\n        [-8.26736316e-02],\n        [-2.35803332e-02],\n        [-1.05321826e-02],\n        [-1.94543207e+00],\n        [-1.99121702e-02],\n        [-1.33754145e-02],\n        [-1.09893084e-02],\n        [-1.49645710e+01],\n        [-6.81130588e-02],\n        [-4.47126478e-01],\n        [-8.93057510e-02],\n        [-6.84269443e-02],\n        [-3.55347842e-02],\n        [-3.23853642e-02],\n        [-6.37882724e-02],\n        [-8.61655176e-02],\n        [-1.80450380e-02],\n        [-8.57531056e-02],\n        [-3.65220048e-02]], dtype=float32)>,\n <tf.Tensor: shape=(128, 3), dtype=float32, numpy=\n array([[ 9.92030382e-01,  1.25998691e-01,  9.97643471e-02],\n        [ 9.95023131e-01,  9.96443033e-02,  2.53296912e-01],\n        [ 9.80495751e-01, -1.96540192e-01,  5.56399584e-01],\n        [ 9.74507928e-01, -2.24353015e-01,  6.12419903e-01],\n        [ 9.94924784e-01,  1.00621186e-01,  5.03497422e-01],\n        [-9.28168654e-01,  3.72159868e-01, -3.71685457e+00],\n        [ 9.93902862e-01,  1.10259086e-01,  2.41028536e-02],\n        [ 9.67750609e-01, -2.51910120e-01, -2.81792104e-01],\n        [ 9.96826768e-01,  7.96013996e-02, -5.10837078e-01],\n        [ 9.94662404e-01,  1.03182845e-01, -3.34991992e-01],\n        [ 9.99571860e-01,  2.92596910e-02,  4.30632710e-01],\n        [ 9.73085225e-01,  2.30445519e-01,  3.60432208e-01],\n        [ 9.99603808e-01, -2.81457696e-02, -2.95355730e-02],\n        [ 9.99883950e-01,  1.52331591e-02, -4.81429011e-01],\n        [ 9.80176449e-01,  1.98126629e-01, -4.57313538e-01],\n        [ 9.92997289e-01,  1.18137233e-01, -4.98116672e-01],\n        [ 9.75435495e-01,  2.20285237e-01,  3.26830417e-01],\n        [ 9.84019279e-01,  1.78061977e-01,  2.32538968e-01],\n        [ 0.00000000e+00,  0.00000000e+00,  0.00000000e+00],\n        [ 8.70834827e-01,  4.91575718e-01, -6.27516627e-01],\n        [ 8.70834827e-01,  4.91575718e-01, -6.27516627e-01],\n        [ 9.41830158e-01, -3.36089134e-01,  2.58681566e-01],\n        [ 9.93415892e-01, -1.14563711e-01,  7.12734580e-01],\n        [ 9.99973893e-01, -7.22257607e-03,  5.42121053e-01],\n        [ 9.87326801e-01,  1.58700243e-01, -6.61505699e-01],\n        [ 9.75585520e-01, -2.19619870e-01, -2.68247604e-01],\n        [ 9.62821126e-01, -2.70139754e-01,  2.61528820e-01],\n        [ 9.76582110e-01, -2.15144977e-01, -3.31832081e-01],\n        [ 9.87985313e-01,  1.54547885e-01,  4.44866121e-01],\n        [ 9.86673653e-01,  1.62711591e-01, -2.18426883e-02],\n        [ 9.99447882e-01,  3.32256556e-02,  3.44758838e-01],\n        [ 9.65900660e-01, -2.58912832e-01,  2.63810039e-01],\n        [-3.97103906e-01,  9.17773664e-01,  3.39207149e+00],\n        [ 9.84239399e-01,  1.76841214e-01, -1.31354809e-01],\n        [-5.79905272e-01, -8.14683914e-01,  5.46482897e+00],\n        [ 9.82904851e-01, -1.84114322e-01,  6.16236091e-01],\n        [ 9.05817211e-01, -4.23668683e-01,  1.03201699e+00],\n        [ 9.99450743e-01,  3.31384614e-02, -3.87638450e-01],\n        [ 9.97940063e-01, -6.41533136e-02, -4.51915950e-01],\n        [ 2.23589823e-01, -9.74683344e-01,  4.17773342e+00],\n        [-6.07328163e-03, -9.99981582e-01, -7.52199113e-01],\n        [ 9.84567285e-01,  1.75006598e-01,  2.04867199e-01],\n        [ 9.85473692e-01, -1.69828072e-01,  6.68480694e-01],\n        [ 9.86805320e-01,  1.61911353e-01,  9.88990664e-02],\n        [ 9.51345503e-01, -3.08126211e-01,  3.94133359e-01],\n        [ 4.87965643e-01, -8.72862816e-01,  3.04925823e+00],\n        [ 9.57596838e-01, -2.88111508e-01,  3.17997746e-02],\n        [ 9.99954402e-01, -9.55136307e-03,  5.69201767e-01],\n        [ 9.91185069e-01, -1.32484764e-01,  6.20607138e-01],\n        [ 9.89724040e-01,  1.42990544e-01, -8.68465528e-02],\n        [ 9.98264432e-01,  5.88911399e-02, -3.95469844e-01],\n        [ 9.74209309e-01, -2.25646317e-01,  4.30674344e-01],\n        [ 9.80041444e-01,  1.98793337e-01, -3.01868320e-01],\n        [ 9.88169312e-01,  1.53367057e-01, -2.70835578e-01],\n        [ 9.64714646e-01,  2.63297677e-01,  2.63021171e-01],\n        [ 9.99139130e-01,  4.14855070e-02, -5.76808989e-01],\n        [ 9.70452785e-01, -2.41291016e-01,  3.27027798e-01],\n        [ 9.85946476e-01,  1.67061344e-01, -6.38188794e-02],\n        [ 9.94012713e-01,  1.09264426e-01,  2.17198543e-02],\n        [ 9.99768674e-01,  2.15071384e-02,  4.28762347e-01],\n        [ 9.92525697e-01,  1.22035779e-01,  4.26976204e-01],\n        [ 9.96788919e-01, -8.00743327e-02,  6.02182746e-01],\n        [ 9.93526161e-01, -1.13603406e-01,  6.18196666e-01],\n        [ 9.60158825e-01, -2.79454887e-01, -1.26235783e-01],\n        [ 5.15040517e-01, -8.57165873e-01,  3.00424218e+00],\n        [ 9.97264802e-01, -7.39116073e-02, -3.66223902e-01],\n        [ 9.60997581e-01, -2.76556760e-01, -9.23143998e-02],\n        [ 9.57940936e-01,  2.86965489e-01,  2.28188224e-02],\n        [ 9.92233872e-01,  1.24386333e-01,  9.03002992e-02],\n        [ 0.00000000e+00,  0.00000000e+00,  0.00000000e+00],\n        [ 9.62464511e-01,  2.71407545e-01,  2.49728799e-01],\n        [-2.23868728e-01,  9.74619329e-01,  8.79576683e-01],\n        [-8.96191835e-01, -4.43666726e-01,  1.51125014e-01],\n        [ 9.93023634e-01,  1.17915615e-01, -1.87778667e-01],\n        [ 9.91870582e-01,  1.27250850e-01,  4.30108123e-02],\n        [-9.96216476e-01, -8.69064033e-02,  6.60227776e+00],\n        [ 9.65418398e-01, -2.60705411e-01, -1.49316669e-01],\n        [ 9.68584239e-01,  2.48685628e-01,  3.29790562e-01],\n        [ 9.81458008e-01, -1.91677377e-01, -3.06992054e-01],\n        [ 9.85078454e-01,  1.72105744e-01,  2.08904028e-01],\n        [ 9.74905968e-01, -2.22617045e-01,  4.73914742e-01],\n        [ 9.98753846e-01,  4.99077961e-02, -4.73761767e-01],\n        [ 9.49802399e-01,  3.12850446e-01,  2.93485206e-02],\n        [ 9.79608119e-01,  2.00917810e-01, -1.88705519e-01],\n        [ 9.74961281e-01,  2.22374633e-01, -1.11261211e-01],\n        [ 9.74344373e-01, -2.25062311e-01, -2.78545439e-01],\n        [ 9.67685342e-01,  2.52160847e-01,  1.63602248e-01],\n        [ 9.48375285e-01,  3.17150235e-01,  2.66397502e-02],\n        [ 9.60334003e-01,  2.78852284e-01, -1.64337531e-01],\n        [ 6.35718644e-01,  7.71920860e-01,  1.51034963e+00],\n        [ 9.99995947e-01,  2.84230732e-03,  6.07349634e-01],\n        [-7.04638004e-01,  7.09566951e-01,  5.03546762e+00],\n        [ 9.66633081e-01,  2.56164968e-01,  2.00520590e-01],\n        [ 9.92539048e-01,  1.21927135e-01,  3.41676660e-02],\n        [ 9.69926357e-01, -2.43398517e-01, -2.57420391e-01],\n        [ 9.88840163e-01, -1.48980349e-01, -3.19812834e-01],\n        [ 9.98154342e-01,  6.07284792e-02, -5.18288136e-01],\n        [ 9.97594953e-01,  6.93133697e-02,  5.34721196e-01],\n        [ 9.63876009e-01,  2.66351283e-01, -2.35054985e-01],\n        [ 9.97610927e-01, -6.90825358e-02, -4.23061639e-01],\n        [ 9.94633019e-01,  1.03465520e-01, -3.27482939e-01],\n        [ 9.90669787e-01,  1.36284202e-01, -2.57957041e-01],\n        [ 9.95625198e-01,  9.34369862e-02,  4.72300380e-01],\n        [ 9.59521472e-01, -2.81635523e-01,  1.29084354e-02],\n        [ 0.00000000e+00,  0.00000000e+00,  0.00000000e+00],\n        [ 9.99958634e-01, -9.09704529e-03,  6.55675232e-01],\n        [ 3.09489127e-02,  9.99520957e-01,  9.92172003e-01],\n        [ 9.60620046e-01, -2.77865231e-01,  1.64054573e-01],\n        [ 9.83479440e-01, -1.81019947e-01,  6.28287077e-01],\n        [ 9.65001047e-01, -2.62245953e-01,  2.33216077e-01],\n        [ 9.99985218e-01, -5.43906540e-03, -6.04982913e-01],\n        [ 9.98652637e-01,  5.18929958e-02,  3.22112262e-01],\n        [ 6.43579304e-01,  7.65379429e-01, -2.53415966e+00],\n        [ 9.98682499e-01,  5.13147973e-02,  3.92600507e-01],\n        [ 9.96038377e-01, -8.89245346e-02, -3.47606182e-01],\n        [ 9.95490611e-01, -9.48600397e-02,  1.09297475e-02],\n        [-8.43319595e-01,  5.37412345e-01, -7.47646523e+00],\n        [ 9.88659441e-01, -1.50175050e-01,  6.72672868e-01],\n        [ 8.95327032e-01, -4.45409417e-01,  1.15104067e+00],\n        [ 9.56432939e-01, -2.91952044e-01, -8.02039579e-02],\n        [ 9.67666149e-01,  2.52234459e-01,  3.98614863e-03],\n        [ 9.99840081e-01,  1.78820342e-02,  5.71850896e-01],\n        [ 9.99969840e-01, -7.77025521e-03,  4.38385904e-01],\n        [ 9.68082428e-01, -2.50632107e-01, -1.99221164e-01],\n        [ 9.60637987e-01,  2.77803302e-01, -1.11306921e-01],\n        [ 9.98831391e-01,  4.83303368e-02,  4.84588593e-01],\n        [ 9.59600508e-01,  2.81366080e-01, -1.00598298e-02],\n        [ 9.84019756e-01,  1.78059146e-01,  3.87322903e-02]], dtype=float32)>,\n <tf.Tensor: shape=(128, 4), dtype=float32, numpy=\n array([[1., 1., 1., 0.],\n        [1., 1., 1., 0.],\n        [1., 1., 1., 0.],\n        [1., 1., 1., 0.],\n        [1., 1., 1., 0.],\n        [0., 0., 0., 0.],\n        [1., 1., 1., 0.],\n        [1., 1., 1., 0.],\n        [1., 1., 1., 0.],\n        [1., 1., 1., 0.],\n        [1., 1., 1., 0.],\n        [1., 1., 1., 0.],\n        [1., 1., 1., 0.],\n        [1., 1., 1., 0.],\n        [1., 1., 1., 0.],\n        [1., 1., 1., 0.],\n        [1., 1., 1., 0.],\n        [1., 1., 1., 0.],\n        [0., 0., 0., 1.],\n        [1., 1., 0., 0.],\n        [1., 1., 0., 0.],\n        [1., 1., 1., 0.],\n        [1., 1., 1., 0.],\n        [1., 1., 1., 0.],\n        [1., 1., 1., 0.],\n        [1., 1., 1., 0.],\n        [1., 1., 1., 0.],\n        [1., 1., 1., 0.],\n        [1., 1., 1., 0.],\n        [1., 1., 1., 0.],\n        [1., 1., 1., 0.],\n        [1., 1., 1., 0.],\n        [0., 0., 0., 0.],\n        [1., 1., 1., 0.],\n        [0., 0., 0., 0.],\n        [1., 1., 1., 0.],\n        [1., 1., 0., 0.],\n        [1., 1., 1., 0.],\n        [1., 1., 1., 0.],\n        [1., 0., 0., 0.],\n        [0., 0., 0., 0.],\n        [1., 1., 1., 0.],\n        [1., 1., 1., 0.],\n        [1., 1., 1., 0.],\n        [1., 1., 1., 0.],\n        [1., 0., 0., 0.],\n        [1., 1., 1., 0.],\n        [1., 1., 1., 0.],\n        [1., 1., 1., 0.],\n        [1., 1., 1., 0.],\n        [1., 1., 1., 0.],\n        [1., 1., 1., 0.],\n        [1., 1., 1., 0.],\n        [1., 1., 1., 0.],\n        [1., 1., 1., 0.],\n        [1., 1., 1., 0.],\n        [1., 1., 1., 0.],\n        [1., 1., 1., 0.],\n        [1., 1., 1., 0.],\n        [1., 1., 1., 0.],\n        [1., 1., 1., 0.],\n        [1., 1., 1., 0.],\n        [1., 1., 1., 0.],\n        [1., 1., 1., 0.],\n        [1., 0., 0., 0.],\n        [1., 1., 1., 0.],\n        [1., 1., 1., 0.],\n        [1., 1., 1., 0.],\n        [1., 1., 1., 0.],\n        [0., 0., 0., 1.],\n        [1., 1., 1., 0.],\n        [0., 0., 0., 0.],\n        [0., 0., 0., 0.],\n        [1., 1., 1., 0.],\n        [1., 1., 1., 0.],\n        [0., 0., 0., 0.],\n        [1., 1., 1., 0.],\n        [1., 1., 1., 0.],\n        [1., 1., 1., 0.],\n        [1., 1., 1., 0.],\n        [1., 1., 1., 0.],\n        [1., 1., 1., 0.],\n        [1., 1., 1., 0.],\n        [1., 1., 1., 0.],\n        [1., 1., 1., 0.],\n        [1., 1., 1., 0.],\n        [1., 1., 1., 0.],\n        [1., 1., 1., 0.],\n        [1., 1., 1., 0.],\n        [1., 0., 0., 0.],\n        [1., 1., 1., 0.],\n        [0., 0., 0., 0.],\n        [1., 1., 1., 0.],\n        [1., 1., 1., 0.],\n        [1., 1., 1., 0.],\n        [1., 1., 1., 0.],\n        [1., 1., 1., 0.],\n        [1., 1., 1., 0.],\n        [1., 1., 1., 0.],\n        [1., 1., 1., 0.],\n        [1., 1., 1., 0.],\n        [1., 1., 1., 0.],\n        [1., 1., 1., 0.],\n        [1., 1., 1., 0.],\n        [0., 0., 0., 1.],\n        [1., 1., 1., 0.],\n        [1., 0., 0., 0.],\n        [1., 1., 1., 0.],\n        [1., 1., 1., 0.],\n        [1., 1., 1., 0.],\n        [1., 1., 1., 0.],\n        [1., 1., 1., 0.],\n        [1., 0., 0., 0.],\n        [1., 1., 1., 0.],\n        [1., 1., 1., 0.],\n        [1., 1., 1., 0.],\n        [0., 0., 0., 0.],\n        [1., 1., 1., 0.],\n        [1., 1., 0., 0.],\n        [1., 1., 1., 0.],\n        [1., 1., 1., 0.],\n        [1., 1., 1., 0.],\n        [1., 1., 1., 0.],\n        [1., 1., 1., 0.],\n        [1., 1., 1., 0.],\n        [1., 1., 1., 0.],\n        [1., 1., 1., 0.],\n        [1., 1., 1., 0.]], dtype=float32)>,\n <tf.Tensor: shape=(128,), dtype=float64, numpy=\n array([3.93634880e-05, 3.93634880e-05, 3.93634880e-05, 3.93634880e-05,\n        3.93634880e-05, 3.93634880e-05, 3.93634880e-05, 3.93634880e-05,\n        3.93634880e-05, 3.93634880e-05, 3.93634880e-05, 3.93634880e-05,\n        3.93634880e-05, 3.93634880e-05, 3.93634880e-05, 3.93634880e-05,\n        3.93634880e-05, 3.93634880e-05, 3.93634880e-05, 3.93634880e-05,\n        3.93634880e-05, 3.93634880e-05, 3.93634880e-05, 3.93634880e-05,\n        3.93634880e-05, 3.93634880e-05, 3.93634880e-05, 3.93634880e-05,\n        3.93634880e-05, 3.93634880e-05, 3.93634880e-05, 3.93634880e-05,\n        3.93634880e-05, 3.93634880e-05, 3.93634880e-05, 3.93634880e-05,\n        3.93634880e-05, 3.93634880e-05, 3.93634880e-05, 3.93634880e-05,\n        3.93634880e-05, 3.93634880e-05, 3.93634880e-05, 3.93634880e-05,\n        3.93634880e-05, 3.93634880e-05, 3.93634880e-05, 3.93634880e-05,\n        3.93634880e-05, 3.93634880e-05, 3.93634880e-05, 3.93634880e-05,\n        3.93634880e-05, 3.93634880e-05, 3.93634880e-05, 3.93634880e-05,\n        3.93634880e-05, 3.93634880e-05, 3.93634880e-05, 3.93634880e-05,\n        3.93634880e-05, 3.93634880e-05, 3.93634880e-05, 3.93634880e-05,\n        3.93723375e-05, 1.46481261e-05, 3.93723375e-05, 3.93723375e-05,\n        3.93723375e-05, 3.93723375e-05, 3.93723375e-05, 3.93723375e-05,\n        3.93723375e-05, 3.93723375e-05, 3.93723375e-05, 3.93723375e-05,\n        3.93723375e-05, 3.93723375e-05, 3.93723375e-05, 3.93723375e-05,\n        3.93723375e-05, 3.93723375e-05, 3.93723375e-05, 3.93723375e-05,\n        3.93723375e-05, 3.93723375e-05, 3.93723375e-05, 3.93723375e-05,\n        3.93723375e-05, 3.93723375e-05, 3.93723375e-05, 3.93723375e-05,\n        3.93723375e-05, 3.93723375e-05, 3.93723375e-05, 3.93723375e-05,\n        3.93723375e-05, 3.93723375e-05, 3.93723375e-05, 3.93723375e-05,\n        3.93723375e-05, 3.93723375e-05, 3.93723375e-05, 3.93723375e-05,\n        3.93723375e-05, 3.93723375e-05, 3.93723375e-05, 3.93723375e-05,\n        3.93723375e-05, 3.93723375e-05, 3.93723375e-05, 3.93723375e-05,\n        3.93723375e-05, 3.93723375e-05, 3.93723375e-05, 3.93723375e-05,\n        3.93723375e-05, 3.93723375e-05, 3.93723375e-05, 3.93723375e-05,\n        3.93723375e-05, 3.93723375e-05, 3.93723375e-05, 3.93723375e-05,\n        3.93723375e-05, 3.93723375e-05, 3.93723375e-05, 3.93723375e-05])>,\n <tf.Tensor: shape=(128,), dtype=int64, numpy=\n array([25722, 25722, 25722, 25722, 25722, 25722, 25722, 25722, 25722,\n        25722, 25722, 25722, 25722, 25722, 25722, 25722, 25722, 25722,\n        25722, 25722, 25722, 25722, 25722, 25722, 25722, 25722, 25722,\n        25722, 25722, 25722, 25722, 25722, 25722, 25722, 25722, 25722,\n        25722, 25722, 25722, 25722, 25722, 25722, 25722, 25722, 25722,\n        25722, 25722, 25722, 25722, 25722, 25722, 25722, 25722, 25722,\n        25722, 25722, 25722, 25722, 25722, 25722, 25722, 25722, 25722,\n        25722, 25722, 25722, 25722, 25722, 25722, 25722, 25722, 25722,\n        25722, 25722, 25722, 25722, 25722, 25722, 25722, 25722, 25722,\n        25722, 25722, 25722, 25722, 25722, 25722, 25722, 25722, 25722,\n        25722, 25722, 25722, 25722, 25722, 25722, 25722, 25722, 25722,\n        25722, 25722, 25722, 25722, 25722, 25722, 25722, 25722, 25722,\n        25722, 25722, 25722, 25722, 25722, 25722, 25722, 25722, 25722,\n        25722, 25722, 25722, 25722, 25722, 25722, 25722, 25722, 25722,\n        25722, 25722])>)"
     },
     "execution_count": 16,
     "metadata": {},
     "output_type": "execute_result"
    }
   ],
   "source": [
    "next(dataset_iterator)"
   ],
   "metadata": {
    "collapsed": false,
    "pycharm": {
     "name": "#%%\n"
    }
   }
  },
  {
   "cell_type": "code",
   "execution_count": 17,
   "outputs": [
    {
     "data": {
      "text/plain": "<TakeDataset shapes: ((3,), (None,), (1,), <unknown>, (3,), (None,), (), ()), types: (tf.float32, tf.float32, tf.float32, tf.float32, tf.float32, tf.float32, tf.float64, tf.int64)>"
     },
     "execution_count": 17,
     "metadata": {},
     "output_type": "execute_result"
    }
   ],
   "source": [
    "dataset.take(1)"
   ],
   "metadata": {
    "collapsed": false,
    "pycharm": {
     "name": "#%%\n"
    }
   }
  },
  {
   "cell_type": "code",
   "execution_count": 18,
   "outputs": [
    {
     "data": {
      "text/plain": "<tf.Tensor: shape=(), dtype=int32, numpy=12>"
     },
     "execution_count": 18,
     "metadata": {},
     "output_type": "execute_result"
    }
   ],
   "source": [
    "state_embedding_function = lambda state, label: tf.squeeze(\n",
    "        vae_mdp.binary_encode(tf.expand_dims(state, axis=0), tf.expand_dims(label, axis=0)).mode())\n",
    "generator.latent_state_size"
   ],
   "metadata": {
    "collapsed": false,
    "pycharm": {
     "name": "#%%\n"
    }
   }
  },
  {
   "cell_type": "code",
   "execution_count": 19,
   "outputs": [
    {
     "data": {
      "text/plain": "TimeStep(step_type=array([0, 0, 0, 0, 0], dtype=int32), reward=array([0., 0., 0., 0., 0.], dtype=float32), discount=array([1., 1., 1., 1., 1.], dtype=float32), observation=array([[-0.9143689 ,  0.4048821 ,  0.7941084 ],\n       [ 0.7959196 ,  0.6054023 ,  0.30485106],\n       [-0.92786896,  0.37290642,  0.5644189 ],\n       [-0.43345684, -0.9011743 ,  0.30105647],\n       [ 0.42689294, -0.9043022 , -0.6943645 ]], dtype=float32))"
     },
     "execution_count": 19,
     "metadata": {},
     "output_type": "execute_result"
    }
   ],
   "source": [
    "tf_agents.system.multiprocessing.enable_interactive_mode()\n",
    "py_env = parallel_py_environment.ParallelPyEnvironment(\n",
    "    [lambda: suite_gym.load(env_name)] * 5)\n",
    "py_env.reset()"
   ],
   "metadata": {
    "collapsed": false,
    "pycharm": {
     "name": "#%%\n"
    }
   }
  },
  {
   "cell_type": "code",
   "execution_count": 34,
   "outputs": [
    {
     "data": {
      "text/plain": "[[ReplaySample(info=SampleInfo(key=12821263594570176645, probability=8.186512466623928e-05, table_size=12861, priority=1.0), data=[array(1, dtype=int32), array([ 0.9588191 , -0.2840176 ,  0.04937043], dtype=float32), array([1.7314401], dtype=float32), array(1, dtype=int32), array(-0.08617506, dtype=float32), array(1., dtype=float32)]),\n  ReplaySample(info=SampleInfo(key=12821263594570176645, probability=8.186512466623928e-05, table_size=12861, priority=1.0), data=[array(1, dtype=int32), array([ 0.96017236, -0.27940848,  0.09607325], dtype=float32), array([1.9878347], dtype=float32), array(1, dtype=int32), array(-0.08506427, dtype=float32), array(1., dtype=float32)])],\n [ReplaySample(info=SampleInfo(key=13449431264708799662, probability=8.186512466623928e-05, table_size=12861, priority=1.0), data=[array(1, dtype=int32), array([0.96067256, 0.27768373, 0.18673047], dtype=float32), array([-1.7925342], dtype=float32), array(1, dtype=int32), array(-0.08587594, dtype=float32), array(1., dtype=float32)]),\n  ReplaySample(info=SampleInfo(key=13449431264708799662, probability=8.186512466623928e-05, table_size=12861, priority=1.0), data=[array(1, dtype=int32), array([0.9589025 , 0.28373584, 0.12611315], dtype=float32), array([-1.8994335], dtype=float32), array(1, dtype=int32), array(-0.08796259, dtype=float32), array(1., dtype=float32)])],\n [ReplaySample(info=SampleInfo(key=15750991769801508820, probability=8.021374168033775e-05, table_size=12861, priority=0.9776119402985075), data=[array(1, dtype=int32), array([ 0.9827346 , -0.18502079,  0.5333032 ], dtype=float32), array([1.9044777], dtype=float32), array(1, dtype=int32), array(-0.06669888, dtype=float32), array(1., dtype=float32)]),\n  ReplaySample(info=SampleInfo(key=15750991769801508820, probability=8.021374168033775e-05, table_size=12861, priority=0.9776119402985075), data=[array(1, dtype=int32), array([ 0.98845774, -0.15149698,  0.6802093 ], dtype=float32), array([0.6589461], dtype=float32), array(1, dtype=int32), array(-0.06983177, dtype=float32), array(1., dtype=float32)])],\n [ReplaySample(info=SampleInfo(key=9914582526316142781, probability=8.186512466623928e-05, table_size=12861, priority=1.0), data=[array(1, dtype=int32), array([ 0.9949634 ,  0.10023888, -0.4011308 ], dtype=float32), array([-1.5319697], dtype=float32), array(1, dtype=int32), array(-0.02851919, dtype=float32), array(1., dtype=float32)]),\n  ReplaySample(info=SampleInfo(key=9914582526316142781, probability=8.186512466623928e-05, table_size=12861, priority=1.0), data=[array(1, dtype=int32), array([ 0.99736434,  0.07255635, -0.5557471 ], dtype=float32), array([-0.08940696], dtype=float32), array(1, dtype=int32), array(-0.03616716, dtype=float32), array(1., dtype=float32)])],\n [ReplaySample(info=SampleInfo(key=16775732586186592241, probability=8.186512466623928e-05, table_size=12861, priority=1.0), data=[array(1, dtype=int32), array([ 0.9952731 , -0.09711567,  0.6000333 ], dtype=float32), array([0.50568575], dtype=float32), array(1, dtype=int32), array(-0.04572096, dtype=float32), array(1., dtype=float32)]),\n  ReplaySample(info=SampleInfo(key=16775732586186592241, probability=8.186512466623928e-05, table_size=12861, priority=1.0), data=[array(1, dtype=int32), array([ 0.99774855, -0.06706613,  0.6030494 ], dtype=float32), array([0.0329196], dtype=float32), array(1, dtype=int32), array(-0.04087257, dtype=float32), array(1., dtype=float32)])],\n [ReplaySample(info=SampleInfo(key=14563366202010227251, probability=8.186512466623928e-05, table_size=12861, priority=1.0), data=[array(1, dtype=int32), array([0.99009806, 0.14037743, 0.02576827], dtype=float32), array([-1.4068028], dtype=float32), array(1, dtype=int32), array(-0.02188214, dtype=float32), array(1., dtype=float32)]),\n  ReplaySample(info=SampleInfo(key=14563366202010227251, probability=8.186512466623928e-05, table_size=12861, priority=1.0), data=[array(1, dtype=int32), array([ 0.9906514 ,  0.13641746, -0.07996908], dtype=float32), array([0.90022594], dtype=float32), array(1, dtype=int32), array(-0.02017624, dtype=float32), array(1., dtype=float32)])],\n [ReplaySample(info=SampleInfo(key=12338773356302803554, probability=8.186512466623928e-05, table_size=12861, priority=1.0), data=[array(1, dtype=int32), array([-0.71765053,  0.6964034 ,  5.5627613 ], dtype=float32), array([1.9190084], dtype=float32), array(1, dtype=int32), array(-8.720794, dtype=float32), array(1., dtype=float32)]),\n  ReplaySample(info=SampleInfo(key=12338773356302803554, probability=8.186512466623928e-05, table_size=12861, priority=1.0), data=[array(1, dtype=int32), array([-0.8996942 ,  0.43652073,  6.3729153 ], dtype=float32), array([1.8884193], dtype=float32), array(1, dtype=int32), array(-11.3003435, dtype=float32), array(1., dtype=float32)])],\n [ReplaySample(info=SampleInfo(key=10077934154056335189, probability=8.186512466623928e-05, table_size=12861, priority=1.0), data=[array(1, dtype=int32), array([ 0.8524726 ,  0.52277184, -1.2962829 ], dtype=float32), array([-1.0278842], dtype=float32), array(1, dtype=int32), array(-0.4717007, dtype=float32), array(1., dtype=float32)]),\n  ReplaySample(info=SampleInfo(key=10077934154056335189, probability=8.186512466623928e-05, table_size=12861, priority=1.0), data=[array(1, dtype=int32), array([ 0.8789311,  0.4769488, -1.0583866], dtype=float32), array([0.1809283], dtype=float32), array(1, dtype=int32), array(-0.35923886, dtype=float32), array(1., dtype=float32)])]]"
     },
     "execution_count": 34,
     "metadata": {},
     "output_type": "execute_result"
    }
   ],
   "source": [
    "list(reverb_replay.py_client.sample(table_name, num_samples=8))"
   ],
   "metadata": {
    "collapsed": false,
    "pycharm": {
     "name": "#%%\n"
    }
   }
  },
  {
   "cell_type": "code",
   "execution_count": 35,
   "outputs": [
    {
     "data": {
      "text/plain": "TableInfo(name='prioritized_replay_buffer', sampler_options=prioritized {\n  priority_exponent: 0.9\n}\n, remover_options=heap {\n}\nis_deterministic: true\n, max_size=1000000, max_times_sampled=0, rate_limiter_info=samples_per_insert: 1.0\nmin_diff: -1.7976931348623157e+308\nmax_diff: 1.7976931348623157e+308\nmin_size_to_sample: 1\ninsert_stats {\n  completed: 12861\n  completed_wait_time {\n  }\n  pending_wait_time {\n  }\n}\nsample_stats {\n  completed: 3280\n  completed_wait_time {\n  }\n  pending_wait_time {\n  }\n}\n, signature=None, current_size=12861, num_episodes=1, num_deleted_episodes=0)"
     },
     "execution_count": 35,
     "metadata": {},
     "output_type": "execute_result"
    }
   ],
   "source": [
    "reverb_replay.get_table_info()"
   ],
   "metadata": {
    "collapsed": false,
    "pycharm": {
     "name": "#%%\n"
    }
   }
  },
  {
   "cell_type": "code",
   "execution_count": null,
   "outputs": [],
   "source": [
    "observer.close()"
   ],
   "metadata": {
    "collapsed": false,
    "pycharm": {
     "name": "#%%\n"
    }
   }
  },
  {
   "cell_type": "code",
   "execution_count": 6,
   "outputs": [],
   "source": [
    "reverb_server.stop()"
   ],
   "metadata": {
    "collapsed": false,
    "pycharm": {
     "name": "#%%\n"
    }
   }
  },
  {
   "cell_type": "code",
   "execution_count": null,
   "outputs": [],
   "source": [],
   "metadata": {
    "collapsed": false,
    "pycharm": {
     "name": "#%%\n"
    }
   }
  }
 ],
 "metadata": {
  "kernelspec": {
   "display_name": "Python 3",
   "language": "python",
   "name": "python3"
  },
  "language_info": {
   "codemirror_mode": {
    "name": "ipython",
    "version": 2
   },
   "file_extension": ".py",
   "mimetype": "text/x-python",
   "name": "python",
   "nbconvert_exporter": "python",
   "pygments_lexer": "ipython2",
   "version": "2.7.6"
  }
 },
 "nbformat": 4,
 "nbformat_minor": 0
}