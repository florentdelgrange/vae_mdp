{
 "cells": [
  {
   "cell_type": "code",
   "execution_count": 1,
   "metadata": {
    "collapsed": true
   },
   "outputs": [
    {
     "name": "stderr",
     "output_type": "stream",
     "text": [
      "WARNING:root:Limited tf.compat.v2.summary API due to missing TensorBoard installation.\n",
      "WARNING:root:Limited tf.compat.v2.summary API due to missing TensorBoard installation.\n",
      "WARNING:root:Limited tf.compat.v2.summary API due to missing TensorBoard installation.\n",
      "WARNING:root:Limited tf.summary API due to missing TensorBoard installation.\n",
      "WARNING:root:Limited tf.compat.v2.summary API due to missing TensorBoard installation.\n",
      "WARNING:root:Limited tf.compat.v2.summary API due to missing TensorBoard installation.\n",
      "WARNING:root:Limited tf.compat.v2.summary API due to missing TensorBoard installation.\n"
     ]
    }
   ],
   "source": [
    "import tensorflow as tf\n",
    "import reverb\n",
    "\n",
    "from tf_agents.drivers import dynamic_step_driver, py_driver\n",
    "from tf_agents.replay_buffers import reverb_replay_buffer\n",
    "from tf_agents.replay_buffers import reverb_utils\n",
    "from tf_agents.policies import py_tf_eager_policy\n",
    "\n",
    "from tf_agents.environments import suite_gym\n",
    "from tf_agents.environments import tf_py_environment, batched_py_environment"
   ]
  },
  {
   "cell_type": "code",
   "execution_count": 2,
   "outputs": [
    {
     "data": {
      "text/plain": "TimeStep(step_type=array(0, dtype=int32), reward=array(0., dtype=float32), discount=array(1., dtype=float32), observation=array([0.999547  , 0.0300953 , 0.62336147], dtype=float32))"
     },
     "execution_count": 2,
     "metadata": {},
     "output_type": "execute_result"
    }
   ],
   "source": [
    "import policies\n",
    "\n",
    "env_name = 'Pendulum-v0'\n",
    "py_env = suite_gym.load(env_name)\n",
    "py_env.reset()"
   ],
   "metadata": {
    "collapsed": false,
    "pycharm": {
     "name": "#%% Environment\n"
    }
   }
  },
  {
   "cell_type": "code",
   "execution_count": 3,
   "outputs": [],
   "source": [
    "policy_dir = '../reinforcement_learning/saves/Pendulum-v0/policy'\n",
    "policy = policies.SavedTFPolicy(policy_dir)\n",
    "# transforms policy into a py policy because reverb replay directly interacts with py_env (and not a tf_env)\n",
    "py_policy = py_tf_eager_policy.PyTFEagerPolicy(policy, use_tf_function=True)"
   ],
   "metadata": {
    "collapsed": false,
    "pycharm": {
     "name": "#%% Collect Policy\n"
    }
   }
  },
  {
   "cell_type": "code",
   "execution_count": 4,
   "outputs": [],
   "source": [
    "table_name = 'prioritized_replay_buffer'\n",
    "table = reverb.Table(\n",
    "    table_name,\n",
    "    max_size=int(1e6),\n",
    "    sampler=reverb.selectors.Prioritized(priority_exponent=0.6),\n",
    "    remover=reverb.selectors.MaxHeap(),\n",
    "    rate_limiter=reverb.rate_limiters.MinSize(1))\n",
    "\n",
    "reverb_server = reverb.Server([table])"
   ],
   "metadata": {
    "collapsed": false,
    "pycharm": {
     "name": "#%% Reverb replay buffer: server\n"
    }
   }
  },
  {
   "cell_type": "code",
   "execution_count": 5,
   "outputs": [],
   "source": [
    "reverb_replay = reverb_replay_buffer.ReverbReplayBuffer(\n",
    "    data_spec=policy.collect_data_spec,\n",
    "    sequence_length=2,\n",
    "    table_name=table_name,\n",
    "    local_server=reverb_server)"
   ],
   "metadata": {
    "collapsed": false,
    "pycharm": {
     "name": "#%% Reverb replay buffer: client\n"
    }
   }
  },
  {
   "cell_type": "code",
   "execution_count": 6,
   "outputs": [],
   "source": [
    "batch_size = 8\n",
    "\n",
    "dataset = reverb_replay.as_dataset(\n",
    "    sample_batch_size=batch_size,\n",
    "    num_steps=2,\n",
    "    num_parallel_calls=tf.data.experimental.AUTOTUNE)\n",
    "\n",
    "dataset_iterator = iter(dataset)"
   ],
   "metadata": {
    "collapsed": false,
    "pycharm": {
     "name": "#%% Reverb replay buffer: dataset\n"
    }
   }
  },
  {
   "cell_type": "code",
   "execution_count": 7,
   "outputs": [],
   "source": [
    "observer = reverb_utils.ReverbTrajectorySequenceObserver(\n",
    "    py_client=reverb_replay.py_client,\n",
    "    table_name=table_name,\n",
    "    sequence_length=2,\n",
    "    stride_length=1,)"
   ],
   "metadata": {
    "collapsed": false,
    "pycharm": {
     "name": "#%% Reverb replay buffer: add item observer\n"
    }
   }
  },
  {
   "cell_type": "code",
   "execution_count": 8,
   "outputs": [],
   "source": [
    "num_steps = 1280\n",
    "driver = py_driver.PyDriver(\n",
    "    env=py_env, policy=py_policy, observers=[observer], max_steps=num_steps,)"
   ],
   "metadata": {
    "collapsed": false,
    "pycharm": {
     "name": "#%% (py) Driver\n"
    }
   }
  },
  {
   "cell_type": "code",
   "execution_count": 9,
   "outputs": [
    {
     "data": {
      "text/plain": "(TimeStep(step_type=array(1, dtype=int32), reward=array(-0.08640341, dtype=float32), discount=array(1., dtype=float32), observation=array([ 0.95845556, -0.28524184,  0.00667524], dtype=float32)),\n ())"
     },
     "execution_count": 9,
     "metadata": {},
     "output_type": "execute_result"
    }
   ],
   "source": [
    "driver.run(py_env.reset())"
   ],
   "metadata": {
    "collapsed": false,
    "pycharm": {
     "name": "#%% run\n"
    }
   }
  },
  {
   "cell_type": "code",
   "execution_count": 20,
   "outputs": [],
   "source": [
    "traj = next(dataset_iterator)"
   ],
   "metadata": {
    "collapsed": false,
    "pycharm": {
     "name": "#%%\n"
    }
   }
  },
  {
   "cell_type": "code",
   "execution_count": 28,
   "outputs": [],
   "source": [
    "reverb_replay.update_priorities(traj[1].key[..., 0], 1./3 * tf.ones(shape=(8,), dtype=tf.float64))"
   ],
   "metadata": {
    "collapsed": false,
    "pycharm": {
     "name": "#%%\n"
    }
   }
  },
  {
   "cell_type": "code",
   "execution_count": 26,
   "outputs": [
    {
     "name": "stdout",
     "output_type": "stream",
     "text": [
      "tf.Tensor(\n",
      "[  535561011561748336  6660948364819225248  2863702704173667460\n",
      "  7855816775213045753 11241696028115428654  6754368979020631321\n",
      "  8903915521695998471   430297716918194926], shape=(8,), dtype=uint64)\n",
      "tf.Tensor(\n",
      "[0.33333333 0.33333333 0.33333333 0.33333333 0.33333333 0.33333333\n",
      " 0.33333333 0.33333333], shape=(8,), dtype=float64)\n"
     ]
    }
   ],
   "source": [
    "print(traj[1].key[..., 0])\n",
    "print(1./3 * tf.ones(shape=(8,), dtype=tf.float64))"
   ],
   "metadata": {
    "collapsed": false,
    "pycharm": {
     "name": "#%%\n"
    }
   }
  },
  {
   "cell_type": "code",
   "execution_count": 54,
   "outputs": [
    {
     "data": {
      "text/plain": "(Trajectory(step_type=<tf.Tensor: shape=(8, 2), dtype=int32, numpy=\n array([[1, 1],\n        [1, 1],\n        [1, 1],\n        [1, 1],\n        [1, 1],\n        [1, 1],\n        [1, 1],\n        [1, 1]], dtype=int32)>, observation=<tf.Tensor: shape=(8, 2, 3), dtype=float32, numpy=\n array([[[ 0.9800823 ,  0.1985919 ,  0.41112426],\n         [ 0.97654444,  0.21531594,  0.34188697]],\n \n        [[ 0.9626323 ,  0.27081192,  0.09548815],\n         [ 0.96210617,  0.27267516,  0.03872208]],\n \n        [[ 0.9609107 , -0.27685857,  0.08212221],\n         [ 0.96312565, -0.2690521 ,  0.16229314]],\n \n        [[ 0.9641903 ,  0.26521143, -0.11068436],\n         [ 0.96638525,  0.25709826, -0.16809733]],\n \n        [[ 0.96336776, -0.2681838 , -0.20709708],\n         [ 0.96117985, -0.27592254, -0.16084154]],\n \n        [[ 0.9991272 , -0.04177071,  0.5775303 ],\n         [ 0.9998886 , -0.01492673,  0.53711176]],\n \n        [[ 0.96020067,  0.279311  ,  0.20772548],\n         [ 0.9572971 ,  0.28910595,  0.20432597]],\n \n        [[ 0.9674589 , -0.25302824,  0.5380803 ],\n         [ 0.9729377 , -0.23106748,  0.45268777]]], dtype=float32)>, action=<tf.Tensor: shape=(8, 2, 1), dtype=float32, numpy=\n array([[[-1.4545413 ],\n         [-1.5127177 ]],\n \n        [[-1.7325001 ],\n         [-1.916863  ]],\n \n        [[ 1.9187657 ],\n         [ 1.7802999 ]],\n \n        [[-1.7088103 ],\n         [-1.8537762 ]],\n \n        [[ 1.6492894 ],\n         [ 1.5887573 ]],\n \n        [[-0.06060362],\n         [ 0.18169858]],\n \n        [[-1.4192184 ],\n         [-1.8937231 ]],\n \n        [[ 0.69585806],\n         [ 1.8627852 ]]], dtype=float32)>, policy_info=(), next_step_type=<tf.Tensor: shape=(8, 2), dtype=int32, numpy=\n array([[1, 1],\n        [1, 1],\n        [1, 1],\n        [1, 1],\n        [1, 1],\n        [1, 1],\n        [1, 1],\n        [1, 1]], dtype=int32)>, reward=<tf.Tensor: shape=(8, 2), dtype=float32, numpy=\n array([[-0.05898641, -0.06107264],\n        [-0.07911894, -0.08009554],\n        [-0.08304941, -0.08000986],\n        [-0.07619615, -0.07387169],\n        [-0.08072528, -0.08325899],\n        [-0.03510361, -0.02910474],\n        [-0.08646147, -0.09378175],\n        [-0.09487554, -0.07833304]], dtype=float32)>, discount=<tf.Tensor: shape=(8, 2), dtype=float32, numpy=\n array([[1., 1.],\n        [1., 1.],\n        [1., 1.],\n        [1., 1.],\n        [1., 1.],\n        [1., 1.],\n        [1., 1.],\n        [1., 1.]], dtype=float32)>),\n SampleInfo(key=<tf.Tensor: shape=(8, 2), dtype=uint64, numpy=\n array([[ 4305263739966682040,  4305263739966682040],\n        [ 5415004786421359824,  5415004786421359824],\n        [ 8491244948369759500,  8491244948369759500],\n        [ 4150260675778855737,  4150260675778855737],\n        [11285638066817570619, 11285638066817570619],\n        [ 6894839165670519024,  6894839165670519024],\n        [ 6241884802874373974,  6241884802874373974],\n        [13590119162626489313, 13590119162626489313]], dtype=uint64)>, probability=<tf.Tensor: shape=(8, 2), dtype=float64, numpy=\n array([[0.00077821, 0.00077821],\n        [0.00077821, 0.00077821],\n        [0.00077821, 0.00077821],\n        [0.00077821, 0.00077821],\n        [0.00077821, 0.00077821],\n        [0.00077821, 0.00077821],\n        [0.00077821, 0.00077821],\n        [0.00077821, 0.00077821]])>, table_size=<tf.Tensor: shape=(8, 2), dtype=int64, numpy=\n array([[1285, 1285],\n        [1285, 1285],\n        [1285, 1285],\n        [1285, 1285],\n        [1285, 1285],\n        [1285, 1285],\n        [1285, 1285],\n        [1285, 1285]])>, priority=<tf.Tensor: shape=(8, 2), dtype=float64, numpy=\n array([[1., 1.],\n        [1., 1.],\n        [1., 1.],\n        [1., 1.],\n        [1., 1.],\n        [1., 1.],\n        [1., 1.],\n        [1., 1.]])>))"
     },
     "execution_count": 54,
     "metadata": {},
     "output_type": "execute_result"
    }
   ],
   "source": [
    "next(dataset_iterator)\n"
   ],
   "metadata": {
    "collapsed": false,
    "pycharm": {
     "name": "#%%\n"
    }
   }
  },
  {
   "cell_type": "code",
   "execution_count": null,
   "outputs": [],
   "source": [],
   "metadata": {
    "collapsed": false,
    "pycharm": {
     "name": "#%%\n"
    }
   }
  }
 ],
 "metadata": {
  "kernelspec": {
   "display_name": "Python 3",
   "language": "python",
   "name": "python3"
  },
  "language_info": {
   "codemirror_mode": {
    "name": "ipython",
    "version": 2
   },
   "file_extension": ".py",
   "mimetype": "text/x-python",
   "name": "python",
   "nbconvert_exporter": "python",
   "pygments_lexer": "ipython2",
   "version": "2.7.6"
  }
 },
 "nbformat": 4,
 "nbformat_minor": 0
}