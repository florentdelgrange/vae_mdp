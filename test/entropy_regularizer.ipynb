{
 "cells": [
  {
   "cell_type": "code",
   "execution_count": 1,
   "metadata": {},
   "outputs": [],
   "source": [
    "import tensorflow as tf\n",
    "import tensorflow_probability as tfp\n",
    "tfd = tfp.distributions\n",
    "import numpy as np"
   ]
  },
  {
   "cell_type": "code",
   "execution_count": 2,
   "metadata": {
    "pycharm": {
     "name": "#%%\n"
    }
   },
   "outputs": [
    {
     "data": {
      "text/plain": [
       "<tf.Tensor: shape=(5, 6), dtype=float32, numpy=\n",
       "array([[0.95227146, 0.67740774, 0.79531825, 0.75578177, 0.4759556 ,\n",
       "        0.6310148 ],\n",
       "       [0.18602037, 0.11430776, 0.3362218 , 0.723335  , 0.21919966,\n",
       "        0.8573376 ],\n",
       "       [0.82392037, 0.59541273, 0.00296271, 0.24725473, 0.5060741 ,\n",
       "        0.36158872],\n",
       "       [0.04483843, 0.97216606, 0.82838845, 0.41458404, 0.601666  ,\n",
       "        0.33958685],\n",
       "       [0.5731027 , 0.23625553, 0.67478454, 0.00732017, 0.02091265,\n",
       "        0.9618796 ]], dtype=float32)>"
      ]
     },
     "execution_count": 2,
     "metadata": {},
     "output_type": "execute_result"
    }
   ],
   "source": [
    "logits = tf.random.uniform(minval=0, maxval=1, seed=42, shape=(5, 6))\n",
    "logits"
   ]
  },
  {
   "cell_type": "code",
   "execution_count": null,
   "metadata": {
    "pycharm": {
     "name": "#%%\n"
    }
   },
   "outputs": [],
   "source": [
    "Q_marginal = tfd.MixtureSameFamily(\n",
    "mixture_distribution=tfd.Categorical(logits=tf.zeros(tf.shape(logits)[0])),\n",
    "    components_distribution=tfd.RelaxedBernoulli(logits=tf.transpose(logits),\n",
    "                                                 temperature=1e-5)\n",
    ")\n",
    "Q_marginal"
   ]
  },
  {
   "cell_type": "code",
   "execution_count": null,
   "metadata": {
    "pycharm": {
     "name": "#%%\n"
    }
   },
   "outputs": [],
   "source": [
    "x = Q_marginal.sample(512)\n",
    "x = tf.clip_by_value(x, 1e-7, 1.-1e-7)\n",
    "tf.reduce_mean(-1. * tf.reduce_sum(Q_marginal.log_prob(x), axis=1))\n"
   ]
  },
  {
   "cell_type": "code",
   "execution_count": null,
   "metadata": {
    "pycharm": {
     "name": "#%%\n"
    }
   },
   "outputs": [],
   "source": [
    "tf.reduce_mean(-1. * Q_marginal.log_prob(x))"
   ]
  },
  {
   "cell_type": "code",
   "execution_count": null,
   "metadata": {
    "pycharm": {
     "name": "#%%\n"
    }
   },
   "outputs": [],
   "source": [
    "tfd.RelaxedBernoulli(logits=logits[0], temperature=1e-5).sample(5)"
   ]
  },
  {
   "cell_type": "code",
   "execution_count": null,
   "metadata": {
    "pycharm": {
     "name": "#%%\n"
    }
   },
   "outputs": [],
   "source": [
    "tf.reshape(tf.repeat(tf.one_hot(tf.range(5), 5), 4, axis=0), shape=(5, 4, 5))"
   ]
  },
  {
   "cell_type": "code",
   "execution_count": null,
   "metadata": {
    "pycharm": {
     "name": "#%%\n"
    }
   },
   "outputs": [],
   "source": [
    "logits = tf.random.uniform(shape=(4, 6))"
   ]
  },
  {
   "cell_type": "code",
   "execution_count": null,
   "metadata": {
    "pycharm": {
     "name": "#%%\n"
    }
   },
   "outputs": [],
   "source": [
    "tf.stack([logits] * 5)"
   ]
  },
  {
   "cell_type": "code",
   "execution_count": null,
   "metadata": {
    "pycharm": {
     "name": "#%%\n"
    }
   },
   "outputs": [],
   "source": [
    "tf.stack([tf.one_hot(tf.range(5), 5)] * 5)"
   ]
  },
  {
   "cell_type": "code",
   "execution_count": null,
   "metadata": {
    "pycharm": {
     "name": "#%%\n"
    }
   },
   "outputs": [],
   "source": [
    "tf.reshape(tf.repeat(tf.expand_dims(tf.one_hot(2, 5), axis=0), 3, axis=0), shape=(3, 5))"
   ]
  },
  {
   "cell_type": "code",
   "execution_count": null,
   "metadata": {
    "pycharm": {
     "name": "#%%\n"
    }
   },
   "outputs": [],
   "source": [
    "tf.stack([tf.one_hot(2, 5)] * 3)"
   ]
  },
  {
   "cell_type": "code",
   "execution_count": null,
   "metadata": {
    "pycharm": {
     "name": "#%%\n"
    }
   },
   "outputs": [],
   "source": [
    "latent_state_size = 3\n",
    "batch_size = 6\n",
    "action_size = 2\n",
    "\n",
    "action = tf.random.uniform(\n",
    "    shape=(batch_size, ), minval=0, maxval=action_size, dtype=tf.int32, seed=42)\n",
    "action = tf.one_hot(action, action_size)\n",
    "\n",
    "latent_states_logits = []\n",
    "for _ in range(action_size):\n",
    "    latent_states_logits.append(\n",
    "        tf.random.uniform(shape=(batch_size, latent_state_size), seed=42))\n",
    "# latent_states_stack = tf.stack(latent_states_logits, axis=1)\n",
    "\n",
    "latent_states_stack = tf.random.uniform(shape=(batch_size, action_size, latent_state_size))\n",
    "action_expand_dims = tf.expand_dims(action, -1)\n",
    "action_tile = tf.tile(action_expand_dims, (1, 1, latent_state_size))\n",
    "mult = action_tile * latent_states_stack\n",
    "latent_states = tf.reduce_sum(mult, axis=1)\n",
    "\n",
    "print(\"action\", action)\n",
    "print(\"latent_states_stack\", latent_states_stack)\n",
    "print(\"action_tile\", action_tile)\n",
    "print(\"mult\", mult)\n",
    "print(latent_states)"
   ]
  },
  {
   "cell_type": "code",
   "execution_count": null,
   "metadata": {
    "pycharm": {
     "name": "#%%\n"
    }
   },
   "outputs": [],
   "source": [
    "print(tf.tile(action_expand_dims, (1, 1, latent_state_size)))\n",
    "print(tf.reshape(tf.repeat(action_expand_dims, latent_state_size), shape=(batch_size, action_size, latent_state_size)))\n",
    "print(tf.repeat(action_expand_dims, latent_state_size, axis=-1))"
   ]
  },
  {
   "cell_type": "code",
   "execution_count": null,
   "metadata": {
    "pycharm": {
     "name": "#%%\n"
    }
   },
   "outputs": [],
   "source": [
    "layers = []\n",
    "# layers.append(tf.keras.layers.Lambda(lambda x: tf.expand_dims(x, -1)))\n",
    "layers.append(tf.keras.layers.RepeatVector(latent_state_size))\n",
    "layers.append(tf.keras.layers.Permute(dims=(2, 1)))\n",
    "sequential = tf.keras.Sequential(layers)\n",
    "sequential(action)"
   ]
  },
  {
   "cell_type": "code",
   "execution_count": null,
   "metadata": {
    "pycharm": {
     "name": "#%%\n"
    }
   },
   "outputs": [],
   "source": [
    "labels_logits = tf.random.uniform(shape=(8, 3))\n",
    "latent_states_logits = tf.random.uniform(shape=(8, 7))\n",
    "joint_distribution = tfd.JointDistributionSequential(\n",
    "    [\n",
    "        tfd.Independent(tfd.Bernoulli(logits=labels_logits, dtype=tf.float32)),\n",
    "        lambda l: tfd.Independent(\n",
    "            tfd.Logistic(loc=tf.concat([latent_states_logits, l], axis=-1) / 0.5,\n",
    "                               scale=1. / 0.5))\n",
    "    ], validate_args=True\n",
    ")\n",
    "samples = joint_distribution.sample()\n",
    "samples"
   ]
  },
  {
   "cell_type": "code",
   "execution_count": null,
   "metadata": {
    "pycharm": {
     "name": "#%%\n"
    }
   },
   "outputs": [],
   "source": [
    "next_label = tf.round(tf.random.uniform(shape=(8, 3), maxval=1, dtype=tf.float32))\n",
    "next_latent_state = tf.random.uniform(shape=(8, 10))\n",
    "next_label, next_latent_state"
   ]
  },
  {
   "cell_type": "code",
   "execution_count": null,
   "metadata": {
    "pycharm": {
     "name": "#%%\n"
    }
   },
   "outputs": [],
   "source": [
    "joint_distribution.log_prob(samples)"
   ]
  },
  {
   "cell_type": "code",
   "execution_count": null,
   "metadata": {
    "pycharm": {
     "name": "#%%\n"
    }
   },
   "outputs": [],
   "source": [
    "joint_distribution.log_prob_parts(samples)"
   ]
  },
  {
   "cell_type": "code",
   "execution_count": null,
   "metadata": {
    "pycharm": {
     "name": "#%%\n"
    }
   },
   "outputs": [],
   "source": [
    "tfd.Independent(tfd.Bernoulli(logits=labels_logits, dtype=tf.float32)).kl_divergence(\n",
    "    tfd.Independent(tfd.Bernoulli(logits=labels_logits/3., dtype=tf.float32)),\n",
    ")"
   ]
  },
  {
   "cell_type": "code",
   "execution_count": null,
   "metadata": {
    "pycharm": {
     "name": "#%%\n"
    }
   },
   "outputs": [],
   "source": [
    "d = tfd.Independent(tfd.Bernoulli(logits=labels_logits, dtype=tf.float32))\n",
    "d.log_prob(samples[0])"
   ]
  },
  {
   "cell_type": "code",
   "execution_count": null,
   "metadata": {
    "pycharm": {
     "name": "#%%\n"
    }
   },
   "outputs": [],
   "source": [
    "latent_states_logits = tf.random.uniform(shape=(2, 5))\n",
    "print(latent_states_logits)\n",
    "tf.tile(tf.expand_dims(latent_states_logits, axis=0), [2, 1, 1])"
   ]
  },
  {
   "cell_type": "code",
   "execution_count": null,
   "metadata": {
    "pycharm": {
     "name": "#%%\n"
    }
   },
   "outputs": [],
   "source": [
    "logits = tf.random.uniform(shape=(8, 5, 2))\n",
    "print(logits)\n",
    "print(tf.transpose(logits, perm=[0, 2, 1]))"
   ]
  },
  {
   "cell_type": "code",
   "execution_count": null,
   "metadata": {
    "pycharm": {
     "name": "#%%\n"
    }
   },
   "outputs": [],
   "source": [
    "tfd.Independent(tfd.Bernoulli(logits=tf.transpose(logits, perm=[0, 2, 1])), reinterpreted_batch_ndims=1)"
   ]
  },
  {
   "cell_type": "code",
   "execution_count": null,
   "metadata": {
    "pycharm": {
     "name": "#%%\n"
    }
   },
   "outputs": [],
   "source": [
    "np.unpackbits(np.array([[1, 3, 5, 256]], np.uint8)).reshape(-1, 16)"
   ]
  },
  {
   "cell_type": "code",
   "execution_count": 11,
   "metadata": {
    "pycharm": {
     "name": "#%%\n"
    }
   },
   "outputs": [
    {
     "data": {
      "text/plain": [
       "<tf.Tensor: shape=(4096, 12), dtype=int32, numpy=\n",
       "array([[0, 0, 0, ..., 0, 0, 0],\n",
       "       [1, 0, 0, ..., 0, 0, 0],\n",
       "       [0, 1, 0, ..., 0, 0, 0],\n",
       "       ...,\n",
       "       [1, 0, 1, ..., 1, 1, 1],\n",
       "       [0, 1, 1, ..., 1, 1, 1],\n",
       "       [1, 1, 1, ..., 1, 1, 1]], dtype=int32)>"
      ]
     },
     "execution_count": 11,
     "metadata": {},
     "output_type": "execute_result"
    }
   ],
   "source": [
    "x = tf.range(2**12)\n",
    "latent_state_size = 12\n",
    "tf.map_fn(lambda n: (n // 2 ** tf.range(latent_state_size)) % 2, x)\n",
    "# print(tf.reduce_sum(_x * 2**tf.range(12), axis=-1))"
   ]
  },
  {
   "cell_type": "code",
   "execution_count": 2,
   "metadata": {
    "pycharm": {
     "name": "#%%\n"
    }
   },
   "outputs": [
    {
     "name": "stdout",
     "output_type": "stream",
     "text": [
      "tf.Tensor([3 3 2 2 2 2 2 3 3], shape=(9,), dtype=int32) tf.Tensor([0 0 0 0 0 1 0 1 1], shape=(9,), dtype=int32) tf.Tensor([1 1 2 1 2 4 2 5 3], shape=(9,), dtype=int32)\n"
     ]
    }
   ],
   "source": [
    "states =      tf.constant([3, 3, 2, 2, 2, 2, 2, 3, 3])\n",
    "actions =     tf.constant([0, 0, 0, 0, 0, 1, 0, 1, 1])\n",
    "next_states = tf.constant([1, 1, 2, 1, 2, 4, 2, 5, 3])\n",
    "print(states, actions, next_states)"
   ]
  },
  {
   "cell_type": "code",
   "execution_count": 3,
   "metadata": {
    "pycharm": {
     "name": "#%%\n"
    }
   },
   "outputs": [
    {
     "name": "stdout",
     "output_type": "stream",
     "text": [
      "tf.Tensor([37 37 26 25 26 34 26 47 45], shape=(9,), dtype=int32)\n",
      "tf.Tensor([37 26 25 34 47 45], shape=(6,), dtype=int32)\n",
      "tf.Tensor([2 3 1 1 1 1], shape=(6,), dtype=int32)\n"
     ]
    }
   ],
   "source": [
    "num_states = 6\n",
    "num_actions = 2\n",
    "\n",
    "_transitions = (states * num_actions * num_states +  # index of the state group\n",
    "               actions * num_states +  # index of the action group\n",
    "               next_states)  # index of the next state\n",
    "print(_transitions)\n",
    "transitions, _, count = tf.unique_with_counts(_transitions)\n",
    "\n",
    "print(transitions)\n",
    "print(count)"
   ]
  },
  {
   "cell_type": "code",
   "execution_count": 4,
   "metadata": {
    "pycharm": {
     "name": "#%%\n"
    }
   },
   "outputs": [
    {
     "name": "stdout",
     "output_type": "stream",
     "text": [
      "tf.Tensor([6 4 5 7], shape=(4,), dtype=int32)\n",
      "tf.Tensor([0 1 1 2 3 3], shape=(6,), dtype=int32)\n",
      "tf.Tensor([2 4 1 2], shape=(4,), dtype=int32)\n"
     ]
    }
   ],
   "source": [
    "_, idx, _ = tf.unique_with_counts(transitions // num_states)\n",
    "e, _, state_action_pairs_count = tf.unique_with_counts(_transitions // num_states)\n",
    "print(e)\n",
    "print(idx)\n",
    "print(state_action_pairs_count)"
   ]
  },
  {
   "cell_type": "code",
   "execution_count": 5,
   "metadata": {
    "pycharm": {
     "name": "#%%\n"
    }
   },
   "outputs": [
    {
     "name": "stdout",
     "output_type": "stream",
     "text": [
      "tf.Tensor([3 3 2 2 2 2 2 3 3], shape=(9,), dtype=int32)\n",
      "tf.Tensor([0 0 0 0 0 1 0 1 1], shape=(9,), dtype=int32)\n",
      "tf.Tensor([1 1 2 1 2 4 2 5 3], shape=(9,), dtype=int32)\n",
      "tf.Tensor(\n",
      "[[3 0 1]\n",
      " [2 0 2]\n",
      " [2 0 1]\n",
      " [2 1 4]\n",
      " [3 1 5]\n",
      " [3 1 3]], shape=(6, 3), dtype=int32)\n",
      "tf.Tensor([2 3 1 1 1 1], shape=(6,), dtype=int32)\n"
     ]
    }
   ],
   "source": [
    "new_transitions = tf.stack([transitions // (num_states * num_actions),\n",
    "                            (transitions // num_states) % num_actions,\n",
    "                            transitions % num_states],\n",
    "                           axis=-1)\n",
    "print(states)\n",
    "print(actions)\n",
    "print(next_states)\n",
    "print(new_transitions)\n",
    "print(count)"
   ]
  },
  {
   "cell_type": "code",
   "execution_count": 6,
   "metadata": {
    "pycharm": {
     "name": "#%%\n"
    }
   },
   "outputs": [
    {
     "name": "stdout",
     "output_type": "stream",
     "text": [
      "SparseTensor(indices=tf.Tensor(\n",
      "[[2 0 1]\n",
      " [2 0 2]\n",
      " [2 1 4]\n",
      " [3 0 1]\n",
      " [3 1 3]\n",
      " [3 1 5]], shape=(6, 3), dtype=int64), values=tf.Tensor([1. 3. 1. 2. 1. 1.], shape=(6,), dtype=float32), dense_shape=tf.Tensor([6 2 6], shape=(3,), dtype=int64))\n"
     ]
    }
   ],
   "source": [
    "sparse_transitions_count = tf.sparse.SparseTensor(\n",
    "    indices=tf.cast(new_transitions, dtype=tf.int64),\n",
    "    values=tf.cast(count, tf.float32),\n",
    "    dense_shape=[num_states, num_actions, num_states])\n",
    "sparse_transitions_count = tf.sparse.reorder(sparse_transitions_count)\n",
    "print(sparse_transitions_count)"
   ]
  },
  {
   "cell_type": "code",
   "execution_count": 7,
   "metadata": {
    "pycharm": {
     "name": "#%%\n"
    }
   },
   "outputs": [
    {
     "name": "stdout",
     "output_type": "stream",
     "text": [
      "SparseTensor(indices=tf.Tensor(\n",
      "[[2 0]\n",
      " [2 1]\n",
      " [3 0]\n",
      " [3 1]], shape=(4, 2), dtype=int64), values=tf.Tensor([4. 1. 2. 2.], shape=(4,), dtype=float32), dense_shape=tf.Tensor([6 2], shape=(2,), dtype=int64))\n"
     ]
    }
   ],
   "source": [
    "sparse_count = tf.sparse.reduce_sum(sparse_transitions_count, axis=-1, output_is_sparse=True)\n",
    "print(sparse_count)\n"
   ]
  },
  {
   "cell_type": "code",
   "execution_count": 8,
   "metadata": {},
   "outputs": [
    {
     "name": "stdout",
     "output_type": "stream",
     "text": [
      "sparse_count\n",
      " [[2 0]\n",
      " [2 1]\n",
      " [3 0]\n",
      " [3 1]]\n",
      "transition_count\n",
      " [[2 0]\n",
      " [2 0]\n",
      " [2 1]\n",
      " [3 0]\n",
      " [3 1]\n",
      " [3 1]]\n"
     ]
    }
   ],
   "source": [
    "tf.print('sparse_count\\n', sparse_count.indices)\n",
    "tf.print('transition_count\\n', sparse_transitions_count.indices[..., :-1])"
   ]
  },
  {
   "cell_type": "code",
   "execution_count": 9,
   "metadata": {},
   "outputs": [
    {
     "name": "stdout",
     "output_type": "stream",
     "text": [
      "<i= 0 , j= 0 > :  [2 0] [2 0]\n",
      "   [2 0] == [2 0]\n",
      "     1 / 4 = 0.25\n",
      "<i= 1 , j= 0 > :  [2 0] [2 0]\n",
      "   [2 0] == [2 0]\n",
      "     3 / 4 = 0.75\n",
      "<i= 2 , j= 0 > :  [2 1] [2 0]\n",
      "<i= 2 , j= 1 > :  [2 1] [2 1]\n",
      "   [2 1] == [2 1]\n",
      "     1 / 1 = 1\n",
      "<i= 3 , j= 1 > :  [3 0] [2 1]\n",
      "<i= 3 , j= 2 > :  [3 0] [3 0]\n",
      "   [3 0] == [3 0]\n",
      "     2 / 2 = 1\n",
      "<i= 4 , j= 2 > :  [3 1] [3 0]\n",
      "<i= 4 , j= 3 > :  [3 1] [3 1]\n",
      "   [3 1] == [3 1]\n",
      "     1 / 2 = 0.5\n",
      "<i= 5 , j= 3 > :  [3 1] [3 1]\n",
      "   [3 1] == [3 1]\n",
      "     1 / 2 = 0.5\n"
     ]
    }
   ],
   "source": [
    "probs = tf.Variable(tf.cast(sparse_transitions_count.values, dtype=tf.float32), trainable=False)\n",
    "indices = sparse_transitions_count.indices[..., :-1]\n",
    "i = tf.Variable(0, trainable=False)\n",
    "j = tf.Variable(0, trainable=False)\n",
    "while i < tf.shape(probs)[0]:\n",
    "    tf.print('<i=', i, ', j=', j, '> : ', indices[i], sparse_count.indices[j])\n",
    "    if tf.reduce_all(indices[i] == sparse_count.indices[j], axis=-1):\n",
    "        tf.print('  ', indices[i], '==', sparse_count.indices[j])\n",
    "        tf.print('    ', sparse_transitions_count.values[i], '/', sparse_count.values[j], '=',\n",
    "              sparse_transitions_count.values[i] / sparse_count.values[j])\n",
    "        probs[i].assign(sparse_transitions_count.values[i] / sparse_count.values[j])\n",
    "        i.assign_add(1)\n",
    "    else:\n",
    "        j.assign_add(1)  # works only if indices are ordered\n"
   ]
  },
  {
   "cell_type": "code",
   "execution_count": 10,
   "metadata": {},
   "outputs": [
    {
     "data": {
      "text/plain": [
       "<tf.Variable 'Variable:0' shape=(6,) dtype=float32, numpy=array([0.25, 0.75, 1.  , 1.  , 0.5 , 0.5 ], dtype=float32)>"
      ]
     },
     "execution_count": 10,
     "metadata": {},
     "output_type": "execute_result"
    }
   ],
   "source": [
    "probs"
   ]
  },
  {
   "cell_type": "code",
   "execution_count": 9,
   "metadata": {
    "pycharm": {
     "name": "#%%\n"
    }
   },
   "outputs": [],
   "source": [
    "probs = tf.reduce_sum(\n",
    "    tf.map_fn(\n",
    "        fn=lambda _x: tf.where(\n",
    "            condition=tf.reduce_all(sparse_transitions_count.indices[..., :-1] == _x[0], axis=-1),\n",
    "            x=sparse_transitions_count.values / _x[1],\n",
    "            y=tf.zeros(tf.shape(sparse_transitions_count.values))),\n",
    "        elems=(sparse_count.indices, sparse_count.values),\n",
    "        dtype=tf.float32),\n",
    "    axis=0)"
   ]
  },
  {
   "cell_type": "code",
   "execution_count": 10,
   "metadata": {},
   "outputs": [
    {
     "data": {
      "text/plain": [
       "<tf.Tensor: shape=(6,), dtype=float32, numpy=array([0.25, 0.75, 1.  , 1.  , 0.5 , 0.5 ], dtype=float32)>"
      ]
     },
     "execution_count": 10,
     "metadata": {},
     "output_type": "execute_result"
    }
   ],
   "source": [
    "probs"
   ]
  },
  {
   "cell_type": "code",
   "execution_count": 13,
   "metadata": {
    "pycharm": {
     "name": "#%%\n"
    }
   },
   "outputs": [
    {
     "name": "stdout",
     "output_type": "stream",
     "text": [
      "SparseTensor(indices=tf.Tensor(\n",
      "[[2 0 1]\n",
      " [2 0 2]\n",
      " [2 1 4]\n",
      " [3 0 1]\n",
      " [3 1 3]\n",
      " [3 1 5]], shape=(6, 3), dtype=int64), values=tf.Tensor([0.25 0.75 1.   1.   0.5  0.5 ], shape=(6,), dtype=float32), dense_shape=tf.Tensor([6 2 6], shape=(3,), dtype=int64))\n"
     ]
    }
   ],
   "source": [
    "sparse_transition_probs = tf.sparse.reorder(\n",
    "    tf.sparse.SparseTensor(\n",
    "        indices=sparse_transitions_count.indices,\n",
    "        values=probs,\n",
    "        dense_shape=sparse_transitions_count.dense_shape))\n",
    "print(sparse_transition_probs)"
   ]
  },
  {
   "cell_type": "code",
   "execution_count": 61,
   "metadata": {
    "pycharm": {
     "name": "#%%\n"
    }
   },
   "outputs": [
    {
     "name": "stdout",
     "output_type": "stream",
     "text": [
      "SparseTensor(indices=tf.Tensor(\n",
      "[[0 0 1]\n",
      " [0 0 2]], shape=(2, 3), dtype=int64), values=tf.Tensor([0.25 0.75], shape=(2,), dtype=float32), dense_shape=tf.Tensor([1 1 6], shape=(3,), dtype=int64))\n"
     ]
    }
   ],
   "source": [
    "print(tf.sparse.slice(sparse_transition_probs, [2, 0, 0], [1, 1, num_states]))"
   ]
  },
  {
   "cell_type": "code",
   "execution_count": 60,
   "metadata": {},
   "outputs": [
    {
     "data": {
      "text/plain": [
       "<tf.Tensor: shape=(), dtype=int32, numpy=0>"
      ]
     },
     "execution_count": 60,
     "metadata": {},
     "output_type": "execute_result"
    }
   ],
   "source": [
    "tf.size(tf.sparse.slice(sparse_transition_probs, [1, 0, 0], [1, 1, num_states]).values)"
   ]
  },
  {
   "cell_type": "code",
   "execution_count": 50,
   "metadata": {},
   "outputs": [
    {
     "name": "stdout",
     "output_type": "stream",
     "text": [
      "SparseTensor(indices=tf.Tensor(\n",
      "[[0 0 0]\n",
      " [0 0 1]\n",
      " [0 1 3]], shape=(3, 3), dtype=int64), values=tf.Tensor([0.25 0.75 1.  ], shape=(3,), dtype=float32), dense_shape=tf.Tensor([1 2 5], shape=(3,), dtype=int64))\n"
     ]
    }
   ],
   "source": [
    "print(tf.sparse.slice(sparse_transition_probs, [2, 0, 1], [1, num_actions, num_states]))"
   ]
  },
  {
   "cell_type": "code",
   "execution_count": 41,
   "metadata": {},
   "outputs": [
    {
     "name": "stdout",
     "output_type": "stream",
     "text": [
      "SparseTensor(indices=tf.Tensor(\n",
      "[[2]\n",
      " [3]], shape=(2, 1), dtype=int64), values=tf.Tensor([2. 2.], shape=(2,), dtype=float32), dense_shape=tf.Tensor([6], shape=(1,), dtype=int64))\n"
     ]
    }
   ],
   "source": [
    "print(tf.sparse.reduce_sum(sparse_transition_probs, axis=[1, 2], output_is_sparse=True))"
   ]
  },
  {
   "cell_type": "code",
   "execution_count": 43,
   "metadata": {},
   "outputs": [
    {
     "data": {
      "text/plain": [
       "<tf.Tensor: shape=(2,), dtype=int64, numpy=array([2, 3])>"
      ]
     },
     "execution_count": 43,
     "metadata": {},
     "output_type": "execute_result"
    }
   ],
   "source": [
    "tf.squeeze(tf.sparse.reduce_sum(sparse_transition_probs, axis=[1, 2], output_is_sparse=True).indices)"
   ]
  },
  {
   "cell_type": "code",
   "execution_count": 63,
   "metadata": {},
   "outputs": [
    {
     "data": {
      "text/plain": [
       "<tf.Tensor: shape=(0,), dtype=float32, numpy=array([], dtype=float32)>"
      ]
     },
     "execution_count": 63,
     "metadata": {},
     "output_type": "execute_result"
    }
   ],
   "source": [
    "tf.squeeze(tf.sparse.slice(sparse_transition_probs, [3, 1, 1], [1, 1, 1]).values)"
   ]
  },
  {
   "cell_type": "code",
   "execution_count": 81,
   "metadata": {},
   "outputs": [
    {
     "data": {
      "text/plain": [
       "<tf.Tensor: shape=(), dtype=bool, numpy=False>"
      ]
     },
     "execution_count": 81,
     "metadata": {},
     "output_type": "execute_result"
    }
   ],
   "source": [
    "tf.equal(tf.size(tf.squeeze(tf.sparse.slice(sparse_transition_probs, [2, 0, 1], [1, 1, 1]).values)), 0)"
   ]
  },
  {
   "cell_type": "code",
   "execution_count": 160,
   "metadata": {
    "pycharm": {
     "name": "#%%\n"
    }
   },
   "outputs": [
    {
     "data": {
      "text/plain": [
       "<tf.Tensor: shape=(), dtype=bool, numpy=True>"
      ]
     },
     "execution_count": 160,
     "metadata": {},
     "output_type": "execute_result"
    }
   ],
   "source": [
    "tf.equal(tf.size(tf.squeeze(tf.sparse.slice(sparse_transition_probs, [3, 1, 1], [1, 1, 1]).values)), 0)"
   ]
  },
  {
   "cell_type": "code",
   "execution_count": 37,
   "metadata": {
    "pycharm": {
     "name": "#%%\n"
    }
   },
   "outputs": [
    {
     "name": "stdout",
     "output_type": "stream",
     "text": [
      "'SparseTensor(indices=[[2 0 1]\n",
      " [2 0 2]\n",
      " [2 1 4]\n",
      " [3 0 1]\n",
      " [3 1 3]\n",
      " [3 1 5]], values=[1 1 1 1 1 1], shape=[6 2 6])'\n"
     ]
    }
   ],
   "source": [
    "tf.print(tf.cast(sparse_transitions_count, tf.bool))"
   ]
  },
  {
   "cell_type": "code",
   "execution_count": 13,
   "metadata": {},
   "outputs": [],
   "source": [
    "enabled_actions = tf.cast(tf.sparse.reduce_sum(sparse_transition_probs, axis=-1, output_is_sparse=True), tf.bool)"
   ]
  },
  {
   "cell_type": "code",
   "execution_count": 14,
   "metadata": {},
   "outputs": [
    {
     "data": {
      "text/plain": [
       "tf.bool"
      ]
     },
     "execution_count": 14,
     "metadata": {},
     "output_type": "execute_result"
    }
   ],
   "source": [
    "enabled_actions.dtype"
   ]
  },
  {
   "cell_type": "code",
   "execution_count": 15,
   "metadata": {},
   "outputs": [
    {
     "data": {
      "text/plain": [
       "<tf.Tensor: shape=(), dtype=bool, numpy=True>"
      ]
     },
     "execution_count": 15,
     "metadata": {},
     "output_type": "execute_result"
    }
   ],
   "source": [
    "tf.squeeze(tf.sparse.slice(enabled_actions, [2, 0], [1, 1]).values)"
   ]
  },
  {
   "cell_type": "code",
   "execution_count": 16,
   "metadata": {},
   "outputs": [
    {
     "data": {
      "text/plain": [
       "<tf.Tensor: shape=(0,), dtype=bool, numpy=array([], dtype=bool)>"
      ]
     },
     "execution_count": 16,
     "metadata": {},
     "output_type": "execute_result"
    }
   ],
   "source": [
    "tf.squeeze(tf.sparse.slice(enabled_actions, [3, 3], [1, 1]).values)"
   ]
  },
  {
   "cell_type": "code",
   "execution_count": 19,
   "metadata": {},
   "outputs": [],
   "source": [
    "@tf.function\n",
    "def is_ok():\n",
    "    if tf.squeeze(tf.sparse.slice(enabled_actions, [2, 0], [1, 1]).values):\n",
    "        tf.print('[2, 0] ok')\n",
    "    if tf.squeeze(tf.sparse.slice(enabled_actions, [3, 3], [1, 1]).values):\n",
    "        tf.print('[3, 3] ok')"
   ]
  },
  {
   "cell_type": "code",
   "execution_count": 20,
   "metadata": {},
   "outputs": [
    {
     "name": "stdout",
     "output_type": "stream",
     "text": [
      "[2, 0] ok\n"
     ]
    },
    {
     "ename": "InvalidArgumentError",
     "evalue": " Input to reshape is a tensor with 0 values, but the requested shape has 1\n\t [[node Reshape_1 (defined at <ipython-input-19-cb8f75230ebe>:5) ]] [Op:__inference_is_ok_223]\n\nFunction call stack:\nis_ok\n",
     "output_type": "error",
     "traceback": [
      "\u001b[0;31m---------------------------------------------------------------------------\u001b[0m",
      "\u001b[0;31mInvalidArgumentError\u001b[0m                      Traceback (most recent call last)",
      "\u001b[0;32m<ipython-input-20-a0aea16c8009>\u001b[0m in \u001b[0;36m<module>\u001b[0;34m\u001b[0m\n\u001b[0;32m----> 1\u001b[0;31m \u001b[0mis_ok\u001b[0m\u001b[0;34m(\u001b[0m\u001b[0;34m)\u001b[0m\u001b[0;34m\u001b[0m\u001b[0;34m\u001b[0m\u001b[0m\n\u001b[0m",
      "\u001b[0;32m~/anaconda3/envs/tf2.4.1/lib/python3.7/site-packages/tensorflow/python/eager/def_function.py\u001b[0m in \u001b[0;36m__call__\u001b[0;34m(self, *args, **kwds)\u001b[0m\n\u001b[1;32m    826\u001b[0m     \u001b[0mtracing_count\u001b[0m \u001b[0;34m=\u001b[0m \u001b[0mself\u001b[0m\u001b[0;34m.\u001b[0m\u001b[0mexperimental_get_tracing_count\u001b[0m\u001b[0;34m(\u001b[0m\u001b[0;34m)\u001b[0m\u001b[0;34m\u001b[0m\u001b[0;34m\u001b[0m\u001b[0m\n\u001b[1;32m    827\u001b[0m     \u001b[0;32mwith\u001b[0m \u001b[0mtrace\u001b[0m\u001b[0;34m.\u001b[0m\u001b[0mTrace\u001b[0m\u001b[0;34m(\u001b[0m\u001b[0mself\u001b[0m\u001b[0;34m.\u001b[0m\u001b[0m_name\u001b[0m\u001b[0;34m)\u001b[0m \u001b[0;32mas\u001b[0m \u001b[0mtm\u001b[0m\u001b[0;34m:\u001b[0m\u001b[0;34m\u001b[0m\u001b[0;34m\u001b[0m\u001b[0m\n\u001b[0;32m--> 828\u001b[0;31m       \u001b[0mresult\u001b[0m \u001b[0;34m=\u001b[0m \u001b[0mself\u001b[0m\u001b[0;34m.\u001b[0m\u001b[0m_call\u001b[0m\u001b[0;34m(\u001b[0m\u001b[0;34m*\u001b[0m\u001b[0margs\u001b[0m\u001b[0;34m,\u001b[0m \u001b[0;34m**\u001b[0m\u001b[0mkwds\u001b[0m\u001b[0;34m)\u001b[0m\u001b[0;34m\u001b[0m\u001b[0;34m\u001b[0m\u001b[0m\n\u001b[0m\u001b[1;32m    829\u001b[0m       \u001b[0mcompiler\u001b[0m \u001b[0;34m=\u001b[0m \u001b[0;34m\"xla\"\u001b[0m \u001b[0;32mif\u001b[0m \u001b[0mself\u001b[0m\u001b[0;34m.\u001b[0m\u001b[0m_experimental_compile\u001b[0m \u001b[0;32melse\u001b[0m \u001b[0;34m\"nonXla\"\u001b[0m\u001b[0;34m\u001b[0m\u001b[0;34m\u001b[0m\u001b[0m\n\u001b[1;32m    830\u001b[0m       \u001b[0mnew_tracing_count\u001b[0m \u001b[0;34m=\u001b[0m \u001b[0mself\u001b[0m\u001b[0;34m.\u001b[0m\u001b[0mexperimental_get_tracing_count\u001b[0m\u001b[0;34m(\u001b[0m\u001b[0;34m)\u001b[0m\u001b[0;34m\u001b[0m\u001b[0;34m\u001b[0m\u001b[0m\n",
      "\u001b[0;32m~/anaconda3/envs/tf2.4.1/lib/python3.7/site-packages/tensorflow/python/eager/def_function.py\u001b[0m in \u001b[0;36m_call\u001b[0;34m(self, *args, **kwds)\u001b[0m\n\u001b[1;32m    893\u001b[0m       \u001b[0;31m# If we did not create any variables the trace we have is good enough.\u001b[0m\u001b[0;34m\u001b[0m\u001b[0;34m\u001b[0m\u001b[0;34m\u001b[0m\u001b[0m\n\u001b[1;32m    894\u001b[0m       return self._concrete_stateful_fn._call_flat(\n\u001b[0;32m--> 895\u001b[0;31m           filtered_flat_args, self._concrete_stateful_fn.captured_inputs)  # pylint: disable=protected-access\n\u001b[0m\u001b[1;32m    896\u001b[0m \u001b[0;34m\u001b[0m\u001b[0m\n\u001b[1;32m    897\u001b[0m     \u001b[0;32mdef\u001b[0m \u001b[0mfn_with_cond\u001b[0m\u001b[0;34m(\u001b[0m\u001b[0minner_args\u001b[0m\u001b[0;34m,\u001b[0m \u001b[0minner_kwds\u001b[0m\u001b[0;34m,\u001b[0m \u001b[0minner_filtered_flat_args\u001b[0m\u001b[0;34m)\u001b[0m\u001b[0;34m:\u001b[0m\u001b[0;34m\u001b[0m\u001b[0;34m\u001b[0m\u001b[0m\n",
      "\u001b[0;32m~/anaconda3/envs/tf2.4.1/lib/python3.7/site-packages/tensorflow/python/eager/function.py\u001b[0m in \u001b[0;36m_call_flat\u001b[0;34m(self, args, captured_inputs, cancellation_manager)\u001b[0m\n\u001b[1;32m   1917\u001b[0m       \u001b[0;31m# No tape is watching; skip to running the function.\u001b[0m\u001b[0;34m\u001b[0m\u001b[0;34m\u001b[0m\u001b[0;34m\u001b[0m\u001b[0m\n\u001b[1;32m   1918\u001b[0m       return self._build_call_outputs(self._inference_function.call(\n\u001b[0;32m-> 1919\u001b[0;31m           ctx, args, cancellation_manager=cancellation_manager))\n\u001b[0m\u001b[1;32m   1920\u001b[0m     forward_backward = self._select_forward_and_backward_functions(\n\u001b[1;32m   1921\u001b[0m         \u001b[0margs\u001b[0m\u001b[0;34m,\u001b[0m\u001b[0;34m\u001b[0m\u001b[0;34m\u001b[0m\u001b[0m\n",
      "\u001b[0;32m~/anaconda3/envs/tf2.4.1/lib/python3.7/site-packages/tensorflow/python/eager/function.py\u001b[0m in \u001b[0;36mcall\u001b[0;34m(self, ctx, args, cancellation_manager)\u001b[0m\n\u001b[1;32m    558\u001b[0m               \u001b[0minputs\u001b[0m\u001b[0;34m=\u001b[0m\u001b[0margs\u001b[0m\u001b[0;34m,\u001b[0m\u001b[0;34m\u001b[0m\u001b[0;34m\u001b[0m\u001b[0m\n\u001b[1;32m    559\u001b[0m               \u001b[0mattrs\u001b[0m\u001b[0;34m=\u001b[0m\u001b[0mattrs\u001b[0m\u001b[0;34m,\u001b[0m\u001b[0;34m\u001b[0m\u001b[0;34m\u001b[0m\u001b[0m\n\u001b[0;32m--> 560\u001b[0;31m               ctx=ctx)\n\u001b[0m\u001b[1;32m    561\u001b[0m         \u001b[0;32melse\u001b[0m\u001b[0;34m:\u001b[0m\u001b[0;34m\u001b[0m\u001b[0;34m\u001b[0m\u001b[0m\n\u001b[1;32m    562\u001b[0m           outputs = execute.execute_with_cancellation(\n",
      "\u001b[0;32m~/anaconda3/envs/tf2.4.1/lib/python3.7/site-packages/tensorflow/python/eager/execute.py\u001b[0m in \u001b[0;36mquick_execute\u001b[0;34m(op_name, num_outputs, inputs, attrs, ctx, name)\u001b[0m\n\u001b[1;32m     58\u001b[0m     \u001b[0mctx\u001b[0m\u001b[0;34m.\u001b[0m\u001b[0mensure_initialized\u001b[0m\u001b[0;34m(\u001b[0m\u001b[0;34m)\u001b[0m\u001b[0;34m\u001b[0m\u001b[0;34m\u001b[0m\u001b[0m\n\u001b[1;32m     59\u001b[0m     tensors = pywrap_tfe.TFE_Py_Execute(ctx._handle, device_name, op_name,\n\u001b[0;32m---> 60\u001b[0;31m                                         inputs, attrs, num_outputs)\n\u001b[0m\u001b[1;32m     61\u001b[0m   \u001b[0;32mexcept\u001b[0m \u001b[0mcore\u001b[0m\u001b[0;34m.\u001b[0m\u001b[0m_NotOkStatusException\u001b[0m \u001b[0;32mas\u001b[0m \u001b[0me\u001b[0m\u001b[0;34m:\u001b[0m\u001b[0;34m\u001b[0m\u001b[0;34m\u001b[0m\u001b[0m\n\u001b[1;32m     62\u001b[0m     \u001b[0;32mif\u001b[0m \u001b[0mname\u001b[0m \u001b[0;32mis\u001b[0m \u001b[0;32mnot\u001b[0m \u001b[0;32mNone\u001b[0m\u001b[0;34m:\u001b[0m\u001b[0;34m\u001b[0m\u001b[0;34m\u001b[0m\u001b[0m\n",
      "\u001b[0;31mInvalidArgumentError\u001b[0m:  Input to reshape is a tensor with 0 values, but the requested shape has 1\n\t [[node Reshape_1 (defined at <ipython-input-19-cb8f75230ebe>:5) ]] [Op:__inference_is_ok_223]\n\nFunction call stack:\nis_ok\n"
     ]
    }
   ],
   "source": [
    "is_ok()"
   ]
  },
  {
   "cell_type": "code",
   "execution_count": 34,
   "metadata": {},
   "outputs": [
    {
     "data": {
      "text/plain": [
       "<tf.Tensor: shape=(), dtype=bool, numpy=True>"
      ]
     },
     "execution_count": 34,
     "metadata": {},
     "output_type": "execute_result"
    }
   ],
   "source": [
    "tf.reduce_all(tf.squeeze(tf.sparse.to_dense(tf.sparse.slice(enabled_actions, [2, 0], [1, 1]))))"
   ]
  },
  {
   "cell_type": "code",
   "execution_count": 35,
   "metadata": {},
   "outputs": [
    {
     "data": {
      "text/plain": [
       "<tf.Tensor: shape=(), dtype=bool, numpy=True>"
      ]
     },
     "execution_count": 35,
     "metadata": {},
     "output_type": "execute_result"
    }
   ],
   "source": [
    "tf.reduce_all(tf.squeeze(tf.sparse.to_dense(tf.sparse.slice(enabled_actions, [3, 3], [1, 1]))))"
   ]
  },
  {
   "cell_type": "code",
   "execution_count": 39,
   "metadata": {},
   "outputs": [
    {
     "data": {
      "text/plain": [
       "<tf.Tensor: shape=(), dtype=bool, numpy=True>"
      ]
     },
     "execution_count": 39,
     "metadata": {},
     "output_type": "execute_result"
    }
   ],
   "source": [
    "tf.reduce_all([])"
   ]
  },
  {
   "cell_type": "code",
   "execution_count": 41,
   "metadata": {},
   "outputs": [
    {
     "data": {
      "text/plain": [
       "<tf.Tensor: shape=(), dtype=int32, numpy=0>"
      ]
     },
     "execution_count": 41,
     "metadata": {},
     "output_type": "execute_result"
    }
   ],
   "source": [
    "tf.size([])"
   ]
  },
  {
   "cell_type": "code",
   "execution_count": null,
   "metadata": {},
   "outputs": [],
   "source": []
  }
 ],
 "metadata": {
  "kernelspec": {
   "display_name": "Python 3",
   "language": "python",
   "name": "python3"
  },
  "language_info": {
   "codemirror_mode": {
    "name": "ipython",
    "version": 3
   },
   "file_extension": ".py",
   "mimetype": "text/x-python",
   "name": "python",
   "nbconvert_exporter": "python",
   "pygments_lexer": "ipython3",
   "version": "3.7.10"
  }
 },
 "nbformat": 4,
 "nbformat_minor": 1
}
