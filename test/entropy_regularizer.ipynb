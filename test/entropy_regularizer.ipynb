{
 "cells": [
  {
   "cell_type": "code",
   "execution_count": 1,
   "metadata": {
    "collapsed": true
   },
   "outputs": [],
   "source": [
    "import tensorflow as tf\n",
    "import tensorflow_probability as tfp\n",
    "tfd = tfp.distributions"
   ]
  },
  {
   "cell_type": "code",
   "execution_count": 181,
   "outputs": [
    {
     "data": {
      "text/plain": "<tf.Tensor: shape=(5, 6), dtype=float32, numpy=\narray([[0.70125747, 0.59246445, 0.6469835 , 0.78929853, 0.4893242 ,\n        0.3564489 ],\n       [0.87974083, 0.8299811 , 0.4734974 , 0.06678545, 0.37019384,\n        0.8914565 ],\n       [0.9230031 , 0.97236   , 0.9784479 , 0.99113977, 0.6481546 ,\n        0.04302442],\n       [0.26199007, 0.6073632 , 0.41687417, 0.33327353, 0.5742605 ,\n        0.2488842 ],\n       [0.8426975 , 0.03221571, 0.45767534, 0.19128656, 0.23360837,\n        0.9743171 ]], dtype=float32)>"
     },
     "execution_count": 181,
     "metadata": {},
     "output_type": "execute_result"
    }
   ],
   "source": [
    "logits = tf.random.uniform(minval=0, maxval=1, seed=42, shape=(5, 6))\n",
    "logits"
   ],
   "metadata": {
    "collapsed": false,
    "pycharm": {
     "name": "#%%\n"
    }
   }
  },
  {
   "cell_type": "code",
   "execution_count": 182,
   "outputs": [
    {
     "data": {
      "text/plain": "<tfp.distributions.MixtureSameFamily 'MixtureSameFamily' batch_shape=[6] event_shape=[] dtype=float32>"
     },
     "execution_count": 182,
     "metadata": {},
     "output_type": "execute_result"
    }
   ],
   "source": [
    "Q_marginal = tfd.MixtureSameFamily(\n",
    "mixture_distribution=tfd.Categorical(logits=tf.zeros(tf.shape(logits)[0])),\n",
    "    components_distribution=tfd.RelaxedBernoulli(logits=tf.transpose(logits),\n",
    "                                                 temperature=1e-5)\n",
    ")\n",
    "Q_marginal"
   ],
   "metadata": {
    "collapsed": false,
    "pycharm": {
     "name": "#%%\n"
    }
   }
  },
  {
   "cell_type": "code",
   "execution_count": 183,
   "outputs": [
    {
     "data": {
      "text/plain": "<tf.Tensor: shape=(), dtype=float32, numpy=-18.08369>"
     },
     "execution_count": 183,
     "metadata": {},
     "output_type": "execute_result"
    }
   ],
   "source": [
    "x = Q_marginal.sample(512)\n",
    "x = tf.clip_by_value(x, 1e-7, 1.-1e-7)\n",
    "tf.reduce_mean(-1. * tf.reduce_sum(Q_marginal.log_prob(x), axis=1))\n"
   ],
   "metadata": {
    "collapsed": false,
    "pycharm": {
     "name": "#%%\n"
    }
   }
  },
  {
   "cell_type": "code",
   "execution_count": 186,
   "outputs": [
    {
     "data": {
      "text/plain": "<tf.Tensor: shape=(), dtype=float32, numpy=-3.0139532>"
     },
     "execution_count": 186,
     "metadata": {},
     "output_type": "execute_result"
    }
   ],
   "source": [
    "tf.reduce_mean(-1. * Q_marginal.log_prob(x))"
   ],
   "metadata": {
    "collapsed": false,
    "pycharm": {
     "name": "#%%\n"
    }
   }
  },
  {
   "cell_type": "code",
   "execution_count": 154,
   "outputs": [
    {
     "data": {
      "text/plain": "<tf.Tensor: shape=(5, 6), dtype=float32, numpy=\narray([[1.69425517e-01, 2.86047843e-08, 9.99991059e-01, 1.26213822e-11,\n        9.84694362e-01, 9.80800986e-01],\n       [1.12091314e-07, 9.99999821e-01, 1.00000000e+00, 9.99950886e-01,\n        9.99999762e-01, 9.99994159e-01],\n       [9.99905467e-01, 1.00000000e+00, 9.99999762e-01, 1.87024474e-03,\n        7.75832814e-06, 1.00000000e+00],\n       [1.64315952e-06, 1.31407887e-06, 9.98902619e-01, 2.60528028e-02,\n        1.00000000e+00, 9.99572515e-01],\n       [8.47551376e-02, 7.52730131e-01, 2.94035551e-09, 9.84307036e-08,\n        9.19312119e-01, 9.39749181e-01]], dtype=float32)>"
     },
     "execution_count": 154,
     "metadata": {},
     "output_type": "execute_result"
    }
   ],
   "source": [
    "tfd.RelaxedBernoulli(logits=logits[0], temperature=1e-5).sample(5)"
   ],
   "metadata": {
    "collapsed": false,
    "pycharm": {
     "name": "#%%\n"
    }
   }
  },
  {
   "cell_type": "code",
   "execution_count": 46,
   "outputs": [
    {
     "data": {
      "text/plain": "<tf.Tensor: shape=(5, 4, 5), dtype=float32, numpy=\narray([[[1., 0., 0., 0., 0.],\n        [1., 0., 0., 0., 0.],\n        [1., 0., 0., 0., 0.],\n        [1., 0., 0., 0., 0.]],\n\n       [[0., 1., 0., 0., 0.],\n        [0., 1., 0., 0., 0.],\n        [0., 1., 0., 0., 0.],\n        [0., 1., 0., 0., 0.]],\n\n       [[0., 0., 1., 0., 0.],\n        [0., 0., 1., 0., 0.],\n        [0., 0., 1., 0., 0.],\n        [0., 0., 1., 0., 0.]],\n\n       [[0., 0., 0., 1., 0.],\n        [0., 0., 0., 1., 0.],\n        [0., 0., 0., 1., 0.],\n        [0., 0., 0., 1., 0.]],\n\n       [[0., 0., 0., 0., 1.],\n        [0., 0., 0., 0., 1.],\n        [0., 0., 0., 0., 1.],\n        [0., 0., 0., 0., 1.]]], dtype=float32)>"
     },
     "execution_count": 46,
     "metadata": {},
     "output_type": "execute_result"
    }
   ],
   "source": [
    "tf.reshape(tf.repeat(tf.one_hot(tf.range(5), 5), 4, axis=0), shape=(5, 4, 5))"
   ],
   "metadata": {
    "collapsed": false,
    "pycharm": {
     "name": "#%%\n"
    }
   }
  },
  {
   "cell_type": "code",
   "execution_count": 40,
   "outputs": [],
   "source": [
    "logits = tf.random.uniform(shape=(4, 6))"
   ],
   "metadata": {
    "collapsed": false,
    "pycharm": {
     "name": "#%%\n"
    }
   }
  },
  {
   "cell_type": "code",
   "execution_count": 39,
   "outputs": [
    {
     "data": {
      "text/plain": "<tf.Tensor: shape=(5, 4, 6), dtype=float32, numpy=\narray([[[0.43997335, 0.7566391 , 0.72414565, 0.8721417 , 0.77916086,\n         0.8345915 ],\n        [0.8838308 , 0.9762491 , 0.9743644 , 0.60298705, 0.9274093 ,\n         0.16422224],\n        [0.16155815, 0.40403342, 0.6110437 , 0.7467438 , 0.37594604,\n         0.8383919 ],\n        [0.1807034 , 0.78149307, 0.10201752, 0.9994273 , 0.84367716,\n         0.97526073]],\n\n       [[0.43997335, 0.7566391 , 0.72414565, 0.8721417 , 0.77916086,\n         0.8345915 ],\n        [0.8838308 , 0.9762491 , 0.9743644 , 0.60298705, 0.9274093 ,\n         0.16422224],\n        [0.16155815, 0.40403342, 0.6110437 , 0.7467438 , 0.37594604,\n         0.8383919 ],\n        [0.1807034 , 0.78149307, 0.10201752, 0.9994273 , 0.84367716,\n         0.97526073]],\n\n       [[0.43997335, 0.7566391 , 0.72414565, 0.8721417 , 0.77916086,\n         0.8345915 ],\n        [0.8838308 , 0.9762491 , 0.9743644 , 0.60298705, 0.9274093 ,\n         0.16422224],\n        [0.16155815, 0.40403342, 0.6110437 , 0.7467438 , 0.37594604,\n         0.8383919 ],\n        [0.1807034 , 0.78149307, 0.10201752, 0.9994273 , 0.84367716,\n         0.97526073]],\n\n       [[0.43997335, 0.7566391 , 0.72414565, 0.8721417 , 0.77916086,\n         0.8345915 ],\n        [0.8838308 , 0.9762491 , 0.9743644 , 0.60298705, 0.9274093 ,\n         0.16422224],\n        [0.16155815, 0.40403342, 0.6110437 , 0.7467438 , 0.37594604,\n         0.8383919 ],\n        [0.1807034 , 0.78149307, 0.10201752, 0.9994273 , 0.84367716,\n         0.97526073]],\n\n       [[0.43997335, 0.7566391 , 0.72414565, 0.8721417 , 0.77916086,\n         0.8345915 ],\n        [0.8838308 , 0.9762491 , 0.9743644 , 0.60298705, 0.9274093 ,\n         0.16422224],\n        [0.16155815, 0.40403342, 0.6110437 , 0.7467438 , 0.37594604,\n         0.8383919 ],\n        [0.1807034 , 0.78149307, 0.10201752, 0.9994273 , 0.84367716,\n         0.97526073]]], dtype=float32)>"
     },
     "execution_count": 39,
     "metadata": {},
     "output_type": "execute_result"
    }
   ],
   "source": [
    "tf.stack([logits] * 5)"
   ],
   "metadata": {
    "collapsed": false,
    "pycharm": {
     "name": "#%%\n"
    }
   }
  },
  {
   "cell_type": "code",
   "execution_count": 42,
   "outputs": [
    {
     "data": {
      "text/plain": "<tf.Tensor: shape=(5, 5, 5), dtype=float32, numpy=\narray([[[1., 0., 0., 0., 0.],\n        [0., 1., 0., 0., 0.],\n        [0., 0., 1., 0., 0.],\n        [0., 0., 0., 1., 0.],\n        [0., 0., 0., 0., 1.]],\n\n       [[1., 0., 0., 0., 0.],\n        [0., 1., 0., 0., 0.],\n        [0., 0., 1., 0., 0.],\n        [0., 0., 0., 1., 0.],\n        [0., 0., 0., 0., 1.]],\n\n       [[1., 0., 0., 0., 0.],\n        [0., 1., 0., 0., 0.],\n        [0., 0., 1., 0., 0.],\n        [0., 0., 0., 1., 0.],\n        [0., 0., 0., 0., 1.]],\n\n       [[1., 0., 0., 0., 0.],\n        [0., 1., 0., 0., 0.],\n        [0., 0., 1., 0., 0.],\n        [0., 0., 0., 1., 0.],\n        [0., 0., 0., 0., 1.]],\n\n       [[1., 0., 0., 0., 0.],\n        [0., 1., 0., 0., 0.],\n        [0., 0., 1., 0., 0.],\n        [0., 0., 0., 1., 0.],\n        [0., 0., 0., 0., 1.]]], dtype=float32)>"
     },
     "execution_count": 42,
     "metadata": {},
     "output_type": "execute_result"
    }
   ],
   "source": [
    "tf.stack([tf.one_hot(tf.range(5), 5)] * 5)"
   ],
   "metadata": {
    "collapsed": false,
    "pycharm": {
     "name": "#%%\n"
    }
   }
  },
  {
   "cell_type": "code",
   "execution_count": 64,
   "outputs": [
    {
     "data": {
      "text/plain": "<tf.Tensor: shape=(3, 5), dtype=float32, numpy=\narray([[0., 0., 1., 0., 0.],\n       [0., 0., 1., 0., 0.],\n       [0., 0., 1., 0., 0.]], dtype=float32)>"
     },
     "execution_count": 64,
     "metadata": {},
     "output_type": "execute_result"
    }
   ],
   "source": [
    "tf.reshape(tf.repeat(tf.expand_dims(tf.one_hot(2, 5), axis=0), 3, axis=0), shape=(3, 5))"
   ],
   "metadata": {
    "collapsed": false,
    "pycharm": {
     "name": "#%%\n"
    }
   }
  },
  {
   "cell_type": "code",
   "execution_count": 60,
   "outputs": [
    {
     "data": {
      "text/plain": "<tf.Tensor: shape=(3, 5), dtype=float32, numpy=\narray([[0., 0., 1., 0., 0.],\n       [0., 0., 1., 0., 0.],\n       [0., 0., 1., 0., 0.]], dtype=float32)>"
     },
     "execution_count": 60,
     "metadata": {},
     "output_type": "execute_result"
    }
   ],
   "source": [
    "tf.stack([tf.one_hot(2, 5)] * 3)"
   ],
   "metadata": {
    "collapsed": false,
    "pycharm": {
     "name": "#%%\n"
    }
   }
  },
  {
   "cell_type": "code",
   "execution_count": 4,
   "outputs": [
    {
     "name": "stdout",
     "output_type": "stream",
     "text": [
      "action tf.Tensor(\n",
      "[[1. 0.]\n",
      " [1. 0.]\n",
      " [0. 1.]\n",
      " [0. 1.]\n",
      " [0. 1.]\n",
      " [1. 0.]], shape=(6, 2), dtype=float32)\n",
      "latent_states_stack tf.Tensor(\n",
      "[[[0.29822934 0.83325636 0.142084  ]\n",
      "  [0.81573653 0.8939357  0.21609187]]\n",
      "\n",
      " [[0.66496444 0.90702116 0.05573988]\n",
      "  [0.4616239  0.8716624  0.21884048]]\n",
      "\n",
      " [[0.3344425  0.51248133 0.19966173]\n",
      "  [0.7560613  0.01114261 0.44287622]]\n",
      "\n",
      " [[0.5316609  0.12373877 0.35417366]\n",
      "  [0.6469995  0.06985843 0.6044067 ]]\n",
      "\n",
      " [[0.8172021  0.31625688 0.7307626 ]\n",
      "  [0.3524387  0.87245095 0.68590915]]\n",
      "\n",
      " [[0.19558418 0.15751529 0.39862943]\n",
      "  [0.20925236 0.28273594 0.54019547]]], shape=(6, 2, 3), dtype=float32)\n",
      "action_tile tf.Tensor(\n",
      "[[[1. 1. 1.]\n",
      "  [0. 0. 0.]]\n",
      "\n",
      " [[1. 1. 1.]\n",
      "  [0. 0. 0.]]\n",
      "\n",
      " [[0. 0. 0.]\n",
      "  [1. 1. 1.]]\n",
      "\n",
      " [[0. 0. 0.]\n",
      "  [1. 1. 1.]]\n",
      "\n",
      " [[0. 0. 0.]\n",
      "  [1. 1. 1.]]\n",
      "\n",
      " [[1. 1. 1.]\n",
      "  [0. 0. 0.]]], shape=(6, 2, 3), dtype=float32)\n",
      "mult tf.Tensor(\n",
      "[[[0.29822934 0.83325636 0.142084  ]\n",
      "  [0.         0.         0.        ]]\n",
      "\n",
      " [[0.66496444 0.90702116 0.05573988]\n",
      "  [0.         0.         0.        ]]\n",
      "\n",
      " [[0.         0.         0.        ]\n",
      "  [0.7560613  0.01114261 0.44287622]]\n",
      "\n",
      " [[0.         0.         0.        ]\n",
      "  [0.6469995  0.06985843 0.6044067 ]]\n",
      "\n",
      " [[0.         0.         0.        ]\n",
      "  [0.3524387  0.87245095 0.68590915]]\n",
      "\n",
      " [[0.19558418 0.15751529 0.39862943]\n",
      "  [0.         0.         0.        ]]], shape=(6, 2, 3), dtype=float32)\n",
      "tf.Tensor(\n",
      "[[0.29822934 0.83325636 0.142084  ]\n",
      " [0.66496444 0.90702116 0.05573988]\n",
      " [0.7560613  0.01114261 0.44287622]\n",
      " [0.6469995  0.06985843 0.6044067 ]\n",
      " [0.3524387  0.87245095 0.68590915]\n",
      " [0.19558418 0.15751529 0.39862943]], shape=(6, 3), dtype=float32)\n"
     ]
    }
   ],
   "source": [
    "latent_state_size = 3\n",
    "batch_size = 6\n",
    "action_size = 2\n",
    "\n",
    "action = tf.random.uniform(\n",
    "    shape=(batch_size, ), minval=0, maxval=action_size, dtype=tf.int32, seed=42)\n",
    "action = tf.one_hot(action, action_size)\n",
    "\n",
    "latent_states_logits = []\n",
    "for _ in range(action_size):\n",
    "    latent_states_logits.append(\n",
    "        tf.random.uniform(shape=(batch_size, latent_state_size), seed=42))\n",
    "# latent_states_stack = tf.stack(latent_states_logits, axis=1)\n",
    "\n",
    "latent_states_stack = tf.random.uniform(shape=(batch_size, action_size, latent_state_size))\n",
    "action_expand_dims = tf.expand_dims(action, -1)\n",
    "action_tile = tf.tile(action_expand_dims, (1, 1, latent_state_size))\n",
    "mult = action_tile * latent_states_stack\n",
    "latent_states = tf.reduce_sum(mult, axis=1)\n",
    "\n",
    "print(\"action\", action)\n",
    "print(\"latent_states_stack\", latent_states_stack)\n",
    "print(\"action_tile\", action_tile)\n",
    "print(\"mult\", mult)\n",
    "print(latent_states)"
   ],
   "metadata": {
    "collapsed": false,
    "pycharm": {
     "name": "#%%\n"
    }
   }
  },
  {
   "cell_type": "code",
   "execution_count": 27,
   "outputs": [
    {
     "name": "stdout",
     "output_type": "stream",
     "text": [
      "tf.Tensor(\n",
      "[[[0. 0. 0.]\n",
      "  [1. 1. 1.]]\n",
      "\n",
      " [[0. 0. 0.]\n",
      "  [1. 1. 1.]]\n",
      "\n",
      " [[1. 1. 1.]\n",
      "  [0. 0. 0.]]\n",
      "\n",
      " [[0. 0. 0.]\n",
      "  [1. 1. 1.]]\n",
      "\n",
      " [[1. 1. 1.]\n",
      "  [0. 0. 0.]]\n",
      "\n",
      " [[1. 1. 1.]\n",
      "  [0. 0. 0.]]], shape=(6, 2, 3), dtype=float32)\n",
      "tf.Tensor(\n",
      "[[[0. 0. 0.]\n",
      "  [1. 1. 1.]]\n",
      "\n",
      " [[0. 0. 0.]\n",
      "  [1. 1. 1.]]\n",
      "\n",
      " [[1. 1. 1.]\n",
      "  [0. 0. 0.]]\n",
      "\n",
      " [[0. 0. 0.]\n",
      "  [1. 1. 1.]]\n",
      "\n",
      " [[1. 1. 1.]\n",
      "  [0. 0. 0.]]\n",
      "\n",
      " [[1. 1. 1.]\n",
      "  [0. 0. 0.]]], shape=(6, 2, 3), dtype=float32)\n"
     ]
    },
    {
     "data": {
      "text/plain": "<tf.Tensor: shape=(6, 2, 3), dtype=float32, numpy=\narray([[[0., 0., 0.],\n        [1., 1., 1.]],\n\n       [[0., 0., 0.],\n        [1., 1., 1.]],\n\n       [[1., 1., 1.],\n        [0., 0., 0.]],\n\n       [[0., 0., 0.],\n        [1., 1., 1.]],\n\n       [[1., 1., 1.],\n        [0., 0., 0.]],\n\n       [[1., 1., 1.],\n        [0., 0., 0.]]], dtype=float32)>"
     },
     "execution_count": 27,
     "metadata": {},
     "output_type": "execute_result"
    }
   ],
   "source": [
    "print(tf.tile(action_expand_dims, (1, 1, latent_state_size)))\n",
    "print(tf.reshape(tf.repeat(action_expand_dims, latent_state_size), shape=(batch_size, action_size, latent_state_size)))\n",
    "print(tf.repeat(action_expand_dims, latent_state_size, axis=-1))"
   ],
   "metadata": {
    "collapsed": false,
    "pycharm": {
     "name": "#%%\n"
    }
   }
  },
  {
   "cell_type": "code",
   "execution_count": 9,
   "outputs": [
    {
     "data": {
      "text/plain": "<tf.Tensor: shape=(6, 2, 3), dtype=float32, numpy=\narray([[[1., 1., 1.],\n        [0., 0., 0.]],\n\n       [[1., 1., 1.],\n        [0., 0., 0.]],\n\n       [[0., 0., 0.],\n        [1., 1., 1.]],\n\n       [[0., 0., 0.],\n        [1., 1., 1.]],\n\n       [[0., 0., 0.],\n        [1., 1., 1.]],\n\n       [[1., 1., 1.],\n        [0., 0., 0.]]], dtype=float32)>"
     },
     "execution_count": 9,
     "metadata": {},
     "output_type": "execute_result"
    }
   ],
   "source": [
    "layers = []\n",
    "# layers.append(tf.keras.layers.Lambda(lambda x: tf.expand_dims(x, -1)))\n",
    "layers.append(tf.keras.layers.RepeatVector(latent_state_size))\n",
    "layers.append(tf.keras.layers.Permute(dims=(2, 1)))\n",
    "sequential = tf.keras.Sequential(layers)\n",
    "sequential(action)"
   ],
   "metadata": {
    "collapsed": false,
    "pycharm": {
     "name": "#%%\n"
    }
   }
  },
  {
   "cell_type": "code",
   "execution_count": 2,
   "outputs": [
    {
     "data": {
      "text/plain": "[<tf.Tensor: shape=(8, 3), dtype=float32, numpy=\n array([[0., 0., 1.],\n        [1., 1., 1.],\n        [1., 1., 1.],\n        [0., 1., 0.],\n        [0., 0., 0.],\n        [1., 1., 1.],\n        [1., 1., 0.],\n        [1., 0., 0.]], dtype=float32)>,\n <tf.Tensor: shape=(8, 10), dtype=float32, numpy=\n array([[ 0.8750086 , -2.1764064 , -8.008769  ,  2.0827742 , -3.4839377 ,\n         -1.9698689 ,  1.801935  , -5.7171316 ,  7.2105317 ,  0.07895708],\n        [ 2.7532258 ,  9.3939705 ,  7.2280254 ,  0.37413168,  0.464877  ,\n         -0.3894    ,  2.7742813 ,  2.417486  ,  4.5979443 , -0.46260595],\n        [-3.586282  ,  6.6553297 ,  5.1713037 , -3.9721582 , 11.050644  ,\n         -1.8404622 ,  7.3951654 ,  5.154852  , -0.06546402,  1.6761897 ],\n        [-0.10868585,  0.06133366, -4.0239735 ,  3.019597  ,  6.071562  ,\n         -0.7746917 ,  1.6853944 , -6.4726887 ,  2.144046  , -3.3958347 ],\n        [ 1.9093564 , -1.1534448 ,  0.77691925, -0.739486  , -7.4870777 ,\n         -0.10598338, -1.9725208 ,  1.1410811 , -1.9610085 , -0.90483856],\n        [-3.2730894 , -4.4354234 ,  1.5657028 ,  0.6534318 ,  0.04999447,\n         -2.1952207 , -1.1745138 ,  1.3132957 ,  2.9436893 ,  0.17716765],\n        [ 2.274581  , -1.0215439 ,  0.30678725, -0.9534447 ,  5.567561  ,\n          1.1271502 ,  3.6719198 , -1.4829702 ,  4.497628  ,  7.353593  ],\n        [-0.12322783,  4.602961  ,  0.43741512, -1.5319948 ,  1.2832141 ,\n          7.369705  , -0.10198212,  5.7750893 ,  1.3425776 , -1.9955074 ]],\n       dtype=float32)>]"
     },
     "execution_count": 2,
     "metadata": {},
     "output_type": "execute_result"
    }
   ],
   "source": [
    "labels_logits = tf.random.uniform(shape=(8, 3))\n",
    "latent_states_logits = tf.random.uniform(shape=(8, 7))\n",
    "joint_distribution = tfd.JointDistributionSequential(\n",
    "    [\n",
    "        tfd.Independent(tfd.Bernoulli(logits=labels_logits, dtype=tf.float32)),\n",
    "        lambda l: tfd.Independent(\n",
    "            tfd.Logistic(loc=tf.concat([latent_states_logits, l], axis=-1) / 0.5,\n",
    "                               scale=1. / 0.5))\n",
    "    ], validate_args=True\n",
    ")\n",
    "samples = joint_distribution.sample()\n",
    "samples"
   ],
   "metadata": {
    "collapsed": false,
    "pycharm": {
     "name": "#%%\n"
    }
   }
  },
  {
   "cell_type": "code",
   "execution_count": 44,
   "outputs": [
    {
     "data": {
      "text/plain": "(<tf.Tensor: shape=(8, 3), dtype=float32, numpy=\n array([[1., 0., 0.],\n        [1., 0., 1.],\n        [1., 1., 0.],\n        [1., 1., 0.],\n        [1., 1., 0.],\n        [1., 1., 1.],\n        [0., 1., 0.],\n        [0., 1., 1.]], dtype=float32)>,\n <tf.Tensor: shape=(8, 10), dtype=float32, numpy=\n array([[0.5855373 , 0.14502394, 0.8167027 , 0.22830033, 0.5391594 ,\n         0.5588813 , 0.348315  , 0.62111485, 0.562451  , 0.47691822],\n        [0.4133531 , 0.288126  , 0.81695485, 0.63810074, 0.7901763 ,\n         0.9822817 , 0.18364835, 0.4996612 , 0.3385446 , 0.83445966],\n        [0.63412285, 0.74180174, 0.9497335 , 0.3783275 , 0.32327187,\n         0.27079606, 0.65978396, 0.38685727, 0.48017752, 0.7811073 ],\n        [0.36073804, 0.4966575 , 0.4298637 , 0.8285161 , 0.68470347,\n         0.15770066, 0.41381884, 0.26814365, 0.77656853, 0.63847697],\n        [0.12286198, 0.54415786, 0.771317  , 0.98686075, 0.19961941,\n         0.6811857 , 0.62611806, 0.12596726, 0.380929  , 0.4824555 ],\n        [0.45457935, 0.03536355, 0.47063172, 0.62116206, 0.48890233,\n         0.74892735, 0.8676554 , 0.677961  , 0.9629053 , 0.38032842],\n        [0.07009935, 0.30443466, 0.30849504, 0.58545816, 0.8356501 ,\n         0.07559001, 0.7566811 , 0.04101157, 0.4297043 , 0.00307012],\n        [0.6277765 , 0.00804901, 0.98751867, 0.6112381 , 0.58550596,\n         0.61169934, 0.420596  , 0.3009919 , 0.299729  , 0.35091937]],\n       dtype=float32)>)"
     },
     "execution_count": 44,
     "metadata": {},
     "output_type": "execute_result"
    }
   ],
   "source": [
    "next_label = tf.round(tf.random.uniform(shape=(8, 3), maxval=1, dtype=tf.float32))\n",
    "next_latent_state = tf.random.uniform(shape=(8, 10))\n",
    "next_label, next_latent_state"
   ],
   "metadata": {
    "collapsed": false,
    "pycharm": {
     "name": "#%%\n"
    }
   }
  },
  {
   "cell_type": "code",
   "execution_count": 45,
   "outputs": [
    {
     "data": {
      "text/plain": "<tf.Tensor: shape=(8,), dtype=float32, numpy=\narray([-26.934498, -29.217688, -27.872187, -28.394295, -28.530806,\n       -30.18421 , -27.706776, -28.420433], dtype=float32)>"
     },
     "execution_count": 45,
     "metadata": {},
     "output_type": "execute_result"
    }
   ],
   "source": [
    "joint_distribution.log_prob(samples)"
   ],
   "metadata": {
    "collapsed": false,
    "pycharm": {
     "name": "#%%\n"
    }
   }
  },
  {
   "cell_type": "code",
   "execution_count": 46,
   "outputs": [
    {
     "data": {
      "text/plain": "[<tf.Tensor: shape=(8,), dtype=float32, numpy=\n array([-2.0427217, -1.8208035, -2.3500047, -2.1035583, -2.1162028,\n        -2.218251 , -1.6465869, -1.7633481], dtype=float32)>,\n <tf.Tensor: shape=(8,), dtype=float32, numpy=\n array([-24.891775, -27.396885, -25.522182, -26.290737, -26.414602,\n        -27.96596 , -26.060188, -26.657085], dtype=float32)>]"
     },
     "execution_count": 46,
     "metadata": {},
     "output_type": "execute_result"
    }
   ],
   "source": [
    "joint_distribution.log_prob_parts(samples)"
   ],
   "metadata": {
    "collapsed": false,
    "pycharm": {
     "name": "#%%\n"
    }
   }
  },
  {
   "cell_type": "code",
   "execution_count": 49,
   "outputs": [
    {
     "data": {
      "text/plain": "<tf.Tensor: shape=(8,), dtype=float32, numpy=\narray([0.04330206, 0.09924033, 0.01345113, 0.05217344, 0.02215266,\n       0.02880204, 0.06082198, 0.05492666], dtype=float32)>"
     },
     "execution_count": 49,
     "metadata": {},
     "output_type": "execute_result"
    }
   ],
   "source": [
    "tfd.Independent(tfd.Bernoulli(logits=labels_logits, dtype=tf.float32)).kl_divergence(\n",
    "    tfd.Independent(tfd.Bernoulli(logits=labels_logits/3., dtype=tf.float32)),\n",
    ")"
   ],
   "metadata": {
    "collapsed": false,
    "pycharm": {
     "name": "#%%\n"
    }
   }
  },
  {
   "cell_type": "code",
   "execution_count": 4,
   "outputs": [
    {
     "data": {
      "text/plain": "<tf.Tensor: shape=(8,), dtype=float32, numpy=\narray([-2.5189648, -1.6360064, -1.1548808, -1.9831101, -2.8774555,\n       -1.0599548, -1.8747082, -1.9544212], dtype=float32)>"
     },
     "execution_count": 4,
     "metadata": {},
     "output_type": "execute_result"
    }
   ],
   "source": [
    "d = tfd.Independent(tfd.Bernoulli(logits=labels_logits, dtype=tf.float32))\n",
    "d.log_prob(samples[0])"
   ],
   "metadata": {
    "collapsed": false,
    "pycharm": {
     "name": "#%%\n"
    }
   }
  },
  {
   "cell_type": "code",
   "execution_count": 10,
   "outputs": [
    {
     "name": "stdout",
     "output_type": "stream",
     "text": [
      "tf.Tensor(\n",
      "[[0.6016984  0.00395894 0.6886418  0.53072643 0.24391103]\n",
      " [0.26492536 0.00718594 0.84086215 0.92504025 0.25911975]], shape=(2, 5), dtype=float32)\n"
     ]
    },
    {
     "data": {
      "text/plain": "<tf.Tensor: shape=(2, 2, 5), dtype=float32, numpy=\narray([[[0.6016984 , 0.00395894, 0.6886418 , 0.53072643, 0.24391103],\n        [0.26492536, 0.00718594, 0.84086215, 0.92504025, 0.25911975]],\n\n       [[0.6016984 , 0.00395894, 0.6886418 , 0.53072643, 0.24391103],\n        [0.26492536, 0.00718594, 0.84086215, 0.92504025, 0.25911975]]],\n      dtype=float32)>"
     },
     "execution_count": 10,
     "metadata": {},
     "output_type": "execute_result"
    }
   ],
   "source": [
    "latent_states_logits = tf.random.uniform(shape=(2, 5))\n",
    "print(latent_states_logits)\n",
    "tf.tile(tf.expand_dims(latent_states_logits, axis=0), [2, 1, 1])"
   ],
   "metadata": {
    "collapsed": false,
    "pycharm": {
     "name": "#%%\n"
    }
   }
  },
  {
   "cell_type": "code",
   "execution_count": 3,
   "outputs": [
    {
     "name": "stdout",
     "output_type": "stream",
     "text": [
      "tf.Tensor(\n",
      "[[[0.6006433  0.67991614]\n",
      "  [0.81787026 0.12673628]\n",
      "  [0.55159366 0.44886363]\n",
      "  [0.11846972 0.9160278 ]\n",
      "  [0.6887318  0.8214159 ]]\n",
      "\n",
      " [[0.8509476  0.6643053 ]\n",
      "  [0.04173446 0.13981605]\n",
      "  [0.57558167 0.86658955]\n",
      "  [0.55009484 0.01074302]\n",
      "  [0.77765155 0.9054495 ]]\n",
      "\n",
      " [[0.7815635  0.5418669 ]\n",
      "  [0.3591491  0.93506575]\n",
      "  [0.56423914 0.41349697]\n",
      "  [0.8498039  0.04684567]\n",
      "  [0.7024456  0.3418888 ]]\n",
      "\n",
      " [[0.9156854  0.51061976]\n",
      "  [0.24824917 0.39826155]\n",
      "  [0.91608083 0.09705913]\n",
      "  [0.6768075  0.03017676]\n",
      "  [0.1852957  0.21276796]]\n",
      "\n",
      " [[0.06404328 0.15965962]\n",
      "  [0.92984366 0.62456286]\n",
      "  [0.76914537 0.7628404 ]\n",
      "  [0.45913315 0.308496  ]\n",
      "  [0.5244534  0.80049515]]\n",
      "\n",
      " [[0.78989947 0.29715443]\n",
      "  [0.06213367 0.3046744 ]\n",
      "  [0.9191748  0.46890056]\n",
      "  [0.1735295  0.8635168 ]\n",
      "  [0.36209726 0.36810887]]\n",
      "\n",
      " [[0.47330177 0.6807072 ]\n",
      "  [0.2522719  0.02376568]\n",
      "  [0.8912535  0.28865123]\n",
      "  [0.15856159 0.46589887]\n",
      "  [0.7337228  0.39314902]]\n",
      "\n",
      " [[0.3093865  0.44615376]\n",
      "  [0.85369444 0.35040128]\n",
      "  [0.9418485  0.7798326 ]\n",
      "  [0.9440527  0.12647521]\n",
      "  [0.65302646 0.67838395]]], shape=(8, 5, 2), dtype=float32)\n",
      "tf.Tensor(\n",
      "[[[0.6006433  0.81787026 0.55159366 0.11846972 0.6887318 ]\n",
      "  [0.67991614 0.12673628 0.44886363 0.9160278  0.8214159 ]]\n",
      "\n",
      " [[0.8509476  0.04173446 0.57558167 0.55009484 0.77765155]\n",
      "  [0.6643053  0.13981605 0.86658955 0.01074302 0.9054495 ]]\n",
      "\n",
      " [[0.7815635  0.3591491  0.56423914 0.8498039  0.7024456 ]\n",
      "  [0.5418669  0.93506575 0.41349697 0.04684567 0.3418888 ]]\n",
      "\n",
      " [[0.9156854  0.24824917 0.91608083 0.6768075  0.1852957 ]\n",
      "  [0.51061976 0.39826155 0.09705913 0.03017676 0.21276796]]\n",
      "\n",
      " [[0.06404328 0.92984366 0.76914537 0.45913315 0.5244534 ]\n",
      "  [0.15965962 0.62456286 0.7628404  0.308496   0.80049515]]\n",
      "\n",
      " [[0.78989947 0.06213367 0.9191748  0.1735295  0.36209726]\n",
      "  [0.29715443 0.3046744  0.46890056 0.8635168  0.36810887]]\n",
      "\n",
      " [[0.47330177 0.2522719  0.8912535  0.15856159 0.7337228 ]\n",
      "  [0.6807072  0.02376568 0.28865123 0.46589887 0.39314902]]\n",
      "\n",
      " [[0.3093865  0.85369444 0.9418485  0.9440527  0.65302646]\n",
      "  [0.44615376 0.35040128 0.7798326  0.12647521 0.67838395]]], shape=(8, 2, 5), dtype=float32)\n"
     ]
    }
   ],
   "source": [
    "logits = tf.random.uniform(shape=(8, 5, 2))\n",
    "print(logits)\n",
    "print(tf.transpose(logits, perm=[0, 2, 1]))"
   ],
   "metadata": {
    "collapsed": false,
    "pycharm": {
     "name": "#%%\n"
    }
   }
  },
  {
   "cell_type": "code",
   "execution_count": 7,
   "outputs": [
    {
     "data": {
      "text/plain": "<tfp.distributions.Independent 'IndependentBernoulli' batch_shape=[8, 2] event_shape=[5] dtype=int32>"
     },
     "execution_count": 7,
     "metadata": {},
     "output_type": "execute_result"
    }
   ],
   "source": [
    "tfd.Independent(tfd.Bernoulli(logits=tf.transpose(logits, perm=[0, 2, 1])), reinterpreted_batch_ndims=1)"
   ],
   "metadata": {
    "collapsed": false,
    "pycharm": {
     "name": "#%%\n"
    }
   }
  },
  {
   "cell_type": "code",
   "execution_count": null,
   "outputs": [],
   "source": [],
   "metadata": {
    "collapsed": false,
    "pycharm": {
     "name": "#%%\n"
    }
   }
  }
 ],
 "metadata": {
  "kernelspec": {
   "display_name": "Python 3",
   "language": "python",
   "name": "python3"
  },
  "language_info": {
   "codemirror_mode": {
    "name": "ipython",
    "version": 2
   },
   "file_extension": ".py",
   "mimetype": "text/x-python",
   "name": "python",
   "nbconvert_exporter": "python",
   "pygments_lexer": "ipython2",
   "version": "2.7.6"
  }
 },
 "nbformat": 4,
 "nbformat_minor": 0
}