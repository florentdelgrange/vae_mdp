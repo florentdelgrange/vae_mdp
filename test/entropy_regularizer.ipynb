{
 "cells": [
  {
   "cell_type": "code",
   "execution_count": 2,
   "metadata": {
    "collapsed": true
   },
   "outputs": [],
   "source": [
    "import tensorflow as tf\n",
    "import tensorflow_probability as tfp\n",
    "tfd = tfp.distributions"
   ]
  },
  {
   "cell_type": "code",
   "execution_count": 181,
   "outputs": [
    {
     "data": {
      "text/plain": "<tf.Tensor: shape=(5, 6), dtype=float32, numpy=\narray([[0.70125747, 0.59246445, 0.6469835 , 0.78929853, 0.4893242 ,\n        0.3564489 ],\n       [0.87974083, 0.8299811 , 0.4734974 , 0.06678545, 0.37019384,\n        0.8914565 ],\n       [0.9230031 , 0.97236   , 0.9784479 , 0.99113977, 0.6481546 ,\n        0.04302442],\n       [0.26199007, 0.6073632 , 0.41687417, 0.33327353, 0.5742605 ,\n        0.2488842 ],\n       [0.8426975 , 0.03221571, 0.45767534, 0.19128656, 0.23360837,\n        0.9743171 ]], dtype=float32)>"
     },
     "execution_count": 181,
     "metadata": {},
     "output_type": "execute_result"
    }
   ],
   "source": [
    "logits = tf.random.uniform(minval=0, maxval=1, seed=42, shape=(5, 6))\n",
    "logits"
   ],
   "metadata": {
    "collapsed": false,
    "pycharm": {
     "name": "#%%\n"
    }
   }
  },
  {
   "cell_type": "code",
   "execution_count": 182,
   "outputs": [
    {
     "data": {
      "text/plain": "<tfp.distributions.MixtureSameFamily 'MixtureSameFamily' batch_shape=[6] event_shape=[] dtype=float32>"
     },
     "execution_count": 182,
     "metadata": {},
     "output_type": "execute_result"
    }
   ],
   "source": [
    "Q_marginal = tfd.MixtureSameFamily(\n",
    "mixture_distribution=tfd.Categorical(logits=tf.zeros(tf.shape(logits)[0])),\n",
    "    components_distribution=tfd.RelaxedBernoulli(logits=tf.transpose(logits),\n",
    "                                                 temperature=1e-5)\n",
    ")\n",
    "Q_marginal"
   ],
   "metadata": {
    "collapsed": false,
    "pycharm": {
     "name": "#%%\n"
    }
   }
  },
  {
   "cell_type": "code",
   "execution_count": 183,
   "outputs": [
    {
     "data": {
      "text/plain": "<tf.Tensor: shape=(), dtype=float32, numpy=-18.08369>"
     },
     "execution_count": 183,
     "metadata": {},
     "output_type": "execute_result"
    }
   ],
   "source": [
    "x = Q_marginal.sample(512)\n",
    "x = tf.clip_by_value(x, 1e-7, 1.-1e-7)\n",
    "tf.reduce_mean(-1. * tf.reduce_sum(Q_marginal.log_prob(x), axis=1))\n"
   ],
   "metadata": {
    "collapsed": false,
    "pycharm": {
     "name": "#%%\n"
    }
   }
  },
  {
   "cell_type": "code",
   "execution_count": 186,
   "outputs": [
    {
     "data": {
      "text/plain": "<tf.Tensor: shape=(), dtype=float32, numpy=-3.0139532>"
     },
     "execution_count": 186,
     "metadata": {},
     "output_type": "execute_result"
    }
   ],
   "source": [
    "tf.reduce_mean(-1. * Q_marginal.log_prob(x))"
   ],
   "metadata": {
    "collapsed": false,
    "pycharm": {
     "name": "#%%\n"
    }
   }
  },
  {
   "cell_type": "code",
   "execution_count": 154,
   "outputs": [
    {
     "data": {
      "text/plain": "<tf.Tensor: shape=(5, 6), dtype=float32, numpy=\narray([[1.69425517e-01, 2.86047843e-08, 9.99991059e-01, 1.26213822e-11,\n        9.84694362e-01, 9.80800986e-01],\n       [1.12091314e-07, 9.99999821e-01, 1.00000000e+00, 9.99950886e-01,\n        9.99999762e-01, 9.99994159e-01],\n       [9.99905467e-01, 1.00000000e+00, 9.99999762e-01, 1.87024474e-03,\n        7.75832814e-06, 1.00000000e+00],\n       [1.64315952e-06, 1.31407887e-06, 9.98902619e-01, 2.60528028e-02,\n        1.00000000e+00, 9.99572515e-01],\n       [8.47551376e-02, 7.52730131e-01, 2.94035551e-09, 9.84307036e-08,\n        9.19312119e-01, 9.39749181e-01]], dtype=float32)>"
     },
     "execution_count": 154,
     "metadata": {},
     "output_type": "execute_result"
    }
   ],
   "source": [
    "tfd.RelaxedBernoulli(logits=logits[0], temperature=1e-5).sample(5)"
   ],
   "metadata": {
    "collapsed": false,
    "pycharm": {
     "name": "#%%\n"
    }
   }
  },
  {
   "cell_type": "code",
   "execution_count": 46,
   "outputs": [
    {
     "data": {
      "text/plain": "<tf.Tensor: shape=(5, 4, 5), dtype=float32, numpy=\narray([[[1., 0., 0., 0., 0.],\n        [1., 0., 0., 0., 0.],\n        [1., 0., 0., 0., 0.],\n        [1., 0., 0., 0., 0.]],\n\n       [[0., 1., 0., 0., 0.],\n        [0., 1., 0., 0., 0.],\n        [0., 1., 0., 0., 0.],\n        [0., 1., 0., 0., 0.]],\n\n       [[0., 0., 1., 0., 0.],\n        [0., 0., 1., 0., 0.],\n        [0., 0., 1., 0., 0.],\n        [0., 0., 1., 0., 0.]],\n\n       [[0., 0., 0., 1., 0.],\n        [0., 0., 0., 1., 0.],\n        [0., 0., 0., 1., 0.],\n        [0., 0., 0., 1., 0.]],\n\n       [[0., 0., 0., 0., 1.],\n        [0., 0., 0., 0., 1.],\n        [0., 0., 0., 0., 1.],\n        [0., 0., 0., 0., 1.]]], dtype=float32)>"
     },
     "execution_count": 46,
     "metadata": {},
     "output_type": "execute_result"
    }
   ],
   "source": [
    "tf.reshape(tf.repeat(tf.one_hot(tf.range(5), 5), 4, axis=0), shape=(5, 4, 5))"
   ],
   "metadata": {
    "collapsed": false,
    "pycharm": {
     "name": "#%%\n"
    }
   }
  },
  {
   "cell_type": "code",
   "execution_count": 40,
   "outputs": [],
   "source": [
    "logits = tf.random.uniform(shape=(4, 6))"
   ],
   "metadata": {
    "collapsed": false,
    "pycharm": {
     "name": "#%%\n"
    }
   }
  },
  {
   "cell_type": "code",
   "execution_count": 39,
   "outputs": [
    {
     "data": {
      "text/plain": "<tf.Tensor: shape=(5, 4, 6), dtype=float32, numpy=\narray([[[0.43997335, 0.7566391 , 0.72414565, 0.8721417 , 0.77916086,\n         0.8345915 ],\n        [0.8838308 , 0.9762491 , 0.9743644 , 0.60298705, 0.9274093 ,\n         0.16422224],\n        [0.16155815, 0.40403342, 0.6110437 , 0.7467438 , 0.37594604,\n         0.8383919 ],\n        [0.1807034 , 0.78149307, 0.10201752, 0.9994273 , 0.84367716,\n         0.97526073]],\n\n       [[0.43997335, 0.7566391 , 0.72414565, 0.8721417 , 0.77916086,\n         0.8345915 ],\n        [0.8838308 , 0.9762491 , 0.9743644 , 0.60298705, 0.9274093 ,\n         0.16422224],\n        [0.16155815, 0.40403342, 0.6110437 , 0.7467438 , 0.37594604,\n         0.8383919 ],\n        [0.1807034 , 0.78149307, 0.10201752, 0.9994273 , 0.84367716,\n         0.97526073]],\n\n       [[0.43997335, 0.7566391 , 0.72414565, 0.8721417 , 0.77916086,\n         0.8345915 ],\n        [0.8838308 , 0.9762491 , 0.9743644 , 0.60298705, 0.9274093 ,\n         0.16422224],\n        [0.16155815, 0.40403342, 0.6110437 , 0.7467438 , 0.37594604,\n         0.8383919 ],\n        [0.1807034 , 0.78149307, 0.10201752, 0.9994273 , 0.84367716,\n         0.97526073]],\n\n       [[0.43997335, 0.7566391 , 0.72414565, 0.8721417 , 0.77916086,\n         0.8345915 ],\n        [0.8838308 , 0.9762491 , 0.9743644 , 0.60298705, 0.9274093 ,\n         0.16422224],\n        [0.16155815, 0.40403342, 0.6110437 , 0.7467438 , 0.37594604,\n         0.8383919 ],\n        [0.1807034 , 0.78149307, 0.10201752, 0.9994273 , 0.84367716,\n         0.97526073]],\n\n       [[0.43997335, 0.7566391 , 0.72414565, 0.8721417 , 0.77916086,\n         0.8345915 ],\n        [0.8838308 , 0.9762491 , 0.9743644 , 0.60298705, 0.9274093 ,\n         0.16422224],\n        [0.16155815, 0.40403342, 0.6110437 , 0.7467438 , 0.37594604,\n         0.8383919 ],\n        [0.1807034 , 0.78149307, 0.10201752, 0.9994273 , 0.84367716,\n         0.97526073]]], dtype=float32)>"
     },
     "execution_count": 39,
     "metadata": {},
     "output_type": "execute_result"
    }
   ],
   "source": [
    "tf.stack([logits] * 5)"
   ],
   "metadata": {
    "collapsed": false,
    "pycharm": {
     "name": "#%%\n"
    }
   }
  },
  {
   "cell_type": "code",
   "execution_count": 42,
   "outputs": [
    {
     "data": {
      "text/plain": "<tf.Tensor: shape=(5, 5, 5), dtype=float32, numpy=\narray([[[1., 0., 0., 0., 0.],\n        [0., 1., 0., 0., 0.],\n        [0., 0., 1., 0., 0.],\n        [0., 0., 0., 1., 0.],\n        [0., 0., 0., 0., 1.]],\n\n       [[1., 0., 0., 0., 0.],\n        [0., 1., 0., 0., 0.],\n        [0., 0., 1., 0., 0.],\n        [0., 0., 0., 1., 0.],\n        [0., 0., 0., 0., 1.]],\n\n       [[1., 0., 0., 0., 0.],\n        [0., 1., 0., 0., 0.],\n        [0., 0., 1., 0., 0.],\n        [0., 0., 0., 1., 0.],\n        [0., 0., 0., 0., 1.]],\n\n       [[1., 0., 0., 0., 0.],\n        [0., 1., 0., 0., 0.],\n        [0., 0., 1., 0., 0.],\n        [0., 0., 0., 1., 0.],\n        [0., 0., 0., 0., 1.]],\n\n       [[1., 0., 0., 0., 0.],\n        [0., 1., 0., 0., 0.],\n        [0., 0., 1., 0., 0.],\n        [0., 0., 0., 1., 0.],\n        [0., 0., 0., 0., 1.]]], dtype=float32)>"
     },
     "execution_count": 42,
     "metadata": {},
     "output_type": "execute_result"
    }
   ],
   "source": [
    "tf.stack([tf.one_hot(tf.range(5), 5)] * 5)"
   ],
   "metadata": {
    "collapsed": false,
    "pycharm": {
     "name": "#%%\n"
    }
   }
  },
  {
   "cell_type": "code",
   "execution_count": 64,
   "outputs": [
    {
     "data": {
      "text/plain": "<tf.Tensor: shape=(3, 5), dtype=float32, numpy=\narray([[0., 0., 1., 0., 0.],\n       [0., 0., 1., 0., 0.],\n       [0., 0., 1., 0., 0.]], dtype=float32)>"
     },
     "execution_count": 64,
     "metadata": {},
     "output_type": "execute_result"
    }
   ],
   "source": [
    "tf.reshape(tf.repeat(tf.expand_dims(tf.one_hot(2, 5), axis=0), 3, axis=0), shape=(3, 5))"
   ],
   "metadata": {
    "collapsed": false,
    "pycharm": {
     "name": "#%%\n"
    }
   }
  },
  {
   "cell_type": "code",
   "execution_count": 60,
   "outputs": [
    {
     "data": {
      "text/plain": "<tf.Tensor: shape=(3, 5), dtype=float32, numpy=\narray([[0., 0., 1., 0., 0.],\n       [0., 0., 1., 0., 0.],\n       [0., 0., 1., 0., 0.]], dtype=float32)>"
     },
     "execution_count": 60,
     "metadata": {},
     "output_type": "execute_result"
    }
   ],
   "source": [
    "tf.stack([tf.one_hot(2, 5)] * 3)"
   ],
   "metadata": {
    "collapsed": false,
    "pycharm": {
     "name": "#%%\n"
    }
   }
  },
  {
   "cell_type": "code",
   "execution_count": 4,
   "outputs": [
    {
     "name": "stdout",
     "output_type": "stream",
     "text": [
      "action tf.Tensor(\n",
      "[[1. 0.]\n",
      " [1. 0.]\n",
      " [0. 1.]\n",
      " [0. 1.]\n",
      " [0. 1.]\n",
      " [1. 0.]], shape=(6, 2), dtype=float32)\n",
      "latent_states_stack tf.Tensor(\n",
      "[[[0.29822934 0.83325636 0.142084  ]\n",
      "  [0.81573653 0.8939357  0.21609187]]\n",
      "\n",
      " [[0.66496444 0.90702116 0.05573988]\n",
      "  [0.4616239  0.8716624  0.21884048]]\n",
      "\n",
      " [[0.3344425  0.51248133 0.19966173]\n",
      "  [0.7560613  0.01114261 0.44287622]]\n",
      "\n",
      " [[0.5316609  0.12373877 0.35417366]\n",
      "  [0.6469995  0.06985843 0.6044067 ]]\n",
      "\n",
      " [[0.8172021  0.31625688 0.7307626 ]\n",
      "  [0.3524387  0.87245095 0.68590915]]\n",
      "\n",
      " [[0.19558418 0.15751529 0.39862943]\n",
      "  [0.20925236 0.28273594 0.54019547]]], shape=(6, 2, 3), dtype=float32)\n",
      "action_tile tf.Tensor(\n",
      "[[[1. 1. 1.]\n",
      "  [0. 0. 0.]]\n",
      "\n",
      " [[1. 1. 1.]\n",
      "  [0. 0. 0.]]\n",
      "\n",
      " [[0. 0. 0.]\n",
      "  [1. 1. 1.]]\n",
      "\n",
      " [[0. 0. 0.]\n",
      "  [1. 1. 1.]]\n",
      "\n",
      " [[0. 0. 0.]\n",
      "  [1. 1. 1.]]\n",
      "\n",
      " [[1. 1. 1.]\n",
      "  [0. 0. 0.]]], shape=(6, 2, 3), dtype=float32)\n",
      "mult tf.Tensor(\n",
      "[[[0.29822934 0.83325636 0.142084  ]\n",
      "  [0.         0.         0.        ]]\n",
      "\n",
      " [[0.66496444 0.90702116 0.05573988]\n",
      "  [0.         0.         0.        ]]\n",
      "\n",
      " [[0.         0.         0.        ]\n",
      "  [0.7560613  0.01114261 0.44287622]]\n",
      "\n",
      " [[0.         0.         0.        ]\n",
      "  [0.6469995  0.06985843 0.6044067 ]]\n",
      "\n",
      " [[0.         0.         0.        ]\n",
      "  [0.3524387  0.87245095 0.68590915]]\n",
      "\n",
      " [[0.19558418 0.15751529 0.39862943]\n",
      "  [0.         0.         0.        ]]], shape=(6, 2, 3), dtype=float32)\n",
      "tf.Tensor(\n",
      "[[0.29822934 0.83325636 0.142084  ]\n",
      " [0.66496444 0.90702116 0.05573988]\n",
      " [0.7560613  0.01114261 0.44287622]\n",
      " [0.6469995  0.06985843 0.6044067 ]\n",
      " [0.3524387  0.87245095 0.68590915]\n",
      " [0.19558418 0.15751529 0.39862943]], shape=(6, 3), dtype=float32)\n"
     ]
    }
   ],
   "source": [
    "latent_state_size = 3\n",
    "batch_size = 6\n",
    "action_size = 2\n",
    "\n",
    "action = tf.random.uniform(\n",
    "    shape=(batch_size, ), minval=0, maxval=action_size, dtype=tf.int32, seed=42)\n",
    "action = tf.one_hot(action, action_size)\n",
    "\n",
    "latent_states_logits = []\n",
    "for _ in range(action_size):\n",
    "    latent_states_logits.append(\n",
    "        tf.random.uniform(shape=(batch_size, latent_state_size), seed=42))\n",
    "# latent_states_stack = tf.stack(latent_states_logits, axis=1)\n",
    "\n",
    "latent_states_stack = tf.random.uniform(shape=(batch_size, action_size, latent_state_size))\n",
    "action_expand_dims = tf.expand_dims(action, -1)\n",
    "action_tile = tf.tile(action_expand_dims, (1, 1, latent_state_size))\n",
    "mult = action_tile * latent_states_stack\n",
    "latent_states = tf.reduce_sum(mult, axis=1)\n",
    "\n",
    "print(\"action\", action)\n",
    "print(\"latent_states_stack\", latent_states_stack)\n",
    "print(\"action_tile\", action_tile)\n",
    "print(\"mult\", mult)\n",
    "print(latent_states)"
   ],
   "metadata": {
    "collapsed": false,
    "pycharm": {
     "name": "#%%\n"
    }
   }
  },
  {
   "cell_type": "code",
   "execution_count": 27,
   "outputs": [
    {
     "name": "stdout",
     "output_type": "stream",
     "text": [
      "tf.Tensor(\n",
      "[[[0. 0. 0.]\n",
      "  [1. 1. 1.]]\n",
      "\n",
      " [[0. 0. 0.]\n",
      "  [1. 1. 1.]]\n",
      "\n",
      " [[1. 1. 1.]\n",
      "  [0. 0. 0.]]\n",
      "\n",
      " [[0. 0. 0.]\n",
      "  [1. 1. 1.]]\n",
      "\n",
      " [[1. 1. 1.]\n",
      "  [0. 0. 0.]]\n",
      "\n",
      " [[1. 1. 1.]\n",
      "  [0. 0. 0.]]], shape=(6, 2, 3), dtype=float32)\n",
      "tf.Tensor(\n",
      "[[[0. 0. 0.]\n",
      "  [1. 1. 1.]]\n",
      "\n",
      " [[0. 0. 0.]\n",
      "  [1. 1. 1.]]\n",
      "\n",
      " [[1. 1. 1.]\n",
      "  [0. 0. 0.]]\n",
      "\n",
      " [[0. 0. 0.]\n",
      "  [1. 1. 1.]]\n",
      "\n",
      " [[1. 1. 1.]\n",
      "  [0. 0. 0.]]\n",
      "\n",
      " [[1. 1. 1.]\n",
      "  [0. 0. 0.]]], shape=(6, 2, 3), dtype=float32)\n"
     ]
    },
    {
     "data": {
      "text/plain": "<tf.Tensor: shape=(6, 2, 3), dtype=float32, numpy=\narray([[[0., 0., 0.],\n        [1., 1., 1.]],\n\n       [[0., 0., 0.],\n        [1., 1., 1.]],\n\n       [[1., 1., 1.],\n        [0., 0., 0.]],\n\n       [[0., 0., 0.],\n        [1., 1., 1.]],\n\n       [[1., 1., 1.],\n        [0., 0., 0.]],\n\n       [[1., 1., 1.],\n        [0., 0., 0.]]], dtype=float32)>"
     },
     "execution_count": 27,
     "metadata": {},
     "output_type": "execute_result"
    }
   ],
   "source": [
    "print(tf.tile(action_expand_dims, (1, 1, latent_state_size)))\n",
    "print(tf.reshape(tf.repeat(action_expand_dims, latent_state_size), shape=(batch_size, action_size, latent_state_size)))\n",
    "print(tf.repeat(action_expand_dims, latent_state_size, axis=-1))"
   ],
   "metadata": {
    "collapsed": false,
    "pycharm": {
     "name": "#%%\n"
    }
   }
  },
  {
   "cell_type": "code",
   "execution_count": 9,
   "outputs": [
    {
     "data": {
      "text/plain": "<tf.Tensor: shape=(6, 2, 3), dtype=float32, numpy=\narray([[[1., 1., 1.],\n        [0., 0., 0.]],\n\n       [[1., 1., 1.],\n        [0., 0., 0.]],\n\n       [[0., 0., 0.],\n        [1., 1., 1.]],\n\n       [[0., 0., 0.],\n        [1., 1., 1.]],\n\n       [[0., 0., 0.],\n        [1., 1., 1.]],\n\n       [[1., 1., 1.],\n        [0., 0., 0.]]], dtype=float32)>"
     },
     "execution_count": 9,
     "metadata": {},
     "output_type": "execute_result"
    }
   ],
   "source": [
    "layers = []\n",
    "# layers.append(tf.keras.layers.Lambda(lambda x: tf.expand_dims(x, -1)))\n",
    "layers.append(tf.keras.layers.RepeatVector(latent_state_size))\n",
    "layers.append(tf.keras.layers.Permute(dims=(2, 1)))\n",
    "sequential = tf.keras.Sequential(layers)\n",
    "sequential(action)"
   ],
   "metadata": {
    "collapsed": false,
    "pycharm": {
     "name": "#%%\n"
    }
   }
  },
  {
   "cell_type": "code",
   "execution_count": null,
   "outputs": [],
   "source": [],
   "metadata": {
    "collapsed": false,
    "pycharm": {
     "name": "#%%\n"
    }
   }
  }
 ],
 "metadata": {
  "kernelspec": {
   "display_name": "Python 3",
   "language": "python",
   "name": "python3"
  },
  "language_info": {
   "codemirror_mode": {
    "name": "ipython",
    "version": 2
   },
   "file_extension": ".py",
   "mimetype": "text/x-python",
   "name": "python",
   "nbconvert_exporter": "python",
   "pygments_lexer": "ipython2",
   "version": "2.7.6"
  }
 },
 "nbformat": 4,
 "nbformat_minor": 0
}