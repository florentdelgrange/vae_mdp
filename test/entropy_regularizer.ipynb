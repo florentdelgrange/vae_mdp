{
 "cells": [
  {
   "cell_type": "code",
   "execution_count": 12,
   "metadata": {
    "collapsed": true
   },
   "outputs": [],
   "source": [
    "import tensorflow as tf\n",
    "import tensorflow_probability as tfp\n",
    "tfd = tfp.distributions\n",
    "import numpy as np"
   ]
  },
  {
   "cell_type": "code",
   "execution_count": null,
   "outputs": [],
   "source": [
    "logits = tf.random.uniform(minval=0, maxval=1, seed=42, shape=(5, 6))\n",
    "logits"
   ],
   "metadata": {
    "collapsed": false,
    "pycharm": {
     "name": "#%%\n"
    }
   }
  },
  {
   "cell_type": "code",
   "execution_count": null,
   "outputs": [],
   "source": [
    "Q_marginal = tfd.MixtureSameFamily(\n",
    "mixture_distribution=tfd.Categorical(logits=tf.zeros(tf.shape(logits)[0])),\n",
    "    components_distribution=tfd.RelaxedBernoulli(logits=tf.transpose(logits),\n",
    "                                                 temperature=1e-5)\n",
    ")\n",
    "Q_marginal"
   ],
   "metadata": {
    "collapsed": false,
    "pycharm": {
     "name": "#%%\n"
    }
   }
  },
  {
   "cell_type": "code",
   "execution_count": null,
   "outputs": [],
   "source": [
    "x = Q_marginal.sample(512)\n",
    "x = tf.clip_by_value(x, 1e-7, 1.-1e-7)\n",
    "tf.reduce_mean(-1. * tf.reduce_sum(Q_marginal.log_prob(x), axis=1))\n"
   ],
   "metadata": {
    "collapsed": false,
    "pycharm": {
     "name": "#%%\n"
    }
   }
  },
  {
   "cell_type": "code",
   "execution_count": null,
   "outputs": [],
   "source": [
    "tf.reduce_mean(-1. * Q_marginal.log_prob(x))"
   ],
   "metadata": {
    "collapsed": false,
    "pycharm": {
     "name": "#%%\n"
    }
   }
  },
  {
   "cell_type": "code",
   "execution_count": null,
   "outputs": [],
   "source": [
    "tfd.RelaxedBernoulli(logits=logits[0], temperature=1e-5).sample(5)"
   ],
   "metadata": {
    "collapsed": false,
    "pycharm": {
     "name": "#%%\n"
    }
   }
  },
  {
   "cell_type": "code",
   "execution_count": null,
   "outputs": [],
   "source": [
    "tf.reshape(tf.repeat(tf.one_hot(tf.range(5), 5), 4, axis=0), shape=(5, 4, 5))"
   ],
   "metadata": {
    "collapsed": false,
    "pycharm": {
     "name": "#%%\n"
    }
   }
  },
  {
   "cell_type": "code",
   "execution_count": null,
   "outputs": [],
   "source": [
    "logits = tf.random.uniform(shape=(4, 6))"
   ],
   "metadata": {
    "collapsed": false,
    "pycharm": {
     "name": "#%%\n"
    }
   }
  },
  {
   "cell_type": "code",
   "execution_count": null,
   "outputs": [],
   "source": [
    "tf.stack([logits] * 5)"
   ],
   "metadata": {
    "collapsed": false,
    "pycharm": {
     "name": "#%%\n"
    }
   }
  },
  {
   "cell_type": "code",
   "execution_count": null,
   "outputs": [],
   "source": [
    "tf.stack([tf.one_hot(tf.range(5), 5)] * 5)"
   ],
   "metadata": {
    "collapsed": false,
    "pycharm": {
     "name": "#%%\n"
    }
   }
  },
  {
   "cell_type": "code",
   "execution_count": null,
   "outputs": [],
   "source": [
    "tf.reshape(tf.repeat(tf.expand_dims(tf.one_hot(2, 5), axis=0), 3, axis=0), shape=(3, 5))"
   ],
   "metadata": {
    "collapsed": false,
    "pycharm": {
     "name": "#%%\n"
    }
   }
  },
  {
   "cell_type": "code",
   "execution_count": null,
   "outputs": [],
   "source": [
    "tf.stack([tf.one_hot(2, 5)] * 3)"
   ],
   "metadata": {
    "collapsed": false,
    "pycharm": {
     "name": "#%%\n"
    }
   }
  },
  {
   "cell_type": "code",
   "execution_count": null,
   "outputs": [],
   "source": [
    "latent_state_size = 3\n",
    "batch_size = 6\n",
    "action_size = 2\n",
    "\n",
    "action = tf.random.uniform(\n",
    "    shape=(batch_size, ), minval=0, maxval=action_size, dtype=tf.int32, seed=42)\n",
    "action = tf.one_hot(action, action_size)\n",
    "\n",
    "latent_states_logits = []\n",
    "for _ in range(action_size):\n",
    "    latent_states_logits.append(\n",
    "        tf.random.uniform(shape=(batch_size, latent_state_size), seed=42))\n",
    "# latent_states_stack = tf.stack(latent_states_logits, axis=1)\n",
    "\n",
    "latent_states_stack = tf.random.uniform(shape=(batch_size, action_size, latent_state_size))\n",
    "action_expand_dims = tf.expand_dims(action, -1)\n",
    "action_tile = tf.tile(action_expand_dims, (1, 1, latent_state_size))\n",
    "mult = action_tile * latent_states_stack\n",
    "latent_states = tf.reduce_sum(mult, axis=1)\n",
    "\n",
    "print(\"action\", action)\n",
    "print(\"latent_states_stack\", latent_states_stack)\n",
    "print(\"action_tile\", action_tile)\n",
    "print(\"mult\", mult)\n",
    "print(latent_states)"
   ],
   "metadata": {
    "collapsed": false,
    "pycharm": {
     "name": "#%%\n"
    }
   }
  },
  {
   "cell_type": "code",
   "execution_count": null,
   "outputs": [],
   "source": [
    "print(tf.tile(action_expand_dims, (1, 1, latent_state_size)))\n",
    "print(tf.reshape(tf.repeat(action_expand_dims, latent_state_size), shape=(batch_size, action_size, latent_state_size)))\n",
    "print(tf.repeat(action_expand_dims, latent_state_size, axis=-1))"
   ],
   "metadata": {
    "collapsed": false,
    "pycharm": {
     "name": "#%%\n"
    }
   }
  },
  {
   "cell_type": "code",
   "execution_count": null,
   "outputs": [],
   "source": [
    "layers = []\n",
    "# layers.append(tf.keras.layers.Lambda(lambda x: tf.expand_dims(x, -1)))\n",
    "layers.append(tf.keras.layers.RepeatVector(latent_state_size))\n",
    "layers.append(tf.keras.layers.Permute(dims=(2, 1)))\n",
    "sequential = tf.keras.Sequential(layers)\n",
    "sequential(action)"
   ],
   "metadata": {
    "collapsed": false,
    "pycharm": {
     "name": "#%%\n"
    }
   }
  },
  {
   "cell_type": "code",
   "execution_count": null,
   "outputs": [],
   "source": [
    "labels_logits = tf.random.uniform(shape=(8, 3))\n",
    "latent_states_logits = tf.random.uniform(shape=(8, 7))\n",
    "joint_distribution = tfd.JointDistributionSequential(\n",
    "    [\n",
    "        tfd.Independent(tfd.Bernoulli(logits=labels_logits, dtype=tf.float32)),\n",
    "        lambda l: tfd.Independent(\n",
    "            tfd.Logistic(loc=tf.concat([latent_states_logits, l], axis=-1) / 0.5,\n",
    "                               scale=1. / 0.5))\n",
    "    ], validate_args=True\n",
    ")\n",
    "samples = joint_distribution.sample()\n",
    "samples"
   ],
   "metadata": {
    "collapsed": false,
    "pycharm": {
     "name": "#%%\n"
    }
   }
  },
  {
   "cell_type": "code",
   "execution_count": null,
   "outputs": [],
   "source": [
    "next_label = tf.round(tf.random.uniform(shape=(8, 3), maxval=1, dtype=tf.float32))\n",
    "next_latent_state = tf.random.uniform(shape=(8, 10))\n",
    "next_label, next_latent_state"
   ],
   "metadata": {
    "collapsed": false,
    "pycharm": {
     "name": "#%%\n"
    }
   }
  },
  {
   "cell_type": "code",
   "execution_count": null,
   "outputs": [],
   "source": [
    "joint_distribution.log_prob(samples)"
   ],
   "metadata": {
    "collapsed": false,
    "pycharm": {
     "name": "#%%\n"
    }
   }
  },
  {
   "cell_type": "code",
   "execution_count": null,
   "outputs": [],
   "source": [
    "joint_distribution.log_prob_parts(samples)"
   ],
   "metadata": {
    "collapsed": false,
    "pycharm": {
     "name": "#%%\n"
    }
   }
  },
  {
   "cell_type": "code",
   "execution_count": null,
   "outputs": [],
   "source": [
    "tfd.Independent(tfd.Bernoulli(logits=labels_logits, dtype=tf.float32)).kl_divergence(\n",
    "    tfd.Independent(tfd.Bernoulli(logits=labels_logits/3., dtype=tf.float32)),\n",
    ")"
   ],
   "metadata": {
    "collapsed": false,
    "pycharm": {
     "name": "#%%\n"
    }
   }
  },
  {
   "cell_type": "code",
   "execution_count": null,
   "outputs": [],
   "source": [
    "d = tfd.Independent(tfd.Bernoulli(logits=labels_logits, dtype=tf.float32))\n",
    "d.log_prob(samples[0])"
   ],
   "metadata": {
    "collapsed": false,
    "pycharm": {
     "name": "#%%\n"
    }
   }
  },
  {
   "cell_type": "code",
   "execution_count": null,
   "outputs": [],
   "source": [
    "latent_states_logits = tf.random.uniform(shape=(2, 5))\n",
    "print(latent_states_logits)\n",
    "tf.tile(tf.expand_dims(latent_states_logits, axis=0), [2, 1, 1])"
   ],
   "metadata": {
    "collapsed": false,
    "pycharm": {
     "name": "#%%\n"
    }
   }
  },
  {
   "cell_type": "code",
   "execution_count": null,
   "outputs": [],
   "source": [
    "logits = tf.random.uniform(shape=(8, 5, 2))\n",
    "print(logits)\n",
    "print(tf.transpose(logits, perm=[0, 2, 1]))"
   ],
   "metadata": {
    "collapsed": false,
    "pycharm": {
     "name": "#%%\n"
    }
   }
  },
  {
   "cell_type": "code",
   "execution_count": null,
   "outputs": [],
   "source": [
    "tfd.Independent(tfd.Bernoulli(logits=tf.transpose(logits, perm=[0, 2, 1])), reinterpreted_batch_ndims=1)"
   ],
   "metadata": {
    "collapsed": false,
    "pycharm": {
     "name": "#%%\n"
    }
   }
  },
  {
   "cell_type": "code",
   "execution_count": null,
   "outputs": [],
   "source": [
    "np.unpackbits(np.array([[1, 3, 5, 256]], np.uint8)).reshape(-1, 16)"
   ],
   "metadata": {
    "collapsed": false,
    "pycharm": {
     "name": "#%%\n"
    }
   }
  },
  {
   "cell_type": "code",
   "execution_count": 11,
   "outputs": [
    {
     "data": {
      "text/plain": "<tf.Tensor: shape=(4096, 12), dtype=int32, numpy=\narray([[0, 0, 0, ..., 0, 0, 0],\n       [1, 0, 0, ..., 0, 0, 0],\n       [0, 1, 0, ..., 0, 0, 0],\n       ...,\n       [1, 0, 1, ..., 1, 1, 1],\n       [0, 1, 1, ..., 1, 1, 1],\n       [1, 1, 1, ..., 1, 1, 1]], dtype=int32)>"
     },
     "execution_count": 11,
     "metadata": {},
     "output_type": "execute_result"
    }
   ],
   "source": [
    "x = tf.range(2**12)\n",
    "latent_state_size = 12\n",
    "tf.map_fn(lambda n: (n // 2 ** tf.range(latent_state_size)) % 2, x)\n",
    "# print(tf.reduce_sum(_x * 2**tf.range(12), axis=-1))"
   ],
   "metadata": {
    "collapsed": false,
    "pycharm": {
     "name": "#%%\n"
    }
   }
  },
  {
   "cell_type": "code",
   "execution_count": 16,
   "outputs": [
    {
     "name": "stdout",
     "output_type": "stream",
     "text": [
      "tf.Tensor([3 3 2 2 2 2 4 3 3], shape=(9,), dtype=int32) tf.Tensor([0 0 0 0 0 1 1 1 1], shape=(9,), dtype=int32) tf.Tensor([1 1 2 1 3 4 5 5 3], shape=(9,), dtype=int32)\n"
     ]
    }
   ],
   "source": [
    "states = tf.constant([3, 3, 2, 2, 2, 2, 4, 3, 3])\n",
    "actions = tf.constant([0, 0, 0, 0, 0, 1, 1, 1, 1])\n",
    "next_states = tf.constant([1, 1, 2, 1, 3, 4, 5, 5, 3])\n",
    "print(states, actions, next_states)"
   ],
   "metadata": {
    "collapsed": false,
    "pycharm": {
     "name": "#%%\n"
    }
   }
  },
  {
   "cell_type": "code",
   "execution_count": 29,
   "outputs": [
    {
     "name": "stdout",
     "output_type": "stream",
     "text": [
      "tf.Tensor([37 26 25 27 34 59 47 45], shape=(8,), dtype=int32)\n",
      "tf.Tensor([2 1 1 1 1 1 1 1], shape=(8,), dtype=int32)\n"
     ]
    }
   ],
   "source": [
    "num_states = 6\n",
    "num_actions = 2\n",
    "\n",
    "transitions = (states * num_actions * num_states +  # index of the state group\n",
    "               actions * num_states +  # index of the action group\n",
    "               next_states)  # index of the next state\n",
    "transitions, _, count = tf.unique_with_counts(transitions)\n",
    "\n",
    "print(transitions)\n",
    "print(count)"
   ],
   "metadata": {
    "collapsed": false,
    "pycharm": {
     "name": "#%%\n"
    }
   }
  },
  {
   "cell_type": "code",
   "execution_count": 30,
   "outputs": [
    {
     "name": "stdout",
     "output_type": "stream",
     "text": [
      "tf.Tensor([37 26 25 27 34 59 47 45], shape=(8,), dtype=int32)\n"
     ]
    }
   ],
   "source": [
    "new_transitions = tf.stack([transitions // (num_states * num_actions), transitions % num_states], axis=-1)\n",
    "print(transitions)"
   ],
   "metadata": {
    "collapsed": false,
    "pycharm": {
     "name": "#%%\n"
    }
   }
  },
  {
   "cell_type": "code",
   "execution_count": null,
   "outputs": [],
   "source": [
    "sparse_transitions = tf.sparse.SparseTensor(\n",
    "    indices=transitions,\n",
    "    values=count,\n",
    "    dense_shape=(num_states * num_actions, num_states)\n",
    ")"
   ],
   "metadata": {
    "collapsed": false,
    "pycharm": {
     "name": "#%%\n"
    }
   }
  },
  {
   "cell_type": "code",
   "execution_count": null,
   "outputs": [],
   "source": [],
   "metadata": {
    "collapsed": false,
    "pycharm": {
     "name": "#%%\n"
    }
   }
  }
 ],
 "metadata": {
  "kernelspec": {
   "display_name": "Python 3",
   "language": "python",
   "name": "python3"
  },
  "language_info": {
   "codemirror_mode": {
    "name": "ipython",
    "version": 2
   },
   "file_extension": ".py",
   "mimetype": "text/x-python",
   "name": "python",
   "nbconvert_exporter": "python",
   "pygments_lexer": "ipython2",
   "version": "2.7.6"
  }
 },
 "nbformat": 4,
 "nbformat_minor": 0
}