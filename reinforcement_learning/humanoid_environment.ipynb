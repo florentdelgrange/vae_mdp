{
 "cells": [
  {
   "cell_type": "code",
   "execution_count": null,
   "metadata": {
    "collapsed": true
   },
   "outputs": [],
   "source": [
    "import os\n",
    "import gym\n",
    "import imageio\n",
    "import pybullet_envs\n",
    "import PIL.Image\n",
    "import pybullet\n",
    "import pybullet_data"
   ]
  },
  {
   "cell_type": "code",
   "execution_count": null,
   "outputs": [],
   "source": [
    "from tf_agents.agents.reinforce import reinforce_agent\n",
    "from tf_agents.networks import actor_distribution_network\n",
    "from tf_agents.replay_buffers import tf_uniform_replay_buffer\n",
    "env = gym.make('HumanoidBulletEnv-v0')\n",
    "# env.render(mode='human')\n",
    "env.reset()\n",
    "PIL.Image.fromarray(env.render(mode='rgb_array'))\n",
    "\n"
   ],
   "metadata": {
    "collapsed": false,
    "pycharm": {
     "name": "#%%\n",
     "is_executing": true
    }
   }
  },
  {
   "cell_type": "code",
   "execution_count": null,
   "outputs": [],
   "source": [
    "done = False\n",
    "video_filename = 'humanoid_gym.mp4'\n",
    "with imageio.get_writer(video_filename, fps=60) as video:\n",
    "    while not done:\n",
    "        state, reward, done, info = env.step(env.action_space.sample())\n",
    "        video.append_data(env.render(mode='rgb_array'))\n",
    "env.reset()"
   ],
   "metadata": {
    "collapsed": false,
    "pycharm": {
     "name": "#%%\n",
     "is_executing": true
    }
   }
  },
  {
   "cell_type": "code",
   "execution_count": 2,
   "outputs": [],
   "source": [
    "# Pybullet testing environment\n",
    "import PIL.Image\n",
    "import os\n",
    "# Important: pybullet should be charged only once !!\n",
    "from tf_agents.environments import suite_pybullet, parallel_py_environment\n",
    "from tf_agents.environments import tf_py_environment\n",
    "from tf_agents.trajectories.trajectory import Trajectory\n",
    "from tf_agents.networks import actor_distribution_network\n",
    "from tf_agents.drivers import dynamic_episode_driver, dynamic_step_driver\n",
    "from tf_agents.policies import random_tf_policy\n",
    "import tensorflow as tf"
   ],
   "metadata": {
    "collapsed": false,
    "pycharm": {
     "name": "#%%\n"
    }
   }
  },
  {
   "cell_type": "code",
   "execution_count": 2,
   "outputs": [
    {
     "name": "stderr",
     "output_type": "stream",
     "text": [
      "/home/florent/anaconda3/envs/vae_mdp/lib/python3.7/site-packages/gym/logger.py:30: UserWarning: \u001B[33mWARN: gym.spaces.Box autodetected dtype as <class 'numpy.float32'>. Please provide explicit dtype.\u001B[0m\n",
      "  warnings.warn(colorize('%s: %s'%('WARN', msg % args), 'yellow'))\n"
     ]
    },
    {
     "data": {
      "text/plain": "<PIL.Image.Image image mode=RGB size=320x240 at 0x7FA28421A9D0>",
      "image/png": "[encoded data removed]"
     },
     "execution_count": 2,
     "metadata": {},
     "output_type": "execute_result"
    }
   ],
   "source": [
    "py_env = suite_pybullet.load('HumanoidBulletEnv-v0')\n",
    "py_env.render(mode='human')\n",
    "py_env.reset()\n",
    "PIL.Image.fromarray(py_env.render())"
   ],
   "metadata": {
    "collapsed": false,
    "pycharm": {
     "name": "#%% Open Pybullet gui for the humanoid environment\n"
    }
   }
  },
  {
   "cell_type": "code",
   "execution_count": 43,
   "outputs": [
    {
     "name": "stdout",
     "output_type": "stream",
     "text": [
      "bad state!: 0.7644143104553223\n",
      "bad state!: 0.7669100761413574\n",
      "bad state!: 0.7689265012741089\n",
      "bad state!: 0.7715256214141846\n",
      "bad state!: 0.7759760618209839\n",
      "bad state!: 0.7670365571975708\n",
      "bad state!: 0.763435959815979\n",
      "bad state!: 0.7604746222496033\n",
      "bad state!: 0.756405770778656\n",
      "bad state!: 0.7520368695259094\n",
      "bad state!: 0.7748213410377502\n"
     ]
    },
    {
     "data": {
      "text/plain": "(TimeStep(step_type=<tf.Tensor: shape=(1,), dtype=int32, numpy=array([0], dtype=int32)>, reward=<tf.Tensor: shape=(1,), dtype=float32, numpy=array([0.], dtype=float32)>, discount=<tf.Tensor: shape=(1,), dtype=float32, numpy=array([1.], dtype=float32)>, observation=<tf.Tensor: shape=(1, 44), dtype=float32, numpy=\n array([[ 5.99999964e-01,  7.11754046e-06,  1.00000000e+00,\n          0.00000000e+00,  0.00000000e+00,  0.00000000e+00,\n          0.00000000e+00, -0.00000000e+00,  6.08818755e-02,\n          0.00000000e+00,  4.38749433e-01,  0.00000000e+00,\n         -9.28759202e-02,  0.00000000e+00,  1.01374447e+00,\n          0.00000000e+00,  2.75345892e-01,  0.00000000e+00,\n          6.98572040e-01,  0.00000000e+00,  1.06552875e+00,\n          0.00000000e+00,  1.02481306e+00,  0.00000000e+00,\n          2.89953083e-01,  0.00000000e+00,  7.16565192e-01,\n          0.00000000e+00,  1.04809713e+00,  0.00000000e+00,\n          2.39592999e-01,  0.00000000e+00,  2.11571410e-01,\n          0.00000000e+00,  3.61949980e-01,  0.00000000e+00,\n         -1.22260161e-01,  0.00000000e+00, -1.04530536e-01,\n          0.00000000e+00,  3.63283843e-01,  0.00000000e+00,\n          0.00000000e+00,  0.00000000e+00]], dtype=float32)>),\n ())"
     },
     "execution_count": 43,
     "metadata": {},
     "output_type": "execute_result"
    }
   ],
   "source": [
    "bad_state_detection = lambda trajectory: print(\"bad state!: {}\".format(trajectory.observation[0][0] + 0.8))\\\n",
    "    if trajectory.observation[0][0] + 0.8 <= 0.78 else None\n",
    "tf_env = tf_py_environment.TFPyEnvironment(py_env)\n",
    "stochastic_policy_dir = '/home/florent/Documents/hpc-cluster/saves/stochastic_policy/permissive_variance_policy'\n",
    "policy = tf.compat.v2.saved_model.load(stochastic_policy_dir)\n",
    "dynamic_episode_driver.DynamicEpisodeDriver(tf_env, policy, num_episodes=15, observers=[bad_state_detection]).run()\n",
    "\n"
   ],
   "metadata": {
    "collapsed": false,
    "pycharm": {
     "name": "#%% Perform a few steps in this environment\n"
    }
   }
  },
  {
   "cell_type": "code",
   "execution_count": 3,
   "outputs": [
    {
     "name": "stderr",
     "output_type": "stream",
     "text": [
      "/home/florentdelgrange/anaconda3/envs/vae-mdp/lib/python3.8/site-packages/gym/logger.py:30: UserWarning: \u001B[33mWARN: gym.spaces.Box autodetected dtype as <class 'numpy.float32'>. Please provide explicit dtype.\u001B[0m\n",
      "  warnings.warn(colorize('%s: %s'%('WARN', msg % args), 'yellow'))\n",
      "/home/florentdelgrange/anaconda3/envs/vae-mdp/lib/python3.8/site-packages/gym/logger.py:30: UserWarning: \u001B[33mWARN: gym.spaces.Box autodetected dtype as <class 'numpy.float32'>. Please provide explicit dtype.\u001B[0m\n",
      "  warnings.warn(colorize('%s: %s'%('WARN', msg % args), 'yellow'))\n",
      "/home/florentdelgrange/anaconda3/envs/vae-mdp/lib/python3.8/site-packages/gym/logger.py:30: UserWarning: \u001B[33mWARN: gym.spaces.Box autodetected dtype as <class 'numpy.float32'>. Please provide explicit dtype.\u001B[0m\n",
      "  warnings.warn(colorize('%s: %s'%('WARN', msg % args), 'yellow'))\n",
      "/home/florentdelgrange/anaconda3/envs/vae-mdp/lib/python3.8/site-packages/gym/logger.py:30: UserWarning: \u001B[33mWARN: gym.spaces.Box autodetected dtype as <class 'numpy.float32'>. Please provide explicit dtype.\u001B[0m\n",
      "  warnings.warn(colorize('%s: %s'%('WARN', msg % args), 'yellow'))\n"
     ]
    },
    {
     "data": {
      "text/plain": "TimeStep(step_type=<tf.Tensor: shape=(4,), dtype=int32, numpy=array([0, 0, 0, 0], dtype=int32)>, reward=<tf.Tensor: shape=(4,), dtype=float32, numpy=array([0., 0., 0., 0.], dtype=float32)>, discount=<tf.Tensor: shape=(4,), dtype=float32, numpy=array([1., 1., 1., 1.], dtype=float32)>, observation=<tf.Tensor: shape=(4, 44), dtype=float32, numpy=\narray([[ 5.99999964e-01,  1.62427550e-05,  1.00000000e+00,\n         0.00000000e+00,  0.00000000e+00,  0.00000000e+00,\n         0.00000000e+00, -0.00000000e+00,  8.26706067e-02,\n         0.00000000e+00,  5.23690939e-01,  0.00000000e+00,\n        -1.02868237e-01,  0.00000000e+00,  6.21630669e-01,\n         0.00000000e+00,  2.13268593e-01,  0.00000000e+00,\n         7.60154307e-01,  0.00000000e+00,  1.07736683e+00,\n         0.00000000e+00,  8.21396053e-01,  0.00000000e+00,\n         2.49558643e-01,  0.00000000e+00,  7.70442605e-01,\n         0.00000000e+00,  1.01105905e+00,  0.00000000e+00,\n         2.13369042e-01,  0.00000000e+00,  1.76205367e-01,\n         0.00000000e+00,  3.33520561e-01,  0.00000000e+00,\n        -1.54789209e-01,  0.00000000e+00, -1.59752235e-01,\n         0.00000000e+00,  3.66986692e-01,  0.00000000e+00,\n         0.00000000e+00,  0.00000000e+00],\n       [ 5.99999964e-01,  1.03206194e-05,  1.00000000e+00,\n         0.00000000e+00,  0.00000000e+00,  0.00000000e+00,\n         0.00000000e+00, -0.00000000e+00,  1.24227637e-02,\n         0.00000000e+00,  4.74605501e-01,  0.00000000e+00,\n        -9.12710801e-02,  0.00000000e+00,  7.51267135e-01,\n         0.00000000e+00,  3.25634092e-01,  0.00000000e+00,\n         7.24889278e-01,  0.00000000e+00,  9.93652523e-01,\n         0.00000000e+00,  4.19254601e-01,  0.00000000e+00,\n         2.65222192e-01,  0.00000000e+00,  7.76106417e-01,\n         0.00000000e+00,  9.73551214e-01,  0.00000000e+00,\n         9.52678919e-02,  0.00000000e+00,  1.13712221e-01,\n         0.00000000e+00,  3.04999441e-01,  0.00000000e+00,\n        -2.46093988e-01,  0.00000000e+00, -2.07274452e-01,\n         0.00000000e+00,  2.13064075e-01,  0.00000000e+00,\n         0.00000000e+00,  0.00000000e+00],\n       [ 5.99999964e-01, -1.48334784e-05,  1.00000000e+00,\n         0.00000000e+00,  0.00000000e+00,  0.00000000e+00,\n         0.00000000e+00, -0.00000000e+00,  6.53072000e-02,\n         0.00000000e+00,  4.93433744e-01,  0.00000000e+00,\n         1.55958489e-01,  0.00000000e+00,  3.48899335e-01,\n         0.00000000e+00,  1.48044035e-01,  0.00000000e+00,\n         6.95008993e-01,  0.00000000e+00,  9.78836238e-01,\n         0.00000000e+00,  4.66428697e-01,  0.00000000e+00,\n         2.88384587e-01,  0.00000000e+00,  7.70202696e-01,\n         0.00000000e+00,  1.05969596e+00,  0.00000000e+00,\n         1.35152355e-01,  0.00000000e+00,  1.11097723e-01,\n         0.00000000e+00,  2.80258656e-01,  0.00000000e+00,\n        -1.04267113e-01,  0.00000000e+00, -2.46149927e-01,\n         0.00000000e+00,  3.48339379e-01,  0.00000000e+00,\n         0.00000000e+00,  0.00000000e+00],\n       [ 5.99999964e-01,  2.02693263e-05,  1.00000000e+00,\n         0.00000000e+00,  0.00000000e+00,  0.00000000e+00,\n         0.00000000e+00, -0.00000000e+00, -7.65241161e-02,\n         0.00000000e+00,  5.00495613e-01,  0.00000000e+00,\n        -1.60097346e-01,  0.00000000e+00,  3.14469486e-01,\n         0.00000000e+00,  3.33875239e-01,  0.00000000e+00,\n         6.92609966e-01,  0.00000000e+00,  9.89695549e-01,\n         0.00000000e+00,  4.85491276e-01,  0.00000000e+00,\n         3.77303928e-01,  0.00000000e+00,  6.71423078e-01,\n         0.00000000e+00,  9.61403668e-01,  0.00000000e+00,\n         1.13194615e-01,  0.00000000e+00,  2.02470317e-01,\n         0.00000000e+00,  3.21283132e-01,  0.00000000e+00,\n        -1.09317124e-01,  0.00000000e+00, -1.16468772e-01,\n         0.00000000e+00,  2.97178626e-01,  0.00000000e+00,\n         0.00000000e+00,  0.00000000e+00]], dtype=float32)>)"
     },
     "execution_count": 3,
     "metadata": {},
     "output_type": "execute_result"
    }
   ],
   "source": [
    "# Parallel environments.\n",
    "num_parallel_environments = 4\n",
    "tf_env = tf_py_environment.TFPyEnvironment(parallel_py_environment.ParallelPyEnvironment(\n",
    "    [lambda : suite_pybullet.load('HumanoidBulletEnv-v0')] * num_parallel_environments))\n",
    "tf_env.reset()"
   ],
   "metadata": {
    "collapsed": false,
    "pycharm": {
     "name": "#%% Load a tf parallel environment (4 parallel environments)\n"
    }
   }
  },
  {
   "cell_type": "code",
   "execution_count": 4,
   "outputs": [
    {
     "name": "stdout",
     "output_type": "stream",
     "text": [
      "WARNING:tensorflow:From /home/florentdelgrange/anaconda3/envs/vae-mdp/lib/python3.8/site-packages/tf_agents/drivers/dynamic_step_driver.py:194: calling while_loop_v2 (from tensorflow.python.ops.control_flow_ops) with back_prop=False is deprecated and will be removed in a future version.\n",
      "Instructions for updating:\n",
      "back_prop=False is deprecated. Consider using tf.stop_gradient instead.\n",
      "Instead of:\n",
      "results = tf.while_loop(c, b, vars, back_prop=False)\n",
      "Use:\n",
      "results = tf.nest.map_structure(tf.stop_gradient, tf.while_loop(c, b, vars))\n"
     ]
    },
    {
     "name": "stderr",
     "output_type": "stream",
     "text": [
      "WARNING:tensorflow:From /home/florentdelgrange/anaconda3/envs/vae-mdp/lib/python3.8/site-packages/tf_agents/drivers/dynamic_step_driver.py:194: calling while_loop_v2 (from tensorflow.python.ops.control_flow_ops) with back_prop=False is deprecated and will be removed in a future version.\n",
      "Instructions for updating:\n",
      "back_prop=False is deprecated. Consider using tf.stop_gradient instead.\n",
      "Instead of:\n",
      "results = tf.while_loop(c, b, vars, back_prop=False)\n",
      "Use:\n",
      "results = tf.nest.map_structure(tf.stop_gradient, tf.while_loop(c, b, vars))\n"
     ]
    },
    {
     "data": {
      "text/plain": "(TimeStep(step_type=<tf.Tensor: shape=(4,), dtype=int32, numpy=array([1, 1, 1, 1], dtype=int32)>, reward=<tf.Tensor: shape=(4,), dtype=float32, numpy=array([-1.2963152 , -1.6380416 , -0.52739006, -1.92463   ], dtype=float32)>, discount=<tf.Tensor: shape=(4,), dtype=float32, numpy=array([1., 1., 1., 1.], dtype=float32)>, observation=<tf.Tensor: shape=(4, 44), dtype=float32, numpy=\n array([[ 1.41910478e-01,  2.24777535e-01,  9.74410117e-01,\n          2.37449810e-01,  2.63552248e-01, -6.33577824e-01,\n         -1.33746654e-01,  7.17802167e-01,  6.99439764e-01,\n         -1.12185681e+00, -7.12890208e-01,  2.94008046e-01,\n         -5.12470484e-01,  3.76603752e-01, -1.01171613e+00,\n          1.85896084e-02,  9.36529696e-01,  7.74048746e-01,\n          3.32406670e-01, -1.66280806e+00, -9.90635574e-01,\n          1.30568832e-01, -2.87722021e-01,  1.92546487e+00,\n         -9.95755382e-03, -1.73471045e+00, -3.14798415e-01,\n         -1.84185243e+00, -9.54341292e-01,  6.57576680e-01,\n          1.75604165e-01, -8.73610079e-02,  1.65598571e-01,\n         -8.09200823e-01, -2.44794235e-01,  1.14571476e+00,\n          2.17054501e-01, -1.04799896e-01, -1.61474019e-01,\n          2.40449421e-02,  1.04367554e+00,  0.00000000e+00,\n          0.00000000e+00,  0.00000000e+00],\n        [ 4.04553264e-01,  1.44645989e-01,  9.89483476e-01,\n         -4.15961370e-02,  1.57159416e-03, -8.51657867e-01,\n         -7.78672635e-04,  2.16240324e-02,  6.30098939e-01,\n          1.67430758e-01,  6.64104402e-01,  1.02945462e-01,\n          7.28429481e-02,  4.54298764e-01,  9.85747278e-01,\n         -1.42044258e+00, -9.43021417e-01, -6.42900541e-02,\n         -3.32495958e-01, -6.40406087e-02, -3.08869302e-01,\n         -1.35241342e+00,  9.59878564e-01, -1.63304005e-02,\n          4.02427524e-01,  7.04422355e-01, -3.44529927e-01,\n         -1.18397546e+00, -3.09049219e-01, -1.50936639e+00,\n          1.34892473e-02, -1.41894996e-01,  2.92788208e-01,\n          1.25683010e-01, -5.44942856e-01, -2.10525155e+00,\n         -5.37955500e-02,  1.50009722e-01, -5.06133176e-02,\n         -4.63220716e-01, -1.06544292e+00, -3.61096406e+00,\n          0.00000000e+00,  0.00000000e+00],\n        [-6.55305630e-04, -6.70097411e-01,  7.42273211e-01,\n          2.17396021e-01, -7.61320964e-02, -9.92672384e-01,\n          8.62337053e-01,  7.72424757e-01, -8.54066789e-01,\n         -4.69194651e-01, -8.26390743e-01, -4.63894725e-01,\n         -2.23326862e-01,  4.07838106e-01, -7.37365007e-01,\n          7.66245544e-01, -6.85036957e-01, -9.23553035e-02,\n         -5.63982844e-01, -8.91454816e-01, -5.57616234e-01,\n          7.78154135e-01, -7.00998425e-01,  9.56430018e-01,\n         -5.93841016e-01, -1.79694104e+00,  1.10730395e-01,\n         -7.26297677e-01, -8.29543054e-01, -5.55596113e-01,\n         -3.72005194e-01, -3.44548970e-01,  3.03794717e-04,\n          9.25054401e-02,  1.08242059e+00,  0.00000000e+00,\n         -5.06434083e-01, -3.67241234e-01, -7.00879335e-01,\n          3.75387192e-01, -2.66399328e-02,  1.48349178e+00,\n          0.00000000e+00,  0.00000000e+00],\n        [ 2.65823066e-01, -9.92657781e-01,  1.20956503e-01,\n         -2.38880157e-01,  1.61445305e-01, -7.09449291e-01,\n          1.15549242e+00,  9.91330504e-01, -3.52418989e-01,\n         -1.44712389e+00, -3.74580324e-01, -2.06932497e+00,\n         -8.20255652e-02, -3.90021741e-01, -1.03025067e+00,\n          4.85725015e-01, -1.08681358e-01,  7.14008391e-01,\n         -2.93873072e-01,  6.81674108e-02,  6.74180448e-01,\n         -6.41691446e-01,  9.58481908e-01, -1.58573702e-01,\n          3.08498621e-01, -1.12321770e+00, -1.00111532e+00,\n          8.25853925e-03, -2.64967203e-01, -1.41426492e+00,\n         -2.85053730e-01, -3.51779222e-01, -8.42941701e-01,\n         -1.80430865e+00, -1.01034153e+00,  7.65724257e-02,\n         -6.49000555e-02,  4.71559390e-02, -4.56650317e-01,\n         -7.06086814e-01,  1.01409841e+00, -1.04391009e-01,\n          0.00000000e+00,  0.00000000e+00]], dtype=float32)>),\n ())"
     },
     "execution_count": 4,
     "metadata": {},
     "output_type": "execute_result"
    }
   ],
   "source": [
    "replay_buffer_size = 12800\n",
    "\n",
    "# create a dataset\n",
    "from tf_agents.agents.reinforce import reinforce_agent\n",
    "from tf_agents.replay_buffers import tf_uniform_replay_buffer\n",
    "actor_net = actor_distribution_network.ActorDistributionNetwork(\n",
    "    tf_env.observation_spec(),\n",
    "    tf_env.action_spec(),\n",
    "    fc_layer_params=(128, 128))\n",
    "policy = random_tf_policy.RandomTFPolicy(tf_env.time_step_spec(), tf_env.action_spec())\n",
    "train_step_counter = tf.compat.v2.Variable(0)\n",
    "\n",
    "agent = reinforce_agent.ReinforceAgent(\n",
    "    tf_env.time_step_spec(),\n",
    "    tf_env.action_spec(),\n",
    "    actor_network=actor_net,\n",
    "    optimizer=tf.compat.v1.train.AdamOptimizer(learning_rate=1e-4),\n",
    "    normalize_returns=True,\n",
    "    train_step_counter=train_step_counter)\n",
    "agent.initialize()\n",
    "\n",
    "replay_buffer = tf_uniform_replay_buffer.TFUniformReplayBuffer(\n",
    "    data_spec=agent.collect_data_spec,\n",
    "    batch_size=tf_env.batch_size,\n",
    "    max_length=replay_buffer_size)\n",
    "whole_dataset = replay_buffer.as_dataset(num_parallel_calls=3, sample_batch_size=replay_buffer_size, num_steps=3)\n",
    "\n",
    "random_policy = random_tf_policy.RandomTFPolicy(tf_env.time_step_spec(), tf_env.action_spec())\n",
    "dynamic_step_driver.DynamicStepDriver(tf_env, random_policy,\n",
    "                                      observers=[replay_buffer.add_batch], num_steps=replay_buffer_size).run()\n"
   ],
   "metadata": {
    "collapsed": false,
    "pycharm": {
     "name": "#%% Fill in a replay buffer\n"
    }
   }
  },
  {
   "cell_type": "code",
   "execution_count": 10,
   "outputs": [],
   "source": [
    "def labeling_function(states):\n",
    "    return states[..., 0] + 0.8 <= 0.78"
   ],
   "metadata": {
    "collapsed": false,
    "pycharm": {
     "name": "#%% define a labeling function\n"
    }
   }
  },
  {
   "cell_type": "code",
   "execution_count": 18,
   "outputs": [
    {
     "name": "stdout",
     "output_type": "stream",
     "text": [
      "filtering tf.Tensor(False, shape=(), dtype=bool)\n",
      "state_type tf.Tensor([1 1], shape=(2,), dtype=int32)\n",
      "next_state_type tf.Tensor([1 1], shape=(2,), dtype=int32)\n",
      "states tf.Tensor(\n",
      "[[ 1.8663943e-01  8.4217668e-01  5.3920168e-01 -6.3637875e-02\n",
      "   7.7022254e-03 -7.6459742e-01 -1.0190836e+00  8.1865209e-01\n",
      "   6.7273396e-01 -1.6643259e-01 -1.0509474e+00  3.9145800e-01\n",
      "   9.1406935e-01  1.2099795e+00 -1.0131489e+00  2.4945411e-01\n",
      "   1.6147812e-01 -5.0068551e-01 -2.5706881e-01 -1.2739486e-01\n",
      "  -7.1134549e-01 -4.8811191e-01 -1.0299126e+00  4.7461286e-02\n",
      "   2.2694165e-01 -1.3708428e-01 -5.1301479e-01  4.5426375e-01\n",
      "  -9.1057992e-01  5.7339650e-02 -1.8074872e-01 -3.2498407e-01\n",
      "   6.5933275e-01  6.7339754e-01  6.7635870e-01 -2.0521264e+00\n",
      "   5.7353610e-01  2.4923790e-01  2.6293305e-01  6.4210427e-01\n",
      "   1.0513445e+00 -1.5953971e-10  0.0000000e+00  0.0000000e+00]\n",
      " [ 1.4566535e-01  8.5097790e-01  5.2520150e-01  7.6522060e-02\n",
      "  -6.3309789e-02 -7.2146624e-01 -9.9750495e-01  7.3026425e-01\n",
      "   7.7555203e-01  9.8332322e-01 -1.0052681e+00  1.5780246e-01\n",
      "   1.0182134e+00 -2.4224499e-01 -7.3997164e-01  5.5731219e-01\n",
      "   2.9610667e-02 -8.0933678e-01 -2.6295286e-01 -4.1742711e-03\n",
      "  -7.4289048e-01 -1.3346264e-01 -1.0122522e+00  1.9440142e-02\n",
      "   2.2131175e-01  4.7068197e-02 -4.6127662e-01  2.7003965e-01\n",
      "  -9.0102047e-01  6.8284050e-02 -2.2956294e-01 -4.0744174e-01\n",
      "   7.5979823e-01  8.2579237e-01  3.4980118e-01 -2.6349185e+00\n",
      "   6.2047023e-01  4.2926863e-01  3.5413161e-01  7.2965932e-01\n",
      "   1.0513428e+00 -1.6065652e-10  0.0000000e+00  0.0000000e+00]], shape=(2, 44), dtype=float32)\n",
      "next_states tf.Tensor(\n",
      "[[ 1.4566535e-01  8.5097790e-01  5.2520150e-01  7.6522060e-02\n",
      "  -6.3309789e-02 -7.2146624e-01 -9.9750495e-01  7.3026425e-01\n",
      "   7.7555203e-01  9.8332322e-01 -1.0052681e+00  1.5780246e-01\n",
      "   1.0182134e+00 -2.4224499e-01 -7.3997164e-01  5.5731219e-01\n",
      "   2.9610667e-02 -8.0933678e-01 -2.6295286e-01 -4.1742711e-03\n",
      "  -7.4289048e-01 -1.3346264e-01 -1.0122522e+00  1.9440142e-02\n",
      "   2.2131175e-01  4.7068197e-02 -4.6127662e-01  2.7003965e-01\n",
      "  -9.0102047e-01  6.8284050e-02 -2.2956294e-01 -4.0744174e-01\n",
      "   7.5979823e-01  8.2579237e-01  3.4980118e-01 -2.6349185e+00\n",
      "   6.2047023e-01  4.2926863e-01  3.5413161e-01  7.2965932e-01\n",
      "   1.0513428e+00 -1.6065652e-10  0.0000000e+00  0.0000000e+00]\n",
      " [ 1.0771312e-01  8.6870277e-01  4.9533373e-01  5.8246750e-02\n",
      "  -1.4445956e-01 -6.6293722e-01 -9.7481173e-01  6.5309650e-01\n",
      "   9.3341976e-01  6.6136914e-01 -1.0021578e+00  1.1982961e-02\n",
      "   1.0055054e+00 -2.0374319e-02 -4.4136140e-01  4.1672170e-01\n",
      "  -1.3735840e-01 -8.7683284e-01 -2.0356140e-01  6.7504472e-01\n",
      "  -7.3358649e-01  2.0449376e-01 -8.8469011e-01  2.6845485e-01\n",
      "   2.6487029e-01  2.8198975e-01 -3.5525510e-01  1.0509812e+00\n",
      "  -8.7091768e-01  3.4969899e-01 -2.9476628e-01 -5.5052096e-01\n",
      "   8.7219465e-01  8.8937205e-01  1.0687295e-01 -1.3137113e+00\n",
      "   6.7809153e-01  4.1804388e-01  4.4525945e-01  6.7653662e-01\n",
      "   1.0513427e+00 -1.0704920e-06  0.0000000e+00  0.0000000e+00]], shape=(2, 44), dtype=float32)\n",
      "rewards tf.Tensor(\n",
      "[[-0.00861945]\n",
      " [-1.2436602 ]], shape=(2, 1), dtype=float32)\n",
      "next_labels tf.Tensor(\n",
      "[[False]\n",
      " [False]], shape=(2, 1), dtype=bool)\n"
     ]
    }
   ],
   "source": [
    "import tf_agents.trajectories.time_step as ts\n",
    "\n",
    "scalar_rewards = True\n",
    "dataset = replay_buffer.as_dataset(\n",
    "    num_parallel_calls=tf.data.experimental.AUTOTUNE,\n",
    "    num_steps=3).prefetch(tf.data.experimental.AUTOTUNE)\n",
    "\n",
    "iterator = iter(dataset)\n",
    "raw_data, _ = next(iterator)\n",
    "\n",
    "\n",
    "state_type = raw_data.step_type[:2]\n",
    "next_state_type = raw_data.next_step_type[:2]\n",
    "\n",
    "# remove transitions where the incident state is terminal and next state is initial\n",
    "# note: such transitions correspond to those where the reset() function has been called\n",
    "filtering = state_type[0] != ts.StepType.LAST\n",
    "filtering &= state_type[1] != ts.StepType.LAST\n",
    "filtering &= next_state_type[0] != ts.StepType.FIRST\n",
    "filtering &= next_state_type[1] != ts.StepType.FIRST\n",
    "filtering = tf.reduce_all(filtering)\n",
    "\n",
    "print(\"filtering\", filtering)\n",
    "print(\"state_type\", state_type)\n",
    "print(\"next_state_type\", next_state_type)\n",
    "\n",
    "states = raw_data.observation[:2, :]\n",
    "actions = raw_data.action[:2, :]\n",
    "rewards = raw_data.reward[:2] if scalar_rewards else reward[:2, :]\n",
    "if scalar_rewards:\n",
    "    rewards = tf.reshape(rewards, list(rewards.shape) + [1])\n",
    "next_states = raw_data.observation[1:, :]\n",
    "next_labels = labeling_function(next_states)\n",
    "if next_labels.shape == states.shape[:-1]:\n",
    "    next_labels = tf.reshape(next_labels, list(next_labels.shape) + [1])\n",
    "\n",
    "print(\"states\", states)\n",
    "print(\"next_states\", next_states)\n",
    "print(\"rewards\", rewards)\n",
    "print(\"next_labels\", next_labels)"
   ],
   "metadata": {
    "collapsed": false,
    "pycharm": {
     "name": "#%%\n"
    }
   }
  },
  {
   "cell_type": "code",
   "execution_count": null,
   "outputs": [],
   "source": [
    "import h5py\n",
    "import tf_agents.trajectories.time_step as ts\n",
    "import datetime\n",
    "\n",
    "dataset_path = 'dataset'\n",
    "iterator = iter(dataset)\n",
    "current_time = datetime.datetime.now().strftime(\"%Y%m%d-%H%M%S\")\n",
    "\n",
    "if not os.path.exists(dataset_path):\n",
    "    os.makedirs(dataset_path)\n",
    "with h5py.File(dataset_path + '/rl_exploration' + current_time + '.hdf5', 'w') as h5f:\n",
    "    data = iterator.next()[0]\n",
    "    states = data.observation[:, :2, :].numpy()\n",
    "    actions = data.action[:, :2, :].numpy()\n",
    "    rewards = data.reward[:, :2].numpy()\n",
    "    next_states = data.observation[:, 1:, :].numpy()\n",
    "    next_labels = labeling_function(next_states)\n",
    "    # 0: initial state; 1: mid state; 2: terminal state\n",
    "    state_type = data.step_type[:, :2].numpy()\n",
    "    next_state_type = data.next_step_type[:, :2].numpy()\n",
    "\n",
    "    # remove transitions where the incident state is terminal and next state is initial\n",
    "    filtering = state_type[:, 0] != ts.StepType.LAST\n",
    "    filtering &= state_type[:, 1] != ts.StepType.LAST\n",
    "    filtering &= next_state_type[:, 0] != ts.StepType.FIRST\n",
    "    filtering &= next_state_type[:, 1] != ts.StepType.FIRST\n",
    "\n",
    "    h5f['state'] = states[filtering]\n",
    "    h5f['action'] = actions[filtering]\n",
    "    h5f['reward'] = rewards[filtering]\n",
    "    h5f['next_state'] = next_states[filtering]\n",
    "    h5f['next_state_label'] = next_labels[filtering]\n",
    "    # 0: initial state; 1: mid state; 2: terminal state\n",
    "    h5f['state_type'] = state_type[filtering]\n",
    "    h5f['next_state_type'] = state_type[filtering]"
   ],
   "metadata": {
    "collapsed": false,
    "pycharm": {
     "name": "#%% h5py: store a dataset from the replay memory\n"
    }
   }
  },
  {
   "cell_type": "code",
   "execution_count": null,
   "outputs": [],
   "source": [
    "from typing import List, Dict, Tuple\n",
    "import glob\n",
    "import os\n",
    "\n",
    "file_list: List[str] = glob.glob(os.path.join(dataset_path, 'rl_*')) + \\\n",
    "                       glob.glob(os.path.join(dataset_path, 'reinforcement_learning', 'rl_*'))\n",
    "print(\"File list:\")\n",
    "print(file_list)\n",
    "\n",
    "length: int = 0\n",
    "h5f_indices: Dict[str, Tuple[int, int]] = {}\n",
    "shape: Dict[str, Tuple[int, ...]] = {}\n",
    "dataset_name = 'rl_observation_dataset.hdf5'\n",
    "\n",
    "for h5f_name in file_list:\n",
    "    with h5py.File(h5f_name, 'r') as h5f:\n",
    "        h5f_length = h5f['state'].shape[0]  # we assume that all h5f datasets have the same length (= size of axis 0)\n",
    "        h5f_indices[h5f_name] = (length, length + h5f_length)\n",
    "        length += h5f_length\n",
    "\n",
    "for i, h5f_name in enumerate(file_list):\n",
    "    with h5py.File(h5f_name, 'r') as h5f:\n",
    "        with h5py.File(os.path.join(dataset_path, dataset), 'w') as merged_h5f:\n",
    "            for key in h5f:\n",
    "                if i == 0:  # dataset file initialization\n",
    "                    shape[key] = (length, ) + h5f[key].shape[1:]\n",
    "                    merged_h5f.create_dataset(key, shape[key], dtype=h5f[key].dtype)\n",
    "                first, last = h5f_indices[h5f_name]\n",
    "                merged_h5f[key][first: last] = h5f[key]\n",
    "\n",
    "print(\"Dataset files merged\")"
   ],
   "metadata": {
    "collapsed": false,
    "pycharm": {
     "name": "#%% h5py: merge two stored datasets\n"
    }
   }
  },
  {
   "cell_type": "code",
   "execution_count": null,
   "outputs": [],
   "source": [
    "class generator:\n",
    "    def __init__(self, file):\n",
    "        self.file = file\n",
    "\n",
    "    def __call__(self):\n",
    "        with h5py.File(self.file, 'r') as hf:\n",
    "            for (state, action, reward, next_state, label, state_type, next_state_type) in \\\n",
    "                zip(hf['state'], hf['action'], hf['reward'], hf['next_state'],\n",
    "                    hf['next_state_label'], hf['state_type'], hf['next_state_type']):\n",
    "                yield state, action, reward, next_state, label, state_type, next_state_type\n",
    "\n",
    "    def get_tensor_shape(self):\n",
    "        with h5py.File(self.file, 'r') as hf:\n",
    "           return (tf.TensorShape(hf['state'].shape[1:]),\n",
    "                   tf.TensorShape(hf['action'].shape[1:]),\n",
    "                   tf.TensorShape(hf['reward'].shape[1:]),\n",
    "                   tf.TensorShape(hf['next_state'].shape[1:]),\n",
    "                   tf.TensorShape(hf['next_state_label'].shape[1:]),\n",
    "                   tf.TensorShape(hf['state_type'].shape[1:]),\n",
    "                   tf.TensorShape(hf['next_state_type'].shape[1:]))\n",
    "\n",
    "gen = generator(dataset_path + '/rl_exploration.hdf5')\n",
    "loaded_dataset = tf.data.Dataset.from_generator(gen,\n",
    "                                                (tf.float32, tf.float32, tf.float32, tf.float32, tf.bool, tf.int8, tf.int8),\n",
    "                                                gen.get_tensor_shape())"
   ],
   "metadata": {
    "collapsed": false,
    "pycharm": {
     "name": "#%% h5py: create a generator\n"
    }
   }
  },
  {
   "cell_type": "code",
   "execution_count": null,
   "outputs": [],
   "source": [
    "for state, action, reward, next_state, label, state_type, next_state_type in loaded_dataset:\n",
    "    if label[0]:\n",
    "        print(label[0], next_state[0], next_state_type)\n",
    "    if label[1]:\n",
    "        print(label[1], next_state[1], next_state_type)\n",
    "    if state_type[0] == ts.StepType.LAST:\n",
    "        print(\"BAD STATE S0:\", state[0])\n",
    "    if state_type[1] == ts.StepType.LAST:\n",
    "        print(\"BAD STATE S0:\", state[1])\n"
   ],
   "metadata": {
    "collapsed": false,
    "pycharm": {
     "name": "#%% detect BAD states\n"
    }
   }
  },
  {
   "cell_type": "code",
   "execution_count": null,
   "outputs": [],
   "source": [
    "ts.StepType.FIRST # initial state\n",
    "ts.StepType.LAST # terminal state\n",
    "ts.StepType.MID # normal state"
   ],
   "metadata": {
    "collapsed": false,
    "pycharm": {
     "name": "#%%\n",
     "is_executing": true
    }
   }
  },
  {
   "cell_type": "code",
   "execution_count": null,
   "outputs": [],
   "source": [
    "x = data.step_type[:, 0] != ts.StepType.LAST\n",
    "x &= data.step_type[:, 1] != ts.StepType.LAST\n",
    "x.numpy()"
   ],
   "metadata": {
    "collapsed": false,
    "pycharm": {
     "name": "#%%\n"
    }
   }
  },
  {
   "cell_type": "code",
   "execution_count": null,
   "outputs": [],
   "source": [
    "y = data.observation[:, :2, :].numpy()\n",
    "z = y[x]\n",
    "z"
   ],
   "metadata": {
    "collapsed": false,
    "pycharm": {
     "name": "#%%\n"
    }
   }
  },
  {
   "cell_type": "code",
   "execution_count": null,
   "outputs": [],
   "source": [
    "\n"
   ],
   "metadata": {
    "collapsed": false,
    "pycharm": {
     "name": "#%%\n"
    }
   }
  }
 ],
 "metadata": {
  "kernelspec": {
   "name": "python3",
   "language": "python",
   "display_name": "Python 3"
  },
  "language_info": {
   "codemirror_mode": {
    "name": "ipython",
    "version": 2
   },
   "file_extension": ".py",
   "mimetype": "text/x-python",
   "name": "python",
   "nbconvert_exporter": "python",
   "pygments_lexer": "ipython2",
   "version": "2.7.6"
  }
 },
 "nbformat": 4,
 "nbformat_minor": 0
}