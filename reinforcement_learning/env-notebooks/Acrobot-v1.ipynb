{
 "cells": [
  {
   "cell_type": "code",
   "execution_count": 1,
   "metadata": {
    "pycharm": {
     "name": "#%% CartPole-v0 environment\n"
    }
   },
   "outputs": [
    {
     "name": "stdout",
     "output_type": "stream",
     "text": [
      "2.4.1\n"
     ]
    }
   ],
   "source": [
    "import sys\n",
    "import os\n",
    "\n",
    "from policies import SavedTFPolicy\n",
    "\n",
    "path = os.path.dirname(os.path.abspath('__file__'))\n",
    "sys.path.insert(0, path + '/../')\n",
    "import tensorflow as tf\n",
    "print(tf.__version__)\n",
    "import tf_agents.policies\n",
    "import tf_agents.specs\n",
    "from tf_agents.environments import suite_gym, parallel_py_environment\n",
    "from tf_agents.environments import tf_py_environment\n",
    "from tf_agents.metrics import tf_metrics\n",
    "from tf_agents.policies import policy_saver\n",
    "from tf_agents.replay_buffers import tf_uniform_replay_buffer, episodic_replay_buffer\n",
    "from tf_agents.drivers import dynamic_episode_driver, dynamic_step_driver\n",
    "tf.config.set_visible_devices([], 'GPU')  #  allows testing during training\n",
    "from tf_agents.trajectories import time_step as ts, policy_step, trajectory\n",
    "from reinforcement_learning import labeling_functions\n",
    "labeling_function = labeling_functions.get('Acrobot-v1')\n",
    "from util.io.dataset_generator import map_rl_trajectory_to_vae_input\n",
    "from util.io.dataset_generator import ErgodicMDPTransitionGenerator\n",
    "from tf_agents.environments.wrappers import HistoryWrapper"
   ]
  },
  {
   "cell_type": "code",
   "execution_count": 2,
   "metadata": {
    "pycharm": {
     "name": "#%%\n"
    }
   },
   "outputs": [
    {
     "data": {
      "text/plain": [
       "TimeStep(step_type=TensorSpec(shape=(), dtype=tf.int32, name='step_type'), reward=TensorSpec(shape=(), dtype=tf.float32, name='reward'), discount=BoundedTensorSpec(shape=(), dtype=tf.float32, name='discount', minimum=array(0., dtype=float32), maximum=array(1., dtype=float32)), observation=BoundedTensorSpec(shape=(6,), dtype=tf.float32, name='observation', minimum=array([ -1.      ,  -1.      ,  -1.      ,  -1.      , -12.566371,\n",
       "       -28.274334], dtype=float32), maximum=array([ 1.      ,  1.      ,  1.      ,  1.      , 12.566371, 28.274334],\n",
       "      dtype=float32)))"
      ]
     },
     "execution_count": 2,
     "metadata": {},
     "output_type": "execute_result"
    }
   ],
   "source": [
    "py_env = suite_gym.load('Acrobot-v1')\n",
    "py_env.reset()\n",
    "tf_env = tf_py_environment.TFPyEnvironment(py_env)\n",
    "tf_env.time_step_spec()"
   ]
  },
  {
   "cell_type": "code",
   "execution_count": 18,
   "metadata": {
    "pycharm": {
     "name": "#%%\n"
    }
   },
   "outputs": [
    {
     "name": "stdout",
     "output_type": "stream",
     "text": [
      "tf.Tensor([[ 0.99539465 -0.09586195  0.99519306  0.09793223  0.01382204  0.02670695]], shape=(1, 6), dtype=float32)\n",
      "tf.Tensor([[ 0.9337786 -0.3578513  0.7351449  0.67791   -0.5081879  1.5192906]], shape=(1, 6), dtype=float32)\n",
      "tf.Tensor([[ 0.99459106  0.10386809  0.6319394  -0.7750178  -1.7098955   2.2011163 ]], shape=(1, 6), dtype=float32)\n",
      "tf.Tensor([[ 0.45309705  0.8914612   0.3349677  -0.9422296   0.18711399 -1.4890157 ]], shape=(1, 6), dtype=float32)\n",
      "tf.Tensor([[ 0.9787037  -0.20527802  0.8125474   0.58289516  3.4630666  -5.0416017 ]], shape=(1, 6), dtype=float32)\n",
      "tf.Tensor([[ 0.05557732 -0.9984544  -0.47237778  0.8813962  -1.7536595   3.500368  ]], shape=(1, 6), dtype=float32)\n",
      "tf.Tensor([[-0.02339064  0.9997264  -0.99909854  0.04245157 -1.671698   -1.1027225 ]], shape=(1, 6), dtype=float32)\n",
      "tf.Tensor([[ 0.99779093 -0.06643219  0.9504122   0.31099305 -0.30082437  0.80554897]], shape=(1, 6), dtype=float32)\n",
      "tf.Tensor([[ 0.98827046  0.15271369  0.65029514 -0.75968164 -0.9401164   1.350683  ]], shape=(1, 6), dtype=float32)\n",
      "tf.Tensor([[ 0.6704963  0.7419129  0.6183881 -0.7858729  0.3164539 -1.8886334]], shape=(1, 6), dtype=float32)\n",
      "tf.Tensor([[ 0.9991915  -0.04020385  0.9135534   0.4067188   3.0513065  -4.1225257 ]], shape=(1, 6), dtype=float32)\n",
      "tf.Tensor([[ 0.05819976 -0.99830496 -0.49073488  0.8713089  -0.8511512   1.5005366 ]], shape=(1, 6), dtype=float32)\n",
      "tf.Tensor([[ 0.24896918  0.9685114  -0.9110659  -0.4122608  -2.3913064   1.8558949 ]], shape=(1, 6), dtype=float32)\n",
      "tf.Tensor([[ 0.94904715  0.31513417 -0.901688    0.43238735  3.802371   -2.2312715 ]], shape=(1, 6), dtype=float32)\n",
      "tf.Tensor([[ 0.9855815   0.16920124  0.888956   -0.45799255 -0.24479793  0.7810169 ]], shape=(1, 6), dtype=float32)\n",
      "tf.Tensor([[ 0.8646557   0.502365    0.65191317 -0.7582936   0.47514567 -2.141388  ]], shape=(1, 6), dtype=float32)\n",
      "tf.Tensor(\n",
      "[[ 9.9999923e-01 -1.2394248e-03  6.9645131e-01  7.1760404e-01\n",
      "   2.3349814e+00 -2.7997723e+00]], shape=(1, 6), dtype=float32)\n",
      "tf.Tensor([[ 0.20798548 -0.9781319  -0.0093209   0.99995655 -0.25359455  1.1850393 ]], shape=(1, 6), dtype=float32)\n",
      "tf.Tensor([[ 0.7701162   0.63790363  0.20502907 -0.9787559  -3.2916307   4.3231554 ]], shape=(1, 6), dtype=float32)\n",
      "tf.Tensor([[ 0.51901025  0.85476804  0.69031805 -0.72350603  3.5569346  -6.794569  ]], shape=(1, 6), dtype=float32)\n",
      "tf.Tensor([[-0.14373837 -0.98961574 -0.05073415 -0.9987122  -0.33295158  0.22845997]], shape=(1, 6), dtype=float32)\n",
      "tf.Tensor([[ 0.9610986  -0.27620548  0.78039217  0.62529033 -0.5654916   1.4767524 ]], shape=(1, 6), dtype=float32)\n",
      "tf.Tensor([[ 0.9895862   0.14394172  0.5613662  -0.8275675  -1.5122974   1.991972  ]], shape=(1, 6), dtype=float32)\n",
      "tf.Tensor([[ 0.49552187  0.8685955   0.42657456 -0.9044524   0.25664163 -1.7587459 ]], shape=(1, 6), dtype=float32)\n",
      "tf.Tensor([[ 0.98141044 -0.19192077  0.8109837   0.5850687   3.3971727  -4.7410436 ]], shape=(1, 6), dtype=float32)\n",
      "tf.Tensor([[ 0.0396677  -0.9992129  -0.49818423  0.8670712  -1.7005892   3.1125088 ]], shape=(1, 6), dtype=float32)\n",
      "tf.Tensor([[-0.10066874  0.99492    -0.99151653  0.12998065 -1.3947383  -1.2835715 ]], shape=(1, 6), dtype=float32)\n",
      "tf.Tensor([[ 0.9963131  -0.08579183  0.96719694  0.25402778 -0.16926138  0.75829834]], shape=(1, 6), dtype=float32)\n",
      "tf.Tensor([[ 0.97556627  0.2197054   0.62239045 -0.7827069  -0.5954658   0.13815631]], shape=(1, 6), dtype=float32)\n",
      "tf.Tensor([[ 0.7569971   0.65341824  0.8864499  -0.46282467  0.9828372  -2.3467402 ]], shape=(1, 6), dtype=float32)\n",
      "tf.Tensor([[ 0.9044153  -0.42665318  0.7273075   0.6863117   2.5349417  -3.1331997 ]], shape=(1, 6), dtype=float32)\n",
      "tf.Tensor([[ 0.25645584 -0.96655595 -0.38330254  0.92362285 -1.4353032   1.9354947 ]], shape=(1, 6), dtype=float32)\n",
      "tf.Tensor([[ 0.20920782  0.9778712  -0.9067778  -0.4216088  -1.9641703   1.3934343 ]], shape=(1, 6), dtype=float32)\n",
      "tf.Tensor([[ 0.9649338   0.26249337 -0.9114716   0.41136298  3.7232838  -2.1355832 ]], shape=(1, 6), dtype=float32)\n",
      "WARNING:tensorflow:11 out of the last 11 calls to <function TFDeque.mean at 0x7f8af00858c0> triggered tf.function retracing. Tracing is expensive and the excessive number of tracings could be due to (1) creating @tf.function repeatedly in a loop, (2) passing tensors with different shapes, (3) passing Python objects instead of tensors. For (1), please define your @tf.function outside of the loop. For (2), @tf.function has experimental_relax_shapes=True option that relaxes argument shapes that can avoid unnecessary retracing. For (3), please refer to https://www.tensorflow.org/guide/function#controlling_retracing and https://www.tensorflow.org/api_docs/python/tf/function for  more details.\n"
     ]
    },
    {
     "data": {
      "text/plain": [
       "<tf.Tensor: shape=(), dtype=float32, numpy=-64.8>"
      ]
     },
     "execution_count": 18,
     "metadata": {},
     "output_type": "execute_result"
    }
   ],
   "source": [
    "n = 0\n",
    "def display_labeling(trajectory):\n",
    "    global n\n",
    "    if n % 10 == 0:\n",
    "        #input(trajectory.observation)\n",
    "        print(trajectory.observation)\n",
    "    n += 1\n",
    "\n",
    "reward_metric = tf_metrics.AverageReturnMetric()\n",
    "sac_policy_dir = '../saves/Acrobot-v1/dqn_policy'\n",
    "saved_policy = SavedTFPolicy(sac_policy_dir)\n",
    "dynamic_episode_driver.DynamicEpisodeDriver(\n",
    "    tf_env, saved_policy, num_episodes=5,\n",
    "    observers=[\n",
    "        display_labeling,\n",
    "        lambda _: py_env.render(mode='human'),\n",
    "        reward_metric\n",
    "    ]).run()\n",
    "reward_metric.result()"
   ]
  },
  {
   "cell_type": "code",
   "execution_count": 3,
   "metadata": {
    "pycharm": {
     "name": "#%%\n"
    }
   },
   "outputs": [
    {
     "data": {
      "text/plain": [
       "TimeStep(step_type=TensorSpec(shape=(), dtype=tf.int32, name='step_type'), reward=TensorSpec(shape=(), dtype=tf.float32, name='reward'), discount=BoundedTensorSpec(shape=(), dtype=tf.float32, name='discount', minimum=array(0., dtype=float32), maximum=array(1., dtype=float32)), observation=BoundedTensorSpec(shape=(3, 6), dtype=tf.float32, name='observation', minimum=array([ -1.      ,  -1.      ,  -1.      ,  -1.      , -12.566371,\n",
       "       -28.274334], dtype=float32), maximum=array([ 1.      ,  1.      ,  1.      ,  1.      , 12.566371, 28.274334],\n",
       "      dtype=float32)))"
      ]
     },
     "execution_count": 3,
     "metadata": {},
     "output_type": "execute_result"
    }
   ],
   "source": [
    "history_wrapper_env = HistoryWrapper(env=py_env)\n",
    "tf_env = tf_py_environment.TFPyEnvironment(history_wrapper_env)\n",
    "tf_env.time_step_spec()"
   ]
  },
  {
   "cell_type": "code",
   "execution_count": 4,
   "metadata": {
    "pycharm": {
     "name": "#%%\n"
    }
   },
   "outputs": [
    {
     "data": {
      "text/plain": [
       "TimeStep(step_type=<tf.Tensor: shape=(1,), dtype=int32, numpy=array([0], dtype=int32)>, reward=<tf.Tensor: shape=(1,), dtype=float32, numpy=array([0.], dtype=float32)>, discount=<tf.Tensor: shape=(1,), dtype=float32, numpy=array([1.], dtype=float32)>, observation=<tf.Tensor: shape=(1, 3, 6), dtype=float32, numpy=\n",
       "array([[[ 0.        ,  0.        ,  0.        ,  0.        ,\n",
       "          0.        ,  0.        ],\n",
       "        [ 0.        ,  0.        ,  0.        ,  0.        ,\n",
       "          0.        ,  0.        ],\n",
       "        [ 0.99768126,  0.06805926,  0.99792546, -0.06438001,\n",
       "          0.06003963, -0.04305384]]], dtype=float32)>)"
      ]
     },
     "execution_count": 4,
     "metadata": {},
     "output_type": "execute_result"
    }
   ],
   "source": [
    "tf_env.current_time_step()"
   ]
  },
  {
   "cell_type": "code",
   "execution_count": 6,
   "metadata": {},
   "outputs": [
    {
     "data": {
      "text/plain": [
       "<tf.Tensor: shape=(1, 3, 7), dtype=bool, numpy=\n",
       "array([[[False,  True,  True,  True,  True,  True,  True],\n",
       "        [False,  True,  True,  True,  True,  True,  True],\n",
       "        [False,  True,  True,  True, False,  True, False]]])>"
      ]
     },
     "execution_count": 6,
     "metadata": {},
     "output_type": "execute_result"
    }
   ],
   "source": [
    "labeling_function(tf_env.current_time_step().observation)"
   ]
  },
  {
   "cell_type": "code",
   "execution_count": 7,
   "metadata": {},
   "outputs": [
    {
     "data": {
      "text/plain": [
       "<tf.Tensor: shape=(1, 7), dtype=bool, numpy=array([[False,  True,  True,  True, False,  True, False]])>"
      ]
     },
     "execution_count": 7,
     "metadata": {},
     "output_type": "execute_result"
    }
   ],
   "source": [
    "labeling_function(tf_env.current_time_step().observation)[:, -1, ...]"
   ]
  },
  {
   "cell_type": "code",
   "execution_count": 8,
   "metadata": {},
   "outputs": [
    {
     "data": {
      "text/plain": [
       "<tf.Tensor: shape=(1, 6), dtype=float32, numpy=\n",
       "array([[ 0.99768126,  0.06805926,  0.99792546, -0.06438001,  0.06003963,\n",
       "        -0.04305384]], dtype=float32)>"
      ]
     },
     "execution_count": 8,
     "metadata": {},
     "output_type": "execute_result"
    }
   ],
   "source": [
    "tf_env.current_time_step().observation[:, -1, ...]"
   ]
  },
  {
   "cell_type": "code",
   "execution_count": 11,
   "metadata": {},
   "outputs": [
    {
     "data": {
      "text/plain": [
       "<tf.Tensor: shape=(1, 7), dtype=bool, numpy=array([[False,  True,  True,  True, False,  True, False]])>"
      ]
     },
     "execution_count": 11,
     "metadata": {},
     "output_type": "execute_result"
    }
   ],
   "source": [
    "labeling_function(tf_env.current_time_step().observation[:, -1, ...])"
   ]
  },
  {
   "cell_type": "code",
   "execution_count": 12,
   "metadata": {},
   "outputs": [],
   "source": [
    "x = tf_env.current_time_step().observation[:, -1, ...]"
   ]
  },
  {
   "cell_type": "code",
   "execution_count": 13,
   "metadata": {},
   "outputs": [
    {
     "data": {
      "text/plain": [
       "<tf.Tensor: shape=(1, 6), dtype=float32, numpy=\n",
       "array([[ 0.99768126,  0.06805926,  0.99792546, -0.06438001,  0.06003963,\n",
       "        -0.04305384]], dtype=float32)>"
      ]
     },
     "execution_count": 13,
     "metadata": {},
     "output_type": "execute_result"
    }
   ],
   "source": [
    "x"
   ]
  },
  {
   "cell_type": "code",
   "execution_count": 14,
   "metadata": {},
   "outputs": [
    {
     "data": {
      "text/plain": [
       "<tf.Tensor: shape=(1,), dtype=float32, numpy=array([-0.04305384], dtype=float32)>"
      ]
     },
     "execution_count": 14,
     "metadata": {},
     "output_type": "execute_result"
    }
   ],
   "source": [
    "x[:, -1, ...]"
   ]
  },
  {
   "cell_type": "code",
   "execution_count": null,
   "metadata": {},
   "outputs": [],
   "source": []
  }
 ],
 "metadata": {
  "kernelspec": {
   "display_name": "Python 3",
   "language": "python",
   "name": "python3"
  },
  "language_info": {
   "codemirror_mode": {
    "name": "ipython",
    "version": 3
   },
   "file_extension": ".py",
   "mimetype": "text/x-python",
   "name": "python",
   "nbconvert_exporter": "python",
   "pygments_lexer": "ipython3",
   "version": "3.7.10"
  }
 },
 "nbformat": 4,
 "nbformat_minor": 1
}