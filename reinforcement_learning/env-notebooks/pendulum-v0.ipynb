{
 "cells": [
  {
   "cell_type": "code",
   "execution_count": null,
   "outputs": [],
   "source": [
    "import math\n",
    "import os\n",
    "from typing import Tuple\n",
    "from tensorflow.python.keras.utils.generic_utils import Progbar\n",
    "from tf_agents.environments import suite_gym, parallel_py_environment\n",
    "from tf_agents.environments import tf_py_environment\n",
    "from tf_agents.metrics import tf_metrics\n",
    "from tf_agents.replay_buffers import tf_uniform_replay_buffer, episodic_replay_buffer\n",
    "from tf_agents.trajectories.trajectory import Trajectory\n",
    "from tf_agents.networks import actor_distribution_network\n",
    "from tf_agents.drivers import dynamic_episode_driver, dynamic_step_driver\n",
    "from tf_agents.policies import random_tf_policy\n",
    "import tensorflow as tf\n",
    "import numpy as np\n",
    "from tf_agents.utils import common\n",
    "from reinforcement_learning.sac_training import NumberOfSafetyViolations\n",
    "from tf_agents.trajectories import time_step as ts, policy_step, trajectory\n",
    "from reinforcement_learning import sac_training\n",
    "from reinforcement_learning import labeling_functions\n",
    "labeling_function = labeling_functions['Pendulum-v0']\n",
    "from util.io.dataset_generator import map_rl_trajectory_to_vae_input\n",
    "from util.io.dataset_generator import ErgodicMDPTransitionGenerator"
   ],
   "metadata": {
    "collapsed": false,
    "pycharm": {
     "name": "#%% Bipedal walker v2 environment\n"
    }
   }
  },
  {
   "cell_type": "code",
   "execution_count": null,
   "outputs": [],
   "source": [
    "py_env = suite_gym.load('Pendulum-v0')\n",
    "py_env.reset()\n",
    "tf_env = tf_py_environment.TFPyEnvironment(py_env)\n",
    "tf_env.time_step_spec()\n"
   ],
   "metadata": {
    "collapsed": false,
    "pycharm": {
     "name": "#%%\n"
    }
   }
  },
  {
   "cell_type": "code",
   "execution_count": null,
   "outputs": [],
   "source": [
    "def display_safe_labeling(trajectory):\n",
    "    label = labeling_functions['Pendulum-v0'](trajectory.observation)\n",
    "    if tf.reduce_any(label):\n",
    "        print(label)"
   ],
   "metadata": {
    "collapsed": false,
    "pycharm": {
     "name": "#%% Perform a few steps in this environment\n"
    }
   }
  },
  {
   "cell_type": "code",
   "execution_count": null,
   "outputs": [],
   "source": [
    "replay_buffer_capacity = 1280\n",
    "# specs\n",
    "action_spec = tf_env.action_spec()\n",
    "policy_step_spec = policy_step.PolicyStep(\n",
    "    action=action_spec,\n",
    "    state=(),\n",
    "    info=())\n",
    "trajectory_spec = trajectory.from_transition(tf_env.time_step_spec(),\n",
    "                                             policy_step_spec,\n",
    "                                             tf_env.time_step_spec())\n",
    "\n",
    "replay_buffer = tf_uniform_replay_buffer.TFUniformReplayBuffer(\n",
    "    data_spec=trajectory_spec,\n",
    "    batch_size=tf_env.batch_size,\n",
    "    max_length=replay_buffer_capacity)\n",
    "\n",
    "dataset_generator = lambda: replay_buffer.as_dataset(\n",
    "    num_parallel_calls=tf.data.experimental.AUTOTUNE,\n",
    "    num_steps=2\n",
    ").map(\n",
    "    map_func=lambda trajectory, _: map_rl_trajectory_to_vae_input(trajectory, labeling_function),\n",
    "    num_parallel_calls=tf.data.experimental.AUTOTUNE,\n",
    "    #  deterministic=False  # TF version >= 2.2.0\n",
    ")"
   ],
   "metadata": {
    "collapsed": false,
    "pycharm": {
     "name": "#%%\n"
    }
   }
  },
  {
   "cell_type": "code",
   "execution_count": null,
   "outputs": [],
   "source": [
    "tf_env = tf_py_environment.TFPyEnvironment(py_env)\n",
    "\n",
    "sac_policy_dir = '../saves/Pendulum-v0/policy'\n",
    "policy = tf.compat.v2.saved_model.load(sac_policy_dir)\n",
    "dynamic_episode_driver.DynamicEpisodeDriver(tf_env, policy, num_episodes=5,\n",
    "                                            observers=[\n",
    "                                                # display_safe_labeling,\n",
    "                                                lambda _: py_env.render(mode='human'),\n",
    "                                                replay_buffer.add_batch\n",
    "                                            ]).run()"
   ],
   "metadata": {
    "collapsed": false,
    "pycharm": {
     "name": "#%%\n"
    }
   }
  },
  {
   "cell_type": "code",
   "execution_count": null,
   "outputs": [],
   "source": [
    "dataset = replay_buffer.as_dataset(\n",
    "    num_parallel_calls=tf.data.experimental.AUTOTUNE,\n",
    "    num_steps=2\n",
    ")\n",
    "iterator = iter(dataset)\n",
    "trajectory, _ = next(iterator)\n",
    "\n",
    "state = trajectory.observation[0, ...]\n",
    "labels = tf.cast(labeling_function(trajectory.observation), tf.float32)\n",
    "if tf.rank(labels) == 1:\n",
    "    labels = tf.expand_dims(labels, axis=-1)\n",
    "label = labels[0, ...]\n",
    "action = trajectory.action[0, ...]\n",
    "reward = trajectory.reward[0, ...]\n",
    "if tf.rank(reward) == 1:\n",
    "    reward = tf.expand_dims(reward, axis=-1)\n",
    "next_state = trajectory.observation[1, ...]\n",
    "next_label = labels[1, ...]\n",
    "\n",
    "print(\"\\nstate\", state)\n",
    "print('\\nlabels', labels)\n",
    "print('\\nlabel', label)\n",
    "print('\\naction', action)\n",
    "print('\\nreward', reward)\n",
    "print('\\nnext_state', next_state)\n",
    "print('\\nnext_label', next_label)"
   ],
   "metadata": {
    "collapsed": false,
    "pycharm": {
     "name": "#%%\n"
    }
   }
  },
  {
   "cell_type": "code",
   "execution_count": 46,
   "outputs": [
    {
     "data": {
      "text/plain": "(<tf.Tensor: shape=(16, 3), dtype=float32, numpy=\n array([[ 0.96077   , -0.2773464 , -0.06566303],\n        [ 0.9906935 ,  0.13611153,  0.05436661],\n        [ 0.96475935, -0.26313376,  0.53738177],\n        [ 0.9917752 ,  0.12799199, -0.04881461],\n        [ 0.984334  , -0.17631406, -0.39580426],\n        [ 0.24332136, -0.9699457 ,  1.3340402 ],\n        [ 0.9820759 ,  0.18848564, -0.29833403],\n        [ 0.647934  ,  0.76169646, -2.7164521 ],\n        [ 0.9996509 ,  0.02642205, -0.553501  ],\n        [ 0.9989885 ,  0.04496658,  0.48496607],\n        [ 0.9675869 , -0.2525384 , -0.2312615 ],\n        [ 0.97604245, -0.21758024, -0.2490194 ],\n        [ 0.9865107 , -0.1636969 , -0.33252692],\n        [ 0.98471075,  0.17419727,  0.1663308 ],\n        [ 0.76377136,  0.6454869 , -1.7687432 ],\n        [ 0.9827999 ,  0.18467373,  0.35009584]], dtype=float32)>,\n <tf.Tensor: shape=(16, 4), dtype=float32, numpy=\n array([[1., 1., 1., 0.],\n        [1., 1., 1., 0.],\n        [1., 1., 1., 0.],\n        [1., 1., 1., 0.],\n        [1., 1., 1., 0.],\n        [1., 0., 0., 0.],\n        [1., 1., 1., 0.],\n        [1., 0., 0., 0.],\n        [1., 1., 1., 0.],\n        [1., 1., 1., 0.],\n        [1., 1., 1., 0.],\n        [1., 1., 1., 0.],\n        [1., 1., 1., 0.],\n        [1., 1., 1., 0.],\n        [1., 0., 0., 0.],\n        [1., 1., 1., 0.]], dtype=float32)>,\n <tf.Tensor: shape=(16, 1), dtype=float32, numpy=\n array([[ 1.7424123 ],\n        [ 0.06655917],\n        [ 1.9891168 ],\n        [-0.35636625],\n        [ 1.0393198 ],\n        [ 1.9961377 ],\n        [-0.49533415],\n        [ 0.16031735],\n        [-0.1687313 ],\n        [-0.63874465],\n        [ 1.3106458 ],\n        [ 1.1811476 ],\n        [ 0.7269003 ],\n        [-1.4698994 ],\n        [-1.466888  ],\n        [-1.003191  ]], dtype=float32)>,\n <tf.Tensor: shape=(16, 1), dtype=float32, numpy=\n array([[-0.08244562],\n        [-0.0189419 ],\n        [-0.10373369],\n        [-0.01683748],\n        [-0.04816051],\n        [-1.9375962 ],\n        [-0.04510139],\n        [-1.4877672 ],\n        [-0.0313631 ],\n        [-0.02595056],\n        [-0.0722455 ],\n        [-0.05570386],\n        [-0.03862531],\n        [-0.03558389],\n        [-0.8073245 ],\n        [-0.04776241]], dtype=float32)>,\n <tf.Tensor: shape=(16, 3), dtype=float32, numpy=\n array([[ 9.6059906e-01, -2.7793777e-01, -1.2310994e-02],\n        [ 9.8952657e-01,  1.4435098e-01,  1.6643412e-01],\n        [ 9.7266573e-01, -2.3220991e-01,  6.3839895e-01],\n        [ 9.9181533e-01,  1.2768078e-01, -6.2755537e-03],\n        [ 9.8088306e-01, -1.9459806e-01, -3.7214184e-01],\n        [ 2.8699532e-01, -9.5793200e-01,  9.0600157e-01],\n        [ 9.8418981e-01,  1.7711705e-01, -2.3126993e-01],\n        [ 7.2492504e-01,  6.8882775e-01, -2.1211321e+00],\n        [ 9.9999887e-01, -1.5245844e-03, -5.5899417e-01],\n        [ 9.9781448e-01,  6.6077538e-02,  4.2287931e-01],\n        [ 9.6469688e-01, -2.6336262e-01, -2.2406843e-01],\n        [ 9.7341818e-01, -2.2903505e-01, -2.3503245e-01],\n        [ 9.8352885e-01, -1.8075119e-01, -3.4626454e-01],\n        [ 9.8403734e-01,  1.7796220e-01,  7.6493844e-02],\n        [ 8.1012708e-01,  5.8625430e-01, -1.5046612e+00],\n        [ 9.7953749e-01,  2.0126189e-01,  3.3812249e-01]], dtype=float32)>,\n <tf.Tensor: shape=(16, 4), dtype=float32, numpy=\n array([[1., 1., 1., 0.],\n        [1., 1., 1., 0.],\n        [1., 1., 1., 0.],\n        [1., 1., 1., 0.],\n        [1., 1., 1., 0.],\n        [1., 0., 0., 0.],\n        [1., 1., 1., 0.],\n        [1., 0., 0., 0.],\n        [1., 1., 1., 0.],\n        [1., 1., 1., 0.],\n        [1., 1., 1., 0.],\n        [1., 1., 1., 0.],\n        [1., 1., 1., 0.],\n        [1., 1., 1., 0.],\n        [1., 0., 0., 0.],\n        [1., 1., 1., 0.]], dtype=float32)>)"
     },
     "execution_count": 46,
     "metadata": {},
     "output_type": "execute_result"
    }
   ],
   "source": [
    "dataset = tf.data.Dataset.from_generator(\n",
    "    generator=ErgodicMDPTransitionGenerator(\n",
    "        replay_buffer=replay_buffer, labeling_function=labeling_function),\n",
    "    output_types=(tf.float32, tf.float32, tf.float32, tf.float32, tf.float32, tf.float32))\n",
    "iterator = iter(dataset.batch(batch_size=16))\n",
    "next(iterator)"
   ],
   "metadata": {
    "collapsed": false,
    "pycharm": {
     "name": "#%%\n"
    }
   }
  },
  {
   "cell_type": "code",
   "execution_count": 56,
   "outputs": [
    {
     "name": "stdout",
     "output_type": "stream",
     "text": [
      "(TensorSpec(shape=<unknown>, dtype=tf.float32, name=None), TensorSpec(shape=<unknown>, dtype=tf.float32, name=None), TensorSpec(shape=<unknown>, dtype=tf.float32, name=None), TensorSpec(shape=<unknown>, dtype=tf.float32, name=None), TensorSpec(shape=<unknown>, dtype=tf.float32, name=None), TensorSpec(shape=<unknown>, dtype=tf.float32, name=None))\n"
     ]
    },
    {
     "data": {
      "text/plain": "(<tf.Tensor: shape=(8, 3), dtype=float32, numpy=\n array([[ 0.9995769 , -0.02908477, -0.31290954],\n        [ 0.9592944 , -0.2824081 , -0.17525356],\n        [ 0.99931717,  0.03694883,  0.31311813],\n        [ 0.9999757 , -0.00697772, -0.56639445],\n        [ 0.9902308 ,  0.13943815, -0.10237262],\n        [ 0.9933483 , -0.11514864, -0.42249623],\n        [ 0.95012456, -0.31187063,  0.43540317],\n        [ 0.9668493 , -0.25534758,  0.30975214]], dtype=float32)>,\n <tf.Tensor: shape=(8, 4), dtype=float32, numpy=\n array([[1., 1., 1., 0.],\n        [1., 1., 1., 0.],\n        [1., 1., 1., 0.],\n        [1., 1., 1., 0.],\n        [1., 1., 1., 0.],\n        [1., 1., 1., 0.],\n        [1., 1., 1., 0.],\n        [1., 1., 1., 0.]], dtype=float32)>,\n <tf.Tensor: shape=(8, 1), dtype=float32, numpy=\n array([[ 0.35569933],\n        [ 1.7593744 ],\n        [-0.9018159 ],\n        [ 0.38206947],\n        [-0.8714839 ],\n        [ 0.8993706 ],\n        [ 1.859749  ],\n        [ 1.9625181 ]], dtype=float32)>,\n <tf.Tensor: shape=(8, 1), dtype=float32, numpy=\n array([[-0.01076392],\n        [-0.08813644],\n        [-0.0119834 ],\n        [-0.03227493],\n        [-0.02137783],\n        [-0.0319774 ],\n        [-0.12300751],\n        [-0.08011706]], dtype=float32)>,\n <tf.Tensor: shape=(8, 3), dtype=float32, numpy=\n array([[ 0.99906886, -0.04314388, -0.28136823],\n        [ 0.95753723, -0.2883097 , -0.12315346],\n        [ 0.9988846 ,  0.04721754,  0.20555736],\n        [ 0.9994656 , -0.03268782, -0.5143173 ],\n        [ 0.99110633,  0.13307227, -0.12851658],\n        [ 0.99102175, -0.13370067, -0.37395212],\n        [ 0.9573418 , -0.2889579 ,  0.48046255],\n        [ 0.97191125, -0.23534761,  0.41261917]], dtype=float32)>,\n <tf.Tensor: shape=(8, 4), dtype=float32, numpy=\n array([[1., 1., 1., 0.],\n        [1., 1., 1., 0.],\n        [1., 1., 1., 0.],\n        [1., 1., 1., 0.],\n        [1., 1., 1., 0.],\n        [1., 1., 1., 0.],\n        [1., 1., 1., 0.],\n        [1., 1., 1., 0.]], dtype=float32)>)"
     },
     "execution_count": 56,
     "metadata": {},
     "output_type": "execute_result"
    }
   ],
   "source": [
    "tf.random.set_seed(42)\n",
    "def dataset_generator():\n",
    "    dataset = tf.data.Dataset.from_generator(\n",
    "        generator=ErgodicMDPTransitionGenerator(\n",
    "            replay_buffer=replay_buffer, labeling_function=labeling_function),\n",
    "        output_types=(tf.float32, tf.float32, tf.float32, tf.float32, tf.float32, tf.float32))\n",
    "    return dataset.interleave(lambda *x: tf.data.Dataset.from_tensors(x), num_parallel_calls=16)\n",
    "\n",
    "dataset = dataset_generator()\n",
    "print(dataset.element_spec)\n",
    "iterator = iter(dataset.batch(batch_size=8, drop_remainder=True))\n",
    "next(iterator)"
   ],
   "metadata": {
    "collapsed": false,
    "pycharm": {
     "name": "#%%\n"
    }
   }
  },
  {
   "cell_type": "code",
   "execution_count": null,
   "outputs": [],
   "source": [],
   "metadata": {
    "collapsed": false,
    "pycharm": {
     "name": "#%%\n"
    }
   }
  }
 ],
 "metadata": {
  "kernelspec": {
   "display_name": "Python 3",
   "language": "python",
   "name": "python3"
  },
  "language_info": {
   "codemirror_mode": {
    "name": "ipython",
    "version": 2
   },
   "file_extension": ".py",
   "mimetype": "text/x-python",
   "name": "python",
   "nbconvert_exporter": "python",
   "pygments_lexer": "ipython2",
   "version": "2.7.6"
  }
 },
 "nbformat": 4,
 "nbformat_minor": 0
}