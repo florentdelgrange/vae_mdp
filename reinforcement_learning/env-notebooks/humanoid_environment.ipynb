{
 "cells": [
  {
   "cell_type": "code",
   "execution_count": 3,
   "metadata": {
    "collapsed": true
   },
   "outputs": [],
   "source": [
    "import os\n",
    "import gym\n",
    "import imageio\n",
    "import pybullet_envs\n",
    "import PIL.Image\n",
    "import pybullet\n",
    "import pybullet_data"
   ]
  },
  {
   "cell_type": "code",
   "execution_count": 4,
   "outputs": [
    {
     "data": {
      "text/plain": "<PIL.Image.Image image mode=RGB size=320x240 at 0x7F3067629990>",
      "image/png": "[encoded data removed]"
     },
     "execution_count": 4,
     "metadata": {},
     "output_type": "execute_result"
    }
   ],
   "source": [
    "from tf_agents.agents.reinforce import reinforce_agent\n",
    "from tf_agents.networks import actor_distribution_network\n",
    "from tf_agents.replay_buffers import tf_uniform_replay_buffer\n",
    "from reinforcement_learning.sac_training import NumberOfSafetyViolations\n",
    "env = gym.make('HumanoidBulletEnv-v0')\n",
    "# env.render(mode='human')\n",
    "env.reset()\n",
    "PIL.Image.fromarray(env.render(mode='rgb_array'))\n",
    "\n"
   ],
   "metadata": {
    "collapsed": false,
    "pycharm": {
     "name": "#%%\n"
    }
   }
  },
  {
   "cell_type": "code",
   "execution_count": 5,
   "outputs": [
    {
     "ename": "ImportError",
     "evalue": "To use the imageio ffmpeg plugin you need to 'pip install imageio-ffmpeg'",
     "output_type": "error",
     "traceback": [
      "\u001B[0;31m---------------------------------------------------------------------------\u001B[0m",
      "\u001B[0;31mModuleNotFoundError\u001B[0m                       Traceback (most recent call last)",
      "\u001B[0;32m~/anaconda3/envs/vae-mdp/lib/python3.7/site-packages/imageio/plugins/ffmpeg.py\u001B[0m in \u001B[0;36m_get_ffmpeg_api\u001B[0;34m()\u001B[0m\n\u001B[1;32m     58\u001B[0m         \u001B[0;32mtry\u001B[0m\u001B[0;34m:\u001B[0m\u001B[0;34m\u001B[0m\u001B[0;34m\u001B[0m\u001B[0m\n\u001B[0;32m---> 59\u001B[0;31m             \u001B[0;32mimport\u001B[0m \u001B[0mimageio_ffmpeg\u001B[0m\u001B[0;34m\u001B[0m\u001B[0;34m\u001B[0m\u001B[0m\n\u001B[0m\u001B[1;32m     60\u001B[0m         \u001B[0;32mexcept\u001B[0m \u001B[0mImportError\u001B[0m\u001B[0;34m:\u001B[0m\u001B[0;34m\u001B[0m\u001B[0;34m\u001B[0m\u001B[0m\n",
      "\u001B[0;31mModuleNotFoundError\u001B[0m: No module named 'imageio_ffmpeg'",
      "\nDuring handling of the above exception, another exception occurred:\n",
      "\u001B[0;31mImportError\u001B[0m                               Traceback (most recent call last)",
      "\u001B[0;32m<ipython-input-5-850fad1d36d0>\u001B[0m in \u001B[0;36m<module>\u001B[0;34m\u001B[0m\n\u001B[1;32m      1\u001B[0m \u001B[0mdone\u001B[0m \u001B[0;34m=\u001B[0m \u001B[0;32mFalse\u001B[0m\u001B[0;34m\u001B[0m\u001B[0;34m\u001B[0m\u001B[0m\n\u001B[1;32m      2\u001B[0m \u001B[0mvideo_filename\u001B[0m \u001B[0;34m=\u001B[0m \u001B[0;34m'humanoid_gym.mp4'\u001B[0m\u001B[0;34m\u001B[0m\u001B[0;34m\u001B[0m\u001B[0m\n\u001B[0;32m----> 3\u001B[0;31m \u001B[0;32mwith\u001B[0m \u001B[0mimageio\u001B[0m\u001B[0;34m.\u001B[0m\u001B[0mget_writer\u001B[0m\u001B[0;34m(\u001B[0m\u001B[0mvideo_filename\u001B[0m\u001B[0;34m,\u001B[0m \u001B[0mfps\u001B[0m\u001B[0;34m=\u001B[0m\u001B[0;36m60\u001B[0m\u001B[0;34m)\u001B[0m \u001B[0;32mas\u001B[0m \u001B[0mvideo\u001B[0m\u001B[0;34m:\u001B[0m\u001B[0;34m\u001B[0m\u001B[0;34m\u001B[0m\u001B[0m\n\u001B[0m\u001B[1;32m      4\u001B[0m     \u001B[0;32mwhile\u001B[0m \u001B[0;32mnot\u001B[0m \u001B[0mdone\u001B[0m\u001B[0;34m:\u001B[0m\u001B[0;34m\u001B[0m\u001B[0;34m\u001B[0m\u001B[0m\n\u001B[1;32m      5\u001B[0m         \u001B[0mstate\u001B[0m\u001B[0;34m,\u001B[0m \u001B[0mreward\u001B[0m\u001B[0;34m,\u001B[0m \u001B[0mdone\u001B[0m\u001B[0;34m,\u001B[0m \u001B[0minfo\u001B[0m \u001B[0;34m=\u001B[0m \u001B[0menv\u001B[0m\u001B[0;34m.\u001B[0m\u001B[0mstep\u001B[0m\u001B[0;34m(\u001B[0m\u001B[0menv\u001B[0m\u001B[0;34m.\u001B[0m\u001B[0maction_space\u001B[0m\u001B[0;34m.\u001B[0m\u001B[0msample\u001B[0m\u001B[0;34m(\u001B[0m\u001B[0;34m)\u001B[0m\u001B[0;34m)\u001B[0m\u001B[0;34m\u001B[0m\u001B[0;34m\u001B[0m\u001B[0m\n",
      "\u001B[0;32m~/anaconda3/envs/vae-mdp/lib/python3.7/site-packages/imageio/core/functions.py\u001B[0m in \u001B[0;36mget_writer\u001B[0;34m(uri, format, mode, **kwargs)\u001B[0m\n\u001B[1;32m    229\u001B[0m \u001B[0;34m\u001B[0m\u001B[0m\n\u001B[1;32m    230\u001B[0m     \u001B[0;31m# Return its writer object\u001B[0m\u001B[0;34m\u001B[0m\u001B[0;34m\u001B[0m\u001B[0;34m\u001B[0m\u001B[0m\n\u001B[0;32m--> 231\u001B[0;31m     \u001B[0;32mreturn\u001B[0m \u001B[0mformat\u001B[0m\u001B[0;34m.\u001B[0m\u001B[0mget_writer\u001B[0m\u001B[0;34m(\u001B[0m\u001B[0mrequest\u001B[0m\u001B[0;34m)\u001B[0m\u001B[0;34m\u001B[0m\u001B[0;34m\u001B[0m\u001B[0m\n\u001B[0m\u001B[1;32m    232\u001B[0m \u001B[0;34m\u001B[0m\u001B[0m\n\u001B[1;32m    233\u001B[0m \u001B[0;34m\u001B[0m\u001B[0m\n",
      "\u001B[0;32m~/anaconda3/envs/vae-mdp/lib/python3.7/site-packages/imageio/core/format.py\u001B[0m in \u001B[0;36mget_writer\u001B[0;34m(self, request)\u001B[0m\n\u001B[1;32m    183\u001B[0m                 \u001B[0;34m\"Format %s cannot write in %s mode\"\u001B[0m \u001B[0;34m%\u001B[0m \u001B[0;34m(\u001B[0m\u001B[0mself\u001B[0m\u001B[0;34m.\u001B[0m\u001B[0mname\u001B[0m\u001B[0;34m,\u001B[0m \u001B[0mmodename\u001B[0m\u001B[0;34m)\u001B[0m\u001B[0;34m\u001B[0m\u001B[0;34m\u001B[0m\u001B[0m\n\u001B[1;32m    184\u001B[0m             )\n\u001B[0;32m--> 185\u001B[0;31m         \u001B[0;32mreturn\u001B[0m \u001B[0mself\u001B[0m\u001B[0;34m.\u001B[0m\u001B[0mWriter\u001B[0m\u001B[0;34m(\u001B[0m\u001B[0mself\u001B[0m\u001B[0;34m,\u001B[0m \u001B[0mrequest\u001B[0m\u001B[0;34m)\u001B[0m\u001B[0;34m\u001B[0m\u001B[0;34m\u001B[0m\u001B[0m\n\u001B[0m\u001B[1;32m    186\u001B[0m \u001B[0;34m\u001B[0m\u001B[0m\n\u001B[1;32m    187\u001B[0m     \u001B[0;32mdef\u001B[0m \u001B[0mcan_read\u001B[0m\u001B[0;34m(\u001B[0m\u001B[0mself\u001B[0m\u001B[0;34m,\u001B[0m \u001B[0mrequest\u001B[0m\u001B[0;34m)\u001B[0m\u001B[0;34m:\u001B[0m\u001B[0;34m\u001B[0m\u001B[0;34m\u001B[0m\u001B[0m\n",
      "\u001B[0;32m~/anaconda3/envs/vae-mdp/lib/python3.7/site-packages/imageio/core/format.py\u001B[0m in \u001B[0;36m__init__\u001B[0;34m(self, format, request)\u001B[0m\n\u001B[1;32m    219\u001B[0m             \u001B[0mself\u001B[0m\u001B[0;34m.\u001B[0m\u001B[0m_request\u001B[0m \u001B[0;34m=\u001B[0m \u001B[0mrequest\u001B[0m\u001B[0;34m\u001B[0m\u001B[0;34m\u001B[0m\u001B[0m\n\u001B[1;32m    220\u001B[0m             \u001B[0;31m# Open the reader/writer\u001B[0m\u001B[0;34m\u001B[0m\u001B[0;34m\u001B[0m\u001B[0;34m\u001B[0m\u001B[0m\n\u001B[0;32m--> 221\u001B[0;31m             \u001B[0mself\u001B[0m\u001B[0;34m.\u001B[0m\u001B[0m_open\u001B[0m\u001B[0;34m(\u001B[0m\u001B[0;34m**\u001B[0m\u001B[0mself\u001B[0m\u001B[0;34m.\u001B[0m\u001B[0mrequest\u001B[0m\u001B[0;34m.\u001B[0m\u001B[0mkwargs\u001B[0m\u001B[0;34m.\u001B[0m\u001B[0mcopy\u001B[0m\u001B[0;34m(\u001B[0m\u001B[0;34m)\u001B[0m\u001B[0;34m)\u001B[0m\u001B[0;34m\u001B[0m\u001B[0;34m\u001B[0m\u001B[0m\n\u001B[0m\u001B[1;32m    222\u001B[0m \u001B[0;34m\u001B[0m\u001B[0m\n\u001B[1;32m    223\u001B[0m         \u001B[0;34m@\u001B[0m\u001B[0mproperty\u001B[0m\u001B[0;34m\u001B[0m\u001B[0;34m\u001B[0m\u001B[0m\n",
      "\u001B[0;32m~/anaconda3/envs/vae-mdp/lib/python3.7/site-packages/imageio/plugins/ffmpeg.py\u001B[0m in \u001B[0;36m_open\u001B[0;34m(self, fps, codec, bitrate, pixelformat, ffmpeg_params, input_params, output_params, ffmpeg_log_level, quality, macro_block_size)\u001B[0m\n\u001B[1;32m    523\u001B[0m             \u001B[0mmacro_block_size\u001B[0m\u001B[0;34m=\u001B[0m\u001B[0;36m16\u001B[0m\u001B[0;34m,\u001B[0m\u001B[0;34m\u001B[0m\u001B[0;34m\u001B[0m\u001B[0m\n\u001B[1;32m    524\u001B[0m         ):\n\u001B[0;32m--> 525\u001B[0;31m             \u001B[0mself\u001B[0m\u001B[0;34m.\u001B[0m\u001B[0m_ffmpeg_api\u001B[0m \u001B[0;34m=\u001B[0m \u001B[0m_get_ffmpeg_api\u001B[0m\u001B[0;34m(\u001B[0m\u001B[0;34m)\u001B[0m\u001B[0;34m\u001B[0m\u001B[0;34m\u001B[0m\u001B[0m\n\u001B[0m\u001B[1;32m    526\u001B[0m             \u001B[0mself\u001B[0m\u001B[0;34m.\u001B[0m\u001B[0m_filename\u001B[0m \u001B[0;34m=\u001B[0m \u001B[0mself\u001B[0m\u001B[0;34m.\u001B[0m\u001B[0mrequest\u001B[0m\u001B[0;34m.\u001B[0m\u001B[0mget_local_filename\u001B[0m\u001B[0;34m(\u001B[0m\u001B[0;34m)\u001B[0m\u001B[0;34m\u001B[0m\u001B[0;34m\u001B[0m\u001B[0m\n\u001B[1;32m    527\u001B[0m             \u001B[0mself\u001B[0m\u001B[0;34m.\u001B[0m\u001B[0m_pix_fmt\u001B[0m \u001B[0;34m=\u001B[0m \u001B[0;32mNone\u001B[0m\u001B[0;34m\u001B[0m\u001B[0;34m\u001B[0m\u001B[0m\n",
      "\u001B[0;32m~/anaconda3/envs/vae-mdp/lib/python3.7/site-packages/imageio/plugins/ffmpeg.py\u001B[0m in \u001B[0;36m_get_ffmpeg_api\u001B[0;34m()\u001B[0m\n\u001B[1;32m     60\u001B[0m         \u001B[0;32mexcept\u001B[0m \u001B[0mImportError\u001B[0m\u001B[0;34m:\u001B[0m\u001B[0;34m\u001B[0m\u001B[0;34m\u001B[0m\u001B[0m\n\u001B[1;32m     61\u001B[0m             raise ImportError(\n\u001B[0;32m---> 62\u001B[0;31m                 \u001B[0;34m\"To use the imageio ffmpeg plugin you need to \"\u001B[0m\u001B[0;34m\u001B[0m\u001B[0;34m\u001B[0m\u001B[0m\n\u001B[0m\u001B[1;32m     63\u001B[0m                 \u001B[0;34m\"'pip install imageio-ffmpeg'\"\u001B[0m\u001B[0;34m\u001B[0m\u001B[0;34m\u001B[0m\u001B[0m\n\u001B[1;32m     64\u001B[0m             )\n",
      "\u001B[0;31mImportError\u001B[0m: To use the imageio ffmpeg plugin you need to 'pip install imageio-ffmpeg'"
     ]
    }
   ],
   "source": [
    "done = False\n",
    "video_filename = 'humanoid_gym.mp4'\n",
    "with imageio.get_writer(video_filename, fps=60) as video:\n",
    "    while not done:\n",
    "        state, reward, done, info = env.step(env.action_space.sample())\n",
    "        video.append_data(env.render(mode='rgb_array'))\n",
    "env.reset()"
   ],
   "metadata": {
    "collapsed": false,
    "pycharm": {
     "name": "#%%\n"
    }
   }
  },
  {
   "cell_type": "code",
   "execution_count": 1,
   "outputs": [],
   "source": [
    "# Pybullet testing environment\n",
    "import PIL.Image\n",
    "import os\n",
    "# Important: pybullet should be charged only once !!\n",
    "from tf_agents.environments import suite_pybullet, parallel_py_environment\n",
    "from tf_agents.environments import tf_py_environment\n",
    "from tf_agents.trajectories.trajectory import Trajectory\n",
    "from tf_agents.networks import actor_distribution_network\n",
    "from tf_agents.drivers import dynamic_episode_driver, dynamic_step_driver\n",
    "from tf_agents.policies import random_tf_policy\n",
    "import tensorflow as tf"
   ],
   "metadata": {
    "collapsed": false,
    "pycharm": {
     "name": "#%%\n"
    }
   }
  },
  {
   "cell_type": "code",
   "execution_count": 2,
   "outputs": [
    {
     "name": "stderr",
     "output_type": "stream",
     "text": [
      "/home/florentdelgrange/anaconda3/envs/vae-mdp/lib/python3.7/site-packages/gym/logger.py:30: UserWarning: \u001B[33mWARN: gym.spaces.Box autodetected dtype as <class 'numpy.float32'>. Please provide explicit dtype.\u001B[0m\n",
      "  warnings.warn(colorize('%s: %s'%('WARN', msg % args), 'yellow'))\n"
     ]
    },
    {
     "data": {
      "text/plain": "<PIL.Image.Image image mode=RGB size=320x240 at 0x7FC010544C90>",
      "image/png": "[encoded data removed]"
     },
     "execution_count": 2,
     "metadata": {},
     "output_type": "execute_result"
    }
   ],
   "source": [
    "py_env = suite_pybullet.load('HumanoidBulletEnv-v0')\n",
    "py_env.render(mode='human')\n",
    "py_env.reset()\n",
    "PIL.Image.fromarray(py_env.render())"
   ],
   "metadata": {
    "collapsed": false,
    "pycharm": {
     "name": "#%% Open Pybullet gui for the humanoid environment\n"
    }
   }
  },
  {
   "cell_type": "code",
   "execution_count": 4,
   "outputs": [
    {
     "name": "stdout",
     "output_type": "stream",
     "text": [
      "bad state!: 0.7796496152877808\n",
      "bad state!: 0.7732096314430237\n",
      "bad state!: 0.7717272639274597\n",
      "bad state!: 0.7794982194900513\n",
      "bad state!: 0.7793211936950684\n",
      "bad state!: 0.7799262404441833\n",
      "bad state!: 0.7795565128326416\n",
      "bad state!: 0.7799650430679321\n",
      "bad state!: 0.7797608375549316\n",
      "bad state!: 0.7798738479614258\n",
      "bad state!: 0.7577369213104248\n",
      "bad state!: 0.7778942584991455\n",
      "bad state!: 0.7799336910247803\n",
      "bad state!: 0.7666406631469727\n",
      "bad state!: 0.7609941959381104\n"
     ]
    },
    {
     "data": {
      "text/plain": "(TimeStep(step_type=<tf.Tensor: shape=(1,), dtype=int32, numpy=array([0], dtype=int32)>, reward=<tf.Tensor: shape=(1,), dtype=float32, numpy=array([0.], dtype=float32)>, discount=<tf.Tensor: shape=(1,), dtype=float32, numpy=array([1.], dtype=float32)>, observation=<tf.Tensor: shape=(1, 44), dtype=float32, numpy=\n array([[ 5.9999996e-01, -1.7949991e-05,  1.0000000e+00,  0.0000000e+00,\n          0.0000000e+00,  0.0000000e+00,  0.0000000e+00, -0.0000000e+00,\n         -1.2134220e-01,  0.0000000e+00,  4.7853976e-01,  0.0000000e+00,\n          1.2096228e-01,  0.0000000e+00,  7.0311141e-01,  0.0000000e+00,\n          3.5016638e-01,  0.0000000e+00,  6.6564119e-01,  0.0000000e+00,\n          1.0611154e+00,  0.0000000e+00,  6.3744384e-01,  0.0000000e+00,\n          2.0316984e-01,  0.0000000e+00,  7.8265125e-01,  0.0000000e+00,\n          1.0763040e+00,  0.0000000e+00,  1.3847239e-01,  0.0000000e+00,\n          2.4064557e-01,  0.0000000e+00,  2.2795661e-01,  0.0000000e+00,\n         -1.0727448e-01,  0.0000000e+00, -1.7644325e-01,  0.0000000e+00,\n          3.3536100e-01,  0.0000000e+00,  0.0000000e+00,  0.0000000e+00]],\n       dtype=float32)>),\n ())"
     },
     "execution_count": 4,
     "metadata": {},
     "output_type": "execute_result"
    }
   ],
   "source": [
    "bad_state_detection = lambda trajectory: print(\"bad state!: {}\".format(trajectory.observation[0][0] + 0.8))\\\n",
    "    if trajectory.observation[0][0] + 0.8 <= 0.78 else None\n",
    "tf_env = tf_py_environment.TFPyEnvironment(py_env)\n",
    "stochastic_policy_dir = '../reinforcement_learning/saves/HumanoidBulletEnv-v0/' \\\n",
    "                        'policy/permissive_variance_policy-multiplier=5.5'\n",
    "policy = tf.compat.v2.saved_model.load(stochastic_policy_dir)\n",
    "dynamic_episode_driver.DynamicEpisodeDriver(tf_env, policy, num_episodes=15, observers=[bad_state_detection]).run()\n",
    "\n"
   ],
   "metadata": {
    "collapsed": false,
    "pycharm": {
     "name": "#%% Perform a few steps in this environment\n"
    }
   }
  },
  {
   "cell_type": "code",
   "execution_count": 2,
   "outputs": [
    {
     "name": "stderr",
     "output_type": "stream",
     "text": [
      "/home/florentdelgrange/anaconda3/envs/vae-mdp/lib/python3.7/site-packages/gym/logger.py:30: UserWarning: \u001B[33mWARN: gym.spaces.Box autodetected dtype as <class 'numpy.float32'>. Please provide explicit dtype.\u001B[0m\n",
      "  warnings.warn(colorize('%s: %s'%('WARN', msg % args), 'yellow'))\n",
      "/home/florentdelgrange/anaconda3/envs/vae-mdp/lib/python3.7/site-packages/gym/logger.py:30: UserWarning: \u001B[33mWARN: gym.spaces.Box autodetected dtype as <class 'numpy.float32'>. Please provide explicit dtype.\u001B[0m\n",
      "  warnings.warn(colorize('%s: %s'%('WARN', msg % args), 'yellow'))\n",
      "/home/florentdelgrange/anaconda3/envs/vae-mdp/lib/python3.7/site-packages/gym/logger.py:30: UserWarning: \u001B[33mWARN: gym.spaces.Box autodetected dtype as <class 'numpy.float32'>. Please provide explicit dtype.\u001B[0m\n",
      "  warnings.warn(colorize('%s: %s'%('WARN', msg % args), 'yellow'))\n",
      "/home/florentdelgrange/anaconda3/envs/vae-mdp/lib/python3.7/site-packages/gym/logger.py:30: UserWarning: \u001B[33mWARN: gym.spaces.Box autodetected dtype as <class 'numpy.float32'>. Please provide explicit dtype.\u001B[0m\n",
      "  warnings.warn(colorize('%s: %s'%('WARN', msg % args), 'yellow'))\n"
     ]
    },
    {
     "data": {
      "text/plain": "TimeStep(step_type=<tf.Tensor: shape=(4,), dtype=int32, numpy=array([0, 0, 0, 0], dtype=int32)>, reward=<tf.Tensor: shape=(4,), dtype=float32, numpy=array([0., 0., 0., 0.], dtype=float32)>, discount=<tf.Tensor: shape=(4,), dtype=float32, numpy=array([1., 1., 1., 1.], dtype=float32)>, observation=<tf.Tensor: shape=(4, 44), dtype=float32, numpy=\narray([[ 5.9999996e-01,  9.2012087e-06,  1.0000000e+00,  0.0000000e+00,\n         0.0000000e+00,  0.0000000e+00,  0.0000000e+00, -0.0000000e+00,\n        -8.4347658e-02,  0.0000000e+00,  4.9782762e-01,  0.0000000e+00,\n        -1.5650268e-01,  0.0000000e+00,  6.6706383e-01,  0.0000000e+00,\n         2.7644044e-01,  0.0000000e+00,  7.6475137e-01,  0.0000000e+00,\n         1.0315669e+00,  0.0000000e+00,  3.3479026e-01,  0.0000000e+00,\n         1.8095379e-01,  0.0000000e+00,  7.2646117e-01,  0.0000000e+00,\n         1.0932105e+00,  0.0000000e+00,  2.4763696e-01,  0.0000000e+00,\n         2.5020656e-01,  0.0000000e+00,  2.7137965e-01,  0.0000000e+00,\n        -1.7225973e-01,  0.0000000e+00, -1.7970306e-01,  0.0000000e+00,\n         2.3676927e-01,  0.0000000e+00,  0.0000000e+00,  0.0000000e+00],\n       [ 5.9999996e-01,  9.5833839e-06,  1.0000000e+00,  0.0000000e+00,\n         0.0000000e+00,  0.0000000e+00,  0.0000000e+00, -0.0000000e+00,\n         3.4528080e-02,  0.0000000e+00,  4.5102498e-01,  0.0000000e+00,\n        -1.1036922e-01,  0.0000000e+00,  9.4807583e-01,  0.0000000e+00,\n         1.6237655e-01,  0.0000000e+00,  7.9210973e-01,  0.0000000e+00,\n         1.0460438e+00,  0.0000000e+00,  7.9909235e-01,  0.0000000e+00,\n         3.7631339e-01,  0.0000000e+00,  7.5315362e-01,  0.0000000e+00,\n         1.0317209e+00,  0.0000000e+00,  2.2780815e-01,  0.0000000e+00,\n         1.5281232e-01,  0.0000000e+00,  2.6487377e-01,  0.0000000e+00,\n        -1.3401361e-01,  0.0000000e+00, -2.4237543e-01,  0.0000000e+00,\n         2.3121384e-01,  0.0000000e+00,  0.0000000e+00,  0.0000000e+00],\n       [ 5.9999996e-01, -2.3816108e-05,  1.0000000e+00,  0.0000000e+00,\n         0.0000000e+00,  0.0000000e+00,  0.0000000e+00, -0.0000000e+00,\n         6.2721446e-02,  0.0000000e+00,  3.6126959e-01,  0.0000000e+00,\n         1.6047487e-01,  0.0000000e+00,  1.0007697e+00,  0.0000000e+00,\n         3.3286935e-01,  0.0000000e+00,  6.9328016e-01,  0.0000000e+00,\n         1.0053686e+00,  0.0000000e+00,  7.0983803e-01,  0.0000000e+00,\n         1.5656975e-01,  0.0000000e+00,  6.9104648e-01,  0.0000000e+00,\n         9.5633751e-01,  0.0000000e+00,  1.6178825e-01,  0.0000000e+00,\n         1.8288791e-01,  0.0000000e+00,  2.1966627e-01,  0.0000000e+00,\n        -2.1568698e-01,  0.0000000e+00, -1.9870269e-01,  0.0000000e+00,\n         3.2365960e-01,  0.0000000e+00,  0.0000000e+00,  0.0000000e+00],\n       [ 5.9999996e-01,  1.0410515e-05,  1.0000000e+00,  0.0000000e+00,\n         0.0000000e+00,  0.0000000e+00,  0.0000000e+00, -0.0000000e+00,\n        -6.5628804e-02,  0.0000000e+00,  3.3014318e-01,  0.0000000e+00,\n         1.8770784e-02,  0.0000000e+00,  3.7903500e-01,  0.0000000e+00,\n         2.8580526e-01,  0.0000000e+00,  7.0428425e-01,  0.0000000e+00,\n         9.9776560e-01,  0.0000000e+00,  1.0153058e+00,  0.0000000e+00,\n         1.4491501e-01,  0.0000000e+00,  6.8741292e-01,  0.0000000e+00,\n         1.0239682e+00,  0.0000000e+00,  2.2144526e-01,  0.0000000e+00,\n         1.5595123e-01,  0.0000000e+00,  2.5607449e-01,  0.0000000e+00,\n        -2.1930864e-01,  0.0000000e+00, -2.1139996e-01,  0.0000000e+00,\n         3.5883859e-01,  0.0000000e+00,  0.0000000e+00,  0.0000000e+00]],\n      dtype=float32)>)"
     },
     "execution_count": 2,
     "metadata": {},
     "output_type": "execute_result"
    }
   ],
   "source": [
    "# Parallel environments.\n",
    "num_parallel_environments = 4\n",
    "tf_env = tf_py_environment.TFPyEnvironment(parallel_py_environment.ParallelPyEnvironment(\n",
    "    [lambda : suite_pybullet.load('HumanoidBulletEnv-v0')] * num_parallel_environments))\n",
    "tf_env.reset()"
   ],
   "metadata": {
    "collapsed": false,
    "pycharm": {
     "name": "#%% Load a tf parallel environment (4 parallel environments)\n"
    }
   }
  },
  {
   "cell_type": "code",
   "execution_count": 3,
   "outputs": [
    {
     "name": "stdout",
     "output_type": "stream",
     "text": [
      "WARNING:tensorflow:From /home/florentdelgrange/anaconda3/envs/vae-mdp/lib/python3.7/site-packages/tf_agents/drivers/dynamic_step_driver.py:201: calling while_loop_v2 (from tensorflow.python.ops.control_flow_ops) with back_prop=False is deprecated and will be removed in a future version.\n",
      "Instructions for updating:\n",
      "back_prop=False is deprecated. Consider using tf.stop_gradient instead.\n",
      "Instead of:\n",
      "results = tf.while_loop(c, b, vars, back_prop=False)\n",
      "Use:\n",
      "results = tf.nest.map_structure(tf.stop_gradient, tf.while_loop(c, b, vars))\n"
     ]
    },
    {
     "name": "stderr",
     "output_type": "stream",
     "text": [
      "WARNING:tensorflow:From /home/florentdelgrange/anaconda3/envs/vae-mdp/lib/python3.7/site-packages/tf_agents/drivers/dynamic_step_driver.py:201: calling while_loop_v2 (from tensorflow.python.ops.control_flow_ops) with back_prop=False is deprecated and will be removed in a future version.\n",
      "Instructions for updating:\n",
      "back_prop=False is deprecated. Consider using tf.stop_gradient instead.\n",
      "Instead of:\n",
      "results = tf.while_loop(c, b, vars, back_prop=False)\n",
      "Use:\n",
      "results = tf.nest.map_structure(tf.stop_gradient, tf.while_loop(c, b, vars))\n"
     ]
    },
    {
     "data": {
      "text/plain": "(TimeStep(step_type=<tf.Tensor: shape=(4,), dtype=int32, numpy=array([1, 1, 1, 1], dtype=int32)>, reward=<tf.Tensor: shape=(4,), dtype=float32, numpy=array([-2.5384243, -0.9994545, -1.3221866, -4.84467  ], dtype=float32)>, discount=<tf.Tensor: shape=(4,), dtype=float32, numpy=array([1., 1., 1., 1.], dtype=float32)>, observation=<tf.Tensor: shape=(4, 44), dtype=float32, numpy=\n array([[ 0.41176334, -0.2789402 ,  0.9603085 ,  0.00863498,  0.05806908,\n         -0.759165  , -0.15419166,  0.20408311, -0.7107086 ,  1.1116505 ,\n          0.4178036 , -0.61616814,  0.52912843,  0.2858384 ,  0.9821978 ,\n          0.20272146,  0.22775355, -1.4387232 , -0.30971187, -1.2928632 ,\n         -0.11986443, -2.1810336 ,  0.24825212,  0.0512737 ,  0.94758   ,\n          2.7920022 ,  0.586587  , -0.51935333,  0.78832793, -0.96389645,\n          0.18246822, -0.16469318, -0.21625288, -0.04163652,  0.97070974,\n          1.6089721 , -0.19109546,  0.18365687, -0.6443071 , -0.04858434,\n         -0.67030716,  0.13413754,  0.        ,  0.        ],\n        [ 0.5819433 , -0.18015341,  0.9836385 , -0.00386739,  0.09215581,\n         -0.20065369, -0.02748964,  0.09873738,  0.14364697, -0.50551134,\n          0.39154395, -0.3483388 ,  0.06833222, -0.1238022 , -0.10120953,\n          0.06481649, -0.04406518,  0.37190598,  0.66620636,  0.06517529,\n          1.0015324 , -0.01280546,  0.6502242 , -0.15939632,  0.6734088 ,\n          0.7202818 ,  0.36592352, -0.58697927,  0.56139535, -1.0535014 ,\n          0.17272638, -0.20282632,  0.04594008, -0.9545687 ,  0.746944  ,\n          2.4064178 , -0.13188218, -0.08905131, -0.3580304 , -1.0108019 ,\n         -0.03641676, -0.8371836 ,  0.        ,  0.        ],\n        [ 0.569772  , -0.16540264,  0.98622614, -0.15410551,  0.09743823,\n         -0.1596852 ,  0.01405112,  0.14484507, -0.15579183, -0.13774987,\n          0.33566537, -0.80087376, -0.14742047, -0.05586551,  1.0092245 ,\n         -0.01463615,  0.0251562 , -0.3930289 ,  0.42891222,  1.1527635 ,\n          0.7673651 ,  1.1578506 , -0.03551503, -0.18889971,  0.6395782 ,\n          1.2743524 ,  0.3588861 ,  0.29454622,  0.6147287 , -0.38083652,\n          0.14748162, -0.11431718,  0.1004381 , -0.14620282,  0.693301  ,\n         -0.2896145 , -0.10163181, -0.02880897, -0.37869504, -0.8952869 ,\n         -0.38822475, -2.8991127 ,  0.        ,  0.        ],\n        [ 0.56011045, -0.08019293,  0.9967794 ,  0.20525135, -0.03110231,\n         -0.25836918,  0.08551581,  0.1468296 , -0.37320983, -1.1467016 ,\n          0.0926291 ,  1.1118976 , -0.1521381 , -0.21487407,  0.8550636 ,\n         -0.41479877,  1.0157526 ,  1.6361264 ,  0.60546976, -2.7503505 ,\n          0.49357492, -2.0893953 ,  0.3180121 , -0.5575938 ,  0.05601405,\n         -1.6935468 ,  0.7767818 , -1.9344103 ,  0.79456943, -1.882703  ,\n          0.03137142, -0.08450176,  0.13412966, -0.13175435, -0.5204202 ,\n         -1.7159903 , -0.27819777, -0.23209818, -0.17425418,  0.15953518,\n          0.6952184 ,  0.8951259 ,  0.        ,  0.        ]],\n       dtype=float32)>),\n ())"
     },
     "execution_count": 3,
     "metadata": {},
     "output_type": "execute_result"
    }
   ],
   "source": [
    "replay_buffer_size = 12800\n",
    "\n",
    "# create a dataset\n",
    "from tf_agents.agents.reinforce import reinforce_agent\n",
    "from tf_agents.replay_buffers import tf_uniform_replay_buffer\n",
    "actor_net = actor_distribution_network.ActorDistributionNetwork(\n",
    "    tf_env.observation_spec(),\n",
    "    tf_env.action_spec(),\n",
    "    fc_layer_params=(128, 128))\n",
    "policy = random_tf_policy.RandomTFPolicy(tf_env.time_step_spec(), tf_env.action_spec())\n",
    "train_step_counter = tf.compat.v2.Variable(0)\n",
    "\n",
    "agent = reinforce_agent.ReinforceAgent(\n",
    "    tf_env.time_step_spec(),\n",
    "    tf_env.action_spec(),\n",
    "    actor_network=actor_net,\n",
    "    optimizer=tf.compat.v1.train.AdamOptimizer(learning_rate=1e-4),\n",
    "    normalize_returns=True,\n",
    "    train_step_counter=train_step_counter)\n",
    "agent.initialize()\n",
    "\n",
    "replay_buffer = tf_uniform_replay_buffer.TFUniformReplayBuffer(\n",
    "    data_spec=agent.collect_data_spec,\n",
    "    batch_size=tf_env.batch_size,\n",
    "    max_length=replay_buffer_size)\n",
    "whole_dataset = replay_buffer.as_dataset(num_parallel_calls=3, sample_batch_size=replay_buffer_size, num_steps=3)\n",
    "\n",
    "random_policy = random_tf_policy.RandomTFPolicy(tf_env.time_step_spec(), tf_env.action_spec())\n",
    "dynamic_step_driver.DynamicStepDriver(tf_env, random_policy,\n",
    "                                      observers=[replay_buffer.add_batch], num_steps=replay_buffer_size).run()\n"
   ],
   "metadata": {
    "collapsed": false,
    "pycharm": {
     "name": "#%% Fill in a replay buffer\n"
    }
   }
  },
  {
   "cell_type": "code",
   "execution_count": 4,
   "outputs": [],
   "source": [
    "def labeling_function(states):\n",
    "    return states[..., 0] + 0.8 <= 0.78"
   ],
   "metadata": {
    "collapsed": false,
    "pycharm": {
     "name": "#%% define a labeling function\n"
    }
   }
  },
  {
   "cell_type": "code",
   "execution_count": 5,
   "outputs": [
    {
     "data": {
      "text/plain": "(<tf.Tensor: shape=(2,), dtype=float32, numpy=array([-2.4801683, -1.9745685], dtype=float32)>,\n <tf.Tensor: shape=(), dtype=float32, numpy=-2.4801683>)"
     },
     "execution_count": 5,
     "metadata": {},
     "output_type": "execute_result"
    }
   ],
   "source": [
    "import tf_agents.trajectories.time_step as ts\n",
    "\n",
    "scalar_rewards = True\n",
    "dataset = replay_buffer.as_dataset(\n",
    "    num_parallel_calls=tf.data.experimental.AUTOTUNE,\n",
    "    num_steps=2,).prefetch(tf.data.experimental.AUTOTUNE)\n",
    "\n",
    "iterator = iter(dataset)\n",
    "raw_data, b = next(iterator)\n",
    "\n",
    "states = raw_data.observation[0, :]\n",
    "actions = raw_data.action[0, :]\n",
    "rewards = raw_data.reward[0]\n",
    "next_states = raw_data.observation[1, :]\n",
    "first_labels = tf.cast(labeling_function(states), tf.float32)\n",
    "next_labels = tf.cast(labeling_function(next_states), tf.float32)\n",
    "labels = tf.cast(labeling_function(raw_data.observation), tf.float32)\n",
    "\n",
    "states, actions, rewards, next_states, first_labels, next_labels, labels\n",
    "raw_data.reward, raw_data.reward[0, ...]"
   ],
   "metadata": {
    "collapsed": false,
    "pycharm": {
     "name": "#%%\n"
    }
   }
  },
  {
   "cell_type": "code",
   "execution_count": 5,
   "outputs": [
    {
     "data": {
      "text/plain": "(<tf.Tensor: shape=(128, 44), dtype=float32, numpy=\n array([[ 4.7232839e-01, -1.7611326e-01,  9.8436993e-01, ...,\n         -5.0841606e-01,  0.0000000e+00,  0.0000000e+00],\n        [ 1.1732262e-01, -9.6525276e-01,  2.6131800e-01, ...,\n         -1.5835127e+00,  0.0000000e+00,  0.0000000e+00],\n        [ 3.4838113e-01, -6.0660309e-01,  7.9500484e-01, ...,\n         -1.3338916e+00,  0.0000000e+00,  0.0000000e+00],\n        ...,\n        [ 5.9999996e-01, -1.6793409e-05,  1.0000000e+00, ...,\n          0.0000000e+00,  0.0000000e+00,  0.0000000e+00],\n        [-2.2671875e-02, -1.5902920e-01,  9.8727387e-01, ...,\n          2.0993819e+00,  0.0000000e+00,  1.0000000e+00],\n        [-5.7793405e-02,  6.2928128e-01,  7.7717763e-01, ...,\n         -7.6214999e-01,  0.0000000e+00,  0.0000000e+00]], dtype=float32)>,\n <tf.Tensor: shape=(128, 1), dtype=float32, numpy=\n array([[0.],\n        [0.],\n        [0.],\n        [0.],\n        [0.],\n        [0.],\n        [0.],\n        [0.],\n        [0.],\n        [0.],\n        [0.],\n        [0.],\n        [0.],\n        [0.],\n        [0.],\n        [0.],\n        [0.],\n        [0.],\n        [0.],\n        [0.],\n        [0.],\n        [0.],\n        [0.],\n        [0.],\n        [0.],\n        [0.],\n        [0.],\n        [0.],\n        [0.],\n        [0.],\n        [1.],\n        [0.],\n        [0.],\n        [0.],\n        [0.],\n        [1.],\n        [0.],\n        [0.],\n        [0.],\n        [0.],\n        [0.],\n        [0.],\n        [0.],\n        [0.],\n        [1.],\n        [0.],\n        [0.],\n        [0.],\n        [0.],\n        [0.],\n        [0.],\n        [0.],\n        [0.],\n        [0.],\n        [0.],\n        [0.],\n        [0.],\n        [0.],\n        [0.],\n        [0.],\n        [0.],\n        [0.],\n        [0.],\n        [0.],\n        [0.],\n        [0.],\n        [0.],\n        [0.],\n        [0.],\n        [0.],\n        [0.],\n        [0.],\n        [0.],\n        [0.],\n        [0.],\n        [0.],\n        [0.],\n        [0.],\n        [0.],\n        [0.],\n        [0.],\n        [0.],\n        [0.],\n        [0.],\n        [0.],\n        [0.],\n        [0.],\n        [0.],\n        [0.],\n        [0.],\n        [0.],\n        [0.],\n        [1.],\n        [0.],\n        [0.],\n        [0.],\n        [0.],\n        [0.],\n        [0.],\n        [0.],\n        [0.],\n        [0.],\n        [1.],\n        [0.],\n        [0.],\n        [0.],\n        [0.],\n        [0.],\n        [0.],\n        [0.],\n        [0.],\n        [0.],\n        [0.],\n        [0.],\n        [0.],\n        [0.],\n        [0.],\n        [0.],\n        [0.],\n        [0.],\n        [0.],\n        [0.],\n        [1.],\n        [0.],\n        [0.],\n        [0.],\n        [1.],\n        [1.]], dtype=float32)>,\n <tf.Tensor: shape=(128, 17), dtype=float32, numpy=\n array([[ 0.56845665, -0.86450577,  0.13716054, ..., -0.8298049 ,\n         -0.59874225,  0.8758371 ],\n        [-0.05417657, -0.7317655 , -0.10691166, ...,  0.13592124,\n         -0.98665166, -0.65903616],\n        [-0.36527157, -0.32092237, -0.1672852 , ..., -0.4601524 ,\n          0.56684375, -0.782861  ],\n        ...,\n        [-0.4833007 , -0.36422825,  0.7621548 , ...,  0.28380108,\n          0.05899239,  0.6232679 ],\n        [-0.8798492 ,  0.0912466 , -0.76804304, ..., -0.52726436,\n         -0.91239786, -0.65833974],\n        [-0.07862568,  0.8131006 , -0.8544729 , ..., -0.22995663,\n          0.4652009 ,  0.40079212]], dtype=float32)>,\n <tf.Tensor: shape=(128,), dtype=float32, numpy=\n array([-3.2513084e+00, -2.0050418e+00, -1.8242197e+00, -1.2467303e+00,\n        -9.1914892e-01,  2.6882872e-01, -2.5151873e+00, -6.3904673e-01,\n        -3.1388061e+00,  5.7574445e-01, -2.2617631e+00, -4.3732185e+00,\n         1.9384037e-01,  5.4716295e-01, -1.5743813e-01, -1.8866397e+00,\n        -2.0727730e-01, -1.0622641e+00, -3.2235036e+00, -1.1826197e+00,\n        -2.5513437e-01, -1.2455647e+00, -5.5131383e+00, -3.7455840e+00,\n        -2.7552447e+00, -6.2087810e-01, -2.0128267e+00, -1.8880409e+00,\n        -2.5168688e+00, -1.3374214e+00,  0.0000000e+00,  5.6229371e-01,\n        -6.3092327e-01, -1.9237379e+00, -4.2431489e-02,  0.0000000e+00,\n        -1.1993414e+00, -2.5041351e-01, -3.2607574e+00, -1.3062420e+00,\n        -1.6473796e+00, -8.6527628e-01, -2.3331411e+00, -3.7037992e+00,\n         0.0000000e+00, -8.9690536e-02, -8.7233764e-01, -4.0425745e-01,\n        -3.0328968e+00, -2.0438676e+00, -1.3683797e+00, -6.1509621e-01,\n        -7.0638394e-01, -5.2290392e-01, -1.1022391e+00, -2.2836065e+00,\n         3.4423572e-01, -2.3184142e-01, -3.4718490e+00, -2.2336974e+00,\n        -3.5871071e-01, -1.3825860e+00, -4.8765919e-01, -2.1909955e+00,\n        -1.3581592e+00, -4.2716556e+00, -3.2199233e+00, -2.4439456e+00,\n        -1.7052802e+00, -1.8118329e+00,  6.7837912e-01, -3.4829111e+00,\n        -1.6431580e+00,  4.5126659e-01, -4.8832607e-01, -9.6416220e-02,\n        -6.1648703e-01, -1.5074278e+00, -1.7190223e+00, -3.3565738e+00,\n        -3.2291107e+00,  1.9959576e-02, -2.0617573e+00, -1.9301929e+00,\n        -1.1022291e+00, -1.7589488e+00, -6.0388291e-01, -1.9070014e+00,\n        -1.9316874e+00, -2.7528219e+00, -4.2685685e-01, -9.2473865e-01,\n         0.0000000e+00, -8.0038536e-01, -1.2777145e+00,  3.6286868e-02,\n        -2.4077861e+00, -1.8401694e+00, -1.1833252e+00, -8.5089219e-01,\n        -1.9635105e+00, -3.0853846e+00,  0.0000000e+00, -1.9476478e+00,\n        -1.1579705e+00, -2.5905702e+00, -2.0392203e+00, -1.1395141e+00,\n        -4.3805131e-01, -2.4393520e+00, -2.6460150e-01, -1.7046460e+00,\n        -3.8686895e+00, -2.7408665e-01, -2.9754126e-01, -8.7202942e-01,\n        -2.4683778e+00, -2.6248353e+00, -9.4283992e-01, -1.7039331e+00,\n        -1.3638760e+00, -5.4664952e-01,  0.0000000e+00, -2.6327267e+00,\n         2.3562826e-04, -1.2436305e+00,  0.0000000e+00,  0.0000000e+00],\n       dtype=float32)>,\n <tf.Tensor: shape=(128, 44), dtype=float32, numpy=\n array([[ 4.2917740e-01, -2.2377700e-01,  9.7464037e-01, ...,\n          8.0399561e-01,  0.0000000e+00,  0.0000000e+00],\n        [ 5.6624759e-02, -9.9058932e-01,  1.3686775e-01, ...,\n         -2.7603176e+00,  0.0000000e+00,  0.0000000e+00],\n        [ 3.1299245e-01, -6.6010517e-01,  7.5117320e-01, ...,\n         -2.5367761e+00,  0.0000000e+00,  0.0000000e+00],\n        ...,\n        [ 5.9799033e-01,  6.3008531e-03,  9.9998015e-01, ...,\n          1.0012149e+00,  0.0000000e+00,  0.0000000e+00],\n        [ 5.9999996e-01,  1.5952533e-05,  1.0000000e+00, ...,\n          0.0000000e+00,  0.0000000e+00,  0.0000000e+00],\n        [ 5.9999996e-01,  1.1410046e-05,  1.0000000e+00, ...,\n          0.0000000e+00,  0.0000000e+00,  0.0000000e+00]], dtype=float32)>,\n <tf.Tensor: shape=(128, 1), dtype=float32, numpy=\n array([[0.],\n        [0.],\n        [0.],\n        [0.],\n        [0.],\n        [0.],\n        [0.],\n        [0.],\n        [0.],\n        [0.],\n        [0.],\n        [1.],\n        [0.],\n        [0.],\n        [0.],\n        [0.],\n        [0.],\n        [0.],\n        [0.],\n        [0.],\n        [0.],\n        [0.],\n        [1.],\n        [0.],\n        [0.],\n        [0.],\n        [0.],\n        [0.],\n        [0.],\n        [0.],\n        [0.],\n        [0.],\n        [0.],\n        [0.],\n        [0.],\n        [0.],\n        [0.],\n        [0.],\n        [1.],\n        [0.],\n        [0.],\n        [0.],\n        [0.],\n        [0.],\n        [0.],\n        [0.],\n        [0.],\n        [0.],\n        [0.],\n        [0.],\n        [0.],\n        [0.],\n        [0.],\n        [0.],\n        [0.],\n        [0.],\n        [0.],\n        [0.],\n        [1.],\n        [0.],\n        [0.],\n        [0.],\n        [0.],\n        [0.],\n        [0.],\n        [0.],\n        [0.],\n        [0.],\n        [0.],\n        [0.],\n        [0.],\n        [0.],\n        [0.],\n        [0.],\n        [0.],\n        [0.],\n        [0.],\n        [0.],\n        [0.],\n        [0.],\n        [0.],\n        [0.],\n        [0.],\n        [0.],\n        [0.],\n        [0.],\n        [0.],\n        [0.],\n        [0.],\n        [0.],\n        [0.],\n        [0.],\n        [0.],\n        [0.],\n        [0.],\n        [0.],\n        [0.],\n        [0.],\n        [0.],\n        [0.],\n        [0.],\n        [0.],\n        [0.],\n        [0.],\n        [0.],\n        [0.],\n        [0.],\n        [0.],\n        [0.],\n        [0.],\n        [0.],\n        [0.],\n        [0.],\n        [0.],\n        [0.],\n        [0.],\n        [0.],\n        [0.],\n        [0.],\n        [0.],\n        [0.],\n        [0.],\n        [0.],\n        [1.],\n        [0.],\n        [0.],\n        [0.],\n        [0.]], dtype=float32)>)"
     },
     "execution_count": 5,
     "metadata": {},
     "output_type": "execute_result"
    }
   ],
   "source": [
    "from util.io.dataset_generator import map_rl_trajectory_to_vae_input\n",
    "\n",
    "dataset_generator = lambda: replay_buffer.as_dataset(\n",
    "    num_parallel_calls=tf.data.experimental.AUTOTUNE,\n",
    "    num_steps=2\n",
    ").map(\n",
    "    map_func=lambda trajectory, _: map_rl_trajectory_to_vae_input(trajectory, labeling_function),\n",
    "    num_parallel_calls=tf.data.experimental.AUTOTUNE,\n",
    "    #  deterministic=False  # TF version >= 2.2.0\n",
    ")\n",
    "dataset = dataset_generator().batch(batch_size=128, drop_remainder=True)\n",
    "dataset_iterator = iter(dataset.prefetch(tf.data.experimental.AUTOTUNE))\n",
    "next(dataset_iterator)"
   ],
   "metadata": {
    "collapsed": false,
    "pycharm": {
     "name": "#%%\n"
    }
   }
  },
  {
   "cell_type": "code",
   "execution_count": null,
   "outputs": [],
   "source": [
    "state_type = raw_data.step_type[:2]\n",
    "next_state_type = raw_data.next_step_type[:2]\n",
    "\n",
    "# remove transitions where the incident state is terminal and next state is initial\n",
    "# note: such transitions correspond to those where the reset() function has been called\n",
    "filtering = state_type[0] != ts.StepType.LAST\n",
    "filtering &= state_type[1] != ts.StepType.LAST\n",
    "filtering &= next_state_type[0] != ts.StepType.FIRST\n",
    "filtering &= next_state_type[1] != ts.StepType.FIRST\n",
    "filtering = tf.reduce_all(filtering)\n",
    "\n",
    "print(\"filtering\", filtering)\n",
    "print(\"state_type\", state_type)\n",
    "print(\"next_state_type\", next_state_type)\n",
    "\n",
    "states = raw_data.observation[:2, :]\n",
    "actions = raw_data.action[:2, :]\n",
    "rewards = raw_data.reward[:2] if scalar_rewards else reward[:2, :]\n",
    "if scalar_rewards:\n",
    "    rewards = tf.reshape(rewards, list(rewards.shape) + [1])\n",
    "next_states = raw_data.observation[1:, :]\n",
    "next_labels = labeling_function(next_states)\n",
    "if next_labels.shape == states.shape[:-1]:\n",
    "    next_labels = tf.reshape(next_labels, list(next_labels.shape) + [1])\n",
    "\n",
    "print(\"states\", states)\n",
    "print(\"next_states\", next_states)\n",
    "print(\"rewards\", rewards)\n",
    "print(\"next_labels\", next_labels)"
   ],
   "metadata": {
    "collapsed": false,
    "pycharm": {
     "name": "#%%\n"
    }
   }
  },
  {
   "cell_type": "code",
   "execution_count": null,
   "outputs": [],
   "source": [
    "import h5py\n",
    "import tf_agents.trajectories.time_step as ts\n",
    "import datetime\n",
    "\n",
    "dataset_path = 'dataset'\n",
    "iterator = iter(dataset)\n",
    "current_time = datetime.datetime.now().strftime(\"%Y%m%d-%H%M%S\")\n",
    "\n",
    "if not os.path.exists(dataset_path):\n",
    "    os.makedirs(dataset_path)\n",
    "with h5py.File(dataset_path + '/rl_exploration' + current_time + '.hdf5', 'w') as h5f:\n",
    "    data = iterator.next()[0]\n",
    "    states = data.observation[:, :2, :].numpy()\n",
    "    actions = data.action[:, :2, :].numpy()\n",
    "    rewards = data.reward[:, :2].numpy()\n",
    "    next_states = data.observation[:, 1:, :].numpy()\n",
    "    next_labels = labeling_function(next_states)\n",
    "    # 0: initial state; 1: mid state; 2: terminal state\n",
    "    state_type = data.step_type[:, :2].numpy()\n",
    "    next_state_type = data.next_step_type[:, :2].numpy()\n",
    "\n",
    "    # remove transitions where the incident state is terminal and next state is initial\n",
    "    filtering = state_type[:, 0] != ts.StepType.LAST\n",
    "    filtering &= state_type[:, 1] != ts.StepType.LAST\n",
    "    filtering &= next_state_type[:, 0] != ts.StepType.FIRST\n",
    "    filtering &= next_state_type[:, 1] != ts.StepType.FIRST\n",
    "\n",
    "    h5f['state'] = states[filtering]\n",
    "    h5f['action'] = actions[filtering]\n",
    "    h5f['reward'] = rewards[filtering]\n",
    "    h5f['next_state'] = next_states[filtering]\n",
    "    h5f['next_state_label'] = next_labels[filtering]\n",
    "    # 0: initial state; 1: mid state; 2: terminal state\n",
    "    h5f['state_type'] = state_type[filtering]\n",
    "    h5f['next_state_type'] = state_type[filtering]"
   ],
   "metadata": {
    "collapsed": false,
    "pycharm": {
     "name": "#%% h5py: store a dataset from the replay memory\n"
    }
   }
  },
  {
   "cell_type": "code",
   "execution_count": null,
   "outputs": [],
   "source": [
    "from typing import List, Dict, Tuple\n",
    "import glob\n",
    "import os\n",
    "\n",
    "file_list: List[str] = glob.glob(os.path.join(dataset_path, 'rl_*')) + \\\n",
    "                       glob.glob(os.path.join(dataset_path, 'reinforcement_learning', 'rl_*'))\n",
    "print(\"File list:\")\n",
    "print(file_list)\n",
    "\n",
    "length: int = 0\n",
    "h5f_indices: Dict[str, Tuple[int, int]] = {}\n",
    "shape: Dict[str, Tuple[int, ...]] = {}\n",
    "dataset_name = 'rl_observation_dataset.hdf5'\n",
    "\n",
    "for h5f_name in file_list:\n",
    "    with h5py.File(h5f_name, 'r') as h5f:\n",
    "        h5f_length = h5f['state'].shape[0]  # we assume that all h5f datasets have the same length (= size of axis 0)\n",
    "        h5f_indices[h5f_name] = (length, length + h5f_length)\n",
    "        length += h5f_length\n",
    "\n",
    "for i, h5f_name in enumerate(file_list):\n",
    "    with h5py.File(h5f_name, 'r') as h5f:\n",
    "        with h5py.File(os.path.join(dataset_path, dataset), 'w') as merged_h5f:\n",
    "            for key in h5f:\n",
    "                if i == 0:  # dataset file initialization\n",
    "                    shape[key] = (length, ) + h5f[key].shape[1:]\n",
    "                    merged_h5f.create_dataset(key, shape[key], dtype=h5f[key].dtype)\n",
    "                first, last = h5f_indices[h5f_name]\n",
    "                merged_h5f[key][first: last] = h5f[key]\n",
    "\n",
    "print(\"Dataset files merged\")"
   ],
   "metadata": {
    "collapsed": false,
    "pycharm": {
     "name": "#%% h5py: merge two stored datasets\n"
    }
   }
  },
  {
   "cell_type": "code",
   "execution_count": null,
   "outputs": [],
   "source": [
    "class generator:\n",
    "    def __init__(self, file):\n",
    "        self.file = file\n",
    "\n",
    "    def __call__(self):\n",
    "        with h5py.File(self.file, 'r') as hf:\n",
    "            for (state, action, reward, next_state, label, state_type, next_state_type) in \\\n",
    "                zip(hf['state'], hf['action'], hf['reward'], hf['next_state'],\n",
    "                    hf['next_state_label'], hf['state_type'], hf['next_state_type']):\n",
    "                yield state, action, reward, next_state, label, state_type, next_state_type\n",
    "\n",
    "    def get_tensor_shape(self):\n",
    "        with h5py.File(self.file, 'r') as hf:\n",
    "           return (tf.TensorShape(hf['state'].shape[1:]),\n",
    "                   tf.TensorShape(hf['action'].shape[1:]),\n",
    "                   tf.TensorShape(hf['reward'].shape[1:]),\n",
    "                   tf.TensorShape(hf['next_state'].shape[1:]),\n",
    "                   tf.TensorShape(hf['next_state_label'].shape[1:]),\n",
    "                   tf.TensorShape(hf['state_type'].shape[1:]),\n",
    "                   tf.TensorShape(hf['next_state_type'].shape[1:]))\n",
    "\n",
    "gen = generator(dataset_path + '/rl_exploration.hdf5')\n",
    "loaded_dataset = tf.data.Dataset.from_generator(gen,\n",
    "                                                (tf.float32, tf.float32, tf.float32, tf.float32, tf.bool, tf.int8, tf.int8),\n",
    "                                                gen.get_tensor_shape())"
   ],
   "metadata": {
    "collapsed": false,
    "pycharm": {
     "name": "#%% h5py: create a generator\n"
    }
   }
  },
  {
   "cell_type": "code",
   "execution_count": null,
   "outputs": [],
   "source": [
    "for state, action, reward, next_state, label, state_type, next_state_type in loaded_dataset:\n",
    "    if label[0]:\n",
    "        print(label[0], next_state[0], next_state_type)\n",
    "    if label[1]:\n",
    "        print(label[1], next_state[1], next_state_type)\n",
    "    if state_type[0] == ts.StepType.LAST:\n",
    "        print(\"BAD STATE S0:\", state[0])\n",
    "    if state_type[1] == ts.StepType.LAST:\n",
    "        print(\"BAD STATE S0:\", state[1])\n"
   ],
   "metadata": {
    "collapsed": false,
    "pycharm": {
     "name": "#%% detect BAD states\n"
    }
   }
  },
  {
   "cell_type": "code",
   "execution_count": null,
   "outputs": [],
   "source": [
    "ts.StepType.FIRST # initial state\n",
    "ts.StepType.LAST # terminal state\n",
    "ts.StepType.MID # normal state"
   ],
   "metadata": {
    "collapsed": false,
    "pycharm": {
     "name": "#%%\n"
    }
   }
  },
  {
   "cell_type": "code",
   "execution_count": null,
   "outputs": [],
   "source": [
    "x = data.step_type[:, 0] != ts.StepType.LAST\n",
    "x &= data.step_type[:, 1] != ts.StepType.LAST\n",
    "x.numpy()"
   ],
   "metadata": {
    "collapsed": false,
    "pycharm": {
     "name": "#%%\n"
    }
   }
  },
  {
   "cell_type": "code",
   "execution_count": null,
   "outputs": [],
   "source": [
    "y = data.observation[:, :2, :].numpy()\n",
    "z = y[x]\n",
    "z\n"
   ],
   "metadata": {
    "collapsed": false,
    "pycharm": {
     "name": "#%%\n"
    }
   }
  },
  {
   "cell_type": "code",
   "execution_count": null,
   "outputs": [],
   "source": [
    "from reinforcement_learning import sac_training, labeling_functions\n",
    "\n",
    "learner = sac_training.SACLearner(\n",
    "    env_name='HumanoidBulletEnv-v0',\n",
    "    env_suite=suite_pybullet,\n",
    "    labeling_function=labeling_functions['HumanoidBulletEnv-v0'],\n",
    "    save_directory_location='..'\n",
    ")"
   ],
   "metadata": {
    "collapsed": false,
    "pycharm": {
     "name": "#%% Create a permissive variance policy\n"
    }
   }
  },
  {
   "cell_type": "code",
   "execution_count": null,
   "outputs": [],
   "source": [
    "variance_multiplier = 2."
   ],
   "metadata": {
    "collapsed": false,
    "pycharm": {
     "name": "#%%\n"
    }
   }
  },
  {
   "cell_type": "code",
   "execution_count": null,
   "outputs": [],
   "source": [
    "learner.save_permissive_variance_policy(variance_multiplier=variance_multiplier)"
   ],
   "metadata": {
    "collapsed": false,
    "pycharm": {
     "name": "#%%\n"
    }
   }
  },
  {
   "cell_type": "code",
   "execution_count": null,
   "outputs": [],
   "source": [
    "import os\n",
    "from tf_agents.environments import suite_pybullet, parallel_py_environment\n",
    "from tf_agents.environments import tf_py_environment\n",
    "from tf_agents.drivers import dynamic_episode_driver, dynamic_step_driver\n",
    "import tensorflow as tf"
   ],
   "metadata": {
    "collapsed": false,
    "pycharm": {
     "name": "#%% Load and try the permissive variance policy\n"
    }
   }
  },
  {
   "cell_type": "code",
   "execution_count": null,
   "outputs": [],
   "source": [
    "py_env = suite_pybullet.load('HumanoidBulletEnv-v0')\n",
    "py_env.render(mode='human')\n",
    "py_env.reset()\n",
    "tf_env = tf_py_environment.TFPyEnvironment(py_env)"
   ],
   "metadata": {
    "collapsed": false,
    "pycharm": {
     "name": "#%%\n"
    }
   }
  },
  {
   "cell_type": "code",
   "execution_count": null,
   "outputs": [],
   "source": [
    "from reinforcement_learning.sac_training import NumberOfSafetyViolations\n",
    "from reinforcement_learning import labeling_functions\n",
    "stochastic_policy_dir = os.path.join(\n",
    "    '..',\n",
    "    'saves',\n",
    "    'HumanoidBulletEnv-v0',\n",
    "    'policy',\n",
    "    \"permissive_variance_policy-multiplier={}\".format(\n",
    "        variance_multiplier)\n",
    ")\n",
    "policy = tf.compat.v2.saved_model.load(stochastic_policy_dir)\n",
    "safety_violations = NumberOfSafetyViolations(\n",
    "    labeling_function=labeling_functions['HumanoidBulletEnv-v0'])\n",
    "\n",
    "dynamic_episode_driver.DynamicEpisodeDriver(\n",
    "    tf_env,\n",
    "    policy,\n",
    "    num_episodes=30,\n",
    "    observers=[\n",
    "        lambda _: py_env.render(mode='human'),\n",
    "        safety_violations\n",
    "    ]\n",
    ").run()\n",
    "\n",
    "print(\"avg number of safety violations per episode\", safety_violations.average())\n"
   ],
   "metadata": {
    "collapsed": false,
    "pycharm": {
     "name": "#%% Before running this cell, load the single py environment\n"
    }
   }
  },
  {
   "cell_type": "code",
   "execution_count": null,
   "outputs": [],
   "source": [],
   "metadata": {
    "collapsed": false,
    "pycharm": {
     "name": "#%%\n"
    }
   }
  }
 ],
 "metadata": {
  "kernelspec": {
   "name": "python3",
   "language": "python",
   "display_name": "Python 3"
  },
  "language_info": {
   "codemirror_mode": {
    "name": "ipython",
    "version": 2
   },
   "file_extension": ".py",
   "mimetype": "text/x-python",
   "name": "python",
   "nbconvert_exporter": "python",
   "pygments_lexer": "ipython2",
   "version": "2.7.6"
  }
 },
 "nbformat": 4,
 "nbformat_minor": 0
}