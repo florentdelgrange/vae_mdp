{
 "cells": [
  {
   "cell_type": "code",
   "execution_count": 1,
   "outputs": [],
   "source": [
    "import os\n",
    "import tf_agents.policies\n",
    "import tf_agents.specs\n",
    "from tf_agents.environments import suite_gym, parallel_py_environment\n",
    "from tf_agents.environments import tf_py_environment\n",
    "from tf_agents.metrics import tf_metrics\n",
    "from tf_agents.policies import policy_saver\n",
    "from tf_agents.policies.tf_py_policy import TFPyPolicy\n",
    "from tf_agents.replay_buffers import tf_uniform_replay_buffer, episodic_replay_buffer\n",
    "from tf_agents.drivers import dynamic_episode_driver, dynamic_step_driver\n",
    "import tensorflow as tf\n",
    "tf.config.set_visible_devices([], 'GPU')  #  allows testing during training\n",
    "from tf_agents.trajectories import time_step as ts, policy_step, trajectory\n",
    "from reinforcement_learning import labeling_functions\n",
    "labeling_function = labeling_functions['CartPole-v0']\n",
    "from util.io.dataset_generator import map_rl_trajectory_to_vae_input\n",
    "from util.io.dataset_generator import ErgodicMDPTransitionGenerator"
   ],
   "metadata": {
    "collapsed": false,
    "pycharm": {
     "name": "#%% CartPole-v0 environment\n"
    }
   }
  },
  {
   "cell_type": "code",
   "execution_count": 2,
   "outputs": [
    {
     "data": {
      "text/plain": "TimeStep(step_type=TensorSpec(shape=(), dtype=tf.int32, name='step_type'), reward=TensorSpec(shape=(), dtype=tf.float32, name='reward'), discount=BoundedTensorSpec(shape=(), dtype=tf.float32, name='discount', minimum=array(0., dtype=float32), maximum=array(1., dtype=float32)), observation=BoundedTensorSpec(shape=(4,), dtype=tf.float32, name='observation', minimum=array([-4.8000002e+00, -3.4028235e+38, -4.1887903e-01, -3.4028235e+38],\n      dtype=float32), maximum=array([4.8000002e+00, 3.4028235e+38, 4.1887903e-01, 3.4028235e+38],\n      dtype=float32)))"
     },
     "execution_count": 2,
     "metadata": {},
     "output_type": "execute_result"
    }
   ],
   "source": [
    "py_env = suite_gym.load('CartPole-v0')\n",
    "py_env.reset()\n",
    "tf_env = tf_py_environment.TFPyEnvironment(py_env)\n",
    "tf_env.time_step_spec()"
   ],
   "metadata": {
    "collapsed": false,
    "pycharm": {
     "name": "#%%\n"
    }
   }
  },
  {
   "cell_type": "code",
   "execution_count": 3,
   "outputs": [
    {
     "data": {
      "text/plain": "<tf.Tensor: shape=(), dtype=float32, numpy=200.0>"
     },
     "execution_count": 3,
     "metadata": {},
     "output_type": "execute_result"
    }
   ],
   "source": [
    "policy_dir = '../saves/CartPole-v0/policy/'\n",
    "\n",
    "policy = tf.compat.v2.saved_model.load(policy_dir)\n",
    "reward_metric = tf_metrics.AverageReturnMetric()\n",
    "dynamic_episode_driver.DynamicEpisodeDriver(tf_env, policy, num_episodes=5,\n",
    "                                            observers=[\n",
    "                                                # display_safe_labeling,\n",
    "                                                lambda _: py_env.render(mode='human'),\n",
    "                                                reward_metric\n",
    "                                            ]).run()\n",
    "reward_metric.result()"
   ],
   "metadata": {
    "collapsed": false,
    "pycharm": {
     "name": "#%%\n"
    }
   }
  },
  {
   "cell_type": "code",
   "execution_count": 7,
   "outputs": [
    {
     "name": "stdout",
     "output_type": "stream",
     "text": [
      "WARNING:tensorflow:Importing a function (__inference_entropy_regularizer_86230) with ops with custom gradients. Will likely fail if a gradient is requested.\n",
      "WARNING:tensorflow:Importing a function (__inference_entropy_regularizer_86230) with ops with custom gradients. Will likely fail if a gradient is requested.\n",
      "WARNING:tensorflow:Importing a function (__inference_entropy_regularizer_86230) with ops with custom gradients. Will likely fail if a gradient is requested.\n",
      "WARNING:tensorflow:Importing a function (__inference_encoder_latent_distribution_logits_layer_call_and_return_conditional_losses_81663) with ops with custom gradients. Will likely fail if a gradient is requested.\n",
      "WARNING:tensorflow:Importing a function (__inference_encoder_latent_distribution_logits_layer_call_and_return_conditional_losses_81663) with ops with custom gradients. Will likely fail if a gradient is requested.\n",
      "WARNING:tensorflow:Importing a function (__inference_encoder_latent_distribution_logits_layer_call_and_return_conditional_losses_81663) with ops with custom gradients. Will likely fail if a gradient is requested.\n",
      "WARNING:tensorflow:Importing a function (__inference_encoder_layer_call_and_return_conditional_losses_86298) with ops with custom gradients. Will likely fail if a gradient is requested.\n",
      "WARNING:tensorflow:Importing a function (__inference_encoder_layer_call_and_return_conditional_losses_86298) with ops with custom gradients. Will likely fail if a gradient is requested.\n",
      "WARNING:tensorflow:Importing a function (__inference_encoder_layer_call_and_return_conditional_losses_86298) with ops with custom gradients. Will likely fail if a gradient is requested.\n",
      "WARNING:tensorflow:Importing a function (__inference__wrapped_model_81442) with ops with custom gradients. Will likely fail if a gradient is requested.\n",
      "WARNING:tensorflow:Importing a function (__inference__wrapped_model_81442) with ops with custom gradients. Will likely fail if a gradient is requested.\n",
      "WARNING:tensorflow:Importing a function (__inference__wrapped_model_81442) with ops with custom gradients. Will likely fail if a gradient is requested.\n",
      "WARNING:tensorflow:Importing a function (__inference_encoder_layer_call_and_return_conditional_losses_86366) with ops with custom gradients. Will likely fail if a gradient is requested.\n",
      "WARNING:tensorflow:Importing a function (__inference_encoder_layer_call_and_return_conditional_losses_86366) with ops with custom gradients. Will likely fail if a gradient is requested.\n",
      "WARNING:tensorflow:Importing a function (__inference_encoder_layer_call_and_return_conditional_losses_86366) with ops with custom gradients. Will likely fail if a gradient is requested.\n",
      "WARNING:tensorflow:Importing a function (__inference_encoder_latent_distribution_logits_layer_call_and_return_conditional_losses_87460) with ops with custom gradients. Will likely fail if a gradient is requested.\n",
      "WARNING:tensorflow:Importing a function (__inference_encoder_latent_distribution_logits_layer_call_and_return_conditional_losses_87460) with ops with custom gradients. Will likely fail if a gradient is requested.\n",
      "WARNING:tensorflow:Importing a function (__inference_encoder_latent_distribution_logits_layer_call_and_return_conditional_losses_87460) with ops with custom gradients. Will likely fail if a gradient is requested.\n",
      "WARNING:tensorflow:Importing a function (__inference_entropy_regularizer_80697) with ops with custom gradients. Will likely fail if a gradient is requested.\n",
      "WARNING:tensorflow:Importing a function (__inference_entropy_regularizer_80697) with ops with custom gradients. Will likely fail if a gradient is requested.\n",
      "WARNING:tensorflow:Importing a function (__inference_entropy_regularizer_80697) with ops with custom gradients. Will likely fail if a gradient is requested.\n",
      "WARNING:tensorflow:Importing a function (__inference___call___86003) with ops with custom gradients. Will likely fail if a gradient is requested.\n",
      "WARNING:tensorflow:Importing a function (__inference___call___86003) with ops with custom gradients. Will likely fail if a gradient is requested.\n",
      "WARNING:tensorflow:Importing a function (__inference___call___86003) with ops with custom gradients. Will likely fail if a gradient is requested.\n",
      "WARNING:tensorflow:Importing a function (__inference___call___86003) with ops with custom gradients. Will likely fail if a gradient is requested.\n",
      "WARNING:tensorflow:Importing a function (__inference___call___86003) with ops with custom gradients. Will likely fail if a gradient is requested.\n",
      "WARNING:tensorflow:Importing a function (__inference___call___86003) with ops with custom gradients. Will likely fail if a gradient is requested.\n",
      "WARNING:tensorflow:Importing a function (__inference___call___81217) with ops with custom gradients. Will likely fail if a gradient is requested.\n",
      "WARNING:tensorflow:Importing a function (__inference___call___81217) with ops with custom gradients. Will likely fail if a gradient is requested.\n",
      "WARNING:tensorflow:Importing a function (__inference___call___81217) with ops with custom gradients. Will likely fail if a gradient is requested.\n",
      "WARNING:tensorflow:Importing a function (__inference___call___81217) with ops with custom gradients. Will likely fail if a gradient is requested.\n",
      "WARNING:tensorflow:Importing a function (__inference___call___81217) with ops with custom gradients. Will likely fail if a gradient is requested.\n",
      "WARNING:tensorflow:Importing a function (__inference___call___81217) with ops with custom gradients. Will likely fail if a gradient is requested.\n",
      "VAE MDP loaded\n",
      "eval policy 200.0\n"
     ]
    },
    {
     "data": {
      "text/plain": "<tf.Tensor: shape=(), dtype=float32, numpy=200.0>"
     },
     "execution_count": 7,
     "metadata": {},
     "output_type": "execute_result"
    }
   ],
   "source": [
    "import variational_mdp\n",
    "\n",
    "vae_mdp = variational_mdp.load(\n",
    "    '../../saves/CartPole-v0/models/vae_LS12_MC1_ER10.0-decay=0.00025-min=0_KLA0.0-growth=5e-06_TD0.67-0.50_1e-06-2e-06_seed=60421_params=relaxed_state_encoding-latent_policy/base',\n",
    "    # '../../saves/CartPole-v0/models/vae_LS12_MC1_ER10.0-decay=0.00025-min=0_KLA0.0-growth=5e-06_TD0.67-0.50_1e-06-2e-06_seed=20421_params=relaxed_state_encoding-latent_policy/base',\n",
    "    step=260000, discrete_action=True\n",
    ")\n",
    "print(\"VAE MDP loaded\")\n",
    "\n",
    "vae_mdp.eval_policy(eval_env=py_env, labeling_function=labeling_function, num_eval_episodes=20, render=True)"
   ],
   "metadata": {
    "collapsed": false,
    "pycharm": {
     "name": "#%%\n"
    }
   }
  },
  {
   "cell_type": "code",
   "execution_count": null,
   "outputs": [],
   "source": [],
   "metadata": {
    "collapsed": false,
    "pycharm": {
     "name": "#%%\n"
    }
   }
  }
 ],
 "metadata": {
  "kernelspec": {
   "display_name": "Python 3",
   "language": "python",
   "name": "python3"
  },
  "language_info": {
   "codemirror_mode": {
    "name": "ipython",
    "version": 2
   },
   "file_extension": ".py",
   "mimetype": "text/x-python",
   "name": "python",
   "nbconvert_exporter": "python",
   "pygments_lexer": "ipython2",
   "version": "2.7.6"
  }
 },
 "nbformat": 4,
 "nbformat_minor": 0
}