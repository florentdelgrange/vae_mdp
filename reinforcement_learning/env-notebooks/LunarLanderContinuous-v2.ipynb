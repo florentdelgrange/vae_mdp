{
 "cells": [
  {
   "cell_type": "code",
   "execution_count": 1,
   "outputs": [],
   "source": [
    "import os\n",
    "import tf_agents.policies\n",
    "import tf_agents.specs\n",
    "from tf_agents.environments import suite_gym, parallel_py_environment\n",
    "from tf_agents.environments import tf_py_environment\n",
    "from tf_agents.metrics import tf_metrics\n",
    "from tf_agents.policies import policy_saver\n",
    "from tf_agents.policies.tf_py_policy import TFPyPolicy\n",
    "from tf_agents.replay_buffers import tf_uniform_replay_buffer, episodic_replay_buffer\n",
    "from tf_agents.drivers import dynamic_episode_driver, dynamic_step_driver\n",
    "import tensorflow as tf\n",
    "from tf_agents.trajectories.policy_step import PolicyStep\n",
    "from policies import SavedTFPolicy\n",
    "tf.config.set_visible_devices([], 'GPU')  #  allows testing during training\n",
    "from tf_agents.trajectories import time_step as ts, policy_step, trajectory\n",
    "from reinforcement_learning import labeling_functions\n",
    "labeling_function = labeling_functions['LunarLanderContinuous-v2']\n",
    "from util.io.dataset_generator import map_rl_trajectory_to_vae_input\n",
    "from util.io.dataset_generator import ErgodicMDPTransitionGenerator\n",
    "import tensorflow_probability as tfp\n",
    "tfd = tfp.distributions"
   ],
   "metadata": {
    "collapsed": false,
    "pycharm": {
     "name": "#%% LunarLanderContinuous-v2\n"
    }
   }
  },
  {
   "cell_type": "code",
   "execution_count": 2,
   "outputs": [
    {
     "data": {
      "text/plain": "TimeStep(step_type=TensorSpec(shape=(), dtype=tf.int32, name='step_type'), reward=TensorSpec(shape=(), dtype=tf.float32, name='reward'), discount=BoundedTensorSpec(shape=(), dtype=tf.float32, name='discount', minimum=array(0., dtype=float32), maximum=array(1., dtype=float32)), observation=BoundedTensorSpec(shape=(8,), dtype=tf.float32, name='observation', minimum=array(-3.4028235e+38, dtype=float32), maximum=array(3.4028235e+38, dtype=float32)))"
     },
     "execution_count": 2,
     "metadata": {},
     "output_type": "execute_result"
    }
   ],
   "source": [
    "py_env = suite_gym.load('LunarLanderContinuous-v2')\n",
    "py_env.reset()\n",
    "tf_env = tf_py_environment.TFPyEnvironment(py_env)\n",
    "tf_env.time_step_spec()"
   ],
   "metadata": {
    "collapsed": false,
    "pycharm": {
     "name": "#%%\n"
    }
   }
  },
  {
   "cell_type": "code",
   "execution_count": 5,
   "outputs": [
    {
     "data": {
      "text/plain": "<tf.Tensor: shape=(), dtype=float32, numpy=263.88812>"
     },
     "execution_count": 5,
     "metadata": {},
     "output_type": "execute_result"
    }
   ],
   "source": [
    "def display_labeling(trajectory):\n",
    "    label = labeling_functions['LunarLanderContinuous-v2'](trajectory.observation)\n",
    "    if tf.reduce_any(label[..., 2]) and tf.reduce_any(label[..., 6]):\n",
    "        print('close to the lunar pad with high speed')\n",
    "    if not tf.reduce_any(label[..., 7]):\n",
    "        print('unsafe lander angle')\n",
    "    if tf.reduce_any(label[..., 2]) and not tf.reduce_any(label[..., 8]):\n",
    "        print('close to the lunar pad with unsafe lander angle')\n",
    "    if tf.reduce_any(label[..., 1]):\n",
    "        print('lander too close to the edge of the frame')\n",
    "\n",
    "reward_metric = tf_metrics.AverageReturnMetric()\n",
    "sac_policy_dir = '../saves/LunarLanderContinuous-v2/policy'\n",
    "saved_policy = SavedTFPolicy(sac_policy_dir)\n",
    "dynamic_episode_driver.DynamicEpisodeDriver(tf_env, saved_policy, num_episodes=5,\n",
    "                                            observers=[\n",
    "                                                display_labeling,\n",
    "                                                lambda _: py_env.render(mode='human'),\n",
    "                                                reward_metric\n",
    "                                            ]).run()\n",
    "reward_metric.result()"
   ],
   "metadata": {
    "collapsed": false,
    "pycharm": {
     "name": "#%%\n"
    }
   }
  },
  {
   "cell_type": "code",
   "execution_count": 9,
   "outputs": [
    {
     "name": "stdout",
     "output_type": "stream",
     "text": [
      "WARNING:tensorflow:Importing a function (__inference_encoder_latent_distribution_logits_layer_call_and_return_conditional_losses_90113) with ops with custom gradients. Will likely fail if a gradient is requested.\n",
      "WARNING:tensorflow:Importing a function (__inference_encoder_latent_distribution_logits_layer_call_and_return_conditional_losses_90113) with ops with custom gradients. Will likely fail if a gradient is requested.\n",
      "WARNING:tensorflow:Importing a function (__inference_encoder_latent_distribution_logits_layer_call_and_return_conditional_losses_90113) with ops with custom gradients. Will likely fail if a gradient is requested.\n",
      "WARNING:tensorflow:Importing a function (__inference_encoder_latent_distribution_logits_layer_call_and_return_conditional_losses_82845) with ops with custom gradients. Will likely fail if a gradient is requested.\n",
      "WARNING:tensorflow:Importing a function (__inference_encoder_latent_distribution_logits_layer_call_and_return_conditional_losses_82845) with ops with custom gradients. Will likely fail if a gradient is requested.\n",
      "WARNING:tensorflow:Importing a function (__inference_encoder_latent_distribution_logits_layer_call_and_return_conditional_losses_82845) with ops with custom gradients. Will likely fail if a gradient is requested.\n",
      "WARNING:tensorflow:Importing a function (__inference_entropy_regularizer_81349) with ops with custom gradients. Will likely fail if a gradient is requested.\n",
      "WARNING:tensorflow:Importing a function (__inference_entropy_regularizer_81349) with ops with custom gradients. Will likely fail if a gradient is requested.\n",
      "WARNING:tensorflow:Importing a function (__inference_entropy_regularizer_81349) with ops with custom gradients. Will likely fail if a gradient is requested.\n",
      "WARNING:tensorflow:Importing a function (__inference_encoder_layer_call_and_return_conditional_losses_88771) with ops with custom gradients. Will likely fail if a gradient is requested.\n",
      "WARNING:tensorflow:Importing a function (__inference_encoder_layer_call_and_return_conditional_losses_88771) with ops with custom gradients. Will likely fail if a gradient is requested.\n",
      "WARNING:tensorflow:Importing a function (__inference_encoder_layer_call_and_return_conditional_losses_88771) with ops with custom gradients. Will likely fail if a gradient is requested.\n",
      "WARNING:tensorflow:Importing a function (__inference__wrapped_model_82624) with ops with custom gradients. Will likely fail if a gradient is requested.\n",
      "WARNING:tensorflow:Importing a function (__inference__wrapped_model_82624) with ops with custom gradients. Will likely fail if a gradient is requested.\n",
      "WARNING:tensorflow:Importing a function (__inference__wrapped_model_82624) with ops with custom gradients. Will likely fail if a gradient is requested.\n",
      "WARNING:tensorflow:Importing a function (__inference_encoder_layer_call_and_return_conditional_losses_88703) with ops with custom gradients. Will likely fail if a gradient is requested.\n",
      "WARNING:tensorflow:Importing a function (__inference_encoder_layer_call_and_return_conditional_losses_88703) with ops with custom gradients. Will likely fail if a gradient is requested.\n",
      "WARNING:tensorflow:Importing a function (__inference_encoder_layer_call_and_return_conditional_losses_88703) with ops with custom gradients. Will likely fail if a gradient is requested.\n",
      "WARNING:tensorflow:Importing a function (__inference___call___88496) with ops with custom gradients. Will likely fail if a gradient is requested.\n",
      "WARNING:tensorflow:Importing a function (__inference___call___88496) with ops with custom gradients. Will likely fail if a gradient is requested.\n",
      "WARNING:tensorflow:Importing a function (__inference___call___88496) with ops with custom gradients. Will likely fail if a gradient is requested.\n",
      "WARNING:tensorflow:Importing a function (__inference___call___88496) with ops with custom gradients. Will likely fail if a gradient is requested.\n",
      "WARNING:tensorflow:Importing a function (__inference___call___88496) with ops with custom gradients. Will likely fail if a gradient is requested.\n",
      "WARNING:tensorflow:Importing a function (__inference___call___88496) with ops with custom gradients. Will likely fail if a gradient is requested.\n",
      "WARNING:tensorflow:Importing a function (__inference___call___82339) with ops with custom gradients. Will likely fail if a gradient is requested.\n",
      "WARNING:tensorflow:Importing a function (__inference___call___82339) with ops with custom gradients. Will likely fail if a gradient is requested.\n",
      "WARNING:tensorflow:Importing a function (__inference___call___82339) with ops with custom gradients. Will likely fail if a gradient is requested.\n",
      "WARNING:tensorflow:Importing a function (__inference___call___82339) with ops with custom gradients. Will likely fail if a gradient is requested.\n",
      "WARNING:tensorflow:Importing a function (__inference___call___82339) with ops with custom gradients. Will likely fail if a gradient is requested.\n",
      "WARNING:tensorflow:Importing a function (__inference___call___82339) with ops with custom gradients. Will likely fail if a gradient is requested.\n",
      "WARNING:tensorflow:Unresolved object in checkpoint: (root).model._optimizer\n",
      "WARNING:tensorflow:Unresolved object in checkpoint: (root).model.loss_metrics.predicted_next_state_mse\n",
      "WARNING:tensorflow:Unresolved object in checkpoint: (root).model.loss_metrics.state_mse\n",
      "WARNING:tensorflow:Unresolved object in checkpoint: (root).model.loss_metrics.state_encoder_entropy\n",
      "WARNING:tensorflow:Unresolved object in checkpoint: (root).model.loss_metrics.marginal_encoder_entropy\n",
      "WARNING:tensorflow:Unresolved object in checkpoint: (root).model.loss_metrics.action_encoder_entropy\n",
      "WARNING:tensorflow:Unresolved object in checkpoint: (root).model.loss_metrics.state_rate\n",
      "WARNING:tensorflow:Unresolved object in checkpoint: (root).model.loss_metrics.action_rate\n",
      "WARNING:tensorflow:Unresolved object in checkpoint: (root).model.loss_metrics.t_1_state\n",
      "WARNING:tensorflow:Unresolved object in checkpoint: (root).model.loss_metrics.t_2_state\n",
      "WARNING:tensorflow:Unresolved object in checkpoint: (root).model._optimizer.iter\n",
      "WARNING:tensorflow:Unresolved object in checkpoint: (root).model._optimizer.beta_1\n",
      "WARNING:tensorflow:Unresolved object in checkpoint: (root).model._optimizer.beta_2\n",
      "WARNING:tensorflow:Unresolved object in checkpoint: (root).model._optimizer.decay\n",
      "WARNING:tensorflow:Unresolved object in checkpoint: (root).model._optimizer.learning_rate\n",
      "WARNING:tensorflow:Unresolved object in checkpoint: (root).model.loss_metrics.predicted_next_state_mse.total\n",
      "WARNING:tensorflow:Unresolved object in checkpoint: (root).model.loss_metrics.predicted_next_state_mse.count\n",
      "WARNING:tensorflow:Unresolved object in checkpoint: (root).model.loss_metrics.state_mse.total\n",
      "WARNING:tensorflow:Unresolved object in checkpoint: (root).model.loss_metrics.state_mse.count\n",
      "WARNING:tensorflow:Unresolved object in checkpoint: (root).model.loss_metrics.state_mse._fn_kwargs\n",
      "WARNING:tensorflow:Unresolved object in checkpoint: (root).model.loss_metrics.state_encoder_entropy.total\n",
      "WARNING:tensorflow:Unresolved object in checkpoint: (root).model.loss_metrics.state_encoder_entropy.count\n",
      "WARNING:tensorflow:Unresolved object in checkpoint: (root).model.loss_metrics.marginal_encoder_entropy.total\n",
      "WARNING:tensorflow:Unresolved object in checkpoint: (root).model.loss_metrics.marginal_encoder_entropy.count\n",
      "WARNING:tensorflow:Unresolved object in checkpoint: (root).model.loss_metrics.action_encoder_entropy.total\n",
      "WARNING:tensorflow:Unresolved object in checkpoint: (root).model.loss_metrics.action_encoder_entropy.count\n",
      "WARNING:tensorflow:Unresolved object in checkpoint: (root).model.loss_metrics.state_rate.total\n",
      "WARNING:tensorflow:Unresolved object in checkpoint: (root).model.loss_metrics.state_rate.count\n",
      "WARNING:tensorflow:Unresolved object in checkpoint: (root).model.loss_metrics.action_rate.total\n",
      "WARNING:tensorflow:Unresolved object in checkpoint: (root).model.loss_metrics.action_rate.count\n",
      "WARNING:tensorflow:Unresolved object in checkpoint: (root).model.loss_metrics.t_1_state.total\n",
      "WARNING:tensorflow:Unresolved object in checkpoint: (root).model.loss_metrics.t_1_state.count\n",
      "WARNING:tensorflow:Unresolved object in checkpoint: (root).model.loss_metrics.t_2_state.total\n",
      "WARNING:tensorflow:Unresolved object in checkpoint: (root).model.loss_metrics.t_2_state.count\n",
      "WARNING:tensorflow:Unresolved object in checkpoint: (root).model._state_vae.loss_metrics.predicted_next_state_mse\n",
      "WARNING:tensorflow:Unresolved object in checkpoint: (root).model._state_vae.loss_metrics.predicted_next_state_mse.total\n",
      "WARNING:tensorflow:Unresolved object in checkpoint: (root).model._state_vae.loss_metrics.predicted_next_state_mse.count\n",
      "WARNING:tensorflow:Unresolved object in checkpoint: (root).model._optimizer's state 'm' for (root).model.encoder_network.layer_with_weights-1.kernel\n",
      "WARNING:tensorflow:Unresolved object in checkpoint: (root).model._optimizer's state 'm' for (root).model.encoder_network.layer_with_weights-1.bias\n",
      "WARNING:tensorflow:Unresolved object in checkpoint: (root).model._optimizer's state 'm' for (root).model.reconstruction_network.layer_with_weights-1.kernel\n",
      "WARNING:tensorflow:Unresolved object in checkpoint: (root).model._optimizer's state 'm' for (root).model.reconstruction_network.layer_with_weights-1.bias\n",
      "WARNING:tensorflow:Unresolved object in checkpoint: (root).model._optimizer's state 'm' for (root).model.reconstruction_network.layer_with_weights-2.kernel\n",
      "WARNING:tensorflow:Unresolved object in checkpoint: (root).model._optimizer's state 'm' for (root).model.reconstruction_network.layer_with_weights-2.bias\n",
      "WARNING:tensorflow:Unresolved object in checkpoint: (root).model._optimizer's state 'm' for (root).model.action_encoder.layer_with_weights-1.kernel\n",
      "WARNING:tensorflow:Unresolved object in checkpoint: (root).model._optimizer's state 'm' for (root).model.action_encoder.layer_with_weights-1.bias\n",
      "WARNING:tensorflow:Unresolved object in checkpoint: (root).model._optimizer's state 'm' for (root).model.latent_policy_network.layer_with_weights-1.kernel\n",
      "WARNING:tensorflow:Unresolved object in checkpoint: (root).model._optimizer's state 'm' for (root).model.latent_policy_network.layer_with_weights-1.bias\n",
      "WARNING:tensorflow:Unresolved object in checkpoint: (root).model._optimizer's state 'm' for (root).model.action_transition_network.layer_with_weights-1.kernel\n",
      "WARNING:tensorflow:Unresolved object in checkpoint: (root).model._optimizer's state 'm' for (root).model.action_transition_network.layer_with_weights-1.bias\n",
      "WARNING:tensorflow:Unresolved object in checkpoint: (root).model._optimizer's state 'm' for (root).model.action_label_transition_network.layer_with_weights-0.kernel\n",
      "WARNING:tensorflow:Unresolved object in checkpoint: (root).model._optimizer's state 'm' for (root).model.action_label_transition_network.layer_with_weights-0.bias\n",
      "WARNING:tensorflow:Unresolved object in checkpoint: (root).model._optimizer's state 'm' for (root).model.action_reward_network.layer_with_weights-1.kernel\n",
      "WARNING:tensorflow:Unresolved object in checkpoint: (root).model._optimizer's state 'm' for (root).model.action_reward_network.layer_with_weights-1.bias\n",
      "WARNING:tensorflow:Unresolved object in checkpoint: (root).model._optimizer's state 'm' for (root).model.action_reward_network.layer_with_weights-2.kernel\n",
      "WARNING:tensorflow:Unresolved object in checkpoint: (root).model._optimizer's state 'm' for (root).model.action_reward_network.layer_with_weights-2.bias\n",
      "WARNING:tensorflow:Unresolved object in checkpoint: (root).model._optimizer's state 'm' for (root).model.action_decoder_network.layer_with_weights-1.kernel\n",
      "WARNING:tensorflow:Unresolved object in checkpoint: (root).model._optimizer's state 'm' for (root).model.action_decoder_network.layer_with_weights-1.bias\n",
      "WARNING:tensorflow:Unresolved object in checkpoint: (root).model._optimizer's state 'm' for (root).model.action_decoder_network.layer_with_weights-2.kernel\n",
      "WARNING:tensorflow:Unresolved object in checkpoint: (root).model._optimizer's state 'm' for (root).model.action_decoder_network.layer_with_weights-2.bias\n",
      "WARNING:tensorflow:Unresolved object in checkpoint: (root).model._optimizer's state 'm' for (root).model.encoder_network.layer_with_weights-0.layer_with_weights-0.kernel\n",
      "WARNING:tensorflow:Unresolved object in checkpoint: (root).model._optimizer's state 'm' for (root).model.encoder_network.layer_with_weights-0.layer_with_weights-0.bias\n",
      "WARNING:tensorflow:Unresolved object in checkpoint: (root).model._optimizer's state 'm' for (root).model.encoder_network.layer_with_weights-0.layer_with_weights-1.kernel\n",
      "WARNING:tensorflow:Unresolved object in checkpoint: (root).model._optimizer's state 'm' for (root).model.encoder_network.layer_with_weights-0.layer_with_weights-1.bias\n",
      "WARNING:tensorflow:Unresolved object in checkpoint: (root).model._optimizer's state 'm' for (root).model.reconstruction_network.layer_with_weights-0.layer_with_weights-0.kernel\n",
      "WARNING:tensorflow:Unresolved object in checkpoint: (root).model._optimizer's state 'm' for (root).model.reconstruction_network.layer_with_weights-0.layer_with_weights-0.bias\n",
      "WARNING:tensorflow:Unresolved object in checkpoint: (root).model._optimizer's state 'm' for (root).model.reconstruction_network.layer_with_weights-0.layer_with_weights-1.kernel\n",
      "WARNING:tensorflow:Unresolved object in checkpoint: (root).model._optimizer's state 'm' for (root).model.reconstruction_network.layer_with_weights-0.layer_with_weights-1.bias\n",
      "WARNING:tensorflow:Unresolved object in checkpoint: (root).model._optimizer's state 'm' for (root).model.action_encoder.layer_with_weights-0.layer_with_weights-0.kernel\n",
      "WARNING:tensorflow:Unresolved object in checkpoint: (root).model._optimizer's state 'm' for (root).model.action_encoder.layer_with_weights-0.layer_with_weights-0.bias\n",
      "WARNING:tensorflow:Unresolved object in checkpoint: (root).model._optimizer's state 'm' for (root).model.action_encoder.layer_with_weights-0.layer_with_weights-1.kernel\n",
      "WARNING:tensorflow:Unresolved object in checkpoint: (root).model._optimizer's state 'm' for (root).model.action_encoder.layer_with_weights-0.layer_with_weights-1.bias\n",
      "WARNING:tensorflow:Unresolved object in checkpoint: (root).model._optimizer's state 'm' for (root).model.latent_policy_network.layer_with_weights-0.layer_with_weights-0.kernel\n",
      "WARNING:tensorflow:Unresolved object in checkpoint: (root).model._optimizer's state 'm' for (root).model.latent_policy_network.layer_with_weights-0.layer_with_weights-0.bias\n",
      "WARNING:tensorflow:Unresolved object in checkpoint: (root).model._optimizer's state 'm' for (root).model.latent_policy_network.layer_with_weights-0.layer_with_weights-1.kernel\n",
      "WARNING:tensorflow:Unresolved object in checkpoint: (root).model._optimizer's state 'm' for (root).model.latent_policy_network.layer_with_weights-0.layer_with_weights-1.bias\n",
      "WARNING:tensorflow:Unresolved object in checkpoint: (root).model._optimizer's state 'm' for (root).model.action_transition_network.layer_with_weights-0.layer_with_weights-0.kernel\n",
      "WARNING:tensorflow:Unresolved object in checkpoint: (root).model._optimizer's state 'm' for (root).model.action_transition_network.layer_with_weights-0.layer_with_weights-0.bias\n",
      "WARNING:tensorflow:Unresolved object in checkpoint: (root).model._optimizer's state 'm' for (root).model.action_transition_network.layer_with_weights-0.layer_with_weights-1.kernel\n",
      "WARNING:tensorflow:Unresolved object in checkpoint: (root).model._optimizer's state 'm' for (root).model.action_transition_network.layer_with_weights-0.layer_with_weights-1.bias\n",
      "WARNING:tensorflow:Unresolved object in checkpoint: (root).model._optimizer's state 'm' for (root).model.action_transition_network.layer_with_weights-0.layer_with_weights-2.kernel\n",
      "WARNING:tensorflow:Unresolved object in checkpoint: (root).model._optimizer's state 'm' for (root).model.action_transition_network.layer_with_weights-0.layer_with_weights-2.bias\n",
      "WARNING:tensorflow:Unresolved object in checkpoint: (root).model._optimizer's state 'm' for (root).model.action_transition_network.layer_with_weights-0.layer_with_weights-3.kernel\n",
      "WARNING:tensorflow:Unresolved object in checkpoint: (root).model._optimizer's state 'm' for (root).model.action_transition_network.layer_with_weights-0.layer_with_weights-3.bias\n",
      "WARNING:tensorflow:Unresolved object in checkpoint: (root).model._optimizer's state 'm' for (root).model.action_reward_network.layer_with_weights-0.layer_with_weights-0.kernel\n",
      "WARNING:tensorflow:Unresolved object in checkpoint: (root).model._optimizer's state 'm' for (root).model.action_reward_network.layer_with_weights-0.layer_with_weights-0.bias\n",
      "WARNING:tensorflow:Unresolved object in checkpoint: (root).model._optimizer's state 'm' for (root).model.action_reward_network.layer_with_weights-0.layer_with_weights-1.kernel\n",
      "WARNING:tensorflow:Unresolved object in checkpoint: (root).model._optimizer's state 'm' for (root).model.action_reward_network.layer_with_weights-0.layer_with_weights-1.bias\n",
      "WARNING:tensorflow:Unresolved object in checkpoint: (root).model._optimizer's state 'm' for (root).model.action_decoder_network.layer_with_weights-0.layer_with_weights-0.kernel\n",
      "WARNING:tensorflow:Unresolved object in checkpoint: (root).model._optimizer's state 'm' for (root).model.action_decoder_network.layer_with_weights-0.layer_with_weights-0.bias\n",
      "WARNING:tensorflow:Unresolved object in checkpoint: (root).model._optimizer's state 'm' for (root).model.action_decoder_network.layer_with_weights-0.layer_with_weights-1.kernel\n",
      "WARNING:tensorflow:Unresolved object in checkpoint: (root).model._optimizer's state 'm' for (root).model.action_decoder_network.layer_with_weights-0.layer_with_weights-1.bias\n",
      "WARNING:tensorflow:Unresolved object in checkpoint: (root).model._optimizer's state 'v' for (root).model.encoder_network.layer_with_weights-1.kernel\n",
      "WARNING:tensorflow:Unresolved object in checkpoint: (root).model._optimizer's state 'v' for (root).model.encoder_network.layer_with_weights-1.bias\n",
      "WARNING:tensorflow:Unresolved object in checkpoint: (root).model._optimizer's state 'v' for (root).model.reconstruction_network.layer_with_weights-1.kernel\n",
      "WARNING:tensorflow:Unresolved object in checkpoint: (root).model._optimizer's state 'v' for (root).model.reconstruction_network.layer_with_weights-1.bias\n",
      "WARNING:tensorflow:Unresolved object in checkpoint: (root).model._optimizer's state 'v' for (root).model.reconstruction_network.layer_with_weights-2.kernel\n",
      "WARNING:tensorflow:Unresolved object in checkpoint: (root).model._optimizer's state 'v' for (root).model.reconstruction_network.layer_with_weights-2.bias\n",
      "WARNING:tensorflow:Unresolved object in checkpoint: (root).model._optimizer's state 'v' for (root).model.action_encoder.layer_with_weights-1.kernel\n",
      "WARNING:tensorflow:Unresolved object in checkpoint: (root).model._optimizer's state 'v' for (root).model.action_encoder.layer_with_weights-1.bias\n",
      "WARNING:tensorflow:Unresolved object in checkpoint: (root).model._optimizer's state 'v' for (root).model.latent_policy_network.layer_with_weights-1.kernel\n",
      "WARNING:tensorflow:Unresolved object in checkpoint: (root).model._optimizer's state 'v' for (root).model.latent_policy_network.layer_with_weights-1.bias\n",
      "WARNING:tensorflow:Unresolved object in checkpoint: (root).model._optimizer's state 'v' for (root).model.action_transition_network.layer_with_weights-1.kernel\n",
      "WARNING:tensorflow:Unresolved object in checkpoint: (root).model._optimizer's state 'v' for (root).model.action_transition_network.layer_with_weights-1.bias\n",
      "WARNING:tensorflow:Unresolved object in checkpoint: (root).model._optimizer's state 'v' for (root).model.action_label_transition_network.layer_with_weights-0.kernel\n",
      "WARNING:tensorflow:Unresolved object in checkpoint: (root).model._optimizer's state 'v' for (root).model.action_label_transition_network.layer_with_weights-0.bias\n",
      "WARNING:tensorflow:Unresolved object in checkpoint: (root).model._optimizer's state 'v' for (root).model.action_reward_network.layer_with_weights-1.kernel\n",
      "WARNING:tensorflow:Unresolved object in checkpoint: (root).model._optimizer's state 'v' for (root).model.action_reward_network.layer_with_weights-1.bias\n",
      "WARNING:tensorflow:Unresolved object in checkpoint: (root).model._optimizer's state 'v' for (root).model.action_reward_network.layer_with_weights-2.kernel\n",
      "WARNING:tensorflow:Unresolved object in checkpoint: (root).model._optimizer's state 'v' for (root).model.action_reward_network.layer_with_weights-2.bias\n",
      "WARNING:tensorflow:Unresolved object in checkpoint: (root).model._optimizer's state 'v' for (root).model.action_decoder_network.layer_with_weights-1.kernel\n",
      "WARNING:tensorflow:Unresolved object in checkpoint: (root).model._optimizer's state 'v' for (root).model.action_decoder_network.layer_with_weights-1.bias\n",
      "WARNING:tensorflow:Unresolved object in checkpoint: (root).model._optimizer's state 'v' for (root).model.action_decoder_network.layer_with_weights-2.kernel\n",
      "WARNING:tensorflow:Unresolved object in checkpoint: (root).model._optimizer's state 'v' for (root).model.action_decoder_network.layer_with_weights-2.bias\n",
      "WARNING:tensorflow:Unresolved object in checkpoint: (root).model._optimizer's state 'v' for (root).model.encoder_network.layer_with_weights-0.layer_with_weights-0.kernel\n",
      "WARNING:tensorflow:Unresolved object in checkpoint: (root).model._optimizer's state 'v' for (root).model.encoder_network.layer_with_weights-0.layer_with_weights-0.bias\n",
      "WARNING:tensorflow:Unresolved object in checkpoint: (root).model._optimizer's state 'v' for (root).model.encoder_network.layer_with_weights-0.layer_with_weights-1.kernel\n",
      "WARNING:tensorflow:Unresolved object in checkpoint: (root).model._optimizer's state 'v' for (root).model.encoder_network.layer_with_weights-0.layer_with_weights-1.bias\n",
      "WARNING:tensorflow:Unresolved object in checkpoint: (root).model._optimizer's state 'v' for (root).model.reconstruction_network.layer_with_weights-0.layer_with_weights-0.kernel\n",
      "WARNING:tensorflow:Unresolved object in checkpoint: (root).model._optimizer's state 'v' for (root).model.reconstruction_network.layer_with_weights-0.layer_with_weights-0.bias\n",
      "WARNING:tensorflow:Unresolved object in checkpoint: (root).model._optimizer's state 'v' for (root).model.reconstruction_network.layer_with_weights-0.layer_with_weights-1.kernel\n",
      "WARNING:tensorflow:Unresolved object in checkpoint: (root).model._optimizer's state 'v' for (root).model.reconstruction_network.layer_with_weights-0.layer_with_weights-1.bias\n",
      "WARNING:tensorflow:Unresolved object in checkpoint: (root).model._optimizer's state 'v' for (root).model.action_encoder.layer_with_weights-0.layer_with_weights-0.kernel\n",
      "WARNING:tensorflow:Unresolved object in checkpoint: (root).model._optimizer's state 'v' for (root).model.action_encoder.layer_with_weights-0.layer_with_weights-0.bias\n",
      "WARNING:tensorflow:Unresolved object in checkpoint: (root).model._optimizer's state 'v' for (root).model.action_encoder.layer_with_weights-0.layer_with_weights-1.kernel\n",
      "WARNING:tensorflow:Unresolved object in checkpoint: (root).model._optimizer's state 'v' for (root).model.action_encoder.layer_with_weights-0.layer_with_weights-1.bias\n",
      "WARNING:tensorflow:Unresolved object in checkpoint: (root).model._optimizer's state 'v' for (root).model.latent_policy_network.layer_with_weights-0.layer_with_weights-0.kernel\n",
      "WARNING:tensorflow:Unresolved object in checkpoint: (root).model._optimizer's state 'v' for (root).model.latent_policy_network.layer_with_weights-0.layer_with_weights-0.bias\n",
      "WARNING:tensorflow:Unresolved object in checkpoint: (root).model._optimizer's state 'v' for (root).model.latent_policy_network.layer_with_weights-0.layer_with_weights-1.kernel\n",
      "WARNING:tensorflow:Unresolved object in checkpoint: (root).model._optimizer's state 'v' for (root).model.latent_policy_network.layer_with_weights-0.layer_with_weights-1.bias\n",
      "WARNING:tensorflow:Unresolved object in checkpoint: (root).model._optimizer's state 'v' for (root).model.action_transition_network.layer_with_weights-0.layer_with_weights-0.kernel\n",
      "WARNING:tensorflow:Unresolved object in checkpoint: (root).model._optimizer's state 'v' for (root).model.action_transition_network.layer_with_weights-0.layer_with_weights-0.bias\n",
      "WARNING:tensorflow:Unresolved object in checkpoint: (root).model._optimizer's state 'v' for (root).model.action_transition_network.layer_with_weights-0.layer_with_weights-1.kernel\n",
      "WARNING:tensorflow:Unresolved object in checkpoint: (root).model._optimizer's state 'v' for (root).model.action_transition_network.layer_with_weights-0.layer_with_weights-1.bias\n",
      "WARNING:tensorflow:Unresolved object in checkpoint: (root).model._optimizer's state 'v' for (root).model.action_transition_network.layer_with_weights-0.layer_with_weights-2.kernel\n",
      "WARNING:tensorflow:Unresolved object in checkpoint: (root).model._optimizer's state 'v' for (root).model.action_transition_network.layer_with_weights-0.layer_with_weights-2.bias\n",
      "WARNING:tensorflow:Unresolved object in checkpoint: (root).model._optimizer's state 'v' for (root).model.action_transition_network.layer_with_weights-0.layer_with_weights-3.kernel\n",
      "WARNING:tensorflow:Unresolved object in checkpoint: (root).model._optimizer's state 'v' for (root).model.action_transition_network.layer_with_weights-0.layer_with_weights-3.bias\n",
      "WARNING:tensorflow:Unresolved object in checkpoint: (root).model._optimizer's state 'v' for (root).model.action_reward_network.layer_with_weights-0.layer_with_weights-0.kernel\n",
      "WARNING:tensorflow:Unresolved object in checkpoint: (root).model._optimizer's state 'v' for (root).model.action_reward_network.layer_with_weights-0.layer_with_weights-0.bias\n",
      "WARNING:tensorflow:Unresolved object in checkpoint: (root).model._optimizer's state 'v' for (root).model.action_reward_network.layer_with_weights-0.layer_with_weights-1.kernel\n",
      "WARNING:tensorflow:Unresolved object in checkpoint: (root).model._optimizer's state 'v' for (root).model.action_reward_network.layer_with_weights-0.layer_with_weights-1.bias\n",
      "WARNING:tensorflow:Unresolved object in checkpoint: (root).model._optimizer's state 'v' for (root).model.action_decoder_network.layer_with_weights-0.layer_with_weights-0.kernel\n",
      "WARNING:tensorflow:Unresolved object in checkpoint: (root).model._optimizer's state 'v' for (root).model.action_decoder_network.layer_with_weights-0.layer_with_weights-0.bias\n",
      "WARNING:tensorflow:Unresolved object in checkpoint: (root).model._optimizer's state 'v' for (root).model.action_decoder_network.layer_with_weights-0.layer_with_weights-1.kernel\n",
      "WARNING:tensorflow:Unresolved object in checkpoint: (root).model._optimizer's state 'v' for (root).model.action_decoder_network.layer_with_weights-0.layer_with_weights-1.bias\n",
      "WARNING:tensorflow:A checkpoint was restored (e.g. tf.train.Checkpoint.restore or tf.keras.Model.load_weights) but not all checkpointed values were used. See above for specific issues. Use expect_partial() on the load status object, e.g. tf.train.Checkpoint.restore(...).expect_partial(), to silence these warnings, or use assert_consumed() to make the check explicit. See https://www.tensorflow.org/guide/checkpoint#loading_mechanics for details.\n",
      "VAE MDP loaded\n",
      "eval policy -92.45823\n"
     ]
    },
    {
     "data": {
      "text/plain": "<tf.Tensor: shape=(), dtype=float32, numpy=-92.45823>"
     },
     "execution_count": 9,
     "metadata": {},
     "output_type": "execute_result"
    }
   ],
   "source": [
    "import variational_action_discretizer\n",
    "\n",
    "vae_mdp = variational_action_discretizer.load(\n",
    "    # \"../../saves/Pendulum-v0/models/vae_LS12_MC1_ER20.0-decay=7.5e-05-min=-10_KLA0.0-growth=1e-06_TD0.70-0.50_1e-06-2e-06/policy/action_discretizer/LA3_MC1_ER20.0-decay=7.5e-05-min=-10_KLA0.0-growth=1e-06_TD0.50-0.33_1e-06-2e-06_params=full_vae_optimization/step140000/eval_elbo-3.784\"\n",
    "    # \"../../saves/Pendulum-v0/models/vae_LS13_MC1_ER20.0-decay=2e-05-min=-10_KLA0.0-growth=1e-06_TD0.70-0.50_1e-06-2e-06/policy/action_discretizer/LA5_MC1_ER20.0-decay=2e-05-min=-10_KLA0.0-growth=1e-06_TD0.25-0.17_1e-06-2e-06_params=full_vae_optimization/step270000/eval_elbo-1.704\"\n",
    "    # \"../../saves/Pendulum-v0/models/vae_LS13_MC1_ER20.0-decay=7.5e-05-min=-10_KLA0.0-growth=1e-06_TD0.70-0.50_1e-06-2e-06/permissive_variance_policy-multiplier=10.0/action_discretizer/LA5_MC1_ER20.0-decay=7.5e-05-min=-10_KLA0.0-growth=1e-06_TD0.25-0.17_1e-06-2e-06_params=full_vae_optimization/step70000/eval_elbo-7.265\"\n",
    "    # \"../../saves/Pendulum-v0/models/vae_LS12_MC3_CER100.0-decay=1e-05_KLA1e-06-growth=1e-07_TD0.95-0.90_1e-06-2e-06/policy/action_discretizer/LA3_MC3_CER100.0-decay=1e-05_KLA1e-06-growth=1e-07_TD0.50-0.33_1e-06-2e-06_params=full_vae_optimization/step1010000/eval_elbo11.174\"\n",
    "    '../../saves/LunarLanderContinuous-v2/models/vae_LS20_MC1_ER10.0-decay=1e-05-min=0_KLA0.0-growth=5e-05_TD0.67-0.50_1e-06-2e-06_seed=20421/policy/action_discretizer/LA4_MC1_ER10.0-decay=1e-05-min=0_KLA0.0-growth=5e-05_TD0.33-0.22_1e-06-2e-06_params=full_vae_optimization-relaxed_state_encoding/base',\n",
    "    step=880000\n",
    ")\n",
    "print(\"VAE MDP loaded\")\n",
    "\n",
    "vae_mdp.eval_policy(eval_env=py_env, labeling_function=labeling_function, num_eval_episodes=20, render=True)"
   ],
   "metadata": {
    "collapsed": false,
    "pycharm": {
     "name": "#%%\n"
    }
   }
  },
  {
   "cell_type": "code",
   "execution_count": null,
   "outputs": [],
   "source": [
    "\n",
    "\n"
   ],
   "metadata": {
    "collapsed": false,
    "pycharm": {
     "name": "#%%\n"
    }
   }
  }
 ],
 "metadata": {
  "kernelspec": {
   "display_name": "Python 3",
   "language": "python",
   "name": "python3"
  },
  "language_info": {
   "codemirror_mode": {
    "name": "ipython",
    "version": 2
   },
   "file_extension": ".py",
   "mimetype": "text/x-python",
   "name": "python",
   "nbconvert_exporter": "python",
   "pygments_lexer": "ipython2",
   "version": "2.7.6"
  }
 },
 "nbformat": 4,
 "nbformat_minor": 0
}