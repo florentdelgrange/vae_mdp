{
 "cells": [
  {
   "cell_type": "code",
   "execution_count": 1,
   "outputs": [],
   "source": [
    "import os\n",
    "import tf_agents.policies\n",
    "import tf_agents.specs\n",
    "from tf_agents.environments import suite_gym, parallel_py_environment\n",
    "from tf_agents.environments import tf_py_environment\n",
    "from tf_agents.metrics import tf_metrics\n",
    "from tf_agents.policies import policy_saver\n",
    "from tf_agents.policies.tf_py_policy import TFPyPolicy\n",
    "from tf_agents.replay_buffers import tf_uniform_replay_buffer, episodic_replay_buffer\n",
    "from tf_agents.drivers import dynamic_episode_driver, dynamic_step_driver\n",
    "import tensorflow as tf\n",
    "from tf_agents.trajectories.policy_step import PolicyStep\n",
    "tf.config.set_visible_devices([], 'GPU')  #  allows testing during training\n",
    "from tf_agents.trajectories import time_step as ts, policy_step, trajectory\n",
    "from reinforcement_learning import labeling_functions\n",
    "labeling_function = labeling_functions['LunarLanderContinuous-v2']\n",
    "from util.io.dataset_generator import map_rl_trajectory_to_vae_input\n",
    "from util.io.dataset_generator import ErgodicMDPTransitionGenerator\n",
    "import tensorflow_probability as tfp\n",
    "tfd = tfp.distributions"
   ],
   "metadata": {
    "collapsed": false,
    "pycharm": {
     "name": "#%% LunarLanderContinuous-v2\n"
    }
   }
  },
  {
   "cell_type": "code",
   "execution_count": 2,
   "outputs": [
    {
     "data": {
      "text/plain": "TimeStep(step_type=TensorSpec(shape=(), dtype=tf.int32, name='step_type'), reward=TensorSpec(shape=(), dtype=tf.float32, name='reward'), discount=BoundedTensorSpec(shape=(), dtype=tf.float32, name='discount', minimum=array(0., dtype=float32), maximum=array(1., dtype=float32)), observation=BoundedTensorSpec(shape=(8,), dtype=tf.float32, name='observation', minimum=array(-3.4028235e+38, dtype=float32), maximum=array(3.4028235e+38, dtype=float32)))"
     },
     "execution_count": 2,
     "metadata": {},
     "output_type": "execute_result"
    }
   ],
   "source": [
    "py_env = suite_gym.load('LunarLanderContinuous-v2')\n",
    "py_env.reset()\n",
    "tf_env = tf_py_environment.TFPyEnvironment(py_env)\n",
    "tf_env.time_step_spec()"
   ],
   "metadata": {
    "collapsed": false,
    "pycharm": {
     "name": "#%%\n"
    }
   }
  },
  {
   "cell_type": "code",
   "execution_count": 3,
   "outputs": [],
   "source": [
    "tf_env = tf_py_environment.TFPyEnvironment(py_env)"
   ],
   "metadata": {
    "collapsed": false,
    "pycharm": {
     "name": "#%%\n"
    }
   }
  },
  {
   "cell_type": "code",
   "execution_count": null,
   "outputs": [],
   "source": [
    "replay_buffer_capacity = 1280\n",
    "# specs\n",
    "policy_step_spec =  policy_step.PolicyStep(\n",
    "    action=tf_env.action_spec(),\n",
    "    state=(),\n",
    "    info=())\n",
    "trajectory_spec = trajectory.from_transition(tf_env.time_step_spec(),\n",
    "                                             policy_step_spec,\n",
    "                                             tf_env.time_step_spec())\n",
    "replay_buffer = tf_uniform_replay_buffer.TFUniformReplayBuffer(\n",
    "    data_spec=trajectory_spec,\n",
    "    batch_size=tf_env.batch_size,\n",
    "    max_length=replay_buffer_capacity)\n",
    "\n",
    "dataset_generator = lambda: replay_buffer.as_dataset(\n",
    "    num_parallel_calls=tf.data.experimental.AUTOTUNE,\n",
    "    num_steps=2\n",
    ").map(\n",
    "    map_func=lambda trajectory, _: map_rl_trajectory_to_vae_input(trajectory, labeling_function),\n",
    "    num_parallel_calls=tf.data.experimental.AUTOTUNE,\n",
    "    #  deterministic=False  # TF version >= 2.2.0\n",
    ")"
   ],
   "metadata": {
    "collapsed": false,
    "pycharm": {
     "name": "#%%\n"
    }
   }
  },
  {
   "cell_type": "code",
   "execution_count": null,
   "outputs": [],
   "source": [
    "class SavedTFPolicy(tf_agents.policies.tf_policy.Base):\n",
    "\n",
    "    def __init__(self, saved_policy_path):\n",
    "        self.saved_policy = tf.compat.v2.saved_model.load(sac_policy_dir)\n",
    "        spec_path = os.path.join(saved_policy_path, policy_saver.COLLECT_POLICY_SPEC)\n",
    "        policy_specs = tf_agents.specs.tensor_spec.from_pbtxt_file(spec_path)\n",
    "        super().__init__(\n",
    "            time_step_spec=tf_agents.trajectories.time_step.time_step_spec(\n",
    "                policy_specs['collect_data_spec'].observation),\n",
    "            action_spec=policy_specs['collect_data_spec'].action,\n",
    "            info_spec=policy_specs['collect_data_spec'].policy_info,\n",
    "            policy_state_spec=policy_specs['policy_state_spec'])\n",
    "\n",
    "    def _distribution(self, time_step, policy_state):\n",
    "        step = self.saved_policy.action(time_step, policy_state)\n",
    "        return PolicyStep(tfd.Deterministic(step.action), step.state, step.info)\n",
    "\n",
    "    def _get_initial_state(self, batch_size):\n",
    "        return self.saved_policy.get_initial_state(batch_size)\n",
    "\n",
    "spec_path = os.path.join('../saves/LunarLanderContinuous-v2/policy', policy_saver.COLLECT_POLICY_SPEC)\n",
    "policy_specs = tf_agents.specs.tensor_spec.from_pbtxt_file(spec_path)"
   ],
   "metadata": {
    "collapsed": false,
    "pycharm": {
     "name": "#%%\n"
    }
   }
  },
  {
   "cell_type": "code",
   "execution_count": null,
   "outputs": [],
   "source": [
    "def display_labeling(trajectory):\n",
    "    label = labeling_functions['LunarLanderContinuous-v2'](trajectory.observation)\n",
    "    if tf.reduce_any(label[..., 2]) and tf.reduce_any(label[..., 6]):\n",
    "        print('close to the lunar pad with high speed')\n",
    "    if not tf.reduce_any(label[..., 7]):\n",
    "        print('unsafe lander angle')\n",
    "    if tf.reduce_any(label[..., 2]) and not tf.reduce_any(label[..., 8]):\n",
    "        print('close to the lunar pad with unsafe lander angle')\n",
    "    if tf.reduce_any(label[..., 1]):\n",
    "        print('lander too close to the edge of the frame')\n",
    "\n",
    "reward_metric = tf_metrics.AverageReturnMetric()\n",
    "sac_policy_dir = '../saves/LunarLanderContinuous-v2/policy'\n",
    "saved_policy = SavedTFPolicy(sac_policy_dir)\n",
    "policy = tf_agents.policies.epsilon_greedy_policy.EpsilonGreedyPolicy(\n",
    "    policy=saved_policy, epsilon=0.9)\n",
    "dynamic_episode_driver.DynamicEpisodeDriver(tf_env, policy, num_episodes=10,\n",
    "                                            observers=[\n",
    "                                                display_labeling,\n",
    "                                                lambda _: py_env.render(mode='human'),\n",
    "                                                replay_buffer.add_batch,\n",
    "                                                reward_metric\n",
    "                                            ]).run()\n",
    "reward_metric.result()"
   ],
   "metadata": {
    "collapsed": false,
    "pycharm": {
     "name": "#%%\n"
    }
   }
  },
  {
   "cell_type": "code",
   "execution_count": null,
   "outputs": [],
   "source": [
    "dataset = replay_buffer.as_dataset(\n",
    "    num_parallel_calls=tf.data.experimental.AUTOTUNE,\n",
    "    num_steps=2\n",
    ")\n",
    "iterator = iter(dataset)\n",
    "trajectory, _ = next(iterator)\n",
    "\n",
    "state = trajectory.observation[0, ...]\n",
    "labels = tf.cast(labeling_function(trajectory.observation), tf.float32)\n",
    "if tf.rank(labels) == 1:\n",
    "    labels = tf.expand_dims(labels, axis=-1)\n",
    "label = labels[0, ...]\n",
    "action = tf.cast(trajectory.action[0, ...], dtype=tf.float32)\n",
    "reward = trajectory.reward[0, ...]\n",
    "if tf.rank(reward) == 1:\n",
    "    reward = tf.expand_dims(reward, axis=-1)\n",
    "next_state = trajectory.observation[1, ...]\n",
    "next_label = labels[1, ...]\n",
    "\n",
    "print(\"\\nstate\", state)\n",
    "print('\\nlabels', labels)\n",
    "print('\\nlabel', label)\n",
    "print('\\naction', action)\n",
    "print('\\nreward', reward)\n",
    "print('\\nnext_state', next_state)\n",
    "print('\\nnext_label', next_label)"
   ],
   "metadata": {
    "collapsed": false,
    "pycharm": {
     "name": "#%%\n"
    }
   }
  },
  {
   "cell_type": "code",
   "execution_count": null,
   "outputs": [],
   "source": [
    "generator = ErgodicMDPTransitionGenerator(labeling_function, replay_buffer)\n",
    "dataset = replay_buffer.as_dataset(\n",
    "    num_parallel_calls=4,\n",
    "    num_steps=2\n",
    ").map(\n",
    "    map_func=generator,\n",
    "    num_parallel_calls=4,\n",
    "    #  deterministic=False  # TF version >= 2.2.0\n",
    ").batch(batch_size=8, drop_remainder=True)\n",
    "iterator = iter(dataset)\n",
    "next(iterator)"
   ],
   "metadata": {
    "collapsed": false,
    "pycharm": {
     "name": "#%%\n"
    }
   }
  },
  {
   "cell_type": "code",
   "execution_count": 5,
   "outputs": [
    {
     "name": "stdout",
     "output_type": "stream",
     "text": [
      "WARNING:tensorflow:Importing a function (__inference_encoder_latent_distribution_logits_layer_call_and_return_conditional_losses_90113) with ops with custom gradients. Will likely fail if a gradient is requested.\n",
      "WARNING:tensorflow:Importing a function (__inference_encoder_latent_distribution_logits_layer_call_and_return_conditional_losses_90113) with ops with custom gradients. Will likely fail if a gradient is requested.\n",
      "WARNING:tensorflow:Importing a function (__inference_encoder_latent_distribution_logits_layer_call_and_return_conditional_losses_90113) with ops with custom gradients. Will likely fail if a gradient is requested.\n",
      "WARNING:tensorflow:Importing a function (__inference_encoder_latent_distribution_logits_layer_call_and_return_conditional_losses_82845) with ops with custom gradients. Will likely fail if a gradient is requested.\n",
      "WARNING:tensorflow:Importing a function (__inference_encoder_latent_distribution_logits_layer_call_and_return_conditional_losses_82845) with ops with custom gradients. Will likely fail if a gradient is requested.\n",
      "WARNING:tensorflow:Importing a function (__inference_encoder_latent_distribution_logits_layer_call_and_return_conditional_losses_82845) with ops with custom gradients. Will likely fail if a gradient is requested.\n",
      "WARNING:tensorflow:Importing a function (__inference_entropy_regularizer_81349) with ops with custom gradients. Will likely fail if a gradient is requested.\n",
      "WARNING:tensorflow:Importing a function (__inference_entropy_regularizer_81349) with ops with custom gradients. Will likely fail if a gradient is requested.\n",
      "WARNING:tensorflow:Importing a function (__inference_entropy_regularizer_81349) with ops with custom gradients. Will likely fail if a gradient is requested.\n",
      "WARNING:tensorflow:Importing a function (__inference_encoder_layer_call_and_return_conditional_losses_88771) with ops with custom gradients. Will likely fail if a gradient is requested.\n",
      "WARNING:tensorflow:Importing a function (__inference_encoder_layer_call_and_return_conditional_losses_88771) with ops with custom gradients. Will likely fail if a gradient is requested.\n",
      "WARNING:tensorflow:Importing a function (__inference_encoder_layer_call_and_return_conditional_losses_88771) with ops with custom gradients. Will likely fail if a gradient is requested.\n",
      "WARNING:tensorflow:Importing a function (__inference__wrapped_model_82624) with ops with custom gradients. Will likely fail if a gradient is requested.\n",
      "WARNING:tensorflow:Importing a function (__inference__wrapped_model_82624) with ops with custom gradients. Will likely fail if a gradient is requested.\n",
      "WARNING:tensorflow:Importing a function (__inference__wrapped_model_82624) with ops with custom gradients. Will likely fail if a gradient is requested.\n",
      "WARNING:tensorflow:Importing a function (__inference_encoder_layer_call_and_return_conditional_losses_88703) with ops with custom gradients. Will likely fail if a gradient is requested.\n",
      "WARNING:tensorflow:Importing a function (__inference_encoder_layer_call_and_return_conditional_losses_88703) with ops with custom gradients. Will likely fail if a gradient is requested.\n",
      "WARNING:tensorflow:Importing a function (__inference_encoder_layer_call_and_return_conditional_losses_88703) with ops with custom gradients. Will likely fail if a gradient is requested.\n",
      "WARNING:tensorflow:Importing a function (__inference___call___88496) with ops with custom gradients. Will likely fail if a gradient is requested.\n",
      "WARNING:tensorflow:Importing a function (__inference___call___88496) with ops with custom gradients. Will likely fail if a gradient is requested.\n",
      "WARNING:tensorflow:Importing a function (__inference___call___88496) with ops with custom gradients. Will likely fail if a gradient is requested.\n",
      "WARNING:tensorflow:Importing a function (__inference___call___88496) with ops with custom gradients. Will likely fail if a gradient is requested.\n",
      "WARNING:tensorflow:Importing a function (__inference___call___88496) with ops with custom gradients. Will likely fail if a gradient is requested.\n",
      "WARNING:tensorflow:Importing a function (__inference___call___88496) with ops with custom gradients. Will likely fail if a gradient is requested.\n",
      "WARNING:tensorflow:Importing a function (__inference___call___82339) with ops with custom gradients. Will likely fail if a gradient is requested.\n",
      "WARNING:tensorflow:Importing a function (__inference___call___82339) with ops with custom gradients. Will likely fail if a gradient is requested.\n",
      "WARNING:tensorflow:Importing a function (__inference___call___82339) with ops with custom gradients. Will likely fail if a gradient is requested.\n",
      "WARNING:tensorflow:Importing a function (__inference___call___82339) with ops with custom gradients. Will likely fail if a gradient is requested.\n",
      "WARNING:tensorflow:Importing a function (__inference___call___82339) with ops with custom gradients. Will likely fail if a gradient is requested.\n",
      "WARNING:tensorflow:Importing a function (__inference___call___82339) with ops with custom gradients. Will likely fail if a gradient is requested.\n",
      "VAE MDP loaded\n",
      "TimeStep(step_type=TensorSpec(shape=(), dtype=tf.int32, name='step_type'), reward=TensorSpec(shape=(), dtype=tf.float32, name='reward'), discount=BoundedTensorSpec(shape=(), dtype=tf.float32, name='discount', minimum=array(0., dtype=float32), maximum=array(1., dtype=float32)), observation=BoundedTensorSpec(shape=(20,), dtype=tf.int32, name='observation', minimum=array(0, dtype=int32), maximum=array(1, dtype=int32))) BoundedTensorSpec(shape=(), dtype=tf.int32, name='action', minimum=array(0, dtype=int32), maximum=array(3, dtype=int32))\n",
      "WARNING:tensorflow:Unresolved object in checkpoint: (root).model._optimizer\n",
      "WARNING:tensorflow:Unresolved object in checkpoint: (root).model.loss_metrics.predicted_next_state_mse\n",
      "WARNING:tensorflow:Unresolved object in checkpoint: (root).model.loss_metrics.state_mse\n",
      "WARNING:tensorflow:Unresolved object in checkpoint: (root).model.loss_metrics.state_encoder_entropy\n",
      "WARNING:tensorflow:Unresolved object in checkpoint: (root).model.loss_metrics.marginal_encoder_entropy\n",
      "WARNING:tensorflow:Unresolved object in checkpoint: (root).model.loss_metrics.action_encoder_entropy\n",
      "WARNING:tensorflow:Unresolved object in checkpoint: (root).model.loss_metrics.state_rate\n",
      "WARNING:tensorflow:Unresolved object in checkpoint: (root).model.loss_metrics.action_rate\n",
      "WARNING:tensorflow:Unresolved object in checkpoint: (root).model.loss_metrics.t_1_state\n",
      "WARNING:tensorflow:Unresolved object in checkpoint: (root).model.loss_metrics.t_2_state\n",
      "WARNING:tensorflow:Unresolved object in checkpoint: (root).model._optimizer.iter\n",
      "WARNING:tensorflow:Unresolved object in checkpoint: (root).model._optimizer.beta_1\n",
      "WARNING:tensorflow:Unresolved object in checkpoint: (root).model._optimizer.beta_2\n",
      "WARNING:tensorflow:Unresolved object in checkpoint: (root).model._optimizer.decay\n",
      "WARNING:tensorflow:Unresolved object in checkpoint: (root).model._optimizer.learning_rate\n",
      "WARNING:tensorflow:Unresolved object in checkpoint: (root).model.loss_metrics.predicted_next_state_mse.total\n",
      "WARNING:tensorflow:Unresolved object in checkpoint: (root).model.loss_metrics.predicted_next_state_mse.count\n",
      "WARNING:tensorflow:Unresolved object in checkpoint: (root).model.loss_metrics.state_mse.total\n",
      "WARNING:tensorflow:Unresolved object in checkpoint: (root).model.loss_metrics.state_mse.count\n",
      "WARNING:tensorflow:Unresolved object in checkpoint: (root).model.loss_metrics.state_mse._fn_kwargs\n",
      "WARNING:tensorflow:Unresolved object in checkpoint: (root).model.loss_metrics.state_encoder_entropy.total\n",
      "WARNING:tensorflow:Unresolved object in checkpoint: (root).model.loss_metrics.state_encoder_entropy.count\n",
      "WARNING:tensorflow:Unresolved object in checkpoint: (root).model.loss_metrics.marginal_encoder_entropy.total\n",
      "WARNING:tensorflow:Unresolved object in checkpoint: (root).model.loss_metrics.marginal_encoder_entropy.count\n",
      "WARNING:tensorflow:Unresolved object in checkpoint: (root).model.loss_metrics.action_encoder_entropy.total\n",
      "WARNING:tensorflow:Unresolved object in checkpoint: (root).model.loss_metrics.action_encoder_entropy.count\n",
      "WARNING:tensorflow:Unresolved object in checkpoint: (root).model.loss_metrics.state_rate.total\n",
      "WARNING:tensorflow:Unresolved object in checkpoint: (root).model.loss_metrics.state_rate.count\n",
      "WARNING:tensorflow:Unresolved object in checkpoint: (root).model.loss_metrics.action_rate.total\n",
      "WARNING:tensorflow:Unresolved object in checkpoint: (root).model.loss_metrics.action_rate.count\n",
      "WARNING:tensorflow:Unresolved object in checkpoint: (root).model.loss_metrics.t_1_state.total\n",
      "WARNING:tensorflow:Unresolved object in checkpoint: (root).model.loss_metrics.t_1_state.count\n",
      "WARNING:tensorflow:Unresolved object in checkpoint: (root).model.loss_metrics.t_2_state.total\n",
      "WARNING:tensorflow:Unresolved object in checkpoint: (root).model.loss_metrics.t_2_state.count\n",
      "WARNING:tensorflow:Unresolved object in checkpoint: (root).model._state_vae.loss_metrics.predicted_next_state_mse\n",
      "WARNING:tensorflow:Unresolved object in checkpoint: (root).model._state_vae.loss_metrics.predicted_next_state_mse.total\n",
      "WARNING:tensorflow:Unresolved object in checkpoint: (root).model._state_vae.loss_metrics.predicted_next_state_mse.count\n",
      "WARNING:tensorflow:Unresolved object in checkpoint: (root).model._optimizer's state 'm' for (root).model.encoder_network.layer_with_weights-1.kernel\n",
      "WARNING:tensorflow:Unresolved object in checkpoint: (root).model._optimizer's state 'm' for (root).model.encoder_network.layer_with_weights-1.bias\n",
      "WARNING:tensorflow:Unresolved object in checkpoint: (root).model._optimizer's state 'm' for (root).model.reconstruction_network.layer_with_weights-1.kernel\n",
      "WARNING:tensorflow:Unresolved object in checkpoint: (root).model._optimizer's state 'm' for (root).model.reconstruction_network.layer_with_weights-1.bias\n",
      "WARNING:tensorflow:Unresolved object in checkpoint: (root).model._optimizer's state 'm' for (root).model.reconstruction_network.layer_with_weights-2.kernel\n",
      "WARNING:tensorflow:Unresolved object in checkpoint: (root).model._optimizer's state 'm' for (root).model.reconstruction_network.layer_with_weights-2.bias\n",
      "WARNING:tensorflow:Unresolved object in checkpoint: (root).model._optimizer's state 'm' for (root).model.action_encoder.layer_with_weights-1.kernel\n",
      "WARNING:tensorflow:Unresolved object in checkpoint: (root).model._optimizer's state 'm' for (root).model.action_encoder.layer_with_weights-1.bias\n",
      "WARNING:tensorflow:Unresolved object in checkpoint: (root).model._optimizer's state 'm' for (root).model.latent_policy_network.layer_with_weights-1.kernel\n",
      "WARNING:tensorflow:Unresolved object in checkpoint: (root).model._optimizer's state 'm' for (root).model.latent_policy_network.layer_with_weights-1.bias\n",
      "WARNING:tensorflow:Unresolved object in checkpoint: (root).model._optimizer's state 'm' for (root).model.action_transition_network.layer_with_weights-1.kernel\n",
      "WARNING:tensorflow:Unresolved object in checkpoint: (root).model._optimizer's state 'm' for (root).model.action_transition_network.layer_with_weights-1.bias\n",
      "WARNING:tensorflow:Unresolved object in checkpoint: (root).model._optimizer's state 'm' for (root).model.action_label_transition_network.layer_with_weights-0.kernel\n",
      "WARNING:tensorflow:Unresolved object in checkpoint: (root).model._optimizer's state 'm' for (root).model.action_label_transition_network.layer_with_weights-0.bias\n",
      "WARNING:tensorflow:Unresolved object in checkpoint: (root).model._optimizer's state 'm' for (root).model.action_reward_network.layer_with_weights-1.kernel\n",
      "WARNING:tensorflow:Unresolved object in checkpoint: (root).model._optimizer's state 'm' for (root).model.action_reward_network.layer_with_weights-1.bias\n",
      "WARNING:tensorflow:Unresolved object in checkpoint: (root).model._optimizer's state 'm' for (root).model.action_reward_network.layer_with_weights-2.kernel\n",
      "WARNING:tensorflow:Unresolved object in checkpoint: (root).model._optimizer's state 'm' for (root).model.action_reward_network.layer_with_weights-2.bias\n",
      "WARNING:tensorflow:Unresolved object in checkpoint: (root).model._optimizer's state 'm' for (root).model.action_decoder_network.layer_with_weights-1.kernel\n",
      "WARNING:tensorflow:Unresolved object in checkpoint: (root).model._optimizer's state 'm' for (root).model.action_decoder_network.layer_with_weights-1.bias\n",
      "WARNING:tensorflow:Unresolved object in checkpoint: (root).model._optimizer's state 'm' for (root).model.action_decoder_network.layer_with_weights-2.kernel\n",
      "WARNING:tensorflow:Unresolved object in checkpoint: (root).model._optimizer's state 'm' for (root).model.action_decoder_network.layer_with_weights-2.bias\n",
      "WARNING:tensorflow:Unresolved object in checkpoint: (root).model._optimizer's state 'm' for (root).model.encoder_network.layer_with_weights-0.layer_with_weights-0.kernel\n",
      "WARNING:tensorflow:Unresolved object in checkpoint: (root).model._optimizer's state 'm' for (root).model.encoder_network.layer_with_weights-0.layer_with_weights-0.bias\n",
      "WARNING:tensorflow:Unresolved object in checkpoint: (root).model._optimizer's state 'm' for (root).model.encoder_network.layer_with_weights-0.layer_with_weights-1.kernel\n",
      "WARNING:tensorflow:Unresolved object in checkpoint: (root).model._optimizer's state 'm' for (root).model.encoder_network.layer_with_weights-0.layer_with_weights-1.bias\n",
      "WARNING:tensorflow:Unresolved object in checkpoint: (root).model._optimizer's state 'm' for (root).model.reconstruction_network.layer_with_weights-0.layer_with_weights-0.kernel\n",
      "WARNING:tensorflow:Unresolved object in checkpoint: (root).model._optimizer's state 'm' for (root).model.reconstruction_network.layer_with_weights-0.layer_with_weights-0.bias\n",
      "WARNING:tensorflow:Unresolved object in checkpoint: (root).model._optimizer's state 'm' for (root).model.reconstruction_network.layer_with_weights-0.layer_with_weights-1.kernel\n",
      "WARNING:tensorflow:Unresolved object in checkpoint: (root).model._optimizer's state 'm' for (root).model.reconstruction_network.layer_with_weights-0.layer_with_weights-1.bias\n",
      "WARNING:tensorflow:Unresolved object in checkpoint: (root).model._optimizer's state 'm' for (root).model.action_encoder.layer_with_weights-0.layer_with_weights-0.kernel\n",
      "WARNING:tensorflow:Unresolved object in checkpoint: (root).model._optimizer's state 'm' for (root).model.action_encoder.layer_with_weights-0.layer_with_weights-0.bias\n",
      "WARNING:tensorflow:Unresolved object in checkpoint: (root).model._optimizer's state 'm' for (root).model.action_encoder.layer_with_weights-0.layer_with_weights-1.kernel\n",
      "WARNING:tensorflow:Unresolved object in checkpoint: (root).model._optimizer's state 'm' for (root).model.action_encoder.layer_with_weights-0.layer_with_weights-1.bias\n",
      "WARNING:tensorflow:Unresolved object in checkpoint: (root).model._optimizer's state 'm' for (root).model.latent_policy_network.layer_with_weights-0.layer_with_weights-0.kernel\n",
      "WARNING:tensorflow:Unresolved object in checkpoint: (root).model._optimizer's state 'm' for (root).model.latent_policy_network.layer_with_weights-0.layer_with_weights-0.bias\n",
      "WARNING:tensorflow:Unresolved object in checkpoint: (root).model._optimizer's state 'm' for (root).model.latent_policy_network.layer_with_weights-0.layer_with_weights-1.kernel\n",
      "WARNING:tensorflow:Unresolved object in checkpoint: (root).model._optimizer's state 'm' for (root).model.latent_policy_network.layer_with_weights-0.layer_with_weights-1.bias\n",
      "WARNING:tensorflow:Unresolved object in checkpoint: (root).model._optimizer's state 'm' for (root).model.action_transition_network.layer_with_weights-0.layer_with_weights-0.kernel\n",
      "WARNING:tensorflow:Unresolved object in checkpoint: (root).model._optimizer's state 'm' for (root).model.action_transition_network.layer_with_weights-0.layer_with_weights-0.bias\n",
      "WARNING:tensorflow:Unresolved object in checkpoint: (root).model._optimizer's state 'm' for (root).model.action_transition_network.layer_with_weights-0.layer_with_weights-1.kernel\n",
      "WARNING:tensorflow:Unresolved object in checkpoint: (root).model._optimizer's state 'm' for (root).model.action_transition_network.layer_with_weights-0.layer_with_weights-1.bias\n",
      "WARNING:tensorflow:Unresolved object in checkpoint: (root).model._optimizer's state 'm' for (root).model.action_transition_network.layer_with_weights-0.layer_with_weights-2.kernel\n",
      "WARNING:tensorflow:Unresolved object in checkpoint: (root).model._optimizer's state 'm' for (root).model.action_transition_network.layer_with_weights-0.layer_with_weights-2.bias\n",
      "WARNING:tensorflow:Unresolved object in checkpoint: (root).model._optimizer's state 'm' for (root).model.action_transition_network.layer_with_weights-0.layer_with_weights-3.kernel\n",
      "WARNING:tensorflow:Unresolved object in checkpoint: (root).model._optimizer's state 'm' for (root).model.action_transition_network.layer_with_weights-0.layer_with_weights-3.bias\n",
      "WARNING:tensorflow:Unresolved object in checkpoint: (root).model._optimizer's state 'm' for (root).model.action_reward_network.layer_with_weights-0.layer_with_weights-0.kernel\n",
      "WARNING:tensorflow:Unresolved object in checkpoint: (root).model._optimizer's state 'm' for (root).model.action_reward_network.layer_with_weights-0.layer_with_weights-0.bias\n",
      "WARNING:tensorflow:Unresolved object in checkpoint: (root).model._optimizer's state 'm' for (root).model.action_reward_network.layer_with_weights-0.layer_with_weights-1.kernel\n",
      "WARNING:tensorflow:Unresolved object in checkpoint: (root).model._optimizer's state 'm' for (root).model.action_reward_network.layer_with_weights-0.layer_with_weights-1.bias\n",
      "WARNING:tensorflow:Unresolved object in checkpoint: (root).model._optimizer's state 'm' for (root).model.action_decoder_network.layer_with_weights-0.layer_with_weights-0.kernel\n",
      "WARNING:tensorflow:Unresolved object in checkpoint: (root).model._optimizer's state 'm' for (root).model.action_decoder_network.layer_with_weights-0.layer_with_weights-0.bias\n",
      "WARNING:tensorflow:Unresolved object in checkpoint: (root).model._optimizer's state 'm' for (root).model.action_decoder_network.layer_with_weights-0.layer_with_weights-1.kernel\n",
      "WARNING:tensorflow:Unresolved object in checkpoint: (root).model._optimizer's state 'm' for (root).model.action_decoder_network.layer_with_weights-0.layer_with_weights-1.bias\n",
      "WARNING:tensorflow:Unresolved object in checkpoint: (root).model._optimizer's state 'v' for (root).model.encoder_network.layer_with_weights-1.kernel\n",
      "WARNING:tensorflow:Unresolved object in checkpoint: (root).model._optimizer's state 'v' for (root).model.encoder_network.layer_with_weights-1.bias\n",
      "WARNING:tensorflow:Unresolved object in checkpoint: (root).model._optimizer's state 'v' for (root).model.reconstruction_network.layer_with_weights-1.kernel\n",
      "WARNING:tensorflow:Unresolved object in checkpoint: (root).model._optimizer's state 'v' for (root).model.reconstruction_network.layer_with_weights-1.bias\n",
      "WARNING:tensorflow:Unresolved object in checkpoint: (root).model._optimizer's state 'v' for (root).model.reconstruction_network.layer_with_weights-2.kernel\n",
      "WARNING:tensorflow:Unresolved object in checkpoint: (root).model._optimizer's state 'v' for (root).model.reconstruction_network.layer_with_weights-2.bias\n",
      "WARNING:tensorflow:Unresolved object in checkpoint: (root).model._optimizer's state 'v' for (root).model.action_encoder.layer_with_weights-1.kernel\n",
      "WARNING:tensorflow:Unresolved object in checkpoint: (root).model._optimizer's state 'v' for (root).model.action_encoder.layer_with_weights-1.bias\n",
      "WARNING:tensorflow:Unresolved object in checkpoint: (root).model._optimizer's state 'v' for (root).model.latent_policy_network.layer_with_weights-1.kernel\n",
      "WARNING:tensorflow:Unresolved object in checkpoint: (root).model._optimizer's state 'v' for (root).model.latent_policy_network.layer_with_weights-1.bias\n",
      "WARNING:tensorflow:Unresolved object in checkpoint: (root).model._optimizer's state 'v' for (root).model.action_transition_network.layer_with_weights-1.kernel\n",
      "WARNING:tensorflow:Unresolved object in checkpoint: (root).model._optimizer's state 'v' for (root).model.action_transition_network.layer_with_weights-1.bias\n",
      "WARNING:tensorflow:Unresolved object in checkpoint: (root).model._optimizer's state 'v' for (root).model.action_label_transition_network.layer_with_weights-0.kernel\n",
      "WARNING:tensorflow:Unresolved object in checkpoint: (root).model._optimizer's state 'v' for (root).model.action_label_transition_network.layer_with_weights-0.bias\n",
      "WARNING:tensorflow:Unresolved object in checkpoint: (root).model._optimizer's state 'v' for (root).model.action_reward_network.layer_with_weights-1.kernel\n",
      "WARNING:tensorflow:Unresolved object in checkpoint: (root).model._optimizer's state 'v' for (root).model.action_reward_network.layer_with_weights-1.bias\n",
      "WARNING:tensorflow:Unresolved object in checkpoint: (root).model._optimizer's state 'v' for (root).model.action_reward_network.layer_with_weights-2.kernel\n",
      "WARNING:tensorflow:Unresolved object in checkpoint: (root).model._optimizer's state 'v' for (root).model.action_reward_network.layer_with_weights-2.bias\n",
      "WARNING:tensorflow:Unresolved object in checkpoint: (root).model._optimizer's state 'v' for (root).model.action_decoder_network.layer_with_weights-1.kernel\n",
      "WARNING:tensorflow:Unresolved object in checkpoint: (root).model._optimizer's state 'v' for (root).model.action_decoder_network.layer_with_weights-1.bias\n",
      "WARNING:tensorflow:Unresolved object in checkpoint: (root).model._optimizer's state 'v' for (root).model.action_decoder_network.layer_with_weights-2.kernel\n",
      "WARNING:tensorflow:Unresolved object in checkpoint: (root).model._optimizer's state 'v' for (root).model.action_decoder_network.layer_with_weights-2.bias\n",
      "WARNING:tensorflow:Unresolved object in checkpoint: (root).model._optimizer's state 'v' for (root).model.encoder_network.layer_with_weights-0.layer_with_weights-0.kernel\n",
      "WARNING:tensorflow:Unresolved object in checkpoint: (root).model._optimizer's state 'v' for (root).model.encoder_network.layer_with_weights-0.layer_with_weights-0.bias\n",
      "WARNING:tensorflow:Unresolved object in checkpoint: (root).model._optimizer's state 'v' for (root).model.encoder_network.layer_with_weights-0.layer_with_weights-1.kernel\n",
      "WARNING:tensorflow:Unresolved object in checkpoint: (root).model._optimizer's state 'v' for (root).model.encoder_network.layer_with_weights-0.layer_with_weights-1.bias\n",
      "WARNING:tensorflow:Unresolved object in checkpoint: (root).model._optimizer's state 'v' for (root).model.reconstruction_network.layer_with_weights-0.layer_with_weights-0.kernel\n",
      "WARNING:tensorflow:Unresolved object in checkpoint: (root).model._optimizer's state 'v' for (root).model.reconstruction_network.layer_with_weights-0.layer_with_weights-0.bias\n",
      "WARNING:tensorflow:Unresolved object in checkpoint: (root).model._optimizer's state 'v' for (root).model.reconstruction_network.layer_with_weights-0.layer_with_weights-1.kernel\n",
      "WARNING:tensorflow:Unresolved object in checkpoint: (root).model._optimizer's state 'v' for (root).model.reconstruction_network.layer_with_weights-0.layer_with_weights-1.bias\n",
      "WARNING:tensorflow:Unresolved object in checkpoint: (root).model._optimizer's state 'v' for (root).model.action_encoder.layer_with_weights-0.layer_with_weights-0.kernel\n",
      "WARNING:tensorflow:Unresolved object in checkpoint: (root).model._optimizer's state 'v' for (root).model.action_encoder.layer_with_weights-0.layer_with_weights-0.bias\n",
      "WARNING:tensorflow:Unresolved object in checkpoint: (root).model._optimizer's state 'v' for (root).model.action_encoder.layer_with_weights-0.layer_with_weights-1.kernel\n",
      "WARNING:tensorflow:Unresolved object in checkpoint: (root).model._optimizer's state 'v' for (root).model.action_encoder.layer_with_weights-0.layer_with_weights-1.bias\n",
      "WARNING:tensorflow:Unresolved object in checkpoint: (root).model._optimizer's state 'v' for (root).model.latent_policy_network.layer_with_weights-0.layer_with_weights-0.kernel\n",
      "WARNING:tensorflow:Unresolved object in checkpoint: (root).model._optimizer's state 'v' for (root).model.latent_policy_network.layer_with_weights-0.layer_with_weights-0.bias\n",
      "WARNING:tensorflow:Unresolved object in checkpoint: (root).model._optimizer's state 'v' for (root).model.latent_policy_network.layer_with_weights-0.layer_with_weights-1.kernel\n",
      "WARNING:tensorflow:Unresolved object in checkpoint: (root).model._optimizer's state 'v' for (root).model.latent_policy_network.layer_with_weights-0.layer_with_weights-1.bias\n",
      "WARNING:tensorflow:Unresolved object in checkpoint: (root).model._optimizer's state 'v' for (root).model.action_transition_network.layer_with_weights-0.layer_with_weights-0.kernel\n",
      "WARNING:tensorflow:Unresolved object in checkpoint: (root).model._optimizer's state 'v' for (root).model.action_transition_network.layer_with_weights-0.layer_with_weights-0.bias\n",
      "WARNING:tensorflow:Unresolved object in checkpoint: (root).model._optimizer's state 'v' for (root).model.action_transition_network.layer_with_weights-0.layer_with_weights-1.kernel\n",
      "WARNING:tensorflow:Unresolved object in checkpoint: (root).model._optimizer's state 'v' for (root).model.action_transition_network.layer_with_weights-0.layer_with_weights-1.bias\n",
      "WARNING:tensorflow:Unresolved object in checkpoint: (root).model._optimizer's state 'v' for (root).model.action_transition_network.layer_with_weights-0.layer_with_weights-2.kernel\n",
      "WARNING:tensorflow:Unresolved object in checkpoint: (root).model._optimizer's state 'v' for (root).model.action_transition_network.layer_with_weights-0.layer_with_weights-2.bias\n",
      "WARNING:tensorflow:Unresolved object in checkpoint: (root).model._optimizer's state 'v' for (root).model.action_transition_network.layer_with_weights-0.layer_with_weights-3.kernel\n",
      "WARNING:tensorflow:Unresolved object in checkpoint: (root).model._optimizer's state 'v' for (root).model.action_transition_network.layer_with_weights-0.layer_with_weights-3.bias\n",
      "WARNING:tensorflow:Unresolved object in checkpoint: (root).model._optimizer's state 'v' for (root).model.action_reward_network.layer_with_weights-0.layer_with_weights-0.kernel\n",
      "WARNING:tensorflow:Unresolved object in checkpoint: (root).model._optimizer's state 'v' for (root).model.action_reward_network.layer_with_weights-0.layer_with_weights-0.bias\n",
      "WARNING:tensorflow:Unresolved object in checkpoint: (root).model._optimizer's state 'v' for (root).model.action_reward_network.layer_with_weights-0.layer_with_weights-1.kernel\n",
      "WARNING:tensorflow:Unresolved object in checkpoint: (root).model._optimizer's state 'v' for (root).model.action_reward_network.layer_with_weights-0.layer_with_weights-1.bias\n",
      "WARNING:tensorflow:Unresolved object in checkpoint: (root).model._optimizer's state 'v' for (root).model.action_decoder_network.layer_with_weights-0.layer_with_weights-0.kernel\n",
      "WARNING:tensorflow:Unresolved object in checkpoint: (root).model._optimizer's state 'v' for (root).model.action_decoder_network.layer_with_weights-0.layer_with_weights-0.bias\n",
      "WARNING:tensorflow:Unresolved object in checkpoint: (root).model._optimizer's state 'v' for (root).model.action_decoder_network.layer_with_weights-0.layer_with_weights-1.kernel\n",
      "WARNING:tensorflow:Unresolved object in checkpoint: (root).model._optimizer's state 'v' for (root).model.action_decoder_network.layer_with_weights-0.layer_with_weights-1.bias\n",
      "WARNING:tensorflow:A checkpoint was restored (e.g. tf.train.Checkpoint.restore or tf.keras.Model.load_weights) but not all checkpointed values were used. See above for specific issues. Use expect_partial() on the load status object, e.g. tf.train.Checkpoint.restore(...).expect_partial(), to silence these warnings, or use assert_consumed() to make the check explicit. See https://www.tensorflow.org/guide/checkpoint#loading_mechanics for details.\n",
      "avg rewards tf.Tensor(-76.85185, shape=(), dtype=float32)\n"
     ]
    }
   ],
   "source": [
    "import variational_action_discretizer\n",
    "\n",
    "vae_mdp = variational_action_discretizer.load(\n",
    "    # \"../../saves/Pendulum-v0/models/vae_LS12_MC1_ER20.0-decay=7.5e-05-min=-10_KLA0.0-growth=1e-06_TD0.70-0.50_1e-06-2e-06/policy/action_discretizer/LA3_MC1_ER20.0-decay=7.5e-05-min=-10_KLA0.0-growth=1e-06_TD0.50-0.33_1e-06-2e-06_params=full_vae_optimization/step140000/eval_elbo-3.784\"\n",
    "    # \"../../saves/Pendulum-v0/models/vae_LS13_MC1_ER20.0-decay=2e-05-min=-10_KLA0.0-growth=1e-06_TD0.70-0.50_1e-06-2e-06/policy/action_discretizer/LA5_MC1_ER20.0-decay=2e-05-min=-10_KLA0.0-growth=1e-06_TD0.25-0.17_1e-06-2e-06_params=full_vae_optimization/step270000/eval_elbo-1.704\"\n",
    "    # \"../../saves/Pendulum-v0/models/vae_LS13_MC1_ER20.0-decay=7.5e-05-min=-10_KLA0.0-growth=1e-06_TD0.70-0.50_1e-06-2e-06/permissive_variance_policy-multiplier=10.0/action_discretizer/LA5_MC1_ER20.0-decay=7.5e-05-min=-10_KLA0.0-growth=1e-06_TD0.25-0.17_1e-06-2e-06_params=full_vae_optimization/step70000/eval_elbo-7.265\"\n",
    "    # \"../../saves/Pendulum-v0/models/vae_LS12_MC3_CER100.0-decay=1e-05_KLA1e-06-growth=1e-07_TD0.95-0.90_1e-06-2e-06/policy/action_discretizer/LA3_MC3_CER100.0-decay=1e-05_KLA1e-06-growth=1e-07_TD0.50-0.33_1e-06-2e-06_params=full_vae_optimization/step1010000/eval_elbo11.174\"\n",
    "    '../../saves/LunarLanderContinuous-v2/models/vae_LS20_MC1_ER10.0-decay=1e-05-min=0_KLA0.0-growth=5e-05_TD0.67-0.50_1e-06-2e-06_seed=20421/policy/action_discretizer/LA4_MC1_ER10.0-decay=1e-05-min=0_KLA0.0-growth=5e-05_TD0.33-0.22_1e-06-2e-06_params=full_vae_optimization-relaxed_state_encoding/base',\n",
    "    step=880000\n",
    ")\n",
    "print(\"VAE MDP loaded\")\n",
    "\n",
    "discrete_tf_env = vae_mdp.wrap_tf_environment(\n",
    "    tf_env=tf_env,\n",
    "    labeling_function=labeling_function,\n",
    "    deterministic_embedding_functions=True\n",
    ")\n",
    "discrete_tf_env.reset()\n",
    "print(discrete_tf_env.time_step_spec(), discrete_tf_env.action_spec())\n",
    "\n",
    "reward_metric = tf_metrics.AverageReturnMetric()\n",
    "\n",
    "policy = vae_mdp.get_latent_policy()\n",
    "\n",
    "dynamic_episode_driver.DynamicEpisodeDriver(\n",
    "    discrete_tf_env,\n",
    "    policy,\n",
    "    num_episodes=20,\n",
    "    observers=[\n",
    "        lambda _: py_env.render(mode='human'),\n",
    "        reward_metric\n",
    "    ]\n",
    ").run()\n",
    "\n",
    "print(\"avg rewards\", reward_metric.result())"
   ],
   "metadata": {
    "collapsed": false,
    "pycharm": {
     "name": "#%%\n"
    }
   }
  },
  {
   "cell_type": "code",
   "execution_count": null,
   "outputs": [],
   "source": [
    "\n",
    "\n"
   ],
   "metadata": {
    "collapsed": false,
    "pycharm": {
     "name": "#%%\n"
    }
   }
  }
 ],
 "metadata": {
  "kernelspec": {
   "display_name": "Python 3",
   "language": "python",
   "name": "python3"
  },
  "language_info": {
   "codemirror_mode": {
    "name": "ipython",
    "version": 2
   },
   "file_extension": ".py",
   "mimetype": "text/x-python",
   "name": "python",
   "nbconvert_exporter": "python",
   "pygments_lexer": "ipython2",
   "version": "2.7.6"
  }
 },
 "nbformat": 4,
 "nbformat_minor": 0
}