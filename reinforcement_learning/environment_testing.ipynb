{
 "cells": [
  {
   "cell_type": "code",
   "execution_count": 2,
   "metadata": {
    "collapsed": true
   },
   "outputs": [],
   "source": [
    "import gym\n",
    "import imageio\n",
    "import pybullet_envs\n",
    "import PIL.Image\n",
    "import pybullet\n",
    "import pybullet_data"
   ]
  },
  {
   "cell_type": "code",
   "execution_count": 3,
   "outputs": [
    {
     "name": "stderr",
     "output_type": "stream",
     "text": [
      "C:\\Users\\Flo\\anaconda3\\envs\\VAE_MDPs\\lib\\site-packages\\gym\\logger.py:30: UserWarning: \u001B[33mWARN: gym.spaces.Box autodetected dtype as <class 'numpy.float32'>. Please provide explicit dtype.\u001B[0m\n",
      "  warnings.warn(colorize('%s: %s'%('WARN', msg % args), 'yellow'))\n"
     ]
    },
    {
     "data": {
      "text/plain": "<PIL.Image.Image image mode=RGB size=320x240 at 0x218EA420488>",
      "image/png": "[encoded data removed]"
     },
     "execution_count": 3,
     "metadata": {},
     "output_type": "execute_result"
    }
   ],
   "source": [
    "env = gym.make('HumanoidBulletEnv-v0')\n",
    "env.reset()\n",
    "PIL.Image.fromarray(env.render(mode='rgb_array'))\n",
    "\n"
   ],
   "metadata": {
    "collapsed": false,
    "pycharm": {
     "name": "#%%\n"
    }
   }
  },
  {
   "cell_type": "code",
   "execution_count": 6,
   "outputs": [
    {
     "data": {
      "text/plain": "array([ 5.9999996e-01,  6.3777497e-07,  1.0000000e+00,  0.0000000e+00,\n        0.0000000e+00,  0.0000000e+00,  0.0000000e+00, -0.0000000e+00,\n       -1.0191343e-01,  0.0000000e+00,  3.7305140e-01,  0.0000000e+00,\n       -4.7753560e-03,  0.0000000e+00,  7.0848984e-01,  0.0000000e+00,\n        2.7339593e-01,  0.0000000e+00,  7.9105037e-01,  0.0000000e+00,\n        1.0806674e+00,  0.0000000e+00,  5.9799445e-01,  0.0000000e+00,\n        1.8956363e-01,  0.0000000e+00,  7.4054623e-01,  0.0000000e+00,\n        1.0433090e+00,  0.0000000e+00,  1.3661119e-01,  0.0000000e+00,\n        2.2184251e-01,  0.0000000e+00,  2.0947608e-01,  0.0000000e+00,\n       -1.8117912e-01,  0.0000000e+00, -2.3697326e-01,  0.0000000e+00,\n        3.0811718e-01,  0.0000000e+00,  0.0000000e+00,  0.0000000e+00],\n      dtype=float32)"
     },
     "execution_count": 6,
     "metadata": {},
     "output_type": "execute_result"
    }
   ],
   "source": [
    "done = False\n",
    "video_filename = 'humanoid_gym.mp4'\n",
    "with imageio.get_writer(video_filename, fps=60) as video:\n",
    "    while not done:\n",
    "        state, reward, done, info = env.step(env.action_space.sample())\n",
    "        video.append_data(env.render(mode='rgb_array'))\n",
    "env.reset()"
   ],
   "metadata": {
    "collapsed": false,
    "pycharm": {
     "name": "#%%\n"
    }
   }
  },
  {
   "cell_type": "code",
   "execution_count": 10,
   "outputs": [
    {
     "name": "stdout",
     "output_type": "stream",
     "text": [
      "WalkerBase::__init__\n"
     ]
    },
    {
     "data": {
      "text/plain": "array([], dtype=float64)"
     },
     "execution_count": 10,
     "metadata": {},
     "output_type": "execute_result"
    }
   ],
   "source": [
    "import pybulletgym\n",
    "env_2 = gym.make('HumanoidPyBulletEnv-v0')\n",
    "env_2.reset()\n",
    "PIL.Image.fromarray(env_2.render(mode='rgb_array'))\n",
    "env_2.render()"
   ],
   "metadata": {
    "collapsed": false,
    "pycharm": {
     "name": "#%%\n"
    }
   }
  },
  {
   "cell_type": "code",
   "execution_count": 8,
   "outputs": [],
   "source": [
    "from tf_agents.environments import suite_gym"
   ],
   "metadata": {
    "collapsed": false,
    "pycharm": {
     "name": "#%%\n"
    }
   }
  },
  {
   "cell_type": "code",
   "execution_count": 6,
   "outputs": [
    {
     "name": "stdout",
     "output_type": "stream",
     "text": [
      "WalkerBase::__init__\n"
     ]
    },
    {
     "data": {
      "text/plain": "<PIL.Image.Image image mode=RGB size=320x240 at 0x250E4BF2108>",
      "image/png": "[encoded data removed]"
     },
     "execution_count": 6,
     "metadata": {},
     "output_type": "execute_result"
    }
   ],
   "source": [
    "py_env = suite_gym.load('HumanoidPyBulletEnv-v0')\n",
    "py_env.reset()\n",
    "PIL.Image.fromarray(py_env.render())\n",
    "\n",
    "\n"
   ],
   "metadata": {
    "collapsed": false,
    "pycharm": {
     "name": "#%%\n"
    }
   }
  },
  {
   "cell_type": "code",
   "execution_count": null,
   "outputs": [],
   "source": [
    "\n"
   ],
   "metadata": {
    "collapsed": false,
    "pycharm": {
     "name": "#%%\n"
    }
   }
  }
 ],
 "metadata": {
  "kernelspec": {
   "name": "pycharm-5b00a4c7",
   "language": "python",
   "display_name": "PyCharm (VAE_MDPs)"
  },
  "language_info": {
   "codemirror_mode": {
    "name": "ipython",
    "version": 2
   },
   "file_extension": ".py",
   "mimetype": "text/x-python",
   "name": "python",
   "nbconvert_exporter": "python",
   "pygments_lexer": "ipython2",
   "version": "2.7.6"
  }
 },
 "nbformat": 4,
 "nbformat_minor": 0
}