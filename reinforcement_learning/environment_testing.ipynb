{
 "cells": [
  {
   "cell_type": "code",
   "execution_count": null,
   "metadata": {
    "collapsed": true
   },
   "outputs": [],
   "source": [
    "import os\n",
    "import gym\n",
    "import imageio\n",
    "import pybullet_envs\n",
    "import PIL.Image\n",
    "import pybullet\n",
    "import pybullet_data"
   ]
  },
  {
   "cell_type": "code",
   "execution_count": null,
   "outputs": [],
   "source": [
    "from tf_agents.agents.reinforce import reinforce_agent\n",
    "from tf_agents.networks import actor_distribution_network\n",
    "from tf_agents.replay_buffers import tf_uniform_replay_buffer\n",
    "env = gym.make('HumanoidBulletEnv-v0')\n",
    "# env.render(mode='human')\n",
    "env.reset()\n",
    "PIL.Image.fromarray(env.render(mode='rgb_array'))\n",
    "\n"
   ],
   "metadata": {
    "collapsed": false,
    "pycharm": {
     "name": "#%%\n",
     "is_executing": true
    }
   }
  },
  {
   "cell_type": "code",
   "execution_count": null,
   "outputs": [],
   "source": [
    "done = False\n",
    "video_filename = 'humanoid_gym.mp4'\n",
    "with imageio.get_writer(video_filename, fps=60) as video:\n",
    "    while not done:\n",
    "        state, reward, done, info = env.step(env.action_space.sample())\n",
    "        video.append_data(env.render(mode='rgb_array'))\n",
    "env.reset()"
   ],
   "metadata": {
    "collapsed": false,
    "pycharm": {
     "name": "#%%\n",
     "is_executing": true
    }
   }
  },
  {
   "cell_type": "code",
   "execution_count": 1,
   "outputs": [],
   "source": [
    "# Pybullet testing environment\n",
    "import PIL.Image\n",
    "import os\n",
    "# Important: pybullet should be charged only once !!\n",
    "from tf_agents.environments import suite_pybullet, parallel_py_environment\n",
    "from tf_agents.environments import tf_py_environment\n",
    "from tf_agents.trajectories.trajectory import Trajectory\n",
    "from tf_agents.networks import actor_distribution_network\n",
    "from tf_agents.drivers import dynamic_episode_driver, dynamic_step_driver\n",
    "from tf_agents.policies import random_tf_policy\n",
    "import tensorflow as tf"
   ],
   "metadata": {
    "collapsed": false,
    "pycharm": {
     "name": "#%%\n"
    }
   }
  },
  {
   "cell_type": "code",
   "execution_count": 2,
   "outputs": [
    {
     "name": "stderr",
     "output_type": "stream",
     "text": [
      "/home/florent/anaconda3/envs/vae_mdp/lib/python3.7/site-packages/gym/logger.py:30: UserWarning: \u001B[33mWARN: gym.spaces.Box autodetected dtype as <class 'numpy.float32'>. Please provide explicit dtype.\u001B[0m\n",
      "  warnings.warn(colorize('%s: %s'%('WARN', msg % args), 'yellow'))\n"
     ]
    },
    {
     "data": {
      "text/plain": "<PIL.Image.Image image mode=RGB size=320x240 at 0x7FA28421A9D0>",
      "image/png": "[encoded data removed]"
     },
     "execution_count": 2,
     "metadata": {},
     "output_type": "execute_result"
    }
   ],
   "source": [
    "py_env = suite_pybullet.load('HumanoidBulletEnv-v0')\n",
    "py_env.render(mode='human')\n",
    "py_env.reset()\n",
    "PIL.Image.fromarray(py_env.render())"
   ],
   "metadata": {
    "collapsed": false,
    "pycharm": {
     "name": "#%%\n"
    }
   }
  },
  {
   "cell_type": "code",
   "execution_count": 43,
   "outputs": [
    {
     "name": "stdout",
     "output_type": "stream",
     "text": [
      "bad state!: 0.7644143104553223\n",
      "bad state!: 0.7669100761413574\n",
      "bad state!: 0.7689265012741089\n",
      "bad state!: 0.7715256214141846\n",
      "bad state!: 0.7759760618209839\n",
      "bad state!: 0.7670365571975708\n",
      "bad state!: 0.763435959815979\n",
      "bad state!: 0.7604746222496033\n",
      "bad state!: 0.756405770778656\n",
      "bad state!: 0.7520368695259094\n",
      "bad state!: 0.7748213410377502\n"
     ]
    },
    {
     "data": {
      "text/plain": "(TimeStep(step_type=<tf.Tensor: shape=(1,), dtype=int32, numpy=array([0], dtype=int32)>, reward=<tf.Tensor: shape=(1,), dtype=float32, numpy=array([0.], dtype=float32)>, discount=<tf.Tensor: shape=(1,), dtype=float32, numpy=array([1.], dtype=float32)>, observation=<tf.Tensor: shape=(1, 44), dtype=float32, numpy=\n array([[ 5.99999964e-01,  7.11754046e-06,  1.00000000e+00,\n          0.00000000e+00,  0.00000000e+00,  0.00000000e+00,\n          0.00000000e+00, -0.00000000e+00,  6.08818755e-02,\n          0.00000000e+00,  4.38749433e-01,  0.00000000e+00,\n         -9.28759202e-02,  0.00000000e+00,  1.01374447e+00,\n          0.00000000e+00,  2.75345892e-01,  0.00000000e+00,\n          6.98572040e-01,  0.00000000e+00,  1.06552875e+00,\n          0.00000000e+00,  1.02481306e+00,  0.00000000e+00,\n          2.89953083e-01,  0.00000000e+00,  7.16565192e-01,\n          0.00000000e+00,  1.04809713e+00,  0.00000000e+00,\n          2.39592999e-01,  0.00000000e+00,  2.11571410e-01,\n          0.00000000e+00,  3.61949980e-01,  0.00000000e+00,\n         -1.22260161e-01,  0.00000000e+00, -1.04530536e-01,\n          0.00000000e+00,  3.63283843e-01,  0.00000000e+00,\n          0.00000000e+00,  0.00000000e+00]], dtype=float32)>),\n ())"
     },
     "execution_count": 43,
     "metadata": {},
     "output_type": "execute_result"
    }
   ],
   "source": [
    "bad_state_detection = lambda trajectory: print(\"bad state!: {}\".format(trajectory.observation[0][0] + 0.8))\\\n",
    "    if trajectory.observation[0][0] + 0.8 <= 0.78 else None\n",
    "tf_env = tf_py_environment.TFPyEnvironment(py_env)\n",
    "stochastic_policy_dir = '/home/florent/Documents/hpc-cluster/saves/stochastic_policy/permissive_variance_policy'\n",
    "policy = tf.compat.v2.saved_model.load(stochastic_policy_dir)\n",
    "dynamic_episode_driver.DynamicEpisodeDriver(tf_env, policy, num_episodes=15, observers=[bad_state_detection]).run()\n",
    "\n"
   ],
   "metadata": {
    "collapsed": false,
    "pycharm": {
     "name": "#%%\n"
    }
   }
  },
  {
   "cell_type": "code",
   "execution_count": null,
   "outputs": [],
   "source": [
    "# Parallel environments.\n",
    "num_parallel_environments = 4\n",
    "tf_env = tf_py_environment.TFPyEnvironment(parallel_py_environment.ParallelPyEnvironment(\n",
    "    [lambda : suite_pybullet.load('HumanoidBulletEnv-v0')] * num_parallel_environments))\n",
    "tf_env.reset()"
   ],
   "metadata": {
    "collapsed": false,
    "pycharm": {
     "name": "#%%\n"
    }
   }
  },
  {
   "cell_type": "code",
   "execution_count": null,
   "outputs": [],
   "source": [
    "replay_buffer_size = 12800\n",
    "\n",
    "# create a dataset\n",
    "from tf_agents.agents.reinforce import reinforce_agent\n",
    "from tf_agents.replay_buffers import tf_uniform_replay_buffer\n",
    "actor_net = actor_distribution_network.ActorDistributionNetwork(\n",
    "    tf_env.observation_spec(),\n",
    "    tf_env.action_spec(),\n",
    "    fc_layer_params=(128, 128))\n",
    "policy = random_tf_policy.RandomTFPolicy(tf_env.time_step_spec(), tf_env.action_spec())\n",
    "train_step_counter = tf.compat.v2.Variable(0)\n",
    "\n",
    "agent = reinforce_agent.ReinforceAgent(\n",
    "    tf_env.time_step_spec(),\n",
    "    tf_env.action_spec(),\n",
    "    actor_network=actor_net,\n",
    "    optimizer=tf.compat.v1.train.AdamOptimizer(learning_rate=1e-4),\n",
    "    normalize_returns=True,\n",
    "    train_step_counter=train_step_counter)\n",
    "agent.initialize()\n",
    "\n",
    "replay_buffer = tf_uniform_replay_buffer.TFUniformReplayBuffer(\n",
    "    data_spec=agent.collect_data_spec,\n",
    "    batch_size=tf_env.batch_size,\n",
    "    max_length=replay_buffer_size)\n",
    "dataset = replay_buffer.as_dataset(num_parallel_calls=3, sample_batch_size=replay_buffer_size, num_steps=3)\n",
    "\n",
    "random_policy = random_tf_policy.RandomTFPolicy(tf_env.time_step_spec(), tf_env.action_spec())\n",
    "dynamic_step_driver.DynamicStepDriver(tf_env, random_policy,\n",
    "                                      observers=[replay_buffer.add_batch], num_steps=replay_buffer_size).run()\n"
   ],
   "metadata": {
    "collapsed": false,
    "pycharm": {
     "name": "#%%\n"
    }
   }
  },
  {
   "cell_type": "code",
   "execution_count": null,
   "outputs": [],
   "source": [
    "def labeling_function(states):\n",
    "    return states.take(0, axis=-1) + 0.8 <= 0.78"
   ],
   "metadata": {
    "collapsed": false,
    "pycharm": {
     "name": "#%%\n"
    }
   }
  },
  {
   "cell_type": "code",
   "execution_count": null,
   "outputs": [],
   "source": [
    "import h5py\n",
    "import tf_agents.trajectories.time_step as ts\n",
    "import datetime\n",
    "\n",
    "dataset_path = 'dataset'\n",
    "iterator = iter(dataset)\n",
    "current_time = datetime.datetime.now().strftime(\"%Y%m%d-%H%M%S\")\n",
    "\n",
    "if not os.path.exists(dataset_path):\n",
    "    os.makedirs(dataset_path)\n",
    "with h5py.File(dataset_path + '/rl_exploration' + current_time + '.hdf5', 'w') as h5f:\n",
    "    data = iterator.next()[0]\n",
    "    states = data.observation[:, :2, :].numpy()\n",
    "    actions = data.action[:, :2, :].numpy()\n",
    "    rewards = data.reward[:, :2].numpy()\n",
    "    next_states = data.observation[:, 1:, :].numpy()\n",
    "    next_labels = labeling_function(next_states)\n",
    "    # 0: initial state; 1: mid state; 2: terminal state\n",
    "    state_type = data.step_type[:, :2].numpy()\n",
    "    next_state_type = data.next_step_type[:, :2].numpy()\n",
    "\n",
    "    # remove transitions where the incident state is terminal and next state is initial\n",
    "    filtering = state_type[:, 0] != ts.StepType.LAST\n",
    "    filtering &= state_type[:, 1] != ts.StepType.LAST\n",
    "    filtering &= next_state_type[:, 0] != ts.StepType.FIRST\n",
    "    filtering &= next_state_type[:, 1] != ts.StepType.FIRST\n",
    "\n",
    "    h5f['state'] = states[filtering]\n",
    "    h5f['action'] = actions[filtering]\n",
    "    h5f['reward'] = rewards[filtering]\n",
    "    h5f['next_state'] = next_states[filtering]\n",
    "    h5f['next_state_label'] = next_labels[filtering]\n",
    "    # 0: initial state; 1: mid state; 2: terminal state\n",
    "    h5f['state_type'] = state_type[filtering]\n",
    "    h5f['next_state_type'] = state_type[filtering]"
   ],
   "metadata": {
    "collapsed": false,
    "pycharm": {
     "name": "#%%\n"
    }
   }
  },
  {
   "cell_type": "code",
   "execution_count": null,
   "outputs": [],
   "source": [
    "from typing import List, Dict, Tuple\n",
    "import glob\n",
    "import os\n",
    "\n",
    "file_list: List[str] = glob.glob(os.path.join(dataset_path, 'rl_*')) + \\\n",
    "                       glob.glob(os.path.join(dataset_path, 'reinforcement_learning', 'rl_*'))\n",
    "print(\"File list:\")\n",
    "print(file_list)\n",
    "\n",
    "length: int = 0\n",
    "h5f_indices: Dict[str, Tuple[int, int]] = {}\n",
    "shape: Dict[str, Tuple[int, ...]] = {}\n",
    "dataset_name = 'rl_observation_dataset.hdf5'\n",
    "\n",
    "for h5f_name in file_list:\n",
    "    with h5py.File(h5f_name, 'r') as h5f:\n",
    "        h5f_length = h5f['state'].shape[0]  # we assume that all h5f datasets have the same length (= size of axis 0)\n",
    "        h5f_indices[h5f_name] = (length, length + h5f_length)\n",
    "        length += h5f_length\n",
    "\n",
    "for i, h5f_name in enumerate(file_list):\n",
    "    with h5py.File(h5f_name, 'r') as h5f:\n",
    "        with h5py.File(os.path.join(dataset_path, dataset), 'w') as merged_h5f:\n",
    "            for key in h5f:\n",
    "                if i == 0:  # dataset file initialization\n",
    "                    shape[key] = (length, ) + h5f[key].shape[1:]\n",
    "                    merged_h5f.create_dataset(key, shape[key], dtype=h5f[key].dtype)\n",
    "                first, last = h5f_indices[h5f_name]\n",
    "                merged_h5f[key][first: last] = h5f[key]\n",
    "\n",
    "print(\"Dataset files merged\")"
   ],
   "metadata": {
    "collapsed": false,
    "pycharm": {
     "name": "#%%\n"
    }
   }
  },
  {
   "cell_type": "code",
   "execution_count": null,
   "outputs": [],
   "source": [
    "class generator:\n",
    "    def __init__(self, file):\n",
    "        self.file = file\n",
    "\n",
    "    def __call__(self):\n",
    "        with h5py.File(self.file, 'r') as hf:\n",
    "            for (state, action, reward, next_state, label, state_type, next_state_type) in \\\n",
    "                zip(hf['state'], hf['action'], hf['reward'], hf['next_state'],\n",
    "                    hf['next_state_label'], hf['state_type'], hf['next_state_type']):\n",
    "                yield state, action, reward, next_state, label, state_type, next_state_type\n",
    "\n",
    "    def get_tensor_shape(self):\n",
    "        with h5py.File(self.file, 'r') as hf:\n",
    "           return (tf.TensorShape(hf['state'].shape[1:]),\n",
    "                   tf.TensorShape(hf['action'].shape[1:]),\n",
    "                   tf.TensorShape(hf['reward'].shape[1:]),\n",
    "                   tf.TensorShape(hf['next_state'].shape[1:]),\n",
    "                   tf.TensorShape(hf['next_state_label'].shape[1:]),\n",
    "                   tf.TensorShape(hf['state_type'].shape[1:]),\n",
    "                   tf.TensorShape(hf['next_state_type'].shape[1:]))\n",
    "\n",
    "gen = generator(dataset_path + '/rl_exploration.hdf5')\n",
    "loaded_dataset = tf.data.Dataset.from_generator(gen,\n",
    "                                                (tf.float32, tf.float32, tf.float32, tf.float32, tf.bool, tf.int8, tf.int8),\n",
    "                                                gen.get_tensor_shape())"
   ],
   "metadata": {
    "collapsed": false,
    "pycharm": {
     "name": "#%%\n"
    }
   }
  },
  {
   "cell_type": "code",
   "execution_count": null,
   "outputs": [],
   "source": [
    "for state, action, reward, next_state, label, state_type, next_state_type in loaded_dataset:\n",
    "    if label[0]:\n",
    "        print(label[0], next_state[0], next_state_type)\n",
    "    if label[1]:\n",
    "        print(label[1], next_state[1], next_state_type)\n",
    "    if state_type[0] == ts.StepType.LAST:\n",
    "        print(\"BAD STATE S0:\", state[0])\n",
    "    if state_type[1] == ts.StepType.LAST:\n",
    "        print(\"BAD STATE S0:\", state[1])\n"
   ],
   "metadata": {
    "collapsed": false,
    "pycharm": {
     "name": "#%%\n"
    }
   }
  },
  {
   "cell_type": "code",
   "execution_count": null,
   "outputs": [],
   "source": [
    "ts.StepType.FIRST # initial state\n",
    "ts.StepType.LAST # terminal state\n",
    "ts.StepType.MID # normal state"
   ],
   "metadata": {
    "collapsed": false,
    "pycharm": {
     "name": "#%%\n",
     "is_executing": true
    }
   }
  },
  {
   "cell_type": "code",
   "execution_count": null,
   "outputs": [],
   "source": [
    "x = data.step_type[:, 0] != ts.StepType.LAST\n",
    "x &= data.step_type[:, 1] != ts.StepType.LAST\n",
    "x.numpy()"
   ],
   "metadata": {
    "collapsed": false,
    "pycharm": {
     "name": "#%%\n"
    }
   }
  },
  {
   "cell_type": "code",
   "execution_count": null,
   "outputs": [],
   "source": [
    "y = data.observation[:, :2, :].numpy()\n",
    "z = y[x]\n",
    "z"
   ],
   "metadata": {
    "collapsed": false,
    "pycharm": {
     "name": "#%%\n"
    }
   }
  },
  {
   "cell_type": "code",
   "execution_count": null,
   "outputs": [],
   "source": [
    "\n"
   ],
   "metadata": {
    "collapsed": false,
    "pycharm": {
     "name": "#%%\n"
    }
   }
  }
 ],
 "metadata": {
  "kernelspec": {
   "name": "python3",
   "language": "python",
   "display_name": "Python 3"
  },
  "language_info": {
   "codemirror_mode": {
    "name": "ipython",
    "version": 2
   },
   "file_extension": ".py",
   "mimetype": "text/x-python",
   "name": "python",
   "nbconvert_exporter": "python",
   "pygments_lexer": "ipython2",
   "version": "2.7.6"
  }
 },
 "nbformat": 4,
 "nbformat_minor": 0
}