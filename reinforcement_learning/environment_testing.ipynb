{
 "cells": [
  {
   "cell_type": "code",
   "execution_count": 1,
   "metadata": {
    "collapsed": true
   },
   "outputs": [],
   "source": [
    "import os\n",
    "import gym\n",
    "import imageio\n",
    "import pybullet_envs\n",
    "import PIL.Image\n",
    "import pybullet\n",
    "import pybullet_data"
   ]
  },
  {
   "cell_type": "code",
   "execution_count": 4,
   "outputs": [
    {
     "data": {
      "text/plain": "<PIL.Image.Image image mode=RGB size=320x240 at 0x7F35DDCF26D0>",
      "image/png": "[encoded data removed]"
     },
     "execution_count": 4,
     "metadata": {},
     "output_type": "execute_result"
    }
   ],
   "source": [
    "from tf_agents.agents.reinforce import reinforce_agent\n",
    "from tf_agents.networks import actor_distribution_network\n",
    "from tf_agents.replay_buffers import tf_uniform_replay_buffer\n",
    "env = gym.make('HumanoidBulletEnv-v0')\n",
    "# env.render(mode='human')\n",
    "env.reset()\n",
    "PIL.Image.fromarray(env.render(mode='rgb_array'))\n",
    "\n"
   ],
   "metadata": {
    "collapsed": false,
    "pycharm": {
     "name": "#%%\n"
    }
   }
  },
  {
   "cell_type": "code",
   "execution_count": null,
   "outputs": [],
   "source": [
    "done = False\n",
    "video_filename = 'humanoid_gym.mp4'\n",
    "with imageio.get_writer(video_filename, fps=60) as video:\n",
    "    while not done:\n",
    "        state, reward, done, info = env.step(env.action_space.sample())\n",
    "        video.append_data(env.render(mode='rgb_array'))\n",
    "env.reset()"
   ],
   "metadata": {
    "collapsed": false,
    "pycharm": {
     "name": "#%%\n",
     "is_executing": true
    }
   }
  },
  {
   "cell_type": "code",
   "execution_count": 4,
   "outputs": [],
   "source": [
    "# Pybullet testing environment\n",
    "import PIL.Image\n",
    "import os\n",
    "# Important: pybullet should be charged only once !!\n",
    "from tf_agents.environments import suite_pybullet, parallel_py_environment\n",
    "from tf_agents.environments import tf_py_environment\n",
    "from tf_agents.trajectories.trajectory import Trajectory\n",
    "from tf_agents.networks import actor_distribution_network\n",
    "from tf_agents.drivers import dynamic_episode_driver\n",
    "from tf_agents.policies import random_tf_policy\n",
    "import tensorflow as tf"
   ],
   "metadata": {
    "collapsed": false,
    "pycharm": {
     "name": "#%%\n"
    }
   }
  },
  {
   "cell_type": "code",
   "execution_count": 5,
   "outputs": [
    {
     "name": "stderr",
     "output_type": "stream",
     "text": [
      "/home/florent/anaconda3/envs/vae_mdp/lib/python3.7/site-packages/gym/logger.py:30: UserWarning: \u001B[33mWARN: gym.spaces.Box autodetected dtype as <class 'numpy.float32'>. Please provide explicit dtype.\u001B[0m\n",
      "  warnings.warn(colorize('%s: %s'%('WARN', msg % args), 'yellow'))\n"
     ]
    },
    {
     "data": {
      "text/plain": "<PIL.Image.Image image mode=RGB size=320x240 at 0x7F818346D8D0>",
      "image/png": "[encoded data removed]"
     },
     "execution_count": 5,
     "metadata": {},
     "output_type": "execute_result"
    }
   ],
   "source": [
    "py_env = suite_pybullet.load('HumanoidBulletEnv-v0')\n",
    "py_env.render(mode='human')\n",
    "py_env.reset()\n",
    "PIL.Image.fromarray(py_env.render())"
   ],
   "metadata": {
    "collapsed": false,
    "pycharm": {
     "name": "#%%\n"
    }
   }
  },
  {
   "cell_type": "code",
   "execution_count": 12,
   "outputs": [
    {
     "name": "stdout",
     "output_type": "stream",
     "text": [
      "bad state!: 0.7573633193969727\n",
      "bad state!: 0.7574936151504517\n",
      "bad state!: 0.7745807766914368\n",
      "bad state!: 0.7607605457305908\n",
      "bad state!: 0.7479352355003357\n",
      "bad state!: 0.7611231803894043\n",
      "bad state!: 0.7660771608352661\n",
      "bad state!: 0.7542443871498108\n"
     ]
    },
    {
     "data": {
      "text/plain": "(TimeStep(step_type=<tf.Tensor: shape=(1,), dtype=int32, numpy=array([0], dtype=int32)>, reward=<tf.Tensor: shape=(1,), dtype=float32, numpy=array([0.], dtype=float32)>, discount=<tf.Tensor: shape=(1,), dtype=float32, numpy=array([1.], dtype=float32)>, observation=<tf.Tensor: shape=(1, 44), dtype=float32, numpy=\n array([[ 5.9999996e-01, -6.6871321e-06,  1.0000000e+00,  0.0000000e+00,\n          0.0000000e+00,  0.0000000e+00,  0.0000000e+00, -0.0000000e+00,\n          7.7316798e-02,  0.0000000e+00,  3.4322116e-01,  0.0000000e+00,\n         -2.7668333e-02,  0.0000000e+00,  9.6161526e-01,  0.0000000e+00,\n          2.1119781e-01,  0.0000000e+00,  6.9842499e-01,  0.0000000e+00,\n          1.0409206e+00,  0.0000000e+00,  4.8484617e-01,  0.0000000e+00,\n          2.4410181e-01,  0.0000000e+00,  6.7727387e-01,  0.0000000e+00,\n          1.0913579e+00,  0.0000000e+00,  1.4019747e-01,  0.0000000e+00,\n          2.2164497e-01,  0.0000000e+00,  3.2822081e-01,  0.0000000e+00,\n         -1.7927143e-01,  0.0000000e+00, -1.1898732e-01,  0.0000000e+00,\n          2.3539095e-01,  0.0000000e+00,  0.0000000e+00,  0.0000000e+00]],\n       dtype=float32)>),\n ())"
     },
     "execution_count": 12,
     "metadata": {},
     "output_type": "execute_result"
    }
   ],
   "source": [
    "bad_state_detection = lambda trajectory: print(\"bad state!: {}\".format(trajectory.observation[0][0] + 0.8))\\\n",
    "    if trajectory.observation[0][0] + 0.8 <= 0.78 else None\n",
    "tf_env = tf_py_environment.TFPyEnvironment(py_env)\n",
    "stochastic_policy_dir = os.path.join('saves/', 'stochastic_policy')\n",
    "policy = tf.compat.v2.saved_model.load(stochastic_policy_dir) if os.path.exists(stochastic_policy_dir)\\\n",
    "    else random_tf_policy.RandomTFPolicy(tf_env.time_step_spec(), tf_env.action_spec())\n",
    "dynamic_episode_driver.DynamicEpisodeDriver(tf_env, policy, num_episodes=10, observers=[bad_state_detection]).run()\n",
    "\n"
   ],
   "metadata": {
    "collapsed": false,
    "pycharm": {
     "name": "#%%\n"
    }
   }
  },
  {
   "cell_type": "code",
   "execution_count": 2,
   "outputs": [
    {
     "name": "stderr",
     "output_type": "stream",
     "text": [
      "/home/florent/anaconda3/envs/vae_mdp/lib/python3.7/site-packages/gym/logger.py:30: UserWarning: \u001B[33mWARN: gym.spaces.Box autodetected dtype as <class 'numpy.float32'>. Please provide explicit dtype.\u001B[0m\n",
      "  warnings.warn(colorize('%s: %s'%('WARN', msg % args), 'yellow'))\n",
      "/home/florent/anaconda3/envs/vae_mdp/lib/python3.7/site-packages/gym/logger.py:30: UserWarning: \u001B[33mWARN: gym.spaces.Box autodetected dtype as <class 'numpy.float32'>. Please provide explicit dtype.\u001B[0m\n",
      "  warnings.warn(colorize('%s: %s'%('WARN', msg % args), 'yellow'))\n",
      "/home/florent/anaconda3/envs/vae_mdp/lib/python3.7/site-packages/gym/logger.py:30: UserWarning: \u001B[33mWARN: gym.spaces.Box autodetected dtype as <class 'numpy.float32'>. Please provide explicit dtype.\u001B[0m\n",
      "  warnings.warn(colorize('%s: %s'%('WARN', msg % args), 'yellow'))\n",
      "/home/florent/anaconda3/envs/vae_mdp/lib/python3.7/site-packages/gym/logger.py:30: UserWarning: \u001B[33mWARN: gym.spaces.Box autodetected dtype as <class 'numpy.float32'>. Please provide explicit dtype.\u001B[0m\n",
      "  warnings.warn(colorize('%s: %s'%('WARN', msg % args), 'yellow'))\n"
     ]
    },
    {
     "data": {
      "text/plain": "TimeStep(step_type=<tf.Tensor: shape=(4,), dtype=int32, numpy=array([0, 0, 0, 0], dtype=int32)>, reward=<tf.Tensor: shape=(4,), dtype=float32, numpy=array([0., 0., 0., 0.], dtype=float32)>, discount=<tf.Tensor: shape=(4,), dtype=float32, numpy=array([1., 1., 1., 1.], dtype=float32)>, observation=<tf.Tensor: shape=(4, 44), dtype=float32, numpy=\narray([[ 5.99999964e-01, -1.66783468e-06,  1.00000000e+00,\n         0.00000000e+00,  0.00000000e+00,  0.00000000e+00,\n         0.00000000e+00, -0.00000000e+00, -1.40208174e-02,\n         0.00000000e+00,  4.18084234e-01,  0.00000000e+00,\n        -4.65586968e-02,  0.00000000e+00,  8.16440701e-01,\n         0.00000000e+00,  2.29785547e-01,  0.00000000e+00,\n         6.61382258e-01,  0.00000000e+00,  1.08063388e+00,\n         0.00000000e+00,  3.20430666e-01,  0.00000000e+00,\n         1.76370606e-01,  0.00000000e+00,  6.62414789e-01,\n         0.00000000e+00,  9.77115929e-01,  0.00000000e+00,\n         1.20138198e-01,  0.00000000e+00,  1.64716482e-01,\n         0.00000000e+00,  2.25928739e-01,  0.00000000e+00,\n        -1.79230645e-01,  0.00000000e+00, -1.44069836e-01,\n         0.00000000e+00,  3.11450094e-01,  0.00000000e+00,\n         0.00000000e+00,  0.00000000e+00],\n       [ 5.99999964e-01,  1.61092466e-05,  1.00000000e+00,\n         0.00000000e+00,  0.00000000e+00,  0.00000000e+00,\n         0.00000000e+00, -0.00000000e+00,  1.16669357e-01,\n         0.00000000e+00,  3.42318684e-01,  0.00000000e+00,\n        -8.12910646e-02,  0.00000000e+00,  3.19420010e-01,\n         0.00000000e+00,  1.55257046e-01,  0.00000000e+00,\n         6.35424674e-01,  0.00000000e+00,  1.07994843e+00,\n         0.00000000e+00,  7.81026602e-01,  0.00000000e+00,\n         2.58259773e-01,  0.00000000e+00,  7.49210119e-01,\n         0.00000000e+00,  1.03857946e+00,  0.00000000e+00,\n         1.89235270e-01,  0.00000000e+00,  1.43850341e-01,\n         0.00000000e+00,  2.96140373e-01,  0.00000000e+00,\n        -1.71960771e-01,  0.00000000e+00, -1.92453638e-01,\n         0.00000000e+00,  2.67224729e-01,  0.00000000e+00,\n         0.00000000e+00,  0.00000000e+00],\n       [ 5.99999964e-01,  5.30387888e-06,  1.00000000e+00,\n         0.00000000e+00,  0.00000000e+00,  0.00000000e+00,\n         0.00000000e+00, -0.00000000e+00,  1.06893986e-01,\n         0.00000000e+00,  4.74444628e-01,  0.00000000e+00,\n        -1.12693623e-01,  0.00000000e+00,  9.95852292e-01,\n         0.00000000e+00,  1.72861323e-01,  0.00000000e+00,\n         7.12468445e-01,  0.00000000e+00,  9.83331323e-01,\n         0.00000000e+00,  2.86067814e-01,  0.00000000e+00,\n         2.30921656e-01,  0.00000000e+00,  7.76231587e-01,\n         0.00000000e+00,  1.06638002e+00,  0.00000000e+00,\n         1.07843325e-01,  0.00000000e+00,  2.13358998e-01,\n         0.00000000e+00,  2.65551895e-01,  0.00000000e+00,\n        -2.14095190e-01,  0.00000000e+00, -2.11156175e-01,\n         0.00000000e+00,  2.14631274e-01,  0.00000000e+00,\n         0.00000000e+00,  0.00000000e+00],\n       [ 5.99999964e-01,  1.50002397e-05,  1.00000000e+00,\n         0.00000000e+00,  0.00000000e+00,  0.00000000e+00,\n         0.00000000e+00, -0.00000000e+00, -1.04852907e-01,\n         0.00000000e+00,  3.48422617e-01,  0.00000000e+00,\n        -5.82871996e-02,  0.00000000e+00,  4.35765922e-01,\n         0.00000000e+00,  3.75670016e-01,  0.00000000e+00,\n         7.86521852e-01,  0.00000000e+00,  9.97221828e-01,\n         0.00000000e+00,  6.92099929e-01,  0.00000000e+00,\n         2.13708058e-01,  0.00000000e+00,  7.36182988e-01,\n         0.00000000e+00,  1.00249648e+00,  0.00000000e+00,\n         1.34604663e-01,  0.00000000e+00,  1.71974018e-01,\n         0.00000000e+00,  3.37176085e-01,  0.00000000e+00,\n        -2.40207151e-01,  0.00000000e+00, -1.38670400e-01,\n         0.00000000e+00,  3.13227087e-01,  0.00000000e+00,\n         0.00000000e+00,  0.00000000e+00]], dtype=float32)>)"
     },
     "execution_count": 2,
     "metadata": {},
     "output_type": "execute_result"
    }
   ],
   "source": [
    "# Parallel environments.\n",
    "num_parallel_environments = 4\n",
    "tf_env = tf_py_environment.TFPyEnvironment(parallel_py_environment.ParallelPyEnvironment(\n",
    "    [lambda : suite_pybullet.load('HumanoidBulletEnv-v0')] * num_parallel_environments))\n",
    "tf_env.reset()"
   ],
   "metadata": {
    "collapsed": false,
    "pycharm": {
     "name": "#%%\n"
    }
   }
  },
  {
   "cell_type": "code",
   "execution_count": 1,
   "outputs": [
    {
     "ename": "NameError",
     "evalue": "name 'actor_distribution_network' is not defined",
     "output_type": "error",
     "traceback": [
      "\u001B[0;31m---------------------------------------------------------------------------\u001B[0m",
      "\u001B[0;31mNameError\u001B[0m                                 Traceback (most recent call last)",
      "\u001B[0;32m<ipython-input-1-c27b63afba2c>\u001B[0m in \u001B[0;36m<module>\u001B[0;34m\u001B[0m\n\u001B[1;32m      2\u001B[0m \u001B[0;32mfrom\u001B[0m \u001B[0mtf_agents\u001B[0m\u001B[0;34m.\u001B[0m\u001B[0magents\u001B[0m\u001B[0;34m.\u001B[0m\u001B[0mreinforce\u001B[0m \u001B[0;32mimport\u001B[0m \u001B[0mreinforce_agent\u001B[0m\u001B[0;34m\u001B[0m\u001B[0;34m\u001B[0m\u001B[0m\n\u001B[1;32m      3\u001B[0m \u001B[0;32mfrom\u001B[0m \u001B[0mtf_agents\u001B[0m\u001B[0;34m.\u001B[0m\u001B[0mreplay_buffers\u001B[0m \u001B[0;32mimport\u001B[0m \u001B[0mtf_uniform_replay_buffer\u001B[0m\u001B[0;34m\u001B[0m\u001B[0;34m\u001B[0m\u001B[0m\n\u001B[0;32m----> 4\u001B[0;31m actor_net = actor_distribution_network.ActorDistributionNetwork(\n\u001B[0m\u001B[1;32m      5\u001B[0m     \u001B[0mtf_env\u001B[0m\u001B[0;34m.\u001B[0m\u001B[0mobservation_spec\u001B[0m\u001B[0;34m(\u001B[0m\u001B[0;34m)\u001B[0m\u001B[0;34m,\u001B[0m\u001B[0;34m\u001B[0m\u001B[0;34m\u001B[0m\u001B[0m\n\u001B[1;32m      6\u001B[0m     \u001B[0mtf_env\u001B[0m\u001B[0;34m.\u001B[0m\u001B[0maction_spec\u001B[0m\u001B[0;34m(\u001B[0m\u001B[0;34m)\u001B[0m\u001B[0;34m,\u001B[0m\u001B[0;34m\u001B[0m\u001B[0;34m\u001B[0m\u001B[0m\n",
      "\u001B[0;31mNameError\u001B[0m: name 'actor_distribution_network' is not defined"
     ]
    }
   ],
   "source": [
    "# create a dataset\n",
    "from tf_agents.agents.reinforce import reinforce_agent\n",
    "from tf_agents.replay_buffers import tf_uniform_replay_buffer\n",
    "actor_net = actor_distribution_network.ActorDistributionNetwork(\n",
    "    tf_env.observation_spec(),\n",
    "    tf_env.action_spec(),\n",
    "    fc_layer_params=(128, 128))\n",
    "policy = random_tf_policy.RandomTFPolicy(tf_env.time_step_spec(), tf_env.action_spec())\n",
    "train_step_counter = tf.compat.v2.Variable(0)\n",
    "\n",
    "agent = reinforce_agent.ReinforceAgent(\n",
    "    tf_env.time_step_spec(),\n",
    "    tf_env.action_spec(),\n",
    "    actor_network=actor_net,\n",
    "    optimizer=tf.compat.v1.train.AdamOptimizer(learning_rate=1e-4),\n",
    "    normalize_returns=True,\n",
    "    train_step_counter=train_step_counter)\n",
    "agent.initialize()\n",
    "\n",
    "replay_buffer = tf_uniform_replay_buffer.TFUniformReplayBuffer(\n",
    "    data_spec=agent.collect_data_spec,\n",
    "    batch_size=tf_env.batch_size,\n",
    "    max_length=5000)\n",
    "dataset = replay_buffer.as_dataset(num_parallel_calls=3, sample_batch_size=32, num_steps=3).prefetch(3)\n",
    "\n",
    "random_policy = random_tf_policy.RandomTFPolicy(tf_env.time_step_spec(), tf_env.action_spec())\n",
    "dynamic_episode_driver.DynamicEpisodeDriver(tf_env, random_policy,\n",
    "                                            observers=[replay_buffer.add_batch], num_episodes=50).run()\n"
   ],
   "metadata": {
    "collapsed": false,
    "pycharm": {
     "name": "#%%\n"
    }
   }
  },
  {
   "cell_type": "code",
   "execution_count": 12,
   "outputs": [
    {
     "data": {
      "text/plain": "<tf.Tensor: shape=(3, 44), dtype=float32, numpy=\narray([[ 8.5464872e-02,  5.0377464e-01,  8.6383510e-01,  1.9840400e-01,\n         8.6060703e-02, -6.2384403e-01, -3.5976228e-01,  1.7538892e-01,\n         7.8354400e-01, -1.2388890e+00,  7.1603107e-01, -3.0384368e-01,\n        -7.3816633e-01,  9.0998608e-01,  1.1503043e+00,  1.9503109e+00,\n        -9.7370607e-01,  5.5133343e-02, -6.8844551e-01, -2.8168237e+00,\n        -5.3947717e-01,  8.2201600e-01, -1.0382551e+00,  6.0697954e-02,\n        -9.8855633e-01, -5.5559140e-01, -1.0900763e+00, -2.2196037e-01,\n        -2.4958926e-01, -7.8550053e-01,  3.4039211e-01,  9.2163406e-02,\n         4.9201411e-01, -1.1360413e+00, -7.8677016e-01,  2.3341806e+00,\n        -4.7706939e-02, -7.9251476e-02, -3.0070726e-02, -6.4486259e-01,\n         2.7414116e-01, -2.6954293e+00,  0.0000000e+00,  0.0000000e+00],\n       [ 5.6388788e-02,  4.2912191e-01,  9.0324658e-01,  1.6053811e-02,\n         1.1434853e-02, -4.9767923e-01, -4.3797985e-01,  3.0777681e-01,\n         6.2104541e-01, -7.6532847e-01,  5.3082806e-01, -1.3471165e+00,\n        -4.3209958e-01,  1.0530776e+00,  2.7351427e-01, -2.6033788e+00,\n        -1.0004652e+00,  2.3369235e-03, -6.1976177e-01,  1.8944161e+00,\n        -4.2525750e-01,  1.1100013e+00, -1.0156744e+00,  2.4845494e-02,\n        -9.9861318e-01,  9.6852276e-03, -1.0617183e+00,  3.0494365e-01,\n        -3.6186406e-01, -9.6848702e-01,  3.5369140e-01,  1.0374304e-01,\n         3.6001694e-01, -9.3914312e-01, -5.1797473e-01,  1.7682848e+00,\n        -5.6162719e-02, -6.7325696e-02, -1.3690275e-01, -9.0102172e-01,\n        -4.1088630e-02, -2.1195259e+00,  0.0000000e+00,  0.0000000e+00],\n       [ 2.5867449e-02,  3.9410207e-01,  9.1906667e-01, -2.5831580e-02,\n        -5.5769687e-03, -5.7368690e-01, -4.9282300e-01,  4.9395457e-01,\n         5.3112161e-01, -1.5265918e-01,  2.5989088e-01, -1.6686612e+00,\n        -2.9579890e-01,  1.5828429e-01, -1.4331262e+00, -2.9005823e+00,\n        -9.9786884e-01,  3.9589282e-02, -2.6757175e-01,  3.1939564e+00,\n        -2.7465463e-01,  1.3547426e+00, -1.0086529e+00, -1.8205880e-01,\n        -9.2887855e-01,  6.1214310e-01, -1.0617180e+00,  0.0000000e+00,\n        -4.5040086e-01, -6.1059386e-01,  3.6161813e-01,  3.2090254e-02,\n         2.7914774e-01, -4.2464364e-01, -2.5563705e-01,  2.0425787e+00,\n        -6.5314241e-02, -6.1060503e-02, -2.2745876e-01, -5.8241564e-01,\n        -2.0981394e-01, -7.4159884e-01,  0.0000000e+00,  0.0000000e+00]],\n      dtype=float32)>"
     },
     "execution_count": 12,
     "metadata": {},
     "output_type": "execute_result"
    }
   ],
   "source": [
    "iterator = iter(dataset)\n",
    "x = next(iterator)[0]\n",
    "x.observation[0]"
   ],
   "metadata": {
    "collapsed": false,
    "pycharm": {
     "name": "#%%\n"
    }
   }
  },
  {
   "cell_type": "code",
   "execution_count": null,
   "outputs": [],
   "source": [
    "\n"
   ],
   "metadata": {
    "collapsed": false,
    "pycharm": {
     "name": "#%%\n"
    }
   }
  }
 ],
 "metadata": {
  "kernelspec": {
   "name": "python3",
   "language": "python",
   "display_name": "Python 3"
  },
  "language_info": {
   "codemirror_mode": {
    "name": "ipython",
    "version": 2
   },
   "file_extension": ".py",
   "mimetype": "text/x-python",
   "name": "python",
   "nbconvert_exporter": "python",
   "pygments_lexer": "ipython2",
   "version": "2.7.6"
  }
 },
 "nbformat": 4,
 "nbformat_minor": 0
}